{
 "cells": [
  {
   "cell_type": "code",
   "execution_count": 3,
   "id": "f82180e4-20a5-42ba-a5d1-4d7fa7311878",
   "metadata": {},
   "outputs": [],
   "source": [
    "file = \"../../interactive_pcd_lib/analyse_pcd_similarity/source_cloud.ply\""
   ]
  },
  {
   "cell_type": "code",
   "execution_count": 4,
   "id": "99fdb6f5-5b34-4f4e-9ef8-edfdcdfc6ebc",
   "metadata": {},
   "outputs": [],
   "source": [
    "import open3d as o3d\n",
    "\n",
    "pcd = o3d.io.read_point_cloud(file)\n",
    "o3d.visualization.draw_geometries([pcd])"
   ]
  },
  {
   "cell_type": "code",
   "execution_count": 5,
   "id": "eb4c5be2-5385-4434-9150-065db5cdcf7e",
   "metadata": {},
   "outputs": [
    {
     "data": {
      "text/plain": [
       "False"
      ]
     },
     "execution_count": 5,
     "metadata": {},
     "output_type": "execute_result"
    }
   ],
   "source": [
    "pcd.has_normals()"
   ]
  },
  {
   "cell_type": "code",
   "execution_count": 6,
   "id": "3e228687-5665-4a60-baa7-d5d0e27cd8fa",
   "metadata": {},
   "outputs": [
    {
     "data": {
      "text/plain": [
       "True"
      ]
     },
     "execution_count": 6,
     "metadata": {},
     "output_type": "execute_result"
    }
   ],
   "source": [
    "search_tree = o3d.geometry.KDTreeSearchParamHybrid(radius=0.1, max_nn=30)\n",
    "pcd.estimate_normals(search_tree)\n",
    "pcd.has_normals()"
   ]
  },
  {
   "cell_type": "code",
   "execution_count": 7,
   "id": "931c8afc-ffef-44b3-98c0-327ddb91e235",
   "metadata": {},
   "outputs": [],
   "source": [
    "o3d.visualization.draw_geometries([pcd], point_show_normal=True)"
   ]
  },
  {
   "cell_type": "code",
   "execution_count": 8,
   "id": "04d6c681-4fee-4111-9757-4b30f131616f",
   "metadata": {},
   "outputs": [
    {
     "name": "stdout",
     "output_type": "stream",
     "text": [
      "run Poisson surface reconstruction\n",
      "[Open3D DEBUG] Input Points / Samples: 81 / 81\n",
      "[Open3D DEBUG] #   Got kernel density: 0.0029540061950683594 (s), 347.53515625 (MB) / 347.53515625 (MB) / 348 (MB)\n",
      "[Open3D DEBUG] #     Got normal field: 0.019273042678833008 (s), 347.53515625 (MB) / 347.53515625 (MB) / 348 (MB)\n",
      "[Open3D DEBUG] Point weight / Estimated Area: 6.332716e-03 / 5.129499e-01\n",
      "[Open3D DEBUG] #       Finalized tree: 0.022388935089111328 (s), 347.53515625 (MB) / 347.53515625 (MB) / 348 (MB)\n",
      "[Open3D DEBUG] #  Set FEM constraints: 0.09560394287109375 (s), 347.53515625 (MB) / 347.53515625 (MB) / 348 (MB)\n",
      "[Open3D DEBUG] #Set point constraints: 0.0011820793151855469 (s), 347.53515625 (MB) / 347.53515625 (MB) / 348 (MB)\n",
      "[Open3D DEBUG] Leaf Nodes / Active Nodes / Ghost Nodes: 67859 / 66888 / 10665\n",
      "[Open3D DEBUG] Memory Usage: 347.535 MB\n",
      "[Open3D DEBUG] # Linear system solved: 0.05483293533325195 (s), 347.53515625 (MB) / 347.53515625 (MB) / 348 (MB)\n",
      "[Open3D DEBUG] Got average: 0.0013298988342285156 (s), 347.53515625 (MB) / 347.53515625 (MB) / 348 (MB)\n",
      "[Open3D DEBUG] Iso-Value: 5.009174e-01 = 4.057431e+01 / 8.100000e+01\n",
      "[Open3D DEBUG] #          Total Solve:       0.7 (s),     349.3 (MB)\n"
     ]
    }
   ],
   "source": [
    "print('run Poisson surface reconstruction')\n",
    "\n",
    "with o3d.utility.VerbosityContextManager(\n",
    "        o3d.utility.VerbosityLevel.Debug) as cm:\n",
    "    mesh, densities = o3d.geometry.TriangleMesh.create_from_point_cloud_poisson(\n",
    "        pcd, depth=9)\n",
    "# print(mesh)\n",
    "o3d.visualization.draw_geometries([mesh])"
   ]
  },
  {
   "cell_type": "code",
   "execution_count": null,
   "id": "29d184ec-b169-49d7-a3e4-d481506e0af4",
   "metadata": {},
   "outputs": [],
   "source": []
  },
  {
   "cell_type": "code",
   "execution_count": 15,
   "id": "c931ec20-57ae-49c2-90b1-4f9e807af7b6",
   "metadata": {},
   "outputs": [
    {
     "name": "stdout",
     "output_type": "stream",
     "text": [
      "[Open3D DEBUG] Input Points / Samples: 81 / 81\n",
      "[Open3D DEBUG] #   Got kernel density: 0.0011510848999023438 (s), 357.69140625 (MB) / 357.69140625 (MB) / 358 (MB)\n",
      "[Open3D DEBUG] #     Got normal field: 0.009269952774047852 (s), 357.69140625 (MB) / 357.69140625 (MB) / 358 (MB)\n",
      "[Open3D DEBUG] Point weight / Estimated Area: 6.332857e-03 / 5.129614e-01\n",
      "[Open3D DEBUG] #       Finalized tree: 0.024799108505249023 (s), 357.69140625 (MB) / 357.69140625 (MB) / 358 (MB)\n",
      "[Open3D DEBUG] #  Set FEM constraints: 0.0444951057434082 (s), 357.69140625 (MB) / 357.69140625 (MB) / 358 (MB)\n",
      "[Open3D DEBUG] #Set point constraints: 0.004700183868408203 (s), 357.69140625 (MB) / 357.69140625 (MB) / 358 (MB)\n",
      "[Open3D DEBUG] Leaf Nodes / Active Nodes / Ghost Nodes: 67859 / 66888 / 10665\n",
      "[Open3D DEBUG] Memory Usage: 357.691 MB\n",
      "[Open3D DEBUG] # Linear system solved: 0.07332897186279297 (s), 357.69140625 (MB) / 357.69140625 (MB) / 358 (MB)\n",
      "[Open3D DEBUG] Got average: 0.0025000572204589844 (s), 357.69140625 (MB) / 357.69140625 (MB) / 358 (MB)\n",
      "[Open3D DEBUG] Iso-Value: 4.975316e-01 = 4.030006e+01 / 8.100000e+01\n",
      "[Open3D DEBUG] #          Total Solve:       1.1 (s),     357.7 (MB)\n"
     ]
    }
   ],
   "source": [
    "import open3d as o3d\n",
    "import numpy as np\n",
    "\n",
    "\n",
    "# 1. Read File\n",
    "# file = \"../../interactive_pcd_lib/analyse_pcd_similarity/source_cloud.ply\"\n",
    "file = \"../source_cloud_from_cc.ply\"\n",
    "pcd = o3d.io.read_point_cloud(file)\n",
    "\n",
    "# search_tree = o3d.geometry.KDTreeSearchParamHybrid(radius=0.1, max_nn=30)\n",
    "# pcd.estimate_normals(search_tree)\n",
    "\n",
    "with o3d.utility.VerbosityContextManager(\n",
    "        o3d.utility.VerbosityLevel.Debug) as cm:\n",
    "    mesh, densities = o3d.geometry.TriangleMesh.create_from_point_cloud_poisson(\n",
    "        pcd, depth=9)\n",
    "\n",
    "mesh.compute_vertex_normals()\n",
    "mesh.paint_uniform_color(np.array([[0.5],[0.5],[0.5]]))\n",
    "\n",
    "o3d.visualization.draw_geometries([mesh])\n",
    "\n",
    "\n"
   ]
  },
  {
   "cell_type": "code",
   "execution_count": null,
   "id": "f880671a-d938-4622-b8b3-e9efa72fb4e3",
   "metadata": {},
   "outputs": [],
   "source": []
  },
  {
   "cell_type": "code",
   "execution_count": null,
   "id": "a856edc1-d4d2-4919-bf01-2a08e3017ad9",
   "metadata": {},
   "outputs": [],
   "source": []
  },
  {
   "cell_type": "code",
   "execution_count": null,
   "id": "b0e30121-c5e9-446b-8847-32b1c7bb2dc8",
   "metadata": {},
   "outputs": [],
   "source": []
  },
  {
   "cell_type": "code",
   "execution_count": null,
   "id": "a437999f-377c-4a5a-9f38-262b008aa2b1",
   "metadata": {},
   "outputs": [],
   "source": []
  }
 ],
 "metadata": {
  "kernelspec": {
   "display_name": "Python 3 (ipykernel)",
   "language": "python",
   "name": "python3"
  },
  "language_info": {
   "codemirror_mode": {
    "name": "ipython",
    "version": 3
   },
   "file_extension": ".py",
   "mimetype": "text/x-python",
   "name": "python",
   "nbconvert_exporter": "python",
   "pygments_lexer": "ipython3",
   "version": "3.8.10"
  }
 },
 "nbformat": 4,
 "nbformat_minor": 5
}
