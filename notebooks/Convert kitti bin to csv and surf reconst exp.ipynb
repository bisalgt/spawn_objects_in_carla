{
 "cells": [
  {
   "cell_type": "code",
   "execution_count": 3,
   "id": "f82180e4-20a5-42ba-a5d1-4d7fa7311878",
   "metadata": {},
   "outputs": [],
   "source": [
    "file = \"../../interactive_pcd_lib/analyse_pcd_similarity/source_cloud.ply\""
   ]
  },
  {
   "cell_type": "code",
   "execution_count": 4,
   "id": "99fdb6f5-5b34-4f4e-9ef8-edfdcdfc6ebc",
   "metadata": {},
   "outputs": [],
   "source": [
    "import open3d as o3d\n",
    "\n",
    "pcd = o3d.io.read_point_cloud(file)\n",
    "o3d.visualization.draw_geometries([pcd])"
   ]
  },
  {
   "cell_type": "code",
   "execution_count": 5,
   "id": "eb4c5be2-5385-4434-9150-065db5cdcf7e",
   "metadata": {},
   "outputs": [
    {
     "data": {
      "text/plain": [
       "False"
      ]
     },
     "execution_count": 5,
     "metadata": {},
     "output_type": "execute_result"
    }
   ],
   "source": [
    "pcd.has_normals()"
   ]
  },
  {
   "cell_type": "code",
   "execution_count": 6,
   "id": "3e228687-5665-4a60-baa7-d5d0e27cd8fa",
   "metadata": {},
   "outputs": [
    {
     "data": {
      "text/plain": [
       "True"
      ]
     },
     "execution_count": 6,
     "metadata": {},
     "output_type": "execute_result"
    }
   ],
   "source": [
    "search_tree = o3d.geometry.KDTreeSearchParamHybrid(radius=0.1, max_nn=30)\n",
    "pcd.estimate_normals(search_tree)\n",
    "pcd.has_normals()"
   ]
  },
  {
   "cell_type": "code",
   "execution_count": 7,
   "id": "931c8afc-ffef-44b3-98c0-327ddb91e235",
   "metadata": {},
   "outputs": [],
   "source": [
    "o3d.visualization.draw_geometries([pcd], point_show_normal=True)"
   ]
  },
  {
   "cell_type": "code",
   "execution_count": 8,
   "id": "04d6c681-4fee-4111-9757-4b30f131616f",
   "metadata": {},
   "outputs": [
    {
     "name": "stdout",
     "output_type": "stream",
     "text": [
      "run Poisson surface reconstruction\n",
      "[Open3D DEBUG] Input Points / Samples: 81 / 81\n",
      "[Open3D DEBUG] #   Got kernel density: 0.0029540061950683594 (s), 347.53515625 (MB) / 347.53515625 (MB) / 348 (MB)\n",
      "[Open3D DEBUG] #     Got normal field: 0.019273042678833008 (s), 347.53515625 (MB) / 347.53515625 (MB) / 348 (MB)\n",
      "[Open3D DEBUG] Point weight / Estimated Area: 6.332716e-03 / 5.129499e-01\n",
      "[Open3D DEBUG] #       Finalized tree: 0.022388935089111328 (s), 347.53515625 (MB) / 347.53515625 (MB) / 348 (MB)\n",
      "[Open3D DEBUG] #  Set FEM constraints: 0.09560394287109375 (s), 347.53515625 (MB) / 347.53515625 (MB) / 348 (MB)\n",
      "[Open3D DEBUG] #Set point constraints: 0.0011820793151855469 (s), 347.53515625 (MB) / 347.53515625 (MB) / 348 (MB)\n",
      "[Open3D DEBUG] Leaf Nodes / Active Nodes / Ghost Nodes: 67859 / 66888 / 10665\n",
      "[Open3D DEBUG] Memory Usage: 347.535 MB\n",
      "[Open3D DEBUG] # Linear system solved: 0.05483293533325195 (s), 347.53515625 (MB) / 347.53515625 (MB) / 348 (MB)\n",
      "[Open3D DEBUG] Got average: 0.0013298988342285156 (s), 347.53515625 (MB) / 347.53515625 (MB) / 348 (MB)\n",
      "[Open3D DEBUG] Iso-Value: 5.009174e-01 = 4.057431e+01 / 8.100000e+01\n",
      "[Open3D DEBUG] #          Total Solve:       0.7 (s),     349.3 (MB)\n"
     ]
    }
   ],
   "source": [
    "print('run Poisson surface reconstruction')\n",
    "\n",
    "with o3d.utility.VerbosityContextManager(\n",
    "        o3d.utility.VerbosityLevel.Debug) as cm:\n",
    "    mesh, densities = o3d.geometry.TriangleMesh.create_from_point_cloud_poisson(\n",
    "        pcd, depth=9)\n",
    "# print(mesh)\n",
    "o3d.visualization.draw_geometries([mesh])"
   ]
  },
  {
   "cell_type": "code",
   "execution_count": null,
   "id": "29d184ec-b169-49d7-a3e4-d481506e0af4",
   "metadata": {},
   "outputs": [],
   "source": []
  },
  {
   "cell_type": "code",
   "execution_count": 15,
   "id": "c931ec20-57ae-49c2-90b1-4f9e807af7b6",
   "metadata": {},
   "outputs": [
    {
     "name": "stdout",
     "output_type": "stream",
     "text": [
      "[Open3D DEBUG] Input Points / Samples: 81 / 81\n",
      "[Open3D DEBUG] #   Got kernel density: 0.0011510848999023438 (s), 357.69140625 (MB) / 357.69140625 (MB) / 358 (MB)\n",
      "[Open3D DEBUG] #     Got normal field: 0.009269952774047852 (s), 357.69140625 (MB) / 357.69140625 (MB) / 358 (MB)\n",
      "[Open3D DEBUG] Point weight / Estimated Area: 6.332857e-03 / 5.129614e-01\n",
      "[Open3D DEBUG] #       Finalized tree: 0.024799108505249023 (s), 357.69140625 (MB) / 357.69140625 (MB) / 358 (MB)\n",
      "[Open3D DEBUG] #  Set FEM constraints: 0.0444951057434082 (s), 357.69140625 (MB) / 357.69140625 (MB) / 358 (MB)\n",
      "[Open3D DEBUG] #Set point constraints: 0.004700183868408203 (s), 357.69140625 (MB) / 357.69140625 (MB) / 358 (MB)\n",
      "[Open3D DEBUG] Leaf Nodes / Active Nodes / Ghost Nodes: 67859 / 66888 / 10665\n",
      "[Open3D DEBUG] Memory Usage: 357.691 MB\n",
      "[Open3D DEBUG] # Linear system solved: 0.07332897186279297 (s), 357.69140625 (MB) / 357.69140625 (MB) / 358 (MB)\n",
      "[Open3D DEBUG] Got average: 0.0025000572204589844 (s), 357.69140625 (MB) / 357.69140625 (MB) / 358 (MB)\n",
      "[Open3D DEBUG] Iso-Value: 4.975316e-01 = 4.030006e+01 / 8.100000e+01\n",
      "[Open3D DEBUG] #          Total Solve:       1.1 (s),     357.7 (MB)\n"
     ]
    }
   ],
   "source": [
    "import open3d as o3d\n",
    "import numpy as np\n",
    "\n",
    "\n",
    "# 1. Read File\n",
    "# file = \"../../interactive_pcd_lib/analyse_pcd_similarity/source_cloud.ply\"\n",
    "file = \"../source_cloud_from_cc.ply\"\n",
    "pcd = o3d.io.read_point_cloud(file)\n",
    "\n",
    "# search_tree = o3d.geometry.KDTreeSearchParamHybrid(radius=0.1, max_nn=30)\n",
    "# pcd.estimate_normals(search_tree)\n",
    "\n",
    "with o3d.utility.VerbosityContextManager(\n",
    "        o3d.utility.VerbosityLevel.Debug) as cm:\n",
    "    mesh, densities = o3d.geometry.TriangleMesh.create_from_point_cloud_poisson(\n",
    "        pcd, depth=9)\n",
    "\n",
    "mesh.compute_vertex_normals()\n",
    "mesh.paint_uniform_color(np.array([[0.5],[0.5],[0.5]]))\n",
    "\n",
    "o3d.visualization.draw_geometries([mesh])\n",
    "\n",
    "\n"
   ]
  },
  {
   "cell_type": "markdown",
   "id": "be020df5-253b-45b9-89e7-f60b11484321",
   "metadata": {},
   "source": [
    "## Convert .bin file of semantickitti to csv for using in cloudcompare and project"
   ]
  },
  {
   "cell_type": "code",
   "execution_count": null,
   "id": "1e1e9e30-4152-4e49-b066-c0fb25a2780f",
   "metadata": {},
   "outputs": [],
   "source": []
  },
  {
   "cell_type": "code",
   "execution_count": 1,
   "id": "a856edc1-d4d2-4919-bf01-2a08e3017ad9",
   "metadata": {},
   "outputs": [],
   "source": [
    "import numpy as np\n",
    "import pandas as pd\n",
    "\n",
    "file_name = \"../../semantickitti-sample-dataset/seq15/000064.bin\"\n",
    "\n",
    "pcd = np.fromfile(file_name, dtype=np.float32)\n",
    "rows = pcd.shape[0]//4\n",
    "columns = 5 # X, Y, Z, Emission, Semantic_Label, Instance_ID\n",
    "\n",
    "final_array = np.zeros((rows, columns), dtype=np.float32)\n",
    "final_array[:, :4] = pcd.reshape((-1, 4)) # X, Y , Z, Emission\n",
    "\n",
    "df_pcd = pd.DataFrame(final_array)\n",
    "\n",
    "df_new = df_pcd.iloc[:, [0,1,2,4]]\n",
    "df_new.to_csv(\"kitti_seq15_000064.csv\", index=False)"
   ]
  },
  {
   "cell_type": "markdown",
   "id": "305e1ce3-36ed-4b15-954b-857ad511e655",
   "metadata": {},
   "source": [
    "# Converting .bin files of semantic kitti to csv for proper analysis"
   ]
  },
  {
   "cell_type": "code",
   "execution_count": 32,
   "id": "1a79a1b6-9454-4c22-a71d-fb0ed6ba69e8",
   "metadata": {},
   "outputs": [],
   "source": [
    "\n",
    "\n",
    "import os\n",
    "\n",
    "\n",
    "outputfolder = \"seq15_csv/\"\n",
    "input_folder = \"../../semantickitti-sample-dataset/seq15/\"\n",
    "files = os.listdir(input_folder)\n",
    "for file in files:\n",
    "    # print(file)\n",
    "    pcd = np.fromfile(input_folder+file, dtype=np.float32)\n",
    "    rows = pcd.shape[0]//4\n",
    "    columns = 5 # X, Y, Z, Emission, Label=0 # we create data with 0 label\n",
    "    final_array = np.zeros((rows, columns), dtype=np.float32)\n",
    "    final_array[:, :4] = pcd.reshape((-1, 4)) # X, Y , Z, Emission\n",
    "    df_pcd = pd.DataFrame(final_array)\n",
    "    df_new = df_pcd.iloc[:, [0,1,2,4]]\n",
    "    file_name = outputfolder+file.split(\".\")[0]+\".csv\"\n",
    "    df_new.to_csv(file_name, index=False)"
   ]
  },
  {
   "cell_type": "code",
   "execution_count": 19,
   "id": "68c36988-a84b-4cfc-ad9a-c3b475a093d4",
   "metadata": {},
   "outputs": [
    {
     "data": {
      "text/plain": [
       "271744.5"
      ]
     },
     "execution_count": 19,
     "metadata": {},
     "output_type": "execute_result"
    }
   ],
   "source": [
    "1086978/ 4"
   ]
  },
  {
   "cell_type": "code",
   "execution_count": 20,
   "id": "0d695bc2-4245-4311-80ad-6c8f41b85535",
   "metadata": {},
   "outputs": [
    {
     "data": {
      "text/plain": [
       "(271744, 5)"
      ]
     },
     "execution_count": 20,
     "metadata": {},
     "output_type": "execute_result"
    }
   ],
   "source": [
    "final_array.shape"
   ]
  },
  {
   "cell_type": "code",
   "execution_count": 21,
   "id": "80c12ce2-9c2a-429e-8a91-eab9a41cd68f",
   "metadata": {},
   "outputs": [
    {
     "data": {
      "text/plain": [
       "(1086978,)"
      ]
     },
     "execution_count": 21,
     "metadata": {},
     "output_type": "execute_result"
    }
   ],
   "source": [
    "pcd.shape"
   ]
  },
  {
   "cell_type": "code",
   "execution_count": 36,
   "id": "950b313d-3e0b-4b13-b8f0-83a78c38aa0d",
   "metadata": {},
   "outputs": [
    {
     "data": {
      "text/plain": [
       "271744.5"
      ]
     },
     "execution_count": 36,
     "metadata": {},
     "output_type": "execute_result"
    }
   ],
   "source": [
    "1086978/4"
   ]
  },
  {
   "cell_type": "code",
   "execution_count": null,
   "id": "6176a64d-295a-4527-83c0-6823b3544290",
   "metadata": {},
   "outputs": [],
   "source": []
  },
  {
   "cell_type": "code",
   "execution_count": 23,
   "id": "a3ba1538-1ad2-4a42-83a2-83b11307d56b",
   "metadata": {},
   "outputs": [
    {
     "name": "stdout",
     "output_type": "stream",
     "text": [
      "---------------------------------------------------------------------------------------------------------------------------------------------------------------------------------------------------------------------------------------------------------------------------------------------------------------------------------------------------------------------------------------------------------------------------------------------------------------------------------------------------------------------------------------------------------------------------------------------------------------------------------------------------------------------------------------------------------------------------------------------------------------------------------------------------------------------------------------------------------------------------------------------------------------------------------------------------------------------------------------------------------------------------------------------------------------------------------------------------------------------------------------------[]\n"
     ]
    }
   ],
   "source": [
    "import os, glob\n",
    "import numpy as np\n",
    "import pandas as pd\n",
    "\n",
    "\n",
    "os.chdir(\"/media/nero/Extreme SSD/semantic_kitti/\")\n",
    "\n",
    "max_person_points = 0\n",
    "folder_seq = \"10\"\n",
    "pcd_folder = f\"data_velodyne/sequences/{folder_seq}/velodyne/\"\n",
    "pcd_pattern = \".bin\"\n",
    "labels_folder = f\"data_labels/dataset/sequences/{folder_seq}/labels/\"\n",
    "labels_pattern = \".label\"\n",
    "# for pcd_file in glob.glob(os.path.join(\"data/00/velodyne/\", '*.bin')):\n",
    "#     print(pcd_file)\n",
    "\n",
    "# for pcd_file in glob.glob(os.path.join(\"labels/00/labels/\", '*.label')):\n",
    "#     print(pcd_file)\n",
    "\n",
    "output_folder = f\"/home/nero/Projects/kitti_with_person/{folder_seq}/\"\n",
    "if not os.path.exists(output_folder):\n",
    "    os.makedirs(output_folder)\n",
    "\n",
    "# person_pcd_points = [1898, 1886, 1886, 1884, 1838, 1833, 1794, 1782, 1749, 1731, 1721, 1665, 1641, 1584, 1543, 1482, 1463, 1423, 1414, 1405]\n",
    "person_pcd_points = []\n",
    "# looping through the pointclouds files\n",
    "for pcd_file_name in glob.glob(os.path.join(pcd_folder, '*.bin')):\n",
    "    \n",
    "    # file_to_find = 'data_velodyne/sequences/05/velodyne/002617.bin'\n",
    "    # if pcd_file_name != file_to_find:\n",
    "    #     continue\n",
    "    \n",
    "    file_prefix = pcd_file_name.split('/')[-1].split('.')[0]\n",
    "    label_filename = labels_folder + file_prefix + \".label\"\n",
    "    # output_filename = f\"{ parsed_args.output_dir }/{ parsed_args.output_file_prefix}{file_prefix}{parsed_args.output_file_format}\"\n",
    "\n",
    "\n",
    "    try:\n",
    "        pointclouds = np.fromfile(pcd_file_name, dtype=np.float32)\n",
    "    except FileNotFoundError:\n",
    "        print(\"PointCloud file not found at {}\".format(pcd_file_name))\n",
    "\n",
    "    try:\n",
    "        labels = np.fromfile(label_filename, dtype=np.uint32)\n",
    "    except FileNotFoundError:\n",
    "        print(\"Label file not found at {}\".format(label_filename))\n",
    "\n",
    "\n",
    "    rows = pointclouds.shape[0]//4    # dividing points clouds by 4 as the data needs to be divided to 4 columns to get number of rows\n",
    "    columns = 6 # X, Y , Z, Emission, Semantic_label, Instance_Id\n",
    "\n",
    "    final_array = np.zeros((rows, columns), dtype=np.float32)\n",
    "\n",
    "    final_array[:, :4] = pointclouds.reshape((-1, 4)) # x, y , z, emission //== [N * X * Y * Z * Emis].\n",
    "\n",
    "\n",
    "    final_array[:,4] = labels & 0xFFFF # Lower Half semantic label\n",
    "    final_array[:,5] = labels >> 16  # Upper Half Instance Id\n",
    "    \n",
    "    \n",
    "    \n",
    "\n",
    "    df_pcd = pd.DataFrame(final_array)\n",
    "    \n",
    "    df_car = df_pcd[df_pcd.iloc[:,4] == 10]\n",
    "    \n",
    "    df_road = df_pcd[df_pcd.iloc[:,4] == 40]\n",
    "    \n",
    "    df_person = df_pcd[df_pcd.iloc[:,4] == 30]\n",
    "    \n",
    "    if df_person.shape[0] == 0:\n",
    "        # print(\"No person in file \", file_prefix)\n",
    "        print(\"-\", end=\"\")\n",
    "    else:\n",
    "        person_pcd_points.append(df_person.shape[0])\n",
    "        # if df_person.shape[0] in person_pcd_points:\n",
    "        #     output_filename = f\"{output_folder}\"+file_prefix+\".csv\"\n",
    "        #     print(\"Saving to file : \", output_filename)\n",
    "        #     df_pcd.columns = [\"X\", \"Y\", \"Z\", \"Emission\", \"SemanticID\", \"InstanceID\"]\n",
    "        #     df_pcd.to_csv(output_filename, index=False)\n",
    "\n",
    "\n",
    "print(sorted(person_pcd_points,reverse=True)[:20])"
   ]
  },
  {
   "cell_type": "code",
   "execution_count": 27,
   "id": "da75b587-9635-4986-baed-ea103254ad49",
   "metadata": {},
   "outputs": [],
   "source": [
    "import pandas as pd\n",
    "file = \"/home/nero/Projects/interactive_pcd_lib/001157.csv\"\n",
    "\n",
    "df = pd.read_csv(file)\n",
    "df_col_zeros = pd.DataFrame(np.zeros((df.shape[0], 1)))"
   ]
  },
  {
   "cell_type": "code",
   "execution_count": 30,
   "id": "3500616d-c505-4f99-a22a-9bc70281421d",
   "metadata": {},
   "outputs": [],
   "source": [
    "df_new = pd.concat((df, df_col_zeros), axis=1)\n",
    "df_new.columns = [\"X\", \"Y\", \"Z\", \"label\"]\n",
    "\n",
    "df_new.to_csv(\"/home/nero/Projects/interactive_pcd_lib/kitti_09_001157.csv\", index=False)\n",
    "\n",
    "              "
   ]
  },
  {
   "cell_type": "code",
   "execution_count": null,
   "id": "71a7e9cc-209f-4205-99ca-911a42400a71",
   "metadata": {},
   "outputs": [],
   "source": []
  }
 ],
 "metadata": {
  "kernelspec": {
   "display_name": "Python 3 (ipykernel)",
   "language": "python",
   "name": "python3"
  },
  "language_info": {
   "codemirror_mode": {
    "name": "ipython",
    "version": 3
   },
   "file_extension": ".py",
   "mimetype": "text/x-python",
   "name": "python",
   "nbconvert_exporter": "python",
   "pygments_lexer": "ipython3",
   "version": "3.8.10"
  }
 },
 "nbformat": 4,
 "nbformat_minor": 5
}
