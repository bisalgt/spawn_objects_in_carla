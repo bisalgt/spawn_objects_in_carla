{
 "cells": [
  {
   "cell_type": "code",
   "execution_count": 2,
   "id": "8bccec88-9f27-4d33-b126-3f7c39a73d4d",
   "metadata": {},
   "outputs": [],
   "source": [
    "import open3d as o3d\n"
   ]
  },
  {
   "cell_type": "code",
   "execution_count": 3,
   "id": "222fd2df-02d8-4454-b7d8-fa6371129ec7",
   "metadata": {},
   "outputs": [],
   "source": [
    "filename = \"/home/nero/Documents/person and road for semantic analysis - Cloud2.ply\"\n",
    "\n",
    "point_cloud = o3d.io.read_point_cloud(filename)\n",
    "\n",
    "o3d.visualization.draw_geometries([point_cloud])"
   ]
  },
  {
   "cell_type": "code",
   "execution_count": 5,
   "id": "c31ff418-39e3-4984-99ed-a9571aca4f9f",
   "metadata": {},
   "outputs": [],
   "source": [
    "import numpy as np\n",
    "\n",
    "pcd_array = np.asarray(point_cloud.points)"
   ]
  },
  {
   "cell_type": "code",
   "execution_count": 6,
   "id": "d27a19f6-8e8a-48a5-8bae-18e79ce10c8a",
   "metadata": {},
   "outputs": [],
   "source": [
    "import pandas as pd\n",
    "\n",
    "pcd_df = pd.DataFrame(pcd_array)"
   ]
  },
  {
   "cell_type": "code",
   "execution_count": 7,
   "id": "6d362451-39c4-448e-bdfd-8f0838d9c392",
   "metadata": {},
   "outputs": [
    {
     "data": {
      "text/html": [
       "<div>\n",
       "<style scoped>\n",
       "    .dataframe tbody tr th:only-of-type {\n",
       "        vertical-align: middle;\n",
       "    }\n",
       "\n",
       "    .dataframe tbody tr th {\n",
       "        vertical-align: top;\n",
       "    }\n",
       "\n",
       "    .dataframe thead th {\n",
       "        text-align: right;\n",
       "    }\n",
       "</style>\n",
       "<table border=\"1\" class=\"dataframe\">\n",
       "  <thead>\n",
       "    <tr style=\"text-align: right;\">\n",
       "      <th></th>\n",
       "      <th>0</th>\n",
       "      <th>1</th>\n",
       "      <th>2</th>\n",
       "    </tr>\n",
       "  </thead>\n",
       "  <tbody>\n",
       "    <tr>\n",
       "      <th>0</th>\n",
       "      <td>-2.44912</td>\n",
       "      <td>7.66455</td>\n",
       "      <td>0.280984</td>\n",
       "    </tr>\n",
       "    <tr>\n",
       "      <th>1</th>\n",
       "      <td>-2.40729</td>\n",
       "      <td>7.69508</td>\n",
       "      <td>0.281560</td>\n",
       "    </tr>\n",
       "    <tr>\n",
       "      <th>2</th>\n",
       "      <td>7.16648</td>\n",
       "      <td>-8.06078</td>\n",
       "      <td>0.376651</td>\n",
       "    </tr>\n",
       "    <tr>\n",
       "      <th>3</th>\n",
       "      <td>7.10137</td>\n",
       "      <td>-8.08621</td>\n",
       "      <td>0.375811</td>\n",
       "    </tr>\n",
       "    <tr>\n",
       "      <th>4</th>\n",
       "      <td>7.13555</td>\n",
       "      <td>-8.22570</td>\n",
       "      <td>0.380266</td>\n",
       "    </tr>\n",
       "  </tbody>\n",
       "</table>\n",
       "</div>"
      ],
      "text/plain": [
       "         0        1         2\n",
       "0 -2.44912  7.66455  0.280984\n",
       "1 -2.40729  7.69508  0.281560\n",
       "2  7.16648 -8.06078  0.376651\n",
       "3  7.10137 -8.08621  0.375811\n",
       "4  7.13555 -8.22570  0.380266"
      ]
     },
     "execution_count": 7,
     "metadata": {},
     "output_type": "execute_result"
    }
   ],
   "source": [
    "pcd_df.head()"
   ]
  },
  {
   "cell_type": "code",
   "execution_count": 33,
   "id": "5ff48df9-44ea-4f9d-a79d-1d8f4065bac6",
   "metadata": {},
   "outputs": [],
   "source": [
    "from surface_variation import PointCloudAnalysis"
   ]
  },
  {
   "cell_type": "code",
   "execution_count": 12,
   "id": "681bc019-3e41-45dd-9684-b77087518a67",
   "metadata": {},
   "outputs": [],
   "source": [
    "pcd_object = PointCloudAnalysis(point_cloud.points)"
   ]
  },
  {
   "cell_type": "code",
   "execution_count": 13,
   "id": "63f56a44-3c16-4242-8c15-090e59f5f05a",
   "metadata": {},
   "outputs": [
    {
     "data": {
      "text/plain": [
       "array([5.04199672e-03, 5.04199672e-03, 2.87850496e-02, ...,\n",
       "       4.97490964e-14, 4.97490169e-14, 4.97494791e-14])"
      ]
     },
     "execution_count": 13,
     "metadata": {},
     "output_type": "execute_result"
    }
   ],
   "source": [
    "pcd_object.compute_surface_variation()"
   ]
  },
  {
   "cell_type": "code",
   "execution_count": 14,
   "id": "640c4b42-0900-4d1b-83bb-772917ec3975",
   "metadata": {},
   "outputs": [],
   "source": [
    "normalized_surf_var = pcd_object.get_normalized_surface_variation()"
   ]
  },
  {
   "cell_type": "code",
   "execution_count": 15,
   "id": "8aec18e3-0733-449d-b246-27075c3aa180",
   "metadata": {},
   "outputs": [],
   "source": [
    "normalized_planarity = pcd_object.get_normalized_planarity()"
   ]
  },
  {
   "cell_type": "code",
   "execution_count": 17,
   "id": "1c43d0aa-d12b-465b-a31e-c2b301ad9ec9",
   "metadata": {},
   "outputs": [
    {
     "data": {
      "text/plain": [
       "29573"
      ]
     },
     "execution_count": 17,
     "metadata": {},
     "output_type": "execute_result"
    }
   ],
   "source": [
    "len(point_cloud.points)"
   ]
  },
  {
   "cell_type": "code",
   "execution_count": 18,
   "id": "d4bcc619-04eb-4964-bc5a-9e54ec3bc0af",
   "metadata": {},
   "outputs": [
    {
     "data": {
      "text/plain": [
       "29573"
      ]
     },
     "execution_count": 18,
     "metadata": {},
     "output_type": "execute_result"
    }
   ],
   "source": [
    "len(normalized_surf_var)"
   ]
  },
  {
   "cell_type": "code",
   "execution_count": 22,
   "id": "1165871c-e4bc-44e8-8c34-10e5c5f3859c",
   "metadata": {},
   "outputs": [],
   "source": [
    "pcd_object.display_surface_variation()"
   ]
  },
  {
   "cell_type": "code",
   "execution_count": 21,
   "id": "06b19274-3630-4095-bd37-df60e1c0f570",
   "metadata": {},
   "outputs": [],
   "source": [
    "pcd_object.display_planarity()"
   ]
  },
  {
   "cell_type": "code",
   "execution_count": 25,
   "id": "4b26ec72-1553-40bc-8a21-e58424995229",
   "metadata": {},
   "outputs": [
    {
     "data": {
      "text/plain": [
       "<Type.KNNSearch: 0>"
      ]
     },
     "execution_count": 25,
     "metadata": {},
     "output_type": "execute_result"
    }
   ],
   "source": [
    "kdtree.get_search_type()"
   ]
  },
  {
   "cell_type": "code",
   "execution_count": 7,
   "id": "5a94e18f-5b7f-4a12-a712-6658dec1f275",
   "metadata": {},
   "outputs": [],
   "source": [
    "from surface_variation import PointCloudAnalysis\n",
    "\n",
    "kdtreeseachknn = o3d.geometry.KDTreeSearchParamKNN(50)\n",
    "\n",
    "pcd_object = PointCloudAnalysis(point_cloud.points, kdtreeseachknn)"
   ]
  },
  {
   "cell_type": "code",
   "execution_count": null,
   "id": "c9b75312-a968-4274-874d-66a772d7807d",
   "metadata": {},
   "outputs": [],
   "source": [
    "pcd_object.display_surface_variation(threshold=0.2)"
   ]
  },
  {
   "cell_type": "code",
   "execution_count": 6,
   "id": "a3acf24f-e349-4e08-90c7-74c3f3520f3b",
   "metadata": {},
   "outputs": [],
   "source": [
    "pcd_object.display_planarity()"
   ]
  },
  {
   "cell_type": "code",
   "execution_count": 7,
   "id": "6c4999d9-063d-41a8-b1a2-80955c59cd39",
   "metadata": {},
   "outputs": [
    {
     "name": "stdout",
     "output_type": "stream",
     "text": [
      "Array after thresholding:\n",
      "[[0 0 0]\n",
      " [0 5 6]\n",
      " [7 8 9]]\n"
     ]
    }
   ],
   "source": [
    "import numpy as np\n",
    "\n",
    "# Create a sample array\n",
    "arr = np.array([[1, 2, 3],\n",
    "                [4, 5, 6],\n",
    "                [7, 8, 9]])\n",
    "\n",
    "# Set elements to zero if they are less than a threshold\n",
    "threshold = 5\n",
    "arr[arr < threshold] = 0\n",
    "\n",
    "print(\"Array after thresholding:\")\n",
    "print(arr)\n"
   ]
  },
  {
   "cell_type": "code",
   "execution_count": 8,
   "id": "4d8cded2-994e-438a-807a-5fd6ea8c4d8f",
   "metadata": {},
   "outputs": [
    {
     "data": {
      "text/plain": [
       "array([[ True,  True,  True],\n",
       "       [ True, False, False],\n",
       "       [False, False, False]])"
      ]
     },
     "execution_count": 8,
     "metadata": {},
     "output_type": "execute_result"
    }
   ],
   "source": [
    "arr< threshold"
   ]
  },
  {
   "cell_type": "code",
   "execution_count": 10,
   "id": "b2ca7a69-5641-4d5b-84f4-075b6222d2aa",
   "metadata": {},
   "outputs": [],
   "source": [
    "arr[arr<threshold] = 0"
   ]
  },
  {
   "cell_type": "code",
   "execution_count": 11,
   "id": "ebee0a4d-b746-4da8-a1ec-3534c5dbcdeb",
   "metadata": {},
   "outputs": [
    {
     "data": {
      "text/plain": [
       "array([[0, 0, 0],\n",
       "       [0, 5, 6],\n",
       "       [7, 8, 9]])"
      ]
     },
     "execution_count": 11,
     "metadata": {},
     "output_type": "execute_result"
    }
   ],
   "source": [
    "arr"
   ]
  },
  {
   "cell_type": "code",
   "execution_count": 12,
   "id": "07048236-4e96-4567-88a7-053ecc30e9ca",
   "metadata": {},
   "outputs": [],
   "source": [
    "arr = np.array([[1, 2, 3],\n",
    "                [4, 5, 6],\n",
    "                [7, 8, 9]])"
   ]
  },
  {
   "cell_type": "code",
   "execution_count": null,
   "id": "af10ac93-17f9-48c1-9755-2cf234720fb9",
   "metadata": {},
   "outputs": [],
   "source": [
    "arr[]"
   ]
  },
  {
   "cell_type": "markdown",
   "id": "94828cab-46ea-49f3-8b5c-965b2d3b75b8",
   "metadata": {},
   "source": [
    "### Understanding geo3dfeatures library"
   ]
  },
  {
   "cell_type": "code",
   "execution_count": 1,
   "id": "8a90758d-16b6-408d-b9fa-c949d48b52db",
   "metadata": {},
   "outputs": [],
   "source": [
    "%matplotlib inline"
   ]
  },
  {
   "cell_type": "code",
   "execution_count": 3,
   "id": "627d2311-251c-4a2b-8289-9eb17e2babf7",
   "metadata": {},
   "outputs": [],
   "source": [
    "from pathlib import Path"
   ]
  },
  {
   "cell_type": "code",
   "execution_count": 4,
   "id": "1f2312ed-53f6-4ae6-b84d-00b9ede1a01c",
   "metadata": {},
   "outputs": [],
   "source": [
    "\n",
    "\n",
    "import matplotlib\n",
    "from matplotlib import pyplot as plt\n",
    "import pandas as pd\n",
    "import seaborn as sns\n",
    "\n"
   ]
  },
  {
   "cell_type": "code",
   "execution_count": 5,
   "id": "64d7b6fa-da2b-4ce5-b95b-26c0e473f124",
   "metadata": {},
   "outputs": [],
   "source": [
    "plt.style.use(\"seaborn-notebook\")"
   ]
  },
  {
   "cell_type": "code",
   "execution_count": 11,
   "id": "bdabf543-7a64-4824-8ccd-9ae776547474",
   "metadata": {},
   "outputs": [],
   "source": [
    "from geo3dfeatures.io import read_las, read_ply\n",
    "from geo3dfeatures.extract import process_full\n",
    "from geo3dfeatures.extract import compute_tree, request_tree, extract\n"
   ]
  },
  {
   "cell_type": "code",
   "execution_count": 12,
   "id": "c6afd583-892a-473f-b3ea-1d5a187049d9",
   "metadata": {},
   "outputs": [],
   "source": [
    "filename = \"geo3dfeatures/sample_data/input/pcd_person_with_road.ply\""
   ]
  },
  {
   "cell_type": "code",
   "execution_count": 15,
   "id": "158fc7ab-24cd-47e2-a089-295887950f0f",
   "metadata": {},
   "outputs": [],
   "source": [
    "rawdata = read_ply(filename)\n",
    "rawdata = pd.DataFrame(rawdata, columns=list(\"xyz\"))"
   ]
  },
  {
   "cell_type": "code",
   "execution_count": 17,
   "id": "b364a507-e16a-4182-83b0-f72e63ac2ddd",
   "metadata": {},
   "outputs": [
    {
     "name": "stdout",
     "output_type": "stream",
     "text": [
      "(29573, 3)\n"
     ]
    },
    {
     "data": {
      "text/html": [
       "<div>\n",
       "<style scoped>\n",
       "    .dataframe tbody tr th:only-of-type {\n",
       "        vertical-align: middle;\n",
       "    }\n",
       "\n",
       "    .dataframe tbody tr th {\n",
       "        vertical-align: top;\n",
       "    }\n",
       "\n",
       "    .dataframe thead th {\n",
       "        text-align: right;\n",
       "    }\n",
       "</style>\n",
       "<table border=\"1\" class=\"dataframe\">\n",
       "  <thead>\n",
       "    <tr style=\"text-align: right;\">\n",
       "      <th></th>\n",
       "      <th>x</th>\n",
       "      <th>y</th>\n",
       "      <th>z</th>\n",
       "    </tr>\n",
       "  </thead>\n",
       "  <tbody>\n",
       "    <tr>\n",
       "      <th>0</th>\n",
       "      <td>-2.44912</td>\n",
       "      <td>7.66455</td>\n",
       "      <td>0.280984</td>\n",
       "    </tr>\n",
       "    <tr>\n",
       "      <th>1</th>\n",
       "      <td>-2.40729</td>\n",
       "      <td>7.69508</td>\n",
       "      <td>0.281560</td>\n",
       "    </tr>\n",
       "    <tr>\n",
       "      <th>2</th>\n",
       "      <td>7.16648</td>\n",
       "      <td>-8.06078</td>\n",
       "      <td>0.376651</td>\n",
       "    </tr>\n",
       "    <tr>\n",
       "      <th>3</th>\n",
       "      <td>7.10137</td>\n",
       "      <td>-8.08621</td>\n",
       "      <td>0.375811</td>\n",
       "    </tr>\n",
       "    <tr>\n",
       "      <th>4</th>\n",
       "      <td>7.13555</td>\n",
       "      <td>-8.22570</td>\n",
       "      <td>0.380266</td>\n",
       "    </tr>\n",
       "  </tbody>\n",
       "</table>\n",
       "</div>"
      ],
      "text/plain": [
       "         x        y         z\n",
       "0 -2.44912  7.66455  0.280984\n",
       "1 -2.40729  7.69508  0.281560\n",
       "2  7.16648 -8.06078  0.376651\n",
       "3  7.10137 -8.08621  0.375811\n",
       "4  7.13555 -8.22570  0.380266"
      ]
     },
     "execution_count": 17,
     "metadata": {},
     "output_type": "execute_result"
    }
   ],
   "source": [
    "print(rawdata.shape)\n",
    "rawdata.head()"
   ]
  },
  {
   "cell_type": "code",
   "execution_count": 18,
   "id": "17e240f1-05fe-4032-8bad-ce63a8de6d97",
   "metadata": {},
   "outputs": [],
   "source": [
    "\n",
    "\n",
    "LEAF_SIZE = 1_000\n",
    "N_NEIGHBORS = 10\n",
    "\n"
   ]
  },
  {
   "cell_type": "code",
   "execution_count": 19,
   "id": "c64f55b2-2e88-4429-a0ed-89a7d1e40701",
   "metadata": {},
   "outputs": [],
   "source": [
    "COORDS = list(\"xyz\")\n",
    "tree = compute_tree(rawdata[COORDS].values, leaf_size=LEAF_SIZE)"
   ]
  },
  {
   "cell_type": "code",
   "execution_count": 20,
   "id": "b68048b4-6852-429b-9d1f-44afe20cf7f1",
   "metadata": {},
   "outputs": [],
   "source": [
    "random_point = rawdata[COORDS].sample()"
   ]
  },
  {
   "cell_type": "code",
   "execution_count": 21,
   "id": "94d34298-cb9d-4397-95c0-3b19b2247dd9",
   "metadata": {},
   "outputs": [
    {
     "data": {
      "text/html": [
       "<div>\n",
       "<style scoped>\n",
       "    .dataframe tbody tr th:only-of-type {\n",
       "        vertical-align: middle;\n",
       "    }\n",
       "\n",
       "    .dataframe tbody tr th {\n",
       "        vertical-align: top;\n",
       "    }\n",
       "\n",
       "    .dataframe thead th {\n",
       "        text-align: right;\n",
       "    }\n",
       "</style>\n",
       "<table border=\"1\" class=\"dataframe\">\n",
       "  <thead>\n",
       "    <tr style=\"text-align: right;\">\n",
       "      <th></th>\n",
       "      <th>x</th>\n",
       "      <th>y</th>\n",
       "      <th>z</th>\n",
       "    </tr>\n",
       "  </thead>\n",
       "  <tbody>\n",
       "    <tr>\n",
       "      <th>13699</th>\n",
       "      <td>5.9509</td>\n",
       "      <td>4.07372</td>\n",
       "      <td>-2.40167</td>\n",
       "    </tr>\n",
       "  </tbody>\n",
       "</table>\n",
       "</div>"
      ],
      "text/plain": [
       "            x        y        z\n",
       "13699  5.9509  4.07372 -2.40167"
      ]
     },
     "execution_count": 21,
     "metadata": {},
     "output_type": "execute_result"
    }
   ],
   "source": [
    "random_point"
   ]
  },
  {
   "cell_type": "code",
   "execution_count": 24,
   "id": "142d508b-381b-4302-b020-1aa940092024",
   "metadata": {},
   "outputs": [],
   "source": [
    "distance, neighbors_index = request_tree(random_point.values, tree, N_NEIGHBORS)"
   ]
  },
  {
   "cell_type": "code",
   "execution_count": 25,
   "id": "b9c578dc-54fb-4451-af46-7945dc3b9ddf",
   "metadata": {},
   "outputs": [
    {
     "name": "stdout",
     "output_type": "stream",
     "text": [
      "distance:  [0.         0.04395609 0.04396274 0.08790253 0.08791561 0.13183897\n",
      " 0.13187756 0.17472172 0.17575667 0.1758007  0.18004085]\n",
      "index:  [13699 13700 13698 13701 13697 13702 13696 14648 13703 13695 14647]\n"
     ]
    }
   ],
   "source": [
    "distance, neighbors_index = distance.squeeze(), neighbors_index.squeeze()\n",
    "print(\"distance: \", distance)\n",
    "print(\"index: \", neighbors_index)"
   ]
  },
  {
   "cell_type": "code",
   "execution_count": 27,
   "id": "478cdfb9-353c-482a-bab8-b68f1fc2f787",
   "metadata": {},
   "outputs": [
    {
     "data": {
      "text/html": [
       "<div>\n",
       "<style scoped>\n",
       "    .dataframe tbody tr th:only-of-type {\n",
       "        vertical-align: middle;\n",
       "    }\n",
       "\n",
       "    .dataframe tbody tr th {\n",
       "        vertical-align: top;\n",
       "    }\n",
       "\n",
       "    .dataframe thead th {\n",
       "        text-align: right;\n",
       "    }\n",
       "</style>\n",
       "<table border=\"1\" class=\"dataframe\">\n",
       "  <thead>\n",
       "    <tr style=\"text-align: right;\">\n",
       "      <th></th>\n",
       "      <th>x</th>\n",
       "      <th>y</th>\n",
       "      <th>z</th>\n",
       "    </tr>\n",
       "  </thead>\n",
       "  <tbody>\n",
       "    <tr>\n",
       "      <th>13699</th>\n",
       "      <td>5.95090</td>\n",
       "      <td>4.07372</td>\n",
       "      <td>-2.40167</td>\n",
       "    </tr>\n",
       "    <tr>\n",
       "      <th>13700</th>\n",
       "      <td>5.97563</td>\n",
       "      <td>4.03738</td>\n",
       "      <td>-2.40167</td>\n",
       "    </tr>\n",
       "    <tr>\n",
       "      <th>13698</th>\n",
       "      <td>5.92594</td>\n",
       "      <td>4.10991</td>\n",
       "      <td>-2.40167</td>\n",
       "    </tr>\n",
       "    <tr>\n",
       "      <th>13701</th>\n",
       "      <td>6.00012</td>\n",
       "      <td>4.00089</td>\n",
       "      <td>-2.40167</td>\n",
       "    </tr>\n",
       "    <tr>\n",
       "      <th>13697</th>\n",
       "      <td>5.90078</td>\n",
       "      <td>4.14595</td>\n",
       "      <td>-2.40167</td>\n",
       "    </tr>\n",
       "    <tr>\n",
       "      <th>13702</th>\n",
       "      <td>6.02437</td>\n",
       "      <td>3.96425</td>\n",
       "      <td>-2.40167</td>\n",
       "    </tr>\n",
       "    <tr>\n",
       "      <th>13696</th>\n",
       "      <td>5.87539</td>\n",
       "      <td>4.18184</td>\n",
       "      <td>-2.40167</td>\n",
       "    </tr>\n",
       "    <tr>\n",
       "      <th>14648</th>\n",
       "      <td>5.80672</td>\n",
       "      <td>3.97503</td>\n",
       "      <td>-2.40167</td>\n",
       "    </tr>\n",
       "    <tr>\n",
       "      <th>13703</th>\n",
       "      <td>6.04836</td>\n",
       "      <td>3.92746</td>\n",
       "      <td>-2.40167</td>\n",
       "    </tr>\n",
       "    <tr>\n",
       "      <th>13695</th>\n",
       "      <td>5.84984</td>\n",
       "      <td>4.21757</td>\n",
       "      <td>-2.40167</td>\n",
       "    </tr>\n",
       "    <tr>\n",
       "      <th>14647</th>\n",
       "      <td>5.78238</td>\n",
       "      <td>4.01035</td>\n",
       "      <td>-2.40167</td>\n",
       "    </tr>\n",
       "  </tbody>\n",
       "</table>\n",
       "</div>"
      ],
      "text/plain": [
       "             x        y        z\n",
       "13699  5.95090  4.07372 -2.40167\n",
       "13700  5.97563  4.03738 -2.40167\n",
       "13698  5.92594  4.10991 -2.40167\n",
       "13701  6.00012  4.00089 -2.40167\n",
       "13697  5.90078  4.14595 -2.40167\n",
       "13702  6.02437  3.96425 -2.40167\n",
       "13696  5.87539  4.18184 -2.40167\n",
       "14648  5.80672  3.97503 -2.40167\n",
       "13703  6.04836  3.92746 -2.40167\n",
       "13695  5.84984  4.21757 -2.40167\n",
       "14647  5.78238  4.01035 -2.40167"
      ]
     },
     "execution_count": 27,
     "metadata": {},
     "output_type": "execute_result"
    }
   ],
   "source": [
    "rawdata.loc[neighbors_index] # random point and 10 neighbors of the random point"
   ]
  },
  {
   "cell_type": "code",
   "execution_count": 28,
   "id": "8d39d522-d4b9-484c-9233-ff876585de45",
   "metadata": {},
   "outputs": [
    {
     "data": {
      "text/plain": [
       "count    11.000000\n",
       "mean      0.112161\n",
       "std       0.063601\n",
       "min       0.000000\n",
       "25%       0.065933\n",
       "50%       0.131839\n",
       "75%       0.175239\n",
       "max       0.180041\n",
       "dtype: float64"
      ]
     },
     "execution_count": 28,
     "metadata": {},
     "output_type": "execute_result"
    }
   ],
   "source": [
    "pd.Series(distance).describe()"
   ]
  },
  {
   "cell_type": "code",
   "execution_count": 29,
   "id": "6125581a-1051-4482-8e1b-2f29527a2a42",
   "metadata": {},
   "outputs": [],
   "source": [
    "VOISINS_NUM = [10, 20, 30, 50, 100, 200, 500, 1000, 1500, 2000]"
   ]
  },
  {
   "cell_type": "code",
   "execution_count": null,
   "id": "a2f0cc50-743c-4e9b-9cbe-966402604ba2",
   "metadata": {},
   "outputs": [],
   "source": [
    "print(\"Vegetation neighborhood sizes:\")\n",
    "veg_sample = vegetation[COORDS].sample(20).values\n",
    "gen = (request_tree(veg_sample, tree, num) for num in VOISINS_NUM)\n",
    "d = [{\"mean (in meter)\": d.mean(axis=1)[0], \"max (in meter)\": d.max(axis=1)[0]} for d, _ in gen]\n",
    "pd.DataFrame(d, index=VOISINS_NUM).T"
   ]
  },
  {
   "cell_type": "code",
   "execution_count": 31,
   "id": "589cede1-5771-41fd-8788-2ffc70e5f5c3",
   "metadata": {},
   "outputs": [
    {
     "data": {
      "text/plain": [
       "array([[-6.02922 ,  4.60331 , -2.40167 ],\n",
       "       [-4.44117 ,  6.90842 , -1.94358 ],\n",
       "       [-0.947812, -5.55077 , -2.40168 ],\n",
       "       [ 5.53031 , -7.04109 , -2.40169 ],\n",
       "       [-7.16039 ,  6.34651 , -1.67181 ],\n",
       "       [-0.583789,  5.37554 , -2.40167 ],\n",
       "       [ 8.02969 , -0.122349, -2.34711 ],\n",
       "       [-5.04598 ,  2.75486 , -2.40168 ],\n",
       "       [ 2.31758 , -7.65317 , -2.40169 ],\n",
       "       [ 3.38047 ,  4.95444 , -2.40167 ],\n",
       "       [-1.5923  ,  8.68567 , -2.29858 ],\n",
       "       [-6.69438 , -0.449429, -2.40168 ],\n",
       "       [-3.9435  ,  7.04338 , -1.97371 ],\n",
       "       [ 1.12305 , -6.45869 , -2.40169 ],\n",
       "       [ 4.72637 , -7.92398 , -2.40169 ],\n",
       "       [-4.14031 ,  6.98965 , -1.66947 ],\n",
       "       [ 5.64703 , -7.65903 , -2.40169 ],\n",
       "       [ 1.98906 , -7.74504 , -2.40169 ],\n",
       "       [-0.157031, -6.86794 , -2.40169 ],\n",
       "       [-7.94844 ,  6.70628 , -2.29858 ]], dtype=float32)"
      ]
     },
     "execution_count": 31,
     "metadata": {},
     "output_type": "execute_result"
    }
   ],
   "source": [
    "rawdata_sample = rawdata[COORDS].sample(20).values\n",
    "rawdata_sample"
   ]
  },
  {
   "cell_type": "code",
   "execution_count": 32,
   "id": "01ce8953-faee-4a9e-8a76-e0830f81bf01",
   "metadata": {},
   "outputs": [
    {
     "data": {
      "text/plain": [
       "<generator object <genexpr> at 0x7fbf504af3c0>"
      ]
     },
     "execution_count": 32,
     "metadata": {},
     "output_type": "execute_result"
    }
   ],
   "source": [
    "gen = (request_tree(rawdata_sample, tree, num) for num in VOISINS_NUM)\n",
    "gen"
   ]
  },
  {
   "cell_type": "code",
   "execution_count": 33,
   "id": "5909848a-4bf2-4a95-b3d9-a3d4509f415e",
   "metadata": {},
   "outputs": [
    {
     "data": {
      "text/html": [
       "<div>\n",
       "<style scoped>\n",
       "    .dataframe tbody tr th:only-of-type {\n",
       "        vertical-align: middle;\n",
       "    }\n",
       "\n",
       "    .dataframe tbody tr th {\n",
       "        vertical-align: top;\n",
       "    }\n",
       "\n",
       "    .dataframe thead th {\n",
       "        text-align: right;\n",
       "    }\n",
       "</style>\n",
       "<table border=\"1\" class=\"dataframe\">\n",
       "  <thead>\n",
       "    <tr style=\"text-align: right;\">\n",
       "      <th></th>\n",
       "      <th>10</th>\n",
       "      <th>20</th>\n",
       "      <th>30</th>\n",
       "      <th>50</th>\n",
       "      <th>100</th>\n",
       "      <th>200</th>\n",
       "      <th>500</th>\n",
       "      <th>1000</th>\n",
       "      <th>1500</th>\n",
       "      <th>2000</th>\n",
       "    </tr>\n",
       "  </thead>\n",
       "  <tbody>\n",
       "    <tr>\n",
       "      <th>mean (in meter)</th>\n",
       "      <td>0.119312</td>\n",
       "      <td>0.164267</td>\n",
       "      <td>0.194895</td>\n",
       "      <td>0.255366</td>\n",
       "      <td>0.358176</td>\n",
       "      <td>0.505280</td>\n",
       "      <td>0.795266</td>\n",
       "      <td>1.115619</td>\n",
       "      <td>1.349242</td>\n",
       "      <td>1.536558</td>\n",
       "    </tr>\n",
       "    <tr>\n",
       "      <th>max (in meter)</th>\n",
       "      <td>0.196605</td>\n",
       "      <td>0.231145</td>\n",
       "      <td>0.277381</td>\n",
       "      <td>0.384613</td>\n",
       "      <td>0.550407</td>\n",
       "      <td>0.748931</td>\n",
       "      <td>1.186270</td>\n",
       "      <td>1.648347</td>\n",
       "      <td>1.980517</td>\n",
       "      <td>2.211082</td>\n",
       "    </tr>\n",
       "  </tbody>\n",
       "</table>\n",
       "</div>"
      ],
      "text/plain": [
       "                     10        20        30        50        100       200   \\\n",
       "mean (in meter)  0.119312  0.164267  0.194895  0.255366  0.358176  0.505280   \n",
       "max (in meter)   0.196605  0.231145  0.277381  0.384613  0.550407  0.748931   \n",
       "\n",
       "                     500       1000      1500      2000  \n",
       "mean (in meter)  0.795266  1.115619  1.349242  1.536558  \n",
       "max (in meter)   1.186270  1.648347  1.980517  2.211082  "
      ]
     },
     "execution_count": 33,
     "metadata": {},
     "output_type": "execute_result"
    }
   ],
   "source": [
    "d = [{\"mean (in meter)\": d.mean(axis=1)[0], \"max (in meter)\": d.max(axis=1)[0]} for d, _ in gen]\n",
    "pd.DataFrame(d, index=VOISINS_NUM).T"
   ]
  },
  {
   "cell_type": "code",
   "execution_count": 35,
   "id": "7ecb793f-d93a-4203-a048-5df721b53a16",
   "metadata": {},
   "outputs": [
    {
     "name": "stderr",
     "output_type": "stream",
     "text": [
      "[09:26:14] utils._init_num_threads (INFO) - Note: NumExpr detected 12 cores but \"NUMEXPR_MAX_THREADS\" not set, so enforcing safe limit of 8.\n",
      "[09:26:14] utils._init_num_threads (INFO) - NumExpr defaulting to 8 threads.\n"
     ]
    }
   ],
   "source": [
    "rawdata_store = pd.HDFStore(\"geo3dfeatures/sample_data/output/pcd_person_with_road/features/features.h5\", \"r\")"
   ]
  },
  {
   "cell_type": "code",
   "execution_count": 37,
   "id": "19be9a05-4f28-4a98-b588-ea4f2ccc6ec6",
   "metadata": {},
   "outputs": [
    {
     "data": {
      "text/plain": [
       "<class 'pandas.io.pytables.HDFStore'>\n",
       "File path: geo3dfeatures/sample_data/output/pcd_person_with_road/features/features.h5"
      ]
     },
     "execution_count": 37,
     "metadata": {},
     "output_type": "execute_result"
    }
   ],
   "source": [
    "rawdata_store"
   ]
  },
  {
   "cell_type": "code",
   "execution_count": 39,
   "id": "b1bc2479-82d5-45f2-a3b0-5a5d0aad0319",
   "metadata": {},
   "outputs": [
    {
     "data": {
      "text/plain": [
       "{10: '/num_0010',\n",
       " 20: '/num_0020',\n",
       " 30: '/num_0030',\n",
       " 50: '/num_0050',\n",
       " 100: '/num_0100',\n",
       " 200: '/num_0200',\n",
       " 500: '/num_0500',\n",
       " 1000: '/num_1000',\n",
       " 1500: '/num_1500',\n",
       " 2000: '/num_2000'}"
      ]
     },
     "execution_count": 39,
     "metadata": {},
     "output_type": "execute_result"
    }
   ],
   "source": [
    "VOISINS_NUM = [10, 20, 30, 50, 100, 200, 500, 1000, 1500, 2000]\n",
    "\n",
    "KEYS = {i: \"/num_{:04d}\".format(i) for i in VOISINS_NUM}\n",
    "KEYS"
   ]
  },
  {
   "cell_type": "code",
   "execution_count": null,
   "id": "4df8a995-075f-469b-a24f-904ee91b2ac2",
   "metadata": {},
   "outputs": [],
   "source": [
    "def mean_features(store, feature_name):\n",
    "    result = pd.Series({num: store[\"/num_{:04d}\".format(num)][feature_name].mean() for num in VOISINS_NUM})\n",
    "    result.name = feature_name\n",
    "    return result"
   ]
  },
  {
   "cell_type": "code",
   "execution_count": 40,
   "id": "8258d172-ef10-4b10-9ac3-73b6d8f16aae",
   "metadata": {},
   "outputs": [
    {
     "data": {
      "text/html": [
       "<div>\n",
       "<style scoped>\n",
       "    .dataframe tbody tr th:only-of-type {\n",
       "        vertical-align: middle;\n",
       "    }\n",
       "\n",
       "    .dataframe tbody tr th {\n",
       "        vertical-align: top;\n",
       "    }\n",
       "\n",
       "    .dataframe thead th {\n",
       "        text-align: right;\n",
       "    }\n",
       "</style>\n",
       "<table border=\"1\" class=\"dataframe\">\n",
       "  <thead>\n",
       "    <tr style=\"text-align: right;\">\n",
       "      <th></th>\n",
       "      <th>0</th>\n",
       "    </tr>\n",
       "  </thead>\n",
       "  <tbody>\n",
       "    <tr>\n",
       "      <th>0</th>\n",
       "      <td>/num_0050</td>\n",
       "    </tr>\n",
       "    <tr>\n",
       "      <th>1</th>\n",
       "      <td>/num_0200</td>\n",
       "    </tr>\n",
       "  </tbody>\n",
       "</table>\n",
       "</div>"
      ],
      "text/plain": [
       "           0\n",
       "0  /num_0050\n",
       "1  /num_0200"
      ]
     },
     "execution_count": 40,
     "metadata": {},
     "output_type": "execute_result"
    }
   ],
   "source": [
    "pd.DataFrame(rawdata_store)"
   ]
  },
  {
   "cell_type": "code",
   "execution_count": 41,
   "id": "aa67e0e9-5f9e-41a1-ac24-5b01bc07136f",
   "metadata": {},
   "outputs": [
    {
     "data": {
      "text/html": [
       "<div>\n",
       "<style scoped>\n",
       "    .dataframe tbody tr th:only-of-type {\n",
       "        vertical-align: middle;\n",
       "    }\n",
       "\n",
       "    .dataframe tbody tr th {\n",
       "        vertical-align: top;\n",
       "    }\n",
       "\n",
       "    .dataframe thead th {\n",
       "        text-align: right;\n",
       "    }\n",
       "</style>\n",
       "<table border=\"1\" class=\"dataframe\">\n",
       "  <thead>\n",
       "    <tr style=\"text-align: right;\">\n",
       "      <th></th>\n",
       "      <th>x</th>\n",
       "      <th>y</th>\n",
       "      <th>z</th>\n",
       "      <th>num_neighbors</th>\n",
       "      <th>alpha</th>\n",
       "      <th>beta</th>\n",
       "      <th>radius</th>\n",
       "      <th>z_range</th>\n",
       "      <th>std_dev</th>\n",
       "      <th>density</th>\n",
       "      <th>...</th>\n",
       "      <th>planarity</th>\n",
       "      <th>scattering</th>\n",
       "      <th>omnivariance</th>\n",
       "      <th>anisotropy</th>\n",
       "      <th>eigenentropy</th>\n",
       "      <th>eigenvalue_sum</th>\n",
       "      <th>radius_2D</th>\n",
       "      <th>density_2D</th>\n",
       "      <th>eigenvalue_sum_2D</th>\n",
       "      <th>eigenvalue_ratio_2D</th>\n",
       "    </tr>\n",
       "  </thead>\n",
       "  <tbody>\n",
       "    <tr>\n",
       "      <th>0</th>\n",
       "      <td>-2.44912</td>\n",
       "      <td>7.664550</td>\n",
       "      <td>0.280984</td>\n",
       "      <td>50</td>\n",
       "      <td>0.971752</td>\n",
       "      <td>0.021410</td>\n",
       "      <td>2.177029</td>\n",
       "      <td>1.144363</td>\n",
       "      <td>0.337702</td>\n",
       "      <td>1.203157</td>\n",
       "      <td>...</td>\n",
       "      <td>0.010871</td>\n",
       "      <td>0.002315</td>\n",
       "      <td>0.030774</td>\n",
       "      <td>0.997685</td>\n",
       "      <td>0.085417</td>\n",
       "      <td>5.912795</td>\n",
       "      <td>0.078253</td>\n",
       "      <td>2703.013097</td>\n",
       "      <td>0.096625</td>\n",
       "      <td>0.162086</td>\n",
       "    </tr>\n",
       "    <tr>\n",
       "      <th>1</th>\n",
       "      <td>-2.40729</td>\n",
       "      <td>7.695080</td>\n",
       "      <td>0.281560</td>\n",
       "      <td>50</td>\n",
       "      <td>0.971752</td>\n",
       "      <td>0.021410</td>\n",
       "      <td>2.181001</td>\n",
       "      <td>1.144363</td>\n",
       "      <td>0.337702</td>\n",
       "      <td>1.196596</td>\n",
       "      <td>...</td>\n",
       "      <td>0.010871</td>\n",
       "      <td>0.002315</td>\n",
       "      <td>0.030774</td>\n",
       "      <td>0.997685</td>\n",
       "      <td>0.085417</td>\n",
       "      <td>5.912795</td>\n",
       "      <td>0.108088</td>\n",
       "      <td>1416.756108</td>\n",
       "      <td>0.096625</td>\n",
       "      <td>0.162086</td>\n",
       "    </tr>\n",
       "    <tr>\n",
       "      <th>2</th>\n",
       "      <td>7.16648</td>\n",
       "      <td>-8.060780</td>\n",
       "      <td>0.376651</td>\n",
       "      <td>50</td>\n",
       "      <td>0.536871</td>\n",
       "      <td>0.401570</td>\n",
       "      <td>2.853738</td>\n",
       "      <td>0.806283</td>\n",
       "      <td>0.232403</td>\n",
       "      <td>0.534162</td>\n",
       "      <td>...</td>\n",
       "      <td>0.264827</td>\n",
       "      <td>0.027064</td>\n",
       "      <td>0.151000</td>\n",
       "      <td>0.972936</td>\n",
       "      <td>0.623415</td>\n",
       "      <td>3.726998</td>\n",
       "      <td>0.521982</td>\n",
       "      <td>60.749394</td>\n",
       "      <td>0.972426</td>\n",
       "      <td>0.086494</td>\n",
       "    </tr>\n",
       "    <tr>\n",
       "      <th>3</th>\n",
       "      <td>7.10137</td>\n",
       "      <td>-8.086210</td>\n",
       "      <td>0.375811</td>\n",
       "      <td>50</td>\n",
       "      <td>0.536871</td>\n",
       "      <td>0.401570</td>\n",
       "      <td>2.849642</td>\n",
       "      <td>0.806283</td>\n",
       "      <td>0.232403</td>\n",
       "      <td>0.536468</td>\n",
       "      <td>...</td>\n",
       "      <td>0.264827</td>\n",
       "      <td>0.027064</td>\n",
       "      <td>0.151000</td>\n",
       "      <td>0.972936</td>\n",
       "      <td>0.623415</td>\n",
       "      <td>3.726998</td>\n",
       "      <td>0.501851</td>\n",
       "      <td>65.721001</td>\n",
       "      <td>0.972426</td>\n",
       "      <td>0.086494</td>\n",
       "    </tr>\n",
       "    <tr>\n",
       "      <th>4</th>\n",
       "      <td>7.13555</td>\n",
       "      <td>-8.225700</td>\n",
       "      <td>0.380266</td>\n",
       "      <td>50</td>\n",
       "      <td>0.536871</td>\n",
       "      <td>0.401570</td>\n",
       "      <td>2.866770</td>\n",
       "      <td>0.806283</td>\n",
       "      <td>0.232403</td>\n",
       "      <td>0.526910</td>\n",
       "      <td>...</td>\n",
       "      <td>0.264827</td>\n",
       "      <td>0.027064</td>\n",
       "      <td>0.151000</td>\n",
       "      <td>0.972936</td>\n",
       "      <td>0.623415</td>\n",
       "      <td>3.726998</td>\n",
       "      <td>0.359121</td>\n",
       "      <td>128.342788</td>\n",
       "      <td>0.972426</td>\n",
       "      <td>0.086494</td>\n",
       "    </tr>\n",
       "    <tr>\n",
       "      <th>...</th>\n",
       "      <td>...</td>\n",
       "      <td>...</td>\n",
       "      <td>...</td>\n",
       "      <td>...</td>\n",
       "      <td>...</td>\n",
       "      <td>...</td>\n",
       "      <td>...</td>\n",
       "      <td>...</td>\n",
       "      <td>...</td>\n",
       "      <td>...</td>\n",
       "      <td>...</td>\n",
       "      <td>...</td>\n",
       "      <td>...</td>\n",
       "      <td>...</td>\n",
       "      <td>...</td>\n",
       "      <td>...</td>\n",
       "      <td>...</td>\n",
       "      <td>...</td>\n",
       "      <td>...</td>\n",
       "      <td>...</td>\n",
       "      <td>...</td>\n",
       "    </tr>\n",
       "    <tr>\n",
       "      <th>9568</th>\n",
       "      <td>-5.19533</td>\n",
       "      <td>-0.158345</td>\n",
       "      <td>-2.401680</td>\n",
       "      <td>50</td>\n",
       "      <td>0.594002</td>\n",
       "      <td>0.405998</td>\n",
       "      <td>0.644102</td>\n",
       "      <td>0.000000</td>\n",
       "      <td>0.000000</td>\n",
       "      <td>46.456914</td>\n",
       "      <td>...</td>\n",
       "      <td>0.254704</td>\n",
       "      <td>0.000000</td>\n",
       "      <td>0.000000</td>\n",
       "      <td>1.000000</td>\n",
       "      <td>0.504532</td>\n",
       "      <td>1.710846</td>\n",
       "      <td>0.305737</td>\n",
       "      <td>177.075527</td>\n",
       "      <td>1.710846</td>\n",
       "      <td>0.254704</td>\n",
       "    </tr>\n",
       "    <tr>\n",
       "      <th>9569</th>\n",
       "      <td>-5.19619</td>\n",
       "      <td>-0.126680</td>\n",
       "      <td>-2.401680</td>\n",
       "      <td>50</td>\n",
       "      <td>0.593998</td>\n",
       "      <td>0.406002</td>\n",
       "      <td>0.644081</td>\n",
       "      <td>0.000000</td>\n",
       "      <td>0.000000</td>\n",
       "      <td>46.461515</td>\n",
       "      <td>...</td>\n",
       "      <td>0.254707</td>\n",
       "      <td>0.000000</td>\n",
       "      <td>0.000000</td>\n",
       "      <td>1.000000</td>\n",
       "      <td>0.504535</td>\n",
       "      <td>1.710847</td>\n",
       "      <td>0.305750</td>\n",
       "      <td>177.060355</td>\n",
       "      <td>1.710847</td>\n",
       "      <td>0.254707</td>\n",
       "    </tr>\n",
       "    <tr>\n",
       "      <th>9570</th>\n",
       "      <td>-5.19689</td>\n",
       "      <td>-0.095015</td>\n",
       "      <td>-2.401680</td>\n",
       "      <td>50</td>\n",
       "      <td>0.594000</td>\n",
       "      <td>0.406000</td>\n",
       "      <td>0.644090</td>\n",
       "      <td>0.000000</td>\n",
       "      <td>0.000000</td>\n",
       "      <td>46.459503</td>\n",
       "      <td>...</td>\n",
       "      <td>0.254705</td>\n",
       "      <td>0.000000</td>\n",
       "      <td>0.000000</td>\n",
       "      <td>1.000000</td>\n",
       "      <td>0.504534</td>\n",
       "      <td>1.710838</td>\n",
       "      <td>0.305743</td>\n",
       "      <td>177.068317</td>\n",
       "      <td>1.710838</td>\n",
       "      <td>0.254705</td>\n",
       "    </tr>\n",
       "    <tr>\n",
       "      <th>9571</th>\n",
       "      <td>-5.19736</td>\n",
       "      <td>-0.063345</td>\n",
       "      <td>-2.401680</td>\n",
       "      <td>50</td>\n",
       "      <td>0.593998</td>\n",
       "      <td>0.406002</td>\n",
       "      <td>0.644101</td>\n",
       "      <td>0.000000</td>\n",
       "      <td>0.000000</td>\n",
       "      <td>46.457094</td>\n",
       "      <td>...</td>\n",
       "      <td>0.254706</td>\n",
       "      <td>0.000000</td>\n",
       "      <td>0.000000</td>\n",
       "      <td>1.000000</td>\n",
       "      <td>0.504534</td>\n",
       "      <td>1.710843</td>\n",
       "      <td>0.305740</td>\n",
       "      <td>177.071085</td>\n",
       "      <td>1.710843</td>\n",
       "      <td>0.254706</td>\n",
       "    </tr>\n",
       "    <tr>\n",
       "      <th>9572</th>\n",
       "      <td>-5.19766</td>\n",
       "      <td>-0.031670</td>\n",
       "      <td>-2.401680</td>\n",
       "      <td>50</td>\n",
       "      <td>0.593996</td>\n",
       "      <td>0.406004</td>\n",
       "      <td>0.644081</td>\n",
       "      <td>0.000000</td>\n",
       "      <td>0.000000</td>\n",
       "      <td>46.461546</td>\n",
       "      <td>...</td>\n",
       "      <td>0.254709</td>\n",
       "      <td>0.000000</td>\n",
       "      <td>0.000000</td>\n",
       "      <td>1.000000</td>\n",
       "      <td>0.504536</td>\n",
       "      <td>1.710856</td>\n",
       "      <td>0.305740</td>\n",
       "      <td>177.071669</td>\n",
       "      <td>1.710856</td>\n",
       "      <td>0.254709</td>\n",
       "    </tr>\n",
       "  </tbody>\n",
       "</table>\n",
       "<p>29573 rows × 23 columns</p>\n",
       "</div>"
      ],
      "text/plain": [
       "            x         y         z  num_neighbors     alpha      beta  \\\n",
       "0    -2.44912  7.664550  0.280984             50  0.971752  0.021410   \n",
       "1    -2.40729  7.695080  0.281560             50  0.971752  0.021410   \n",
       "2     7.16648 -8.060780  0.376651             50  0.536871  0.401570   \n",
       "3     7.10137 -8.086210  0.375811             50  0.536871  0.401570   \n",
       "4     7.13555 -8.225700  0.380266             50  0.536871  0.401570   \n",
       "...       ...       ...       ...            ...       ...       ...   \n",
       "9568 -5.19533 -0.158345 -2.401680             50  0.594002  0.405998   \n",
       "9569 -5.19619 -0.126680 -2.401680             50  0.593998  0.406002   \n",
       "9570 -5.19689 -0.095015 -2.401680             50  0.594000  0.406000   \n",
       "9571 -5.19736 -0.063345 -2.401680             50  0.593998  0.406002   \n",
       "9572 -5.19766 -0.031670 -2.401680             50  0.593996  0.406004   \n",
       "\n",
       "        radius   z_range   std_dev    density  ...  planarity  scattering  \\\n",
       "0     2.177029  1.144363  0.337702   1.203157  ...   0.010871    0.002315   \n",
       "1     2.181001  1.144363  0.337702   1.196596  ...   0.010871    0.002315   \n",
       "2     2.853738  0.806283  0.232403   0.534162  ...   0.264827    0.027064   \n",
       "3     2.849642  0.806283  0.232403   0.536468  ...   0.264827    0.027064   \n",
       "4     2.866770  0.806283  0.232403   0.526910  ...   0.264827    0.027064   \n",
       "...        ...       ...       ...        ...  ...        ...         ...   \n",
       "9568  0.644102  0.000000  0.000000  46.456914  ...   0.254704    0.000000   \n",
       "9569  0.644081  0.000000  0.000000  46.461515  ...   0.254707    0.000000   \n",
       "9570  0.644090  0.000000  0.000000  46.459503  ...   0.254705    0.000000   \n",
       "9571  0.644101  0.000000  0.000000  46.457094  ...   0.254706    0.000000   \n",
       "9572  0.644081  0.000000  0.000000  46.461546  ...   0.254709    0.000000   \n",
       "\n",
       "      omnivariance  anisotropy  eigenentropy  eigenvalue_sum  radius_2D  \\\n",
       "0         0.030774    0.997685      0.085417        5.912795   0.078253   \n",
       "1         0.030774    0.997685      0.085417        5.912795   0.108088   \n",
       "2         0.151000    0.972936      0.623415        3.726998   0.521982   \n",
       "3         0.151000    0.972936      0.623415        3.726998   0.501851   \n",
       "4         0.151000    0.972936      0.623415        3.726998   0.359121   \n",
       "...            ...         ...           ...             ...        ...   \n",
       "9568      0.000000    1.000000      0.504532        1.710846   0.305737   \n",
       "9569      0.000000    1.000000      0.504535        1.710847   0.305750   \n",
       "9570      0.000000    1.000000      0.504534        1.710838   0.305743   \n",
       "9571      0.000000    1.000000      0.504534        1.710843   0.305740   \n",
       "9572      0.000000    1.000000      0.504536        1.710856   0.305740   \n",
       "\n",
       "       density_2D  eigenvalue_sum_2D  eigenvalue_ratio_2D  \n",
       "0     2703.013097           0.096625             0.162086  \n",
       "1     1416.756108           0.096625             0.162086  \n",
       "2       60.749394           0.972426             0.086494  \n",
       "3       65.721001           0.972426             0.086494  \n",
       "4      128.342788           0.972426             0.086494  \n",
       "...           ...                ...                  ...  \n",
       "9568   177.075527           1.710846             0.254704  \n",
       "9569   177.060355           1.710847             0.254707  \n",
       "9570   177.068317           1.710838             0.254705  \n",
       "9571   177.071085           1.710843             0.254706  \n",
       "9572   177.071669           1.710856             0.254709  \n",
       "\n",
       "[29573 rows x 23 columns]"
      ]
     },
     "execution_count": 41,
     "metadata": {},
     "output_type": "execute_result"
    }
   ],
   "source": [
    "rawdata_store[\"/num_0050\"]"
   ]
  },
  {
   "cell_type": "code",
   "execution_count": 42,
   "id": "293c89ab-7330-4910-9fcc-c00515f4bcee",
   "metadata": {},
   "outputs": [
    {
     "data": {
      "text/plain": [
       "Index(['x', 'y', 'z', 'num_neighbors', 'alpha', 'beta', 'radius', 'z_range',\n",
       "       'std_dev', 'density', 'verticality', 'curvature_change', 'linearity',\n",
       "       'planarity', 'scattering', 'omnivariance', 'anisotropy', 'eigenentropy',\n",
       "       'eigenvalue_sum', 'radius_2D', 'density_2D', 'eigenvalue_sum_2D',\n",
       "       'eigenvalue_ratio_2D'],\n",
       "      dtype='object')"
      ]
     },
     "execution_count": 42,
     "metadata": {},
     "output_type": "execute_result"
    }
   ],
   "source": [
    "rawdata_store[\"/num_0050\"].columns"
   ]
  },
  {
   "cell_type": "code",
   "execution_count": 3,
   "id": "7306b25f-0155-4795-bf55-51884ef7b40d",
   "metadata": {},
   "outputs": [
    {
     "name": "stdout",
     "output_type": "stream",
     "text": [
      "actor_ObjIdx_0.0.csv\tactor_ObjIdx_416.0.csv\tactor_ObjIdx_439.0.csv\n",
      "actor_ObjIdx_413.0.csv\tactor_ObjIdx_417.0.csv\tactor_ObjIdx_442.0.csv\n",
      "actor_ObjIdx_414.0.csv\tactor_ObjIdx_418.0.csv\tactor_ObjIdx_580.0.csv\n",
      "actor_ObjIdx_415.0.csv\tactor_ObjIdx_430.0.csv\n"
     ]
    }
   ],
   "source": [
    "!ls csv"
   ]
  },
  {
   "cell_type": "code",
   "execution_count": null,
   "id": "7ccb30c8-308b-4451-8cab-58476f84f60e",
   "metadata": {},
   "outputs": [],
   "source": [
    "import pandas as pd\n",
    "\n",
    "filename = \"csv/actor_ObjIdx_0.0.csv\"\n",
    "\n",
    "df_idx0 = pd.read_csv(filename, )"
   ]
  }
 ],
 "metadata": {
  "kernelspec": {
   "display_name": "Python 3 (ipykernel)",
   "language": "python",
   "name": "python3"
  },
  "language_info": {
   "codemirror_mode": {
    "name": "ipython",
    "version": 3
   },
   "file_extension": ".py",
   "mimetype": "text/x-python",
   "name": "python",
   "nbconvert_exporter": "python",
   "pygments_lexer": "ipython3",
   "version": "3.8.10"
  }
 },
 "nbformat": 4,
 "nbformat_minor": 5
}
