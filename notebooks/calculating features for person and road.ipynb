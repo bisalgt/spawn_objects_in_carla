{
 "cells": [
  {
   "cell_type": "code",
   "execution_count": 6,
   "id": "413b43fa-c107-41fa-9951-eedd085073ac",
   "metadata": {},
   "outputs": [
    {
     "name": "stdout",
     "output_type": "stream",
     "text": [
      "['csv/semantic_frame_1_ObjIdx_211_ObjTag_4.csv', 'csv/semantic_frame_1_ObjIdx_214_ObjTag_4.csv', 'csv/semantic_frame_1_ObjIdx_212_ObjTag_4.csv', 'csv/semantic_frame_1_ObjIdx_210_ObjTag_4.csv', 'csv/semantic_frame_1_ObjIdx_217_ObjTag_4.csv', 'csv/semantic_frame_1_ObjIdx_216_ObjTag_4.csv', 'csv/semantic_frame_1_ObjIdx_213_ObjTag_4.csv', 'csv/semantic_frame_1_ObjIdx_215_ObjTag_4.csv', 'csv/semantic_frame_2_ObjIdx_216_ObjTag_4.csv', 'csv/semantic_frame_2_ObjIdx_217_ObjTag_4.csv', 'csv/semantic_frame_2_ObjIdx_212_ObjTag_4.csv', 'csv/semantic_frame_2_ObjIdx_211_ObjTag_4.csv', 'csv/semantic_frame_2_ObjIdx_210_ObjTag_4.csv', 'csv/semantic_frame_2_ObjIdx_214_ObjTag_4.csv', 'csv/semantic_frame_2_ObjIdx_215_ObjTag_4.csv', 'csv/semantic_frame_2_ObjIdx_221_ObjTag_4.csv', 'csv/semantic_frame_2_ObjIdx_223_ObjTag_4.csv', 'csv/semantic_frame_2_ObjIdx_224_ObjTag_4.csv', 'csv/semantic_frame_2_ObjIdx_222_ObjTag_4.csv', 'csv/semantic_frame_2_ObjIdx_218_ObjTag_4.csv', 'csv/semantic_frame_2_ObjIdx_213_ObjTag_4.csv', 'csv/semantic_frame_2_ObjIdx_220_ObjTag_4.csv', 'csv/semantic_frame_2_ObjIdx_219_ObjTag_4.csv', 'csv/semantic_frame_3_ObjIdx_216_ObjTag_4.csv', 'csv/semantic_frame_3_ObjIdx_217_ObjTag_4.csv', 'csv/semantic_frame_3_ObjIdx_211_ObjTag_4.csv', 'csv/semantic_frame_3_ObjIdx_210_ObjTag_4.csv', 'csv/semantic_frame_3_ObjIdx_212_ObjTag_4.csv', 'csv/semantic_frame_3_ObjIdx_214_ObjTag_4.csv', 'csv/semantic_frame_3_ObjIdx_222_ObjTag_4.csv', 'csv/semantic_frame_3_ObjIdx_223_ObjTag_4.csv', 'csv/semantic_frame_3_ObjIdx_224_ObjTag_4.csv', 'csv/semantic_frame_3_ObjIdx_215_ObjTag_4.csv', 'csv/semantic_frame_3_ObjIdx_221_ObjTag_4.csv', 'csv/semantic_frame_3_ObjIdx_218_ObjTag_4.csv', 'csv/semantic_frame_3_ObjIdx_220_ObjTag_4.csv', 'csv/semantic_frame_3_ObjIdx_213_ObjTag_4.csv', 'csv/semantic_frame_3_ObjIdx_219_ObjTag_4.csv', 'csv/semantic_frame_4_ObjIdx_222_ObjTag_4.csv', 'csv/semantic_frame_4_ObjIdx_223_ObjTag_4.csv', 'csv/semantic_frame_4_ObjIdx_224_ObjTag_4.csv', 'csv/semantic_frame_4_ObjIdx_218_ObjTag_4.csv', 'csv/semantic_frame_4_ObjIdx_216_ObjTag_4.csv', 'csv/semantic_frame_4_ObjIdx_217_ObjTag_4.csv', 'csv/semantic_frame_4_ObjIdx_221_ObjTag_4.csv', 'csv/semantic_frame_4_ObjIdx_212_ObjTag_4.csv', 'csv/semantic_frame_4_ObjIdx_220_ObjTag_4.csv', 'csv/semantic_frame_4_ObjIdx_219_ObjTag_4.csv', 'csv/semantic_frame_4_ObjIdx_211_ObjTag_4.csv', 'csv/semantic_frame_4_ObjIdx_215_ObjTag_4.csv', 'csv/semantic_frame_4_ObjIdx_210_ObjTag_4.csv', 'csv/semantic_frame_4_ObjIdx_214_ObjTag_4.csv', 'csv/semantic_frame_4_ObjIdx_213_ObjTag_4.csv', 'csv/semantic_frame_5_ObjIdx_223_ObjTag_4.csv', 'csv/semantic_frame_5_ObjIdx_224_ObjTag_4.csv', 'csv/semantic_frame_5_ObjIdx_218_ObjTag_4.csv', 'csv/semantic_frame_5_ObjIdx_216_ObjTag_4.csv', 'csv/semantic_frame_5_ObjIdx_217_ObjTag_4.csv', 'csv/semantic_frame_5_ObjIdx_222_ObjTag_4.csv', 'csv/semantic_frame_5_ObjIdx_212_ObjTag_4.csv', 'csv/semantic_frame_5_ObjIdx_211_ObjTag_4.csv', 'csv/semantic_frame_5_ObjIdx_210_ObjTag_4.csv', 'csv/semantic_frame_5_ObjIdx_214_ObjTag_4.csv', 'csv/semantic_frame_5_ObjIdx_215_ObjTag_4.csv', 'csv/semantic_frame_5_ObjIdx_219_ObjTag_4.csv', 'csv/semantic_frame_5_ObjIdx_220_ObjTag_4.csv', 'csv/semantic_frame_5_ObjIdx_221_ObjTag_4.csv', 'csv/semantic_frame_5_ObjIdx_213_ObjTag_4.csv', 'csv/semantic_frame_6_ObjIdx_222_ObjTag_4.csv', 'csv/semantic_frame_6_ObjIdx_223_ObjTag_4.csv', 'csv/semantic_frame_6_ObjIdx_224_ObjTag_4.csv', 'csv/semantic_frame_6_ObjIdx_218_ObjTag_4.csv', 'csv/semantic_frame_6_ObjIdx_219_ObjTag_4.csv', 'csv/semantic_frame_6_ObjIdx_221_ObjTag_4.csv', 'csv/semantic_frame_6_ObjIdx_220_ObjTag_4.csv', 'csv/semantic_frame_6_ObjIdx_212_ObjTag_4.csv', 'csv/semantic_frame_6_ObjIdx_216_ObjTag_4.csv', 'csv/semantic_frame_6_ObjIdx_217_ObjTag_4.csv', 'csv/semantic_frame_6_ObjIdx_211_ObjTag_4.csv', 'csv/semantic_frame_6_ObjIdx_214_ObjTag_4.csv', 'csv/semantic_frame_6_ObjIdx_210_ObjTag_4.csv', 'csv/semantic_frame_6_ObjIdx_215_ObjTag_4.csv', 'csv/semantic_frame_6_ObjIdx_213_ObjTag_4.csv', 'csv/semantic_frame_7_ObjIdx_222_ObjTag_4.csv', 'csv/semantic_frame_7_ObjIdx_223_ObjTag_4.csv', 'csv/semantic_frame_7_ObjIdx_224_ObjTag_4.csv', 'csv/semantic_frame_7_ObjIdx_218_ObjTag_4.csv', 'csv/semantic_frame_7_ObjIdx_221_ObjTag_4.csv', 'csv/semantic_frame_7_ObjIdx_220_ObjTag_4.csv', 'csv/semantic_frame_7_ObjIdx_219_ObjTag_4.csv', 'csv/semantic_frame_7_ObjIdx_212_ObjTag_4.csv', 'csv/semantic_frame_7_ObjIdx_211_ObjTag_4.csv', 'csv/semantic_frame_7_ObjIdx_216_ObjTag_4.csv', 'csv/semantic_frame_7_ObjIdx_217_ObjTag_4.csv', 'csv/semantic_frame_7_ObjIdx_214_ObjTag_4.csv', 'csv/semantic_frame_7_ObjIdx_210_ObjTag_4.csv', 'csv/semantic_frame_7_ObjIdx_213_ObjTag_4.csv', 'csv/semantic_frame_7_ObjIdx_215_ObjTag_4.csv', 'csv/semantic_frame_8_ObjIdx_222_ObjTag_4.csv', 'csv/semantic_frame_8_ObjIdx_223_ObjTag_4.csv', 'csv/semantic_frame_8_ObjIdx_224_ObjTag_4.csv', 'csv/semantic_frame_8_ObjIdx_218_ObjTag_4.csv', 'csv/semantic_frame_8_ObjIdx_212_ObjTag_4.csv', 'csv/semantic_frame_8_ObjIdx_221_ObjTag_4.csv', 'csv/semantic_frame_8_ObjIdx_220_ObjTag_4.csv', 'csv/semantic_frame_8_ObjIdx_219_ObjTag_4.csv', 'csv/semantic_frame_8_ObjIdx_211_ObjTag_4.csv', 'csv/semantic_frame_8_ObjIdx_216_ObjTag_4.csv', 'csv/semantic_frame_8_ObjIdx_217_ObjTag_4.csv', 'csv/semantic_frame_8_ObjIdx_214_ObjTag_4.csv', 'csv/semantic_frame_8_ObjIdx_210_ObjTag_4.csv', 'csv/semantic_frame_8_ObjIdx_215_ObjTag_4.csv', 'csv/semantic_frame_8_ObjIdx_213_ObjTag_4.csv', 'csv/semantic_frame_9_ObjIdx_224_ObjTag_4.csv', 'csv/semantic_frame_9_ObjIdx_218_ObjTag_4.csv', 'csv/semantic_frame_9_ObjIdx_222_ObjTag_4.csv', 'csv/semantic_frame_9_ObjIdx_223_ObjTag_4.csv', 'csv/semantic_frame_9_ObjIdx_221_ObjTag_4.csv', 'csv/semantic_frame_9_ObjIdx_220_ObjTag_4.csv', 'csv/semantic_frame_9_ObjIdx_219_ObjTag_4.csv', 'csv/semantic_frame_9_ObjIdx_212_ObjTag_4.csv', 'csv/semantic_frame_9_ObjIdx_216_ObjTag_4.csv', 'csv/semantic_frame_9_ObjIdx_217_ObjTag_4.csv', 'csv/semantic_frame_9_ObjIdx_211_ObjTag_4.csv', 'csv/semantic_frame_9_ObjIdx_210_ObjTag_4.csv', 'csv/semantic_frame_9_ObjIdx_215_ObjTag_4.csv', 'csv/semantic_frame_9_ObjIdx_214_ObjTag_4.csv', 'csv/semantic_frame_9_ObjIdx_213_ObjTag_4.csv']\n"
     ]
    }
   ],
   "source": [
    "import pickle\n",
    "\n",
    "person_pickle_filename = \"person_file_list.pickle\"\n",
    "\n",
    "with open(person_pickle_filename, 'rb') as handle:\n",
    "    person_file_list = pickle.load(handle)\n",
    "\n",
    "print(person_file_list)"
   ]
  },
  {
   "cell_type": "code",
   "execution_count": 7,
   "id": "fe0b67fb-378e-43fb-a031-e90a187658fe",
   "metadata": {},
   "outputs": [],
   "source": [
    "from surface_variation import PointCloudAnalysis\n",
    "import open3d as o3d\n",
    "import pandas as pd\n",
    "\n",
    "kdtreeseachknn = o3d.geometry.KDTreeSearchParamKNN(50)\n",
    "\n"
   ]
  },
  {
   "cell_type": "code",
   "execution_count": 14,
   "id": "1e8b9e2f-308d-4eff-8792-602930f23d4c",
   "metadata": {},
   "outputs": [
    {
     "data": {
      "text/html": [
       "<div>\n",
       "<style scoped>\n",
       "    .dataframe tbody tr th:only-of-type {\n",
       "        vertical-align: middle;\n",
       "    }\n",
       "\n",
       "    .dataframe tbody tr th {\n",
       "        vertical-align: top;\n",
       "    }\n",
       "\n",
       "    .dataframe thead th {\n",
       "        text-align: right;\n",
       "    }\n",
       "</style>\n",
       "<table border=\"1\" class=\"dataframe\">\n",
       "  <thead>\n",
       "    <tr style=\"text-align: right;\">\n",
       "      <th></th>\n",
       "      <th># x</th>\n",
       "      <th>y</th>\n",
       "      <th>z</th>\n",
       "      <th>CosAngle</th>\n",
       "      <th>ObjIdx</th>\n",
       "      <th>ObjTag</th>\n",
       "    </tr>\n",
       "  </thead>\n",
       "  <tbody>\n",
       "    <tr>\n",
       "      <th>0</th>\n",
       "      <td>4.863848</td>\n",
       "      <td>-3.929267</td>\n",
       "      <td>-0.479028</td>\n",
       "      <td>0.357849</td>\n",
       "      <td>211.0</td>\n",
       "      <td>4.0</td>\n",
       "    </tr>\n",
       "    <tr>\n",
       "      <th>1</th>\n",
       "      <td>4.817050</td>\n",
       "      <td>-3.940205</td>\n",
       "      <td>-0.476775</td>\n",
       "      <td>0.706789</td>\n",
       "      <td>211.0</td>\n",
       "      <td>4.0</td>\n",
       "    </tr>\n",
       "    <tr>\n",
       "      <th>2</th>\n",
       "      <td>4.794492</td>\n",
       "      <td>-3.970771</td>\n",
       "      <td>-0.476928</td>\n",
       "      <td>0.683065</td>\n",
       "      <td>211.0</td>\n",
       "      <td>4.0</td>\n",
       "    </tr>\n",
       "    <tr>\n",
       "      <th>3</th>\n",
       "      <td>4.803320</td>\n",
       "      <td>-4.027676</td>\n",
       "      <td>-0.480239</td>\n",
       "      <td>0.170939</td>\n",
       "      <td>211.0</td>\n",
       "      <td>4.0</td>\n",
       "    </tr>\n",
       "    <tr>\n",
       "      <th>4</th>\n",
       "      <td>4.834697</td>\n",
       "      <td>-3.905713</td>\n",
       "      <td>-0.522598</td>\n",
       "      <td>0.758860</td>\n",
       "      <td>211.0</td>\n",
       "      <td>4.0</td>\n",
       "    </tr>\n",
       "  </tbody>\n",
       "</table>\n",
       "</div>"
      ],
      "text/plain": [
       "        # x         y         z  CosAngle  ObjIdx  ObjTag\n",
       "0  4.863848 -3.929267 -0.479028  0.357849   211.0     4.0\n",
       "1  4.817050 -3.940205 -0.476775  0.706789   211.0     4.0\n",
       "2  4.794492 -3.970771 -0.476928  0.683065   211.0     4.0\n",
       "3  4.803320 -4.027676 -0.480239  0.170939   211.0     4.0\n",
       "4  4.834697 -3.905713 -0.522598  0.758860   211.0     4.0"
      ]
     },
     "execution_count": 14,
     "metadata": {},
     "output_type": "execute_result"
    }
   ],
   "source": [
    "\n",
    "filename = person_file_list[0]\n",
    "\n",
    "df = pd.read_csv(filename)\n",
    "df.head()"
   ]
  },
  {
   "cell_type": "code",
   "execution_count": 15,
   "id": "a7bafc46-fb07-4ffa-8f71-e6b84915a876",
   "metadata": {},
   "outputs": [
    {
     "data": {
      "text/html": [
       "<div>\n",
       "<style scoped>\n",
       "    .dataframe tbody tr th:only-of-type {\n",
       "        vertical-align: middle;\n",
       "    }\n",
       "\n",
       "    .dataframe tbody tr th {\n",
       "        vertical-align: top;\n",
       "    }\n",
       "\n",
       "    .dataframe thead th {\n",
       "        text-align: right;\n",
       "    }\n",
       "</style>\n",
       "<table border=\"1\" class=\"dataframe\">\n",
       "  <thead>\n",
       "    <tr style=\"text-align: right;\">\n",
       "      <th></th>\n",
       "      <th># x</th>\n",
       "      <th>y</th>\n",
       "      <th>z</th>\n",
       "    </tr>\n",
       "  </thead>\n",
       "  <tbody>\n",
       "    <tr>\n",
       "      <th>0</th>\n",
       "      <td>4.863848</td>\n",
       "      <td>-3.929267</td>\n",
       "      <td>-0.479028</td>\n",
       "    </tr>\n",
       "    <tr>\n",
       "      <th>1</th>\n",
       "      <td>4.817050</td>\n",
       "      <td>-3.940205</td>\n",
       "      <td>-0.476775</td>\n",
       "    </tr>\n",
       "    <tr>\n",
       "      <th>2</th>\n",
       "      <td>4.794492</td>\n",
       "      <td>-3.970771</td>\n",
       "      <td>-0.476928</td>\n",
       "    </tr>\n",
       "    <tr>\n",
       "      <th>3</th>\n",
       "      <td>4.803320</td>\n",
       "      <td>-4.027676</td>\n",
       "      <td>-0.480239</td>\n",
       "    </tr>\n",
       "    <tr>\n",
       "      <th>4</th>\n",
       "      <td>4.834697</td>\n",
       "      <td>-3.905713</td>\n",
       "      <td>-0.522598</td>\n",
       "    </tr>\n",
       "  </tbody>\n",
       "</table>\n",
       "</div>"
      ],
      "text/plain": [
       "        # x         y         z\n",
       "0  4.863848 -3.929267 -0.479028\n",
       "1  4.817050 -3.940205 -0.476775\n",
       "2  4.794492 -3.970771 -0.476928\n",
       "3  4.803320 -4.027676 -0.480239\n",
       "4  4.834697 -3.905713 -0.522598"
      ]
     },
     "execution_count": 15,
     "metadata": {},
     "output_type": "execute_result"
    }
   ],
   "source": [
    "df.iloc[:, :3].head()"
   ]
  },
  {
   "cell_type": "code",
   "execution_count": 17,
   "id": "1264d931-9e8c-47d6-ae93-f95047691eb7",
   "metadata": {},
   "outputs": [
    {
     "data": {
      "text/plain": [
       "array([[ 4.8638477 , -3.9292674 , -0.47902784],\n",
       "       [ 4.8170505 , -3.940205  , -0.4767752 ],\n",
       "       [ 4.7944922 , -3.9707713 , -0.47692764],\n",
       "       [ 4.8033204 , -4.0276756 , -0.4802388 ],\n",
       "       [ 4.8346972 , -3.9057128 , -0.52259827]])"
      ]
     },
     "execution_count": 17,
     "metadata": {},
     "output_type": "execute_result"
    }
   ],
   "source": [
    "df.iloc[:, :3].head().to_numpy()"
   ]
  },
  {
   "cell_type": "code",
   "execution_count": 18,
   "id": "fa5cf94c-5489-4ec0-b854-d43c75f59767",
   "metadata": {},
   "outputs": [],
   "source": [
    "pcd = PointCloudAnalysis(df.iloc[:, :3].head().to_numpy(), kdtreeseachknn)"
   ]
  },
  {
   "cell_type": "code",
   "execution_count": 22,
   "id": "5e02b5c4-79a4-4402-a688-5033ba3fca9d",
   "metadata": {},
   "outputs": [
    {
     "data": {
      "text/plain": [
       "array([0.34793025, 1.        , 0.65365983, 0.        , 0.34793025])"
      ]
     },
     "execution_count": 22,
     "metadata": {},
     "output_type": "execute_result"
    }
   ],
   "source": [
    "pcd.get_normalized_surface_variation()"
   ]
  },
  {
   "cell_type": "code",
   "execution_count": 34,
   "id": "0b313f0d-7834-428f-a2e1-2f5e7647337d",
   "metadata": {},
   "outputs": [
    {
     "data": {
      "text/html": [
       "<div>\n",
       "<style scoped>\n",
       "    .dataframe tbody tr th:only-of-type {\n",
       "        vertical-align: middle;\n",
       "    }\n",
       "\n",
       "    .dataframe tbody tr th {\n",
       "        vertical-align: top;\n",
       "    }\n",
       "\n",
       "    .dataframe thead th {\n",
       "        text-align: right;\n",
       "    }\n",
       "</style>\n",
       "<table border=\"1\" class=\"dataframe\">\n",
       "  <thead>\n",
       "    <tr style=\"text-align: right;\">\n",
       "      <th></th>\n",
       "      <th>surface_variation</th>\n",
       "    </tr>\n",
       "  </thead>\n",
       "  <tbody>\n",
       "    <tr>\n",
       "      <th>0</th>\n",
       "      <td>0.34793</td>\n",
       "    </tr>\n",
       "    <tr>\n",
       "      <th>1</th>\n",
       "      <td>1.00000</td>\n",
       "    </tr>\n",
       "    <tr>\n",
       "      <th>2</th>\n",
       "      <td>0.65366</td>\n",
       "    </tr>\n",
       "    <tr>\n",
       "      <th>3</th>\n",
       "      <td>0.00000</td>\n",
       "    </tr>\n",
       "    <tr>\n",
       "      <th>4</th>\n",
       "      <td>0.34793</td>\n",
       "    </tr>\n",
       "  </tbody>\n",
       "</table>\n",
       "</div>"
      ],
      "text/plain": [
       "   surface_variation\n",
       "0            0.34793\n",
       "1            1.00000\n",
       "2            0.65366\n",
       "3            0.00000\n",
       "4            0.34793"
      ]
     },
     "execution_count": 34,
     "metadata": {},
     "output_type": "execute_result"
    }
   ],
   "source": [
    "df_feature = pd.DataFrame(pcd.get_normalized_surface_variation(), columns=[\"surface_variation\",])\n",
    "df_feature"
   ]
  },
  {
   "cell_type": "code",
   "execution_count": 36,
   "id": "e2914b93-0cf8-4300-ba91-3ad4241522b6",
   "metadata": {},
   "outputs": [
    {
     "data": {
      "text/html": [
       "<div>\n",
       "<style scoped>\n",
       "    .dataframe tbody tr th:only-of-type {\n",
       "        vertical-align: middle;\n",
       "    }\n",
       "\n",
       "    .dataframe tbody tr th {\n",
       "        vertical-align: top;\n",
       "    }\n",
       "\n",
       "    .dataframe thead th {\n",
       "        text-align: right;\n",
       "    }\n",
       "</style>\n",
       "<table border=\"1\" class=\"dataframe\">\n",
       "  <thead>\n",
       "    <tr style=\"text-align: right;\">\n",
       "      <th></th>\n",
       "      <th># x</th>\n",
       "      <th>y</th>\n",
       "      <th>z</th>\n",
       "      <th>surface_variation</th>\n",
       "    </tr>\n",
       "  </thead>\n",
       "  <tbody>\n",
       "    <tr>\n",
       "      <th>0</th>\n",
       "      <td>4.863848</td>\n",
       "      <td>-3.929267</td>\n",
       "      <td>-0.479028</td>\n",
       "      <td>0.34793</td>\n",
       "    </tr>\n",
       "    <tr>\n",
       "      <th>1</th>\n",
       "      <td>4.817050</td>\n",
       "      <td>-3.940205</td>\n",
       "      <td>-0.476775</td>\n",
       "      <td>1.00000</td>\n",
       "    </tr>\n",
       "    <tr>\n",
       "      <th>2</th>\n",
       "      <td>4.794492</td>\n",
       "      <td>-3.970771</td>\n",
       "      <td>-0.476928</td>\n",
       "      <td>0.65366</td>\n",
       "    </tr>\n",
       "    <tr>\n",
       "      <th>3</th>\n",
       "      <td>4.803320</td>\n",
       "      <td>-4.027676</td>\n",
       "      <td>-0.480239</td>\n",
       "      <td>0.00000</td>\n",
       "    </tr>\n",
       "    <tr>\n",
       "      <th>4</th>\n",
       "      <td>4.834697</td>\n",
       "      <td>-3.905713</td>\n",
       "      <td>-0.522598</td>\n",
       "      <td>0.34793</td>\n",
       "    </tr>\n",
       "  </tbody>\n",
       "</table>\n",
       "</div>"
      ],
      "text/plain": [
       "        # x         y         z  surface_variation\n",
       "0  4.863848 -3.929267 -0.479028            0.34793\n",
       "1  4.817050 -3.940205 -0.476775            1.00000\n",
       "2  4.794492 -3.970771 -0.476928            0.65366\n",
       "3  4.803320 -4.027676 -0.480239            0.00000\n",
       "4  4.834697 -3.905713 -0.522598            0.34793"
      ]
     },
     "execution_count": 36,
     "metadata": {},
     "output_type": "execute_result"
    }
   ],
   "source": [
    "temp = df.iloc[:, :3].head()\n",
    "\n",
    "pd.concat([temp, df_feature], axis=1)"
   ]
  },
  {
   "cell_type": "code",
   "execution_count": 38,
   "id": "d3cafc45-5170-43ae-b074-bb785a20f0e5",
   "metadata": {},
   "outputs": [
    {
     "data": {
      "text/plain": [
       "(320, 6)"
      ]
     },
     "execution_count": 38,
     "metadata": {},
     "output_type": "execute_result"
    }
   ],
   "source": [
    "df.shape"
   ]
  },
  {
   "cell_type": "code",
   "execution_count": 53,
   "id": "09bf90c9-1fde-4a96-8535-ed17dfc724d9",
   "metadata": {},
   "outputs": [
    {
     "name": "stderr",
     "output_type": "stream",
     "text": [
      "/home/nero/Projects/spawn_pedestrian_carla/notebooks/surface_variation.py:46: RuntimeWarning: invalid value encountered in true_divide\n",
      "  normalized_feature = (feature - feature.min())/(feature.max() - feature.min())\n"
     ]
    },
    {
     "name": "stdout",
     "output_type": "stream",
     "text": [
      "   surface_variation  planarity  sphericity\n",
      "0           0.740150   0.148927    0.713221\n",
      "1           0.752240   0.213562    0.760365\n",
      "2           0.929919   0.259741    1.000000\n",
      "3           0.916919   0.276420    0.994364\n",
      "4           0.753820   0.130892    0.718931\n",
      "(21467, 3)\n"
     ]
    }
   ],
   "source": [
    "import pickle\n",
    "from surface_variation import PointCloudAnalysis\n",
    "import open3d as o3d\n",
    "import pandas as pd\n",
    "\n",
    "\n",
    "\n",
    "person_pickle_filename = \"person_file_list.pickle\"\n",
    "with open(person_pickle_filename, 'rb') as handle:\n",
    "    person_file_list = pickle.load(handle)\n",
    "\n",
    "\n",
    "kdtreeseachknn = o3d.geometry.KDTreeSearchParamKNN(50)\n",
    "\n",
    "def calculate_features_and_save(file_list):\n",
    "    df_complete = pd.DataFrame(columns=[\"surface_variation\",\"planarity\",\"sphericity\",])\n",
    "    for file in file_list:\n",
    "        df = pd.read_csv(file)\n",
    "        pcd = PointCloudAnalysis(df.iloc[:, :3].to_numpy(), kdtreeseachknn)\n",
    "        df_surface_variation = pd.DataFrame(pcd.get_normalized_surface_variation(), columns=[\"surface_variation\",])\n",
    "        df_planarity = pd.DataFrame(pcd.get_normalized_planarity(), columns=[\"planarity\",])\n",
    "        df_sphericity = pd.DataFrame(pcd.get_normalized_sphericity(), columns=[\"sphericity\",])\n",
    "        df_features = pd.concat([df_surface_variation, df_planarity, df_sphericity,], axis=1)\n",
    "        df_complete = pd.concat([df_complete, df_features], axis=0,)\n",
    "        \n",
    "    print(df_complete.head())\n",
    "    print(df_complete.shape)\n",
    "    return df_complete\n",
    "\n",
    "df_person_features = calculate_features_and_save(person_file_list)\n",
    "        \n",
    "        \n",
    "    "
   ]
  },
  {
   "cell_type": "code",
   "execution_count": 60,
   "id": "26948213-6606-4d6f-99e4-8eab0b0e2f28",
   "metadata": {},
   "outputs": [
    {
     "data": {
      "text/plain": [
       "surface_variation    True\n",
       "planarity            True\n",
       "sphericity           True\n",
       "dtype: bool"
      ]
     },
     "execution_count": 60,
     "metadata": {},
     "output_type": "execute_result"
    }
   ],
   "source": [
    "df_person_features.isna().any()"
   ]
  },
  {
   "cell_type": "code",
   "execution_count": 63,
   "id": "eaf66658-ccae-44d7-93c6-240cd77a5b1f",
   "metadata": {},
   "outputs": [
    {
     "data": {
      "text/plain": [
       "surface_variation    True\n",
       "planarity            True\n",
       "sphericity           True\n",
       "dtype: bool"
      ]
     },
     "execution_count": 63,
     "metadata": {},
     "output_type": "execute_result"
    }
   ],
   "source": [
    "df_person_features.isnull().any()"
   ]
  },
  {
   "cell_type": "code",
   "execution_count": 98,
   "id": "d8865f5b-d5c5-49e4-aacf-69c9cf91d2df",
   "metadata": {},
   "outputs": [
    {
     "data": {
      "text/html": [
       "<div>\n",
       "<style scoped>\n",
       "    .dataframe tbody tr th:only-of-type {\n",
       "        vertical-align: middle;\n",
       "    }\n",
       "\n",
       "    .dataframe tbody tr th {\n",
       "        vertical-align: top;\n",
       "    }\n",
       "\n",
       "    .dataframe thead th {\n",
       "        text-align: right;\n",
       "    }\n",
       "</style>\n",
       "<table border=\"1\" class=\"dataframe\">\n",
       "  <thead>\n",
       "    <tr style=\"text-align: right;\">\n",
       "      <th></th>\n",
       "      <th>surface_variation</th>\n",
       "      <th>planarity</th>\n",
       "      <th>sphericity</th>\n",
       "    </tr>\n",
       "  </thead>\n",
       "  <tbody>\n",
       "    <tr>\n",
       "      <th>0</th>\n",
       "      <td>NaN</td>\n",
       "      <td>NaN</td>\n",
       "      <td>NaN</td>\n",
       "    </tr>\n",
       "    <tr>\n",
       "      <th>1</th>\n",
       "      <td>NaN</td>\n",
       "      <td>NaN</td>\n",
       "      <td>NaN</td>\n",
       "    </tr>\n",
       "  </tbody>\n",
       "</table>\n",
       "</div>"
      ],
      "text/plain": [
       "   surface_variation  planarity  sphericity\n",
       "0                NaN        NaN         NaN\n",
       "1                NaN        NaN         NaN"
      ]
     },
     "execution_count": 98,
     "metadata": {},
     "output_type": "execute_result"
    }
   ],
   "source": [
    "df_person_features.loc[df_person_features[\"planarity\"].isna()]"
   ]
  },
  {
   "cell_type": "code",
   "execution_count": 100,
   "id": "b2d2e998-6cbf-4625-867c-04cdeebf3131",
   "metadata": {},
   "outputs": [],
   "source": [
    "df_person_filtered = df_person_features.dropna()"
   ]
  },
  {
   "cell_type": "code",
   "execution_count": 101,
   "id": "66398a1f-fe04-420c-b640-2c9586ba5bd5",
   "metadata": {},
   "outputs": [
    {
     "data": {
      "text/html": [
       "<div>\n",
       "<style scoped>\n",
       "    .dataframe tbody tr th:only-of-type {\n",
       "        vertical-align: middle;\n",
       "    }\n",
       "\n",
       "    .dataframe tbody tr th {\n",
       "        vertical-align: top;\n",
       "    }\n",
       "\n",
       "    .dataframe thead th {\n",
       "        text-align: right;\n",
       "    }\n",
       "</style>\n",
       "<table border=\"1\" class=\"dataframe\">\n",
       "  <thead>\n",
       "    <tr style=\"text-align: right;\">\n",
       "      <th></th>\n",
       "      <th>surface_variation</th>\n",
       "      <th>planarity</th>\n",
       "      <th>sphericity</th>\n",
       "    </tr>\n",
       "  </thead>\n",
       "  <tbody>\n",
       "    <tr>\n",
       "      <th>0</th>\n",
       "      <td>0.740150</td>\n",
       "      <td>0.148927</td>\n",
       "      <td>0.713221</td>\n",
       "    </tr>\n",
       "    <tr>\n",
       "      <th>1</th>\n",
       "      <td>0.752240</td>\n",
       "      <td>0.213562</td>\n",
       "      <td>0.760365</td>\n",
       "    </tr>\n",
       "    <tr>\n",
       "      <th>2</th>\n",
       "      <td>0.929919</td>\n",
       "      <td>0.259741</td>\n",
       "      <td>1.000000</td>\n",
       "    </tr>\n",
       "    <tr>\n",
       "      <th>3</th>\n",
       "      <td>0.916919</td>\n",
       "      <td>0.276420</td>\n",
       "      <td>0.994364</td>\n",
       "    </tr>\n",
       "    <tr>\n",
       "      <th>4</th>\n",
       "      <td>0.753820</td>\n",
       "      <td>0.130892</td>\n",
       "      <td>0.718931</td>\n",
       "    </tr>\n",
       "    <tr>\n",
       "      <th>...</th>\n",
       "      <td>...</td>\n",
       "      <td>...</td>\n",
       "      <td>...</td>\n",
       "    </tr>\n",
       "    <tr>\n",
       "      <th>151</th>\n",
       "      <td>0.448711</td>\n",
       "      <td>0.109482</td>\n",
       "      <td>0.299997</td>\n",
       "    </tr>\n",
       "    <tr>\n",
       "      <th>152</th>\n",
       "      <td>0.343518</td>\n",
       "      <td>0.122040</td>\n",
       "      <td>0.220663</td>\n",
       "    </tr>\n",
       "    <tr>\n",
       "      <th>153</th>\n",
       "      <td>0.438465</td>\n",
       "      <td>0.127920</td>\n",
       "      <td>0.297716</td>\n",
       "    </tr>\n",
       "    <tr>\n",
       "      <th>154</th>\n",
       "      <td>0.448711</td>\n",
       "      <td>0.109482</td>\n",
       "      <td>0.299997</td>\n",
       "    </tr>\n",
       "    <tr>\n",
       "      <th>155</th>\n",
       "      <td>0.448711</td>\n",
       "      <td>0.109482</td>\n",
       "      <td>0.299997</td>\n",
       "    </tr>\n",
       "  </tbody>\n",
       "</table>\n",
       "<p>21465 rows × 3 columns</p>\n",
       "</div>"
      ],
      "text/plain": [
       "     surface_variation  planarity  sphericity\n",
       "0             0.740150   0.148927    0.713221\n",
       "1             0.752240   0.213562    0.760365\n",
       "2             0.929919   0.259741    1.000000\n",
       "3             0.916919   0.276420    0.994364\n",
       "4             0.753820   0.130892    0.718931\n",
       "..                 ...        ...         ...\n",
       "151           0.448711   0.109482    0.299997\n",
       "152           0.343518   0.122040    0.220663\n",
       "153           0.438465   0.127920    0.297716\n",
       "154           0.448711   0.109482    0.299997\n",
       "155           0.448711   0.109482    0.299997\n",
       "\n",
       "[21465 rows x 3 columns]"
      ]
     },
     "execution_count": 101,
     "metadata": {},
     "output_type": "execute_result"
    }
   ],
   "source": [
    "df_person_filtered"
   ]
  },
  {
   "cell_type": "code",
   "execution_count": 104,
   "id": "4c32c3a7-0387-4962-828e-5d7cd267a6c1",
   "metadata": {},
   "outputs": [
    {
     "data": {
      "text/plain": [
       "surface_variation    False\n",
       "planarity            False\n",
       "sphericity           False\n",
       "dtype: bool"
      ]
     },
     "execution_count": 104,
     "metadata": {},
     "output_type": "execute_result"
    }
   ],
   "source": [
    "df_person_filtered.isnull().any()\n",
    "df_person_filtered.isna().any()"
   ]
  },
  {
   "cell_type": "code",
   "execution_count": 111,
   "id": "708f500a-c6b0-4174-93ae-ef839fc52b33",
   "metadata": {},
   "outputs": [],
   "source": [
    "filename = f\"csv/person_features_sur_pla_sph_knn50.csv\"\n",
    "\n",
    "df_person_filtered.to_csv(filename, index=False, sep=\",\")"
   ]
  },
  {
   "cell_type": "code",
   "execution_count": 112,
   "id": "b37c42bc-95cd-4d64-9890-17545bd1ef3c",
   "metadata": {},
   "outputs": [
    {
     "data": {
      "text/html": [
       "<div>\n",
       "<style scoped>\n",
       "    .dataframe tbody tr th:only-of-type {\n",
       "        vertical-align: middle;\n",
       "    }\n",
       "\n",
       "    .dataframe tbody tr th {\n",
       "        vertical-align: top;\n",
       "    }\n",
       "\n",
       "    .dataframe thead th {\n",
       "        text-align: right;\n",
       "    }\n",
       "</style>\n",
       "<table border=\"1\" class=\"dataframe\">\n",
       "  <thead>\n",
       "    <tr style=\"text-align: right;\">\n",
       "      <th></th>\n",
       "      <th>surface_variation</th>\n",
       "      <th>planarity</th>\n",
       "      <th>sphericity</th>\n",
       "    </tr>\n",
       "  </thead>\n",
       "  <tbody>\n",
       "    <tr>\n",
       "      <th>0</th>\n",
       "      <td>0.740150</td>\n",
       "      <td>0.148927</td>\n",
       "      <td>0.713221</td>\n",
       "    </tr>\n",
       "    <tr>\n",
       "      <th>1</th>\n",
       "      <td>0.752240</td>\n",
       "      <td>0.213562</td>\n",
       "      <td>0.760365</td>\n",
       "    </tr>\n",
       "    <tr>\n",
       "      <th>2</th>\n",
       "      <td>0.929919</td>\n",
       "      <td>0.259741</td>\n",
       "      <td>1.000000</td>\n",
       "    </tr>\n",
       "    <tr>\n",
       "      <th>3</th>\n",
       "      <td>0.916919</td>\n",
       "      <td>0.276420</td>\n",
       "      <td>0.994364</td>\n",
       "    </tr>\n",
       "    <tr>\n",
       "      <th>4</th>\n",
       "      <td>0.753820</td>\n",
       "      <td>0.130892</td>\n",
       "      <td>0.718931</td>\n",
       "    </tr>\n",
       "    <tr>\n",
       "      <th>...</th>\n",
       "      <td>...</td>\n",
       "      <td>...</td>\n",
       "      <td>...</td>\n",
       "    </tr>\n",
       "    <tr>\n",
       "      <th>21460</th>\n",
       "      <td>0.448711</td>\n",
       "      <td>0.109482</td>\n",
       "      <td>0.299997</td>\n",
       "    </tr>\n",
       "    <tr>\n",
       "      <th>21461</th>\n",
       "      <td>0.343518</td>\n",
       "      <td>0.122040</td>\n",
       "      <td>0.220663</td>\n",
       "    </tr>\n",
       "    <tr>\n",
       "      <th>21462</th>\n",
       "      <td>0.438465</td>\n",
       "      <td>0.127920</td>\n",
       "      <td>0.297716</td>\n",
       "    </tr>\n",
       "    <tr>\n",
       "      <th>21463</th>\n",
       "      <td>0.448711</td>\n",
       "      <td>0.109482</td>\n",
       "      <td>0.299997</td>\n",
       "    </tr>\n",
       "    <tr>\n",
       "      <th>21464</th>\n",
       "      <td>0.448711</td>\n",
       "      <td>0.109482</td>\n",
       "      <td>0.299997</td>\n",
       "    </tr>\n",
       "  </tbody>\n",
       "</table>\n",
       "<p>21465 rows × 3 columns</p>\n",
       "</div>"
      ],
      "text/plain": [
       "       surface_variation  planarity  sphericity\n",
       "0               0.740150   0.148927    0.713221\n",
       "1               0.752240   0.213562    0.760365\n",
       "2               0.929919   0.259741    1.000000\n",
       "3               0.916919   0.276420    0.994364\n",
       "4               0.753820   0.130892    0.718931\n",
       "...                  ...        ...         ...\n",
       "21460           0.448711   0.109482    0.299997\n",
       "21461           0.343518   0.122040    0.220663\n",
       "21462           0.438465   0.127920    0.297716\n",
       "21463           0.448711   0.109482    0.299997\n",
       "21464           0.448711   0.109482    0.299997\n",
       "\n",
       "[21465 rows x 3 columns]"
      ]
     },
     "execution_count": 112,
     "metadata": {},
     "output_type": "execute_result"
    }
   ],
   "source": [
    "df = pd.read_csv(filename)\n",
    "df"
   ]
  },
  {
   "cell_type": "markdown",
   "id": "68a9f4c2-a8ee-4f7a-9a8a-2b7ea380735e",
   "metadata": {},
   "source": [
    "## REading Road cloud, extracting features and saving to csv file"
   ]
  },
  {
   "cell_type": "code",
   "execution_count": 118,
   "id": "c8b4f99a-7935-4583-b342-ea588b7dc5fd",
   "metadata": {},
   "outputs": [
    {
     "data": {
      "text/html": [
       "<div>\n",
       "<style scoped>\n",
       "    .dataframe tbody tr th:only-of-type {\n",
       "        vertical-align: middle;\n",
       "    }\n",
       "\n",
       "    .dataframe tbody tr th {\n",
       "        vertical-align: top;\n",
       "    }\n",
       "\n",
       "    .dataframe thead th {\n",
       "        text-align: right;\n",
       "    }\n",
       "</style>\n",
       "<table border=\"1\" class=\"dataframe\">\n",
       "  <thead>\n",
       "    <tr style=\"text-align: right;\">\n",
       "      <th></th>\n",
       "      <th>//X</th>\n",
       "      <th>Y</th>\n",
       "      <th>Z</th>\n",
       "      <th>ObjTag</th>\n",
       "    </tr>\n",
       "  </thead>\n",
       "  <tbody>\n",
       "    <tr>\n",
       "      <th>0</th>\n",
       "      <td>21.173100</td>\n",
       "      <td>11.8120</td>\n",
       "      <td>-2.40167</td>\n",
       "      <td>7.0</td>\n",
       "    </tr>\n",
       "    <tr>\n",
       "      <th>1</th>\n",
       "      <td>21.244699</td>\n",
       "      <td>11.6827</td>\n",
       "      <td>-2.40167</td>\n",
       "      <td>7.0</td>\n",
       "    </tr>\n",
       "    <tr>\n",
       "      <th>2</th>\n",
       "      <td>21.315500</td>\n",
       "      <td>11.5531</td>\n",
       "      <td>-2.40167</td>\n",
       "      <td>7.0</td>\n",
       "    </tr>\n",
       "    <tr>\n",
       "      <th>3</th>\n",
       "      <td>21.385500</td>\n",
       "      <td>11.4229</td>\n",
       "      <td>-2.40167</td>\n",
       "      <td>7.0</td>\n",
       "    </tr>\n",
       "    <tr>\n",
       "      <th>4</th>\n",
       "      <td>19.408800</td>\n",
       "      <td>11.4568</td>\n",
       "      <td>-2.40167</td>\n",
       "      <td>7.0</td>\n",
       "    </tr>\n",
       "  </tbody>\n",
       "</table>\n",
       "</div>"
      ],
      "text/plain": [
       "         //X        Y        Z  ObjTag\n",
       "0  21.173100  11.8120 -2.40167     7.0\n",
       "1  21.244699  11.6827 -2.40167     7.0\n",
       "2  21.315500  11.5531 -2.40167     7.0\n",
       "3  21.385500  11.4229 -2.40167     7.0\n",
       "4  19.408800  11.4568 -2.40167     7.0"
      ]
     },
     "execution_count": 118,
     "metadata": {},
     "output_type": "execute_result"
    }
   ],
   "source": [
    "road_filename = \"/home/nero/Documents/only_road_cloud_23k.csv\"\n",
    "\n",
    "\n",
    "df = pd.read_csv(road_filename, skiprows=[1, ])\n",
    "df.head()"
   ]
  },
  {
   "cell_type": "code",
   "execution_count": 119,
   "id": "722534cb-dbe0-49ee-9ac5-dd142387e612",
   "metadata": {},
   "outputs": [
    {
     "name": "stdout",
     "output_type": "stream",
     "text": [
      "   surface_variation  planarity  sphericity\n",
      "0           0.006218   0.188079    0.004025\n",
      "1           0.006507   0.173624    0.004163\n",
      "2           0.006796   0.170091    0.004335\n",
      "3           0.007224   0.152919    0.004544\n",
      "4           0.011884   0.791808    0.011456\n",
      "(23067, 3)\n"
     ]
    }
   ],
   "source": [
    "import pickle\n",
    "from surface_variation import PointCloudAnalysis\n",
    "import open3d as o3d\n",
    "import pandas as pd\n",
    "\n",
    "\n",
    "\n",
    "road_filename = \"/home/nero/Documents/only_road_cloud_23k.csv\"\n",
    "\n",
    "kdtreeseachknn = o3d.geometry.KDTreeSearchParamKNN(50)\n",
    "\n",
    "def calculate_features_and_save(file_list, class_type = \"road\"):\n",
    "    df_complete = pd.DataFrame(columns=[\"surface_variation\",\"planarity\",\"sphericity\",])\n",
    "    for file in file_list:\n",
    "        if class_type == \"road\":\n",
    "            skiprows = [1,]\n",
    "        else:\n",
    "            skiprows = [0, ]\n",
    "        df = pd.read_csv(file, skiprows=skiprows)\n",
    "        pcd = PointCloudAnalysis(df.iloc[:, :3].to_numpy(), kdtreeseachknn)\n",
    "        df_surface_variation = pd.DataFrame(pcd.get_normalized_surface_variation(), columns=[\"surface_variation\",])\n",
    "        df_planarity = pd.DataFrame(pcd.get_normalized_planarity(), columns=[\"planarity\",])\n",
    "        df_sphericity = pd.DataFrame(pcd.get_normalized_sphericity(), columns=[\"sphericity\",])\n",
    "        df_features = pd.concat([df_surface_variation, df_planarity, df_sphericity,], axis=1)\n",
    "        df_complete = pd.concat([df_complete, df_features], axis=0,)\n",
    "        \n",
    "    print(df_complete.head())\n",
    "    print(df_complete.shape)\n",
    "    return df_complete\n",
    "\n",
    "df_road_features = calculate_features_and_save([road_filename, ])\n",
    "        \n",
    "        \n",
    "    "
   ]
  },
  {
   "cell_type": "code",
   "execution_count": 122,
   "id": "c0e1b3f4-e71b-462d-b6c4-9306da602baa",
   "metadata": {},
   "outputs": [],
   "source": [
    "df_road_filtered = df_road_features.dropna()"
   ]
  },
  {
   "cell_type": "code",
   "execution_count": 123,
   "id": "b716ae5f-73c4-44ba-b02e-ab0693286189",
   "metadata": {},
   "outputs": [],
   "source": [
    "filename = f\"csv/road_features_sur_pla_sph_knn50.csv\"\n",
    "\n",
    "df_road_filtered.to_csv(filename, index=False, sep=\",\")"
   ]
  },
  {
   "cell_type": "code",
   "execution_count": 124,
   "id": "190c5fd8-2031-439a-8d23-8a1f21670209",
   "metadata": {},
   "outputs": [
    {
     "data": {
      "text/html": [
       "<div>\n",
       "<style scoped>\n",
       "    .dataframe tbody tr th:only-of-type {\n",
       "        vertical-align: middle;\n",
       "    }\n",
       "\n",
       "    .dataframe tbody tr th {\n",
       "        vertical-align: top;\n",
       "    }\n",
       "\n",
       "    .dataframe thead th {\n",
       "        text-align: right;\n",
       "    }\n",
       "</style>\n",
       "<table border=\"1\" class=\"dataframe\">\n",
       "  <thead>\n",
       "    <tr style=\"text-align: right;\">\n",
       "      <th></th>\n",
       "      <th>surface_variation</th>\n",
       "      <th>planarity</th>\n",
       "      <th>sphericity</th>\n",
       "    </tr>\n",
       "  </thead>\n",
       "  <tbody>\n",
       "    <tr>\n",
       "      <th>0</th>\n",
       "      <td>0.006218</td>\n",
       "      <td>0.188079</td>\n",
       "      <td>0.004025</td>\n",
       "    </tr>\n",
       "    <tr>\n",
       "      <th>1</th>\n",
       "      <td>0.006507</td>\n",
       "      <td>0.173624</td>\n",
       "      <td>0.004163</td>\n",
       "    </tr>\n",
       "    <tr>\n",
       "      <th>2</th>\n",
       "      <td>0.006796</td>\n",
       "      <td>0.170091</td>\n",
       "      <td>0.004335</td>\n",
       "    </tr>\n",
       "    <tr>\n",
       "      <th>3</th>\n",
       "      <td>0.007224</td>\n",
       "      <td>0.152919</td>\n",
       "      <td>0.004544</td>\n",
       "    </tr>\n",
       "    <tr>\n",
       "      <th>4</th>\n",
       "      <td>0.011884</td>\n",
       "      <td>0.791808</td>\n",
       "      <td>0.011456</td>\n",
       "    </tr>\n",
       "  </tbody>\n",
       "</table>\n",
       "</div>"
      ],
      "text/plain": [
       "   surface_variation  planarity  sphericity\n",
       "0           0.006218   0.188079    0.004025\n",
       "1           0.006507   0.173624    0.004163\n",
       "2           0.006796   0.170091    0.004335\n",
       "3           0.007224   0.152919    0.004544\n",
       "4           0.011884   0.791808    0.011456"
      ]
     },
     "execution_count": 124,
     "metadata": {},
     "output_type": "execute_result"
    }
   ],
   "source": [
    "df_road_filtered.head()"
   ]
  },
  {
   "cell_type": "code",
   "execution_count": null,
   "id": "b5ee16fe-0804-4bb7-8894-effa9badb4a7",
   "metadata": {},
   "outputs": [],
   "source": []
  }
 ],
 "metadata": {
  "kernelspec": {
   "display_name": "Python 3 (ipykernel)",
   "language": "python",
   "name": "python3"
  },
  "language_info": {
   "codemirror_mode": {
    "name": "ipython",
    "version": 3
   },
   "file_extension": ".py",
   "mimetype": "text/x-python",
   "name": "python",
   "nbconvert_exporter": "python",
   "pygments_lexer": "ipython3",
   "version": "3.8.10"
  }
 },
 "nbformat": 4,
 "nbformat_minor": 5
}
