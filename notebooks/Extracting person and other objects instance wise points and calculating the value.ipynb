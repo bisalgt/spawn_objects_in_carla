{
 "cells": [
  {
   "cell_type": "markdown",
   "id": "5882c531-65fc-4f55-8bf7-4e4634c574fc",
   "metadata": {},
   "source": [
    "# Function to visualize the pointcloud using open3d library"
   ]
  },
  {
   "cell_type": "code",
   "execution_count": 21,
   "id": "5d1c6893-571a-4e90-ad64-a4fb4c567e94",
   "metadata": {
    "tags": []
   },
   "outputs": [],
   "source": [
    "# Visualization with rgb intensity\n",
    "\n",
    "\n",
    "import open3d as o3d\n",
    "import numpy as np\n",
    "import pandas as pd\n",
    "\n",
    "# Load point cloud data from CSV file\n",
    "\n",
    "\n",
    "\n",
    "def visualize_pointcloud(df_pcd):\n",
    "    points = df_pcd.iloc[:, 0:3].values\n",
    "    intensity = df_pcd.iloc[:, 3].values\n",
    "\n",
    "    # Convert point cloud data to Open3D format\n",
    "    pcd = o3d.geometry.PointCloud()\n",
    "    pcd.points = o3d.utility.Vector3dVector(points)\n",
    "\n",
    "    # Normalizing the intensity value between [0, 1]\n",
    "    normalized_intensity = (intensity - intensity.min()) / (intensity.max() - intensity.min())\n",
    "\n",
    "    # Creating Color stack\n",
    "    r_color = np.zeros(normalized_intensity.shape)\n",
    "    g_color = normalized_intensity\n",
    "    b_color = np.zeros(normalized_intensity.shape)\n",
    "\n",
    "\n",
    "    # Creating 3d points using np.stack\n",
    "    intensity_3d = np.stack((r_color, g_color, b_color), axis=-1)\n",
    "\n",
    "    # Converting the np.array to pontcloud format\n",
    "    colors = o3d.utility.Vector3dVector(intensity_3d)\n",
    "\n",
    "    # Setting the color of pcd\n",
    "    pcd.colors = colors\n",
    "\n",
    "\n",
    "    # Visualizing the point cloud\n",
    "    # o3d.visualization.draw_geometries([pcd])\n",
    "    o3d.visualization.draw_geometries_with_editing([pcd], window_name='Visualize the kitti data - MOSAIQUE')\n",
    "\n"
   ]
  },
  {
   "cell_type": "code",
   "execution_count": 26,
   "id": "30566e9c-9964-4b94-b940-5f6672df7597",
   "metadata": {
    "tags": []
   },
   "outputs": [
    {
     "data": {
      "text/plain": [
       "'bins/000000.bin'"
      ]
     },
     "execution_count": 26,
     "metadata": {},
     "output_type": "execute_result"
    }
   ],
   "source": [
    "pcd_file_name"
   ]
  },
  {
   "cell_type": "markdown",
   "id": "fb2ee99e-c21c-4b4b-a046-b91993efa56c",
   "metadata": {},
   "source": [
    "### Looping through folders to find maximum number of person points inorder to effectively analyse"
   ]
  },
  {
   "cell_type": "code",
   "execution_count": 23,
   "id": "6ebb8f11-0492-48fc-bac1-72e8031263bc",
   "metadata": {
    "tags": []
   },
   "outputs": [
    {
     "name": "stdout",
     "output_type": "stream",
     "text": [
      "Person in file  002617\n",
      "Person shape  (1980, 6)\n",
      "002617\n"
     ]
    }
   ],
   "source": [
    "import os, glob\n",
    "import numpy as np\n",
    "import pandas as pd\n",
    "\n",
    "\n",
    "os.chdir(\"/Volumes/Extreme SSD/semantic_kitti/\")\n",
    "\n",
    "max_person_points = 0\n",
    "\n",
    "pcd_folder = \"data_velodyne/sequences/05/velodyne/\"\n",
    "pcd_pattern = \".bin\"\n",
    "labels_folder = \"data_labels/dataset/sequences/05/labels/\"\n",
    "labels_pattern = \".label\"\n",
    "# for pcd_file in glob.glob(os.path.join(\"data/00/velodyne/\", '*.bin')):\n",
    "#     print(pcd_file)\n",
    "\n",
    "# for pcd_file in glob.glob(os.path.join(\"labels/00/labels/\", '*.label')):\n",
    "#     print(pcd_file)\n",
    "\n",
    "\n",
    "# looping through the pointclouds files\n",
    "for pcd_file_name in glob.glob(os.path.join(pcd_folder, '*.bin')):\n",
    "    \n",
    "    file_to_find = 'data_velodyne/sequences/05/velodyne/002617.bin'\n",
    "    if pcd_file_name != file_to_find:\n",
    "        continue\n",
    "    \n",
    "    file_prefix = pcd_file_name.split('/')[-1].split('.')[0]\n",
    "    label_filename = labels_folder + file_prefix + \".label\"\n",
    "    # output_filename = f\"{ parsed_args.output_dir }/{ parsed_args.output_file_prefix}{file_prefix}{parsed_args.output_file_format}\"\n",
    "\n",
    "\n",
    "    try:\n",
    "        pointclouds = np.fromfile(pcd_file_name, dtype=np.float32)\n",
    "    except FileNotFoundError:\n",
    "        print(\"PointCloud file not found at {}\".format(pcd_file_name))\n",
    "\n",
    "    try:\n",
    "        labels = np.fromfile(label_filename, dtype=np.uint32)\n",
    "    except FileNotFoundError:\n",
    "        print(\"Label file not found at {}\".format(label_filename))\n",
    "\n",
    "\n",
    "    rows = pointclouds.shape[0]//4    # dividing points clouds by 4 as the data needs to be divided to 4 columns to get number of rows\n",
    "    columns = 6 # X, Y , Z, Emission, Semantic_label, Instance_Id\n",
    "\n",
    "    final_array = np.zeros((rows, columns), dtype=np.float32)\n",
    "\n",
    "    final_array[:, :4] = pointclouds.reshape((-1, 4)) # x, y , z, emission //== [N * X * Y * Z * Emis].\n",
    "\n",
    "\n",
    "    final_array[:,4] = labels & 0xFFFF # Lower Half semantic label\n",
    "    final_array[:,5] = labels >> 16  # Upper Half Instance Id\n",
    "    \n",
    "    \n",
    "    \n",
    "\n",
    "    df_pcd = pd.DataFrame(final_array)\n",
    "    \n",
    "    df_car = df_pcd[df_pcd.iloc[:,4] == 10]\n",
    "    \n",
    "    df_road = df_pcd[df_pcd.iloc[:,4] == 40]\n",
    "    \n",
    "    df_person = df_pcd[df_pcd.iloc[:,4] == 30]\n",
    "    \n",
    "    if df_person.shape[0] == 0:\n",
    "        # print(\"No person in file \", file_prefix)\n",
    "        print(\"-\", end=\" \")\n",
    "    else:\n",
    "        print(\"Person in file \", file_prefix)\n",
    "        print(\"Person shape \", df_person.shape)\n",
    "        if df_person.shape[0] > max_person_points:\n",
    "            print(file_prefix)\n",
    "            break\n",
    "            # max_person_points = df_person.shape[0]"
   ]
  },
  {
   "cell_type": "code",
   "execution_count": 16,
   "id": "53b798be-e2f5-4def-ab65-d5962c20c106",
   "metadata": {
    "tags": []
   },
   "outputs": [
    {
     "data": {
      "text/plain": [
       "2167"
      ]
     },
     "execution_count": 16,
     "metadata": {},
     "output_type": "execute_result"
    }
   ],
   "source": [
    "max_person_points"
   ]
  },
  {
   "cell_type": "code",
   "execution_count": 26,
   "id": "19165b50-8dca-4d46-878f-b41afc8cd4cc",
   "metadata": {
    "tags": []
   },
   "outputs": [
    {
     "name": "stdout",
     "output_type": "stream",
     "text": [
      "\u001b[1;33m[Open3D WARNING] GLFW Error: Cocoa: Failed to find service port for display\u001b[0;m\n"
     ]
    }
   ],
   "source": [
    "visualize_pointcloud(df_person)"
   ]
  },
  {
   "cell_type": "code",
   "execution_count": 7,
   "id": "8cd315fd-5360-4cc8-86c2-525935e44b7b",
   "metadata": {
    "tags": []
   },
   "outputs": [
    {
     "data": {
      "text/plain": [
       "'data_velodyne/sequences/02/velodyne/000450.bin'"
      ]
     },
     "execution_count": 7,
     "metadata": {},
     "output_type": "execute_result"
    }
   ],
   "source": [
    "pcd_file_name"
   ]
  },
  {
   "cell_type": "code",
   "execution_count": null,
   "id": "1fdab08f-b158-49ee-a7f5-977339443a06",
   "metadata": {},
   "outputs": [],
   "source": [
    "'data_velodyne/sequences/02/velodyne/001608.bin'"
   ]
  },
  {
   "cell_type": "code",
   "execution_count": 27,
   "id": "7c66da07-43ff-4a6a-b11c-828f0881f6fc",
   "metadata": {
    "tags": []
   },
   "outputs": [],
   "source": [
    "\n",
    "df_person_road_car = df_pcd.drop(df_pcd[(df_pcd[4] != 10 ) & (df_pcd[4] != 30 ) & (df_pcd[4] != 40 )].index)"
   ]
  },
  {
   "cell_type": "code",
   "execution_count": 28,
   "id": "d2a043b5-f270-4223-bad0-074893b3dcfc",
   "metadata": {
    "tags": []
   },
   "outputs": [
    {
     "data": {
      "text/plain": [
       "(31211, 6)"
      ]
     },
     "execution_count": 28,
     "metadata": {},
     "output_type": "execute_result"
    }
   ],
   "source": [
    "\n",
    "df_person_road_car.shape"
   ]
  },
  {
   "cell_type": "code",
   "execution_count": 29,
   "id": "a28b743f-75d5-442a-afd2-be86f45bb37d",
   "metadata": {
    "tags": []
   },
   "outputs": [
    {
     "data": {
      "text/html": [
       "<div>\n",
       "<style scoped>\n",
       "    .dataframe tbody tr th:only-of-type {\n",
       "        vertical-align: middle;\n",
       "    }\n",
       "\n",
       "    .dataframe tbody tr th {\n",
       "        vertical-align: top;\n",
       "    }\n",
       "\n",
       "    .dataframe thead th {\n",
       "        text-align: right;\n",
       "    }\n",
       "</style>\n",
       "<table border=\"1\" class=\"dataframe\">\n",
       "  <thead>\n",
       "    <tr style=\"text-align: right;\">\n",
       "      <th></th>\n",
       "      <th>0</th>\n",
       "      <th>1</th>\n",
       "      <th>2</th>\n",
       "      <th>3</th>\n",
       "      <th>4</th>\n",
       "      <th>5</th>\n",
       "    </tr>\n",
       "  </thead>\n",
       "  <tbody>\n",
       "    <tr>\n",
       "      <th>12660</th>\n",
       "      <td>-0.729885</td>\n",
       "      <td>6.342163</td>\n",
       "      <td>0.194556</td>\n",
       "      <td>0.13</td>\n",
       "      <td>10.0</td>\n",
       "      <td>73.0</td>\n",
       "    </tr>\n",
       "    <tr>\n",
       "      <th>14220</th>\n",
       "      <td>30.103798</td>\n",
       "      <td>8.830876</td>\n",
       "      <td>-0.041566</td>\n",
       "      <td>0.00</td>\n",
       "      <td>10.0</td>\n",
       "      <td>79.0</td>\n",
       "    </tr>\n",
       "    <tr>\n",
       "      <th>16221</th>\n",
       "      <td>30.829395</td>\n",
       "      <td>8.675878</td>\n",
       "      <td>-0.243575</td>\n",
       "      <td>0.00</td>\n",
       "      <td>10.0</td>\n",
       "      <td>79.0</td>\n",
       "    </tr>\n",
       "    <tr>\n",
       "      <th>16222</th>\n",
       "      <td>30.767965</td>\n",
       "      <td>9.447950</td>\n",
       "      <td>-0.245492</td>\n",
       "      <td>0.00</td>\n",
       "      <td>10.0</td>\n",
       "      <td>79.0</td>\n",
       "    </tr>\n",
       "    <tr>\n",
       "      <th>16223</th>\n",
       "      <td>30.783506</td>\n",
       "      <td>9.558961</td>\n",
       "      <td>-0.246479</td>\n",
       "      <td>0.00</td>\n",
       "      <td>10.0</td>\n",
       "      <td>79.0</td>\n",
       "    </tr>\n",
       "  </tbody>\n",
       "</table>\n",
       "</div>"
      ],
      "text/plain": [
       "               0         1         2     3     4     5\n",
       "12660  -0.729885  6.342163  0.194556  0.13  10.0  73.0\n",
       "14220  30.103798  8.830876 -0.041566  0.00  10.0  79.0\n",
       "16221  30.829395  8.675878 -0.243575  0.00  10.0  79.0\n",
       "16222  30.767965  9.447950 -0.245492  0.00  10.0  79.0\n",
       "16223  30.783506  9.558961 -0.246479  0.00  10.0  79.0"
      ]
     },
     "execution_count": 29,
     "metadata": {},
     "output_type": "execute_result"
    }
   ],
   "source": [
    "df_person_road_car.head()"
   ]
  },
  {
   "cell_type": "code",
   "execution_count": 30,
   "id": "92a3d9d2-fa0d-47a3-ab25-bd9ae9c5027d",
   "metadata": {
    "tags": []
   },
   "outputs": [
    {
     "name": "stdout",
     "output_type": "stream",
     "text": [
      "\u001b[1;33m[Open3D WARNING] GLFW Error: Cocoa: Failed to find service port for display\u001b[0;m\n"
     ]
    }
   ],
   "source": [
    "visualize_pointcloud(df_person_road_car)"
   ]
  },
  {
   "cell_type": "code",
   "execution_count": 31,
   "id": "a1ee93a5-8b14-4123-9322-52b333096ba9",
   "metadata": {
    "tags": []
   },
   "outputs": [
    {
     "data": {
      "text/plain": [
       "{0.0}"
      ]
     },
     "execution_count": 31,
     "metadata": {},
     "output_type": "execute_result"
    }
   ],
   "source": [
    "set(df_road[5])"
   ]
  },
  {
   "cell_type": "code",
   "execution_count": 37,
   "id": "44b082b5-5a47-4f89-a6ae-fad047e6c7b8",
   "metadata": {
    "tags": []
   },
   "outputs": [],
   "source": [
    "\n",
    "os.chdir(\"/Users/bisalgt/Projects/mosaique\")"
   ]
  },
  {
   "cell_type": "markdown",
   "id": "b5c2bad5-62e6-4e73-935b-36954fc67a0d",
   "metadata": {},
   "source": [
    "# Analyzing Surface Variation of Road, Car, Person using custom library"
   ]
  },
  {
   "cell_type": "code",
   "execution_count": 38,
   "id": "0845469a-6bd9-4fdd-b8f8-7af79bea447f",
   "metadata": {
    "tags": []
   },
   "outputs": [],
   "source": [
    "from utilities.surface_variation import PointCloudAnalysis"
   ]
  },
  {
   "cell_type": "markdown",
   "id": "17d1fc48-0f86-4309-a40c-362caf83e42c",
   "metadata": {},
   "source": [
    "# Analysing Surface Variation of Road"
   ]
  },
  {
   "cell_type": "code",
   "execution_count": 40,
   "id": "c6cfe48c-962c-4d0e-8855-5e117406fe04",
   "metadata": {
    "tags": []
   },
   "outputs": [],
   "source": [
    "road_points = df_road.iloc[:, :3].values\n",
    "pcd_road = PointCloudAnalysis(road_points)"
   ]
  },
  {
   "cell_type": "code",
   "execution_count": 41,
   "id": "b33601e9-641e-4ec6-a6e0-bfa012f2a512",
   "metadata": {
    "tags": []
   },
   "outputs": [
    {
     "name": "stdout",
     "output_type": "stream",
     "text": [
      "\u001b[1;33m[Open3D WARNING] GLFW Error: Cocoa: Failed to find service port for display\u001b[0;m\n"
     ]
    }
   ],
   "source": [
    "pcd_road.display_surface_variation()"
   ]
  },
  {
   "cell_type": "code",
   "execution_count": 42,
   "id": "ac265da6-6a25-4519-8875-41c0862003fb",
   "metadata": {
    "tags": []
   },
   "outputs": [],
   "source": [
    "road_surface_variation = pcd_road.get_normalized_surface_variation()"
   ]
  },
  {
   "cell_type": "code",
   "execution_count": 44,
   "id": "6c0b62c5-7438-4fba-ad3f-d2958f611254",
   "metadata": {
    "tags": []
   },
   "outputs": [
    {
     "data": {
      "text/plain": [
       "array([1.66291436e-04, 1.66291436e-04, 1.66291436e-04, ...,\n",
       "       1.94328162e-01, 1.94328162e-01, 1.94328162e-01])"
      ]
     },
     "execution_count": 44,
     "metadata": {},
     "output_type": "execute_result"
    }
   ],
   "source": [
    "road_surface_variation"
   ]
  },
  {
   "cell_type": "code",
   "execution_count": 46,
   "id": "1140442e-d070-4abd-8976-c7e1186d1f41",
   "metadata": {
    "tags": []
   },
   "outputs": [],
   "source": [
    "df_road_surface_variation = pd.DataFrame(road_surface_variation)"
   ]
  },
  {
   "cell_type": "code",
   "execution_count": 47,
   "id": "3d1dd4a9-33b1-46a9-8b75-34dd711d9fc8",
   "metadata": {
    "tags": []
   },
   "outputs": [
    {
     "data": {
      "text/html": [
       "<div>\n",
       "<style scoped>\n",
       "    .dataframe tbody tr th:only-of-type {\n",
       "        vertical-align: middle;\n",
       "    }\n",
       "\n",
       "    .dataframe tbody tr th {\n",
       "        vertical-align: top;\n",
       "    }\n",
       "\n",
       "    .dataframe thead th {\n",
       "        text-align: right;\n",
       "    }\n",
       "</style>\n",
       "<table border=\"1\" class=\"dataframe\">\n",
       "  <thead>\n",
       "    <tr style=\"text-align: right;\">\n",
       "      <th></th>\n",
       "      <th>0</th>\n",
       "    </tr>\n",
       "  </thead>\n",
       "  <tbody>\n",
       "    <tr>\n",
       "      <th>0</th>\n",
       "      <td>0.000166</td>\n",
       "    </tr>\n",
       "    <tr>\n",
       "      <th>1</th>\n",
       "      <td>0.000166</td>\n",
       "    </tr>\n",
       "    <tr>\n",
       "      <th>2</th>\n",
       "      <td>0.000166</td>\n",
       "    </tr>\n",
       "    <tr>\n",
       "      <th>3</th>\n",
       "      <td>0.000166</td>\n",
       "    </tr>\n",
       "    <tr>\n",
       "      <th>4</th>\n",
       "      <td>0.000166</td>\n",
       "    </tr>\n",
       "    <tr>\n",
       "      <th>...</th>\n",
       "      <td>...</td>\n",
       "    </tr>\n",
       "    <tr>\n",
       "      <th>22441</th>\n",
       "      <td>0.071756</td>\n",
       "    </tr>\n",
       "    <tr>\n",
       "      <th>22442</th>\n",
       "      <td>0.194328</td>\n",
       "    </tr>\n",
       "    <tr>\n",
       "      <th>22443</th>\n",
       "      <td>0.194328</td>\n",
       "    </tr>\n",
       "    <tr>\n",
       "      <th>22444</th>\n",
       "      <td>0.194328</td>\n",
       "    </tr>\n",
       "    <tr>\n",
       "      <th>22445</th>\n",
       "      <td>0.194328</td>\n",
       "    </tr>\n",
       "  </tbody>\n",
       "</table>\n",
       "<p>22446 rows × 1 columns</p>\n",
       "</div>"
      ],
      "text/plain": [
       "              0\n",
       "0      0.000166\n",
       "1      0.000166\n",
       "2      0.000166\n",
       "3      0.000166\n",
       "4      0.000166\n",
       "...         ...\n",
       "22441  0.071756\n",
       "22442  0.194328\n",
       "22443  0.194328\n",
       "22444  0.194328\n",
       "22445  0.194328\n",
       "\n",
       "[22446 rows x 1 columns]"
      ]
     },
     "execution_count": 47,
     "metadata": {},
     "output_type": "execute_result"
    }
   ],
   "source": [
    "df_road_surface_variation"
   ]
  },
  {
   "cell_type": "code",
   "execution_count": 48,
   "id": "08a5cc8c-62fb-46bf-b153-fb9d7e49dda8",
   "metadata": {
    "tags": []
   },
   "outputs": [
    {
     "data": {
      "text/html": [
       "<div>\n",
       "<style scoped>\n",
       "    .dataframe tbody tr th:only-of-type {\n",
       "        vertical-align: middle;\n",
       "    }\n",
       "\n",
       "    .dataframe tbody tr th {\n",
       "        vertical-align: top;\n",
       "    }\n",
       "\n",
       "    .dataframe thead th {\n",
       "        text-align: right;\n",
       "    }\n",
       "</style>\n",
       "<table border=\"1\" class=\"dataframe\">\n",
       "  <thead>\n",
       "    <tr style=\"text-align: right;\">\n",
       "      <th></th>\n",
       "      <th>0</th>\n",
       "    </tr>\n",
       "  </thead>\n",
       "  <tbody>\n",
       "    <tr>\n",
       "      <th>count</th>\n",
       "      <td>22446.000000</td>\n",
       "    </tr>\n",
       "    <tr>\n",
       "      <th>mean</th>\n",
       "      <td>0.027974</td>\n",
       "    </tr>\n",
       "    <tr>\n",
       "      <th>std</th>\n",
       "      <td>0.055010</td>\n",
       "    </tr>\n",
       "    <tr>\n",
       "      <th>min</th>\n",
       "      <td>0.000000</td>\n",
       "    </tr>\n",
       "    <tr>\n",
       "      <th>25%</th>\n",
       "      <td>0.001680</td>\n",
       "    </tr>\n",
       "    <tr>\n",
       "      <th>50%</th>\n",
       "      <td>0.008670</td>\n",
       "    </tr>\n",
       "    <tr>\n",
       "      <th>75%</th>\n",
       "      <td>0.029508</td>\n",
       "    </tr>\n",
       "    <tr>\n",
       "      <th>max</th>\n",
       "      <td>1.000000</td>\n",
       "    </tr>\n",
       "  </tbody>\n",
       "</table>\n",
       "</div>"
      ],
      "text/plain": [
       "                  0\n",
       "count  22446.000000\n",
       "mean       0.027974\n",
       "std        0.055010\n",
       "min        0.000000\n",
       "25%        0.001680\n",
       "50%        0.008670\n",
       "75%        0.029508\n",
       "max        1.000000"
      ]
     },
     "execution_count": 48,
     "metadata": {},
     "output_type": "execute_result"
    }
   ],
   "source": [
    "df_road_surface_variation.describe()"
   ]
  },
  {
   "cell_type": "code",
   "execution_count": 57,
   "id": "eac38942-0ec7-4549-a402-ace076952367",
   "metadata": {
    "tags": []
   },
   "outputs": [
    {
     "data": {
      "image/png": "[encoded data removed]",
      "text/plain": [
       "<Figure size 500x500 with 1 Axes>"
      ]
     },
     "metadata": {},
     "output_type": "display_data"
    }
   ],
   "source": [
    "pcd_road.display_hist_from_seaborn(road_surface_variation)"
   ]
  },
  {
   "cell_type": "markdown",
   "id": "820f2610-1791-42a7-a1d1-a76fde1e2864",
   "metadata": {},
   "source": [
    "# Analyzing Surface Varitaion of Car"
   ]
  },
  {
   "cell_type": "code",
   "execution_count": 49,
   "id": "4e876bc1-94b4-4096-8527-51586e29088c",
   "metadata": {
    "tags": []
   },
   "outputs": [
    {
     "name": "stdout",
     "output_type": "stream",
     "text": [
      "\u001b[1;33m[Open3D WARNING] GLFW Error: Cocoa: Failed to find service port for display\u001b[0;m\n"
     ]
    }
   ],
   "source": [
    "car_points = df_car.iloc[:, :3].values\n",
    "pcd_car = PointCloudAnalysis(car_points)\n",
    "\n",
    "pcd_car.display_surface_variation()"
   ]
  },
  {
   "cell_type": "code",
   "execution_count": 50,
   "id": "009d2763-a35c-424f-a831-6fe75484c4a4",
   "metadata": {
    "tags": []
   },
   "outputs": [],
   "source": [
    "car_surface_variation = pcd_car.get_normalized_surface_variation()"
   ]
  },
  {
   "cell_type": "code",
   "execution_count": 51,
   "id": "bfd24a6a-d384-4338-b3f7-f3707c592f78",
   "metadata": {
    "tags": []
   },
   "outputs": [],
   "source": [
    "df_car_surface_variation = pd.DataFrame(car_surface_variation)"
   ]
  },
  {
   "cell_type": "code",
   "execution_count": 52,
   "id": "47bc7a9a-9a6a-426c-b819-7d2ec1fa3abd",
   "metadata": {
    "tags": []
   },
   "outputs": [
    {
     "data": {
      "text/html": [
       "<div>\n",
       "<style scoped>\n",
       "    .dataframe tbody tr th:only-of-type {\n",
       "        vertical-align: middle;\n",
       "    }\n",
       "\n",
       "    .dataframe tbody tr th {\n",
       "        vertical-align: top;\n",
       "    }\n",
       "\n",
       "    .dataframe thead th {\n",
       "        text-align: right;\n",
       "    }\n",
       "</style>\n",
       "<table border=\"1\" class=\"dataframe\">\n",
       "  <thead>\n",
       "    <tr style=\"text-align: right;\">\n",
       "      <th></th>\n",
       "      <th>0</th>\n",
       "    </tr>\n",
       "  </thead>\n",
       "  <tbody>\n",
       "    <tr>\n",
       "      <th>count</th>\n",
       "      <td>6785.000000</td>\n",
       "    </tr>\n",
       "    <tr>\n",
       "      <th>mean</th>\n",
       "      <td>0.181081</td>\n",
       "    </tr>\n",
       "    <tr>\n",
       "      <th>std</th>\n",
       "      <td>0.147880</td>\n",
       "    </tr>\n",
       "    <tr>\n",
       "      <th>min</th>\n",
       "      <td>0.000000</td>\n",
       "    </tr>\n",
       "    <tr>\n",
       "      <th>25%</th>\n",
       "      <td>0.070135</td>\n",
       "    </tr>\n",
       "    <tr>\n",
       "      <th>50%</th>\n",
       "      <td>0.140159</td>\n",
       "    </tr>\n",
       "    <tr>\n",
       "      <th>75%</th>\n",
       "      <td>0.253107</td>\n",
       "    </tr>\n",
       "    <tr>\n",
       "      <th>max</th>\n",
       "      <td>1.000000</td>\n",
       "    </tr>\n",
       "  </tbody>\n",
       "</table>\n",
       "</div>"
      ],
      "text/plain": [
       "                 0\n",
       "count  6785.000000\n",
       "mean      0.181081\n",
       "std       0.147880\n",
       "min       0.000000\n",
       "25%       0.070135\n",
       "50%       0.140159\n",
       "75%       0.253107\n",
       "max       1.000000"
      ]
     },
     "execution_count": 52,
     "metadata": {},
     "output_type": "execute_result"
    }
   ],
   "source": [
    "df_car_surface_variation.describe()"
   ]
  },
  {
   "cell_type": "code",
   "execution_count": 56,
   "id": "e309ea86-fbd8-4861-be9a-4d2db704ddd0",
   "metadata": {
    "tags": []
   },
   "outputs": [
    {
     "data": {
      "image/png": "[encoded data removed]",
      "text/plain": [
       "<Figure size 500x500 with 1 Axes>"
      ]
     },
     "metadata": {},
     "output_type": "display_data"
    }
   ],
   "source": [
    "pcd_car.display_hist_from_seaborn(car_surface_variation)"
   ]
  },
  {
   "cell_type": "markdown",
   "id": "5b893bb3-a01c-425e-8047-0183f4a2ab15",
   "metadata": {},
   "source": [
    "# Analysing the surface variation of person"
   ]
  },
  {
   "cell_type": "code",
   "execution_count": 53,
   "id": "92ec5b51-4163-4805-87b1-47498b5ab114",
   "metadata": {
    "tags": []
   },
   "outputs": [
    {
     "name": "stdout",
     "output_type": "stream",
     "text": [
      "\u001b[1;33m[Open3D WARNING] GLFW Error: Cocoa: Failed to find service port for display\u001b[0;m\n"
     ]
    }
   ],
   "source": [
    "person_points = df_person.iloc[:, :3].values\n",
    "pcd_person = PointCloudAnalysis(person_points)\n",
    "\n",
    "pcd_person.display_surface_variation()"
   ]
  },
  {
   "cell_type": "code",
   "execution_count": 54,
   "id": "bdfb35a2-3f09-4d8b-9ccd-1a020d7c8706",
   "metadata": {
    "tags": []
   },
   "outputs": [
    {
     "data": {
      "text/html": [
       "<div>\n",
       "<style scoped>\n",
       "    .dataframe tbody tr th:only-of-type {\n",
       "        vertical-align: middle;\n",
       "    }\n",
       "\n",
       "    .dataframe tbody tr th {\n",
       "        vertical-align: top;\n",
       "    }\n",
       "\n",
       "    .dataframe thead th {\n",
       "        text-align: right;\n",
       "    }\n",
       "</style>\n",
       "<table border=\"1\" class=\"dataframe\">\n",
       "  <thead>\n",
       "    <tr style=\"text-align: right;\">\n",
       "      <th></th>\n",
       "      <th>0</th>\n",
       "    </tr>\n",
       "  </thead>\n",
       "  <tbody>\n",
       "    <tr>\n",
       "      <th>count</th>\n",
       "      <td>1980.000000</td>\n",
       "    </tr>\n",
       "    <tr>\n",
       "      <th>mean</th>\n",
       "      <td>0.420737</td>\n",
       "    </tr>\n",
       "    <tr>\n",
       "      <th>std</th>\n",
       "      <td>0.190293</td>\n",
       "    </tr>\n",
       "    <tr>\n",
       "      <th>min</th>\n",
       "      <td>0.000000</td>\n",
       "    </tr>\n",
       "    <tr>\n",
       "      <th>25%</th>\n",
       "      <td>0.276264</td>\n",
       "    </tr>\n",
       "    <tr>\n",
       "      <th>50%</th>\n",
       "      <td>0.412919</td>\n",
       "    </tr>\n",
       "    <tr>\n",
       "      <th>75%</th>\n",
       "      <td>0.547503</td>\n",
       "    </tr>\n",
       "    <tr>\n",
       "      <th>max</th>\n",
       "      <td>1.000000</td>\n",
       "    </tr>\n",
       "  </tbody>\n",
       "</table>\n",
       "</div>"
      ],
      "text/plain": [
       "                 0\n",
       "count  1980.000000\n",
       "mean      0.420737\n",
       "std       0.190293\n",
       "min       0.000000\n",
       "25%       0.276264\n",
       "50%       0.412919\n",
       "75%       0.547503\n",
       "max       1.000000"
      ]
     },
     "execution_count": 54,
     "metadata": {},
     "output_type": "execute_result"
    }
   ],
   "source": [
    "person_surface_variation = pcd_person.get_normalized_surface_variation()\n",
    "df_person_surface_variation = pd.DataFrame(person_surface_variation)\n",
    "df_person_surface_variation.describe()"
   ]
  },
  {
   "cell_type": "code",
   "execution_count": 55,
   "id": "42b637a5-f069-4748-b781-5280b14485b1",
   "metadata": {
    "tags": []
   },
   "outputs": [
    {
     "data": {
      "image/png": "[encoded data removed]",
      "text/plain": [
       "<Figure size 500x500 with 1 Axes>"
      ]
     },
     "metadata": {},
     "output_type": "display_data"
    }
   ],
   "source": [
    "pcd_person.display_hist_from_seaborn(person_surface_variation)"
   ]
  },
  {
   "cell_type": "code",
   "execution_count": null,
   "id": "28fa55eb-3caf-45ce-96dc-286e73fcd14c",
   "metadata": {},
   "outputs": [],
   "source": []
  }
 ],
 "metadata": {
  "kernelspec": {
   "display_name": "Python 3 (ipykernel)",
   "language": "python",
   "name": "python3"
  },
  "language_info": {
   "codemirror_mode": {
    "name": "ipython",
    "version": 3
   },
   "file_extension": ".py",
   "mimetype": "text/x-python",
   "name": "python",
   "nbconvert_exporter": "python",
   "pygments_lexer": "ipython3",
   "version": "3.8.10"
  }
 },
 "nbformat": 4,
 "nbformat_minor": 5
}
