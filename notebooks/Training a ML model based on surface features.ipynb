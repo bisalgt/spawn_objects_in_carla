{
 "cells": [
  {
   "cell_type": "code",
   "execution_count": 1,
   "id": "d7ad5ad4-a0fb-4dba-9fa0-ac07e043d0a1",
   "metadata": {},
   "outputs": [],
   "source": [
    "# 1. We had to downsample road points and gather a lot of person point clouds so that both are in the range of 20k.\n",
    "# 2. We need to visualize the distribution of the features after loading then and then perform ML"
   ]
  },
  {
   "cell_type": "code",
   "execution_count": 1,
   "id": "413c2fc4-9216-4e65-b5dc-67256d775db7",
   "metadata": {},
   "outputs": [
    {
     "data": {
      "text/html": [
       "<div>\n",
       "<style scoped>\n",
       "    .dataframe tbody tr th:only-of-type {\n",
       "        vertical-align: middle;\n",
       "    }\n",
       "\n",
       "    .dataframe tbody tr th {\n",
       "        vertical-align: top;\n",
       "    }\n",
       "\n",
       "    .dataframe thead th {\n",
       "        text-align: right;\n",
       "    }\n",
       "</style>\n",
       "<table border=\"1\" class=\"dataframe\">\n",
       "  <thead>\n",
       "    <tr style=\"text-align: right;\">\n",
       "      <th></th>\n",
       "      <th>surface_variation</th>\n",
       "      <th>planarity</th>\n",
       "      <th>sphericity</th>\n",
       "    </tr>\n",
       "  </thead>\n",
       "  <tbody>\n",
       "    <tr>\n",
       "      <th>0</th>\n",
       "      <td>0.006218</td>\n",
       "      <td>0.188079</td>\n",
       "      <td>0.004025</td>\n",
       "    </tr>\n",
       "    <tr>\n",
       "      <th>1</th>\n",
       "      <td>0.006507</td>\n",
       "      <td>0.173624</td>\n",
       "      <td>0.004163</td>\n",
       "    </tr>\n",
       "    <tr>\n",
       "      <th>2</th>\n",
       "      <td>0.006796</td>\n",
       "      <td>0.170091</td>\n",
       "      <td>0.004335</td>\n",
       "    </tr>\n",
       "    <tr>\n",
       "      <th>3</th>\n",
       "      <td>0.007224</td>\n",
       "      <td>0.152919</td>\n",
       "      <td>0.004544</td>\n",
       "    </tr>\n",
       "    <tr>\n",
       "      <th>4</th>\n",
       "      <td>0.011884</td>\n",
       "      <td>0.791808</td>\n",
       "      <td>0.011456</td>\n",
       "    </tr>\n",
       "  </tbody>\n",
       "</table>\n",
       "</div>"
      ],
      "text/plain": [
       "   surface_variation  planarity  sphericity\n",
       "0           0.006218   0.188079    0.004025\n",
       "1           0.006507   0.173624    0.004163\n",
       "2           0.006796   0.170091    0.004335\n",
       "3           0.007224   0.152919    0.004544\n",
       "4           0.011884   0.791808    0.011456"
      ]
     },
     "execution_count": 1,
     "metadata": {},
     "output_type": "execute_result"
    }
   ],
   "source": [
    "import pandas as pd\n",
    "\n",
    "df_road = pd.read_csv(\"csv/road_features_sur_pla_sph_knn50.csv\")\n",
    "df_road.head()"
   ]
  },
  {
   "cell_type": "code",
   "execution_count": 2,
   "id": "ce6b06f6-3894-4714-a93e-48a1c0e0d4d5",
   "metadata": {},
   "outputs": [
    {
     "data": {
      "text/html": [
       "<div>\n",
       "<style scoped>\n",
       "    .dataframe tbody tr th:only-of-type {\n",
       "        vertical-align: middle;\n",
       "    }\n",
       "\n",
       "    .dataframe tbody tr th {\n",
       "        vertical-align: top;\n",
       "    }\n",
       "\n",
       "    .dataframe thead th {\n",
       "        text-align: right;\n",
       "    }\n",
       "</style>\n",
       "<table border=\"1\" class=\"dataframe\">\n",
       "  <thead>\n",
       "    <tr style=\"text-align: right;\">\n",
       "      <th></th>\n",
       "      <th>surface_variation</th>\n",
       "      <th>planarity</th>\n",
       "      <th>sphericity</th>\n",
       "    </tr>\n",
       "  </thead>\n",
       "  <tbody>\n",
       "    <tr>\n",
       "      <th>count</th>\n",
       "      <td>2.306700e+04</td>\n",
       "      <td>23067.000000</td>\n",
       "      <td>2.306700e+04</td>\n",
       "    </tr>\n",
       "    <tr>\n",
       "      <th>mean</th>\n",
       "      <td>5.004602e-02</td>\n",
       "      <td>0.754360</td>\n",
       "      <td>4.581783e-02</td>\n",
       "    </tr>\n",
       "    <tr>\n",
       "      <th>std</th>\n",
       "      <td>1.460075e-01</td>\n",
       "      <td>0.203106</td>\n",
       "      <td>1.339426e-01</td>\n",
       "    </tr>\n",
       "    <tr>\n",
       "      <th>min</th>\n",
       "      <td>0.000000e+00</td>\n",
       "      <td>0.000000</td>\n",
       "      <td>0.000000e+00</td>\n",
       "    </tr>\n",
       "    <tr>\n",
       "      <th>25%</th>\n",
       "      <td>5.160265e-12</td>\n",
       "      <td>0.670506</td>\n",
       "      <td>5.357502e-12</td>\n",
       "    </tr>\n",
       "    <tr>\n",
       "      <th>50%</th>\n",
       "      <td>1.610822e-11</td>\n",
       "      <td>0.817463</td>\n",
       "      <td>1.598321e-11</td>\n",
       "    </tr>\n",
       "    <tr>\n",
       "      <th>75%</th>\n",
       "      <td>9.954130e-10</td>\n",
       "      <td>0.900280</td>\n",
       "      <td>9.470987e-10</td>\n",
       "    </tr>\n",
       "    <tr>\n",
       "      <th>max</th>\n",
       "      <td>1.000000e+00</td>\n",
       "      <td>1.000000</td>\n",
       "      <td>1.000000e+00</td>\n",
       "    </tr>\n",
       "  </tbody>\n",
       "</table>\n",
       "</div>"
      ],
      "text/plain": [
       "       surface_variation     planarity    sphericity\n",
       "count       2.306700e+04  23067.000000  2.306700e+04\n",
       "mean        5.004602e-02      0.754360  4.581783e-02\n",
       "std         1.460075e-01      0.203106  1.339426e-01\n",
       "min         0.000000e+00      0.000000  0.000000e+00\n",
       "25%         5.160265e-12      0.670506  5.357502e-12\n",
       "50%         1.610822e-11      0.817463  1.598321e-11\n",
       "75%         9.954130e-10      0.900280  9.470987e-10\n",
       "max         1.000000e+00      1.000000  1.000000e+00"
      ]
     },
     "execution_count": 2,
     "metadata": {},
     "output_type": "execute_result"
    }
   ],
   "source": [
    "df_road.describe()"
   ]
  },
  {
   "cell_type": "code",
   "execution_count": 3,
   "id": "b2426dca-1b97-408f-b4c5-66b171ec0edf",
   "metadata": {},
   "outputs": [
    {
     "data": {
      "text/plain": [
       "surface_variation    float64\n",
       "planarity            float64\n",
       "sphericity           float64\n",
       "dtype: object"
      ]
     },
     "execution_count": 3,
     "metadata": {},
     "output_type": "execute_result"
    }
   ],
   "source": [
    "df_road.dtypes"
   ]
  },
  {
   "cell_type": "code",
   "execution_count": null,
   "id": "4cadc601-140f-4e49-8f04-7b7c5d4cfeb6",
   "metadata": {},
   "outputs": [],
   "source": []
  },
  {
   "cell_type": "code",
   "execution_count": 4,
   "id": "ed82d4f3-caa7-4828-8dbe-18f5589d190a",
   "metadata": {},
   "outputs": [],
   "source": [
    "import numpy as np\n",
    "def get_bin_size_for_histogram(_data):\n",
    "    \"\"\"\n",
    "    Bin calculated using Freedman-Diaconis rule for the histogram plot\n",
    "    \"\"\"\n",
    "    iqr = np.percentile(_data, 75) - np.percentile(_data, 25)\n",
    "    bin_width = 2 * iqr / np.power(len(_data), 1/3)\n",
    "    num_bins = int((np.max(_data) - np.min(_data)) / bin_width)\n",
    "    return num_bins"
   ]
  },
  {
   "cell_type": "raw",
   "id": "f8269349-ad94-4bc3-8962-90f3a210fae0",
   "metadata": {},
   "source": [
    "from plotly.offline import init_notebook_mode, iplot\n",
    "init_notebook_mode(connected=True)\n"
   ]
  },
  {
   "cell_type": "code",
   "execution_count": 44,
   "id": "696fa72f-5b85-4a9d-addf-40fcc2f62e5c",
   "metadata": {},
   "outputs": [],
   "source": [
    "import seaborn as sns\n",
    "\n",
    "def display_hist_from_seaborn(feature_array):\n",
    "    try:\n",
    "        number_of_bins = get_bin_size_for_histogram(feature_array)\n",
    "        sns.displot(feature_array, bins=number_of_bins, kde=True)\n",
    "    except Exception as e:\n",
    "        print(f\"Exception Occured,{e}, plot may not be consistent\")\n",
    "        sns.displot(feature_array, bins=50,  kde=True,)"
   ]
  },
  {
   "cell_type": "code",
   "execution_count": 17,
   "id": "9b0b74c9-6960-4f20-a40c-81e07e2bd89f",
   "metadata": {},
   "outputs": [
    {
     "data": {
      "text/plain": [
       "[<matplotlib.lines.Line2D at 0x7f1b8de6f610>]"
      ]
     },
     "execution_count": 17,
     "metadata": {},
     "output_type": "execute_result"
    },
    {
     "data": {
      "image/png": "[encoded data removed]",
      "text/plain": [
       "<Figure size 640x480 with 1 Axes>"
      ]
     },
     "metadata": {},
     "output_type": "display_data"
    }
   ],
   "source": [
    "surf_var = df_road[\"surface_variation\"].sort_values(ascending=False).to_numpy()\n",
    "\n",
    "import matplotlib.pyplot as plt\n",
    "\n",
    "plt.plot(surf_var)"
   ]
  },
  {
   "cell_type": "code",
   "execution_count": 10,
   "id": "492b7a47-44c9-4e12-8956-7b1526096d42",
   "metadata": {},
   "outputs": [
    {
     "data": {
      "text/plain": [
       "(23067,)"
      ]
     },
     "execution_count": 10,
     "metadata": {},
     "output_type": "execute_result"
    }
   ],
   "source": [
    "df_road.iloc[:, 0].to_numpy().shape"
   ]
  },
  {
   "cell_type": "code",
   "execution_count": 43,
   "id": "07624de7-6047-47e9-ae89-b6ee84635570",
   "metadata": {},
   "outputs": [
    {
     "name": "stdout",
     "output_type": "stream",
     "text": [
      "Exception Occured,Unable to allocate 107. GiB for an array with shape (14373228706,) and data type float64, plot may not be consistent\n"
     ]
    },
    {
     "data": {
      "image/png": "[encoded data removed]",
      "text/plain": [
       "<Figure size 500x500 with 1 Axes>"
      ]
     },
     "metadata": {},
     "output_type": "display_data"
    },
    {
     "data": {
      "image/png": "[encoded data removed]",
      "text/plain": [
       "<Figure size 500x500 with 1 Axes>"
      ]
     },
     "metadata": {},
     "output_type": "display_data"
    }
   ],
   "source": [
    "display_hist_from_seaborn(surf_var) # plot for surface variation"
   ]
  },
  {
   "cell_type": "code",
   "execution_count": 46,
   "id": "7b18348b-660e-4aba-b7bb-e2322d45fa98",
   "metadata": {},
   "outputs": [
    {
     "data": {
      "image/png": "[encoded data removed]",
      "text/plain": [
       "<Figure size 500x500 with 1 Axes>"
      ]
     },
     "metadata": {},
     "output_type": "display_data"
    }
   ],
   "source": [
    "display_hist_from_seaborn(df_road.iloc[:, 1].to_numpy()) # plot for planarity"
   ]
  },
  {
   "cell_type": "code",
   "execution_count": 47,
   "id": "8eb2bd3c-3d7e-4188-98a7-8abfe5108b87",
   "metadata": {},
   "outputs": [
    {
     "name": "stdout",
     "output_type": "stream",
     "text": [
      "Exception Occured,Unable to allocate 113. GiB for an array with shape (15113630347,) and data type float64, plot may not be consistent\n"
     ]
    },
    {
     "data": {
      "image/png": "[encoded data removed]",
      "text/plain": [
       "<Figure size 500x500 with 1 Axes>"
      ]
     },
     "metadata": {},
     "output_type": "display_data"
    },
    {
     "data": {
      "image/png": "[encoded data removed]",
      "text/plain": [
       "<Figure size 500x500 with 1 Axes>"
      ]
     },
     "metadata": {},
     "output_type": "display_data"
    }
   ],
   "source": [
    "display_hist_from_seaborn(df_road.iloc[:, 2].to_numpy()) # Plot for sphericity"
   ]
  },
  {
   "cell_type": "markdown",
   "id": "f77f0ec1-5e00-4b22-a912-586b44f15d89",
   "metadata": {},
   "source": [
    "## Visualizing the persons features"
   ]
  },
  {
   "cell_type": "code",
   "execution_count": 48,
   "id": "a4e8d5a0-bfa2-4009-ac30-48b81acd825e",
   "metadata": {},
   "outputs": [
    {
     "data": {
      "text/html": [
       "<div>\n",
       "<style scoped>\n",
       "    .dataframe tbody tr th:only-of-type {\n",
       "        vertical-align: middle;\n",
       "    }\n",
       "\n",
       "    .dataframe tbody tr th {\n",
       "        vertical-align: top;\n",
       "    }\n",
       "\n",
       "    .dataframe thead th {\n",
       "        text-align: right;\n",
       "    }\n",
       "</style>\n",
       "<table border=\"1\" class=\"dataframe\">\n",
       "  <thead>\n",
       "    <tr style=\"text-align: right;\">\n",
       "      <th></th>\n",
       "      <th>surface_variation</th>\n",
       "      <th>planarity</th>\n",
       "      <th>sphericity</th>\n",
       "    </tr>\n",
       "  </thead>\n",
       "  <tbody>\n",
       "    <tr>\n",
       "      <th>0</th>\n",
       "      <td>0.740150</td>\n",
       "      <td>0.148927</td>\n",
       "      <td>0.713221</td>\n",
       "    </tr>\n",
       "    <tr>\n",
       "      <th>1</th>\n",
       "      <td>0.752240</td>\n",
       "      <td>0.213562</td>\n",
       "      <td>0.760365</td>\n",
       "    </tr>\n",
       "    <tr>\n",
       "      <th>2</th>\n",
       "      <td>0.929919</td>\n",
       "      <td>0.259741</td>\n",
       "      <td>1.000000</td>\n",
       "    </tr>\n",
       "    <tr>\n",
       "      <th>3</th>\n",
       "      <td>0.916919</td>\n",
       "      <td>0.276420</td>\n",
       "      <td>0.994364</td>\n",
       "    </tr>\n",
       "    <tr>\n",
       "      <th>4</th>\n",
       "      <td>0.753820</td>\n",
       "      <td>0.130892</td>\n",
       "      <td>0.718931</td>\n",
       "    </tr>\n",
       "    <tr>\n",
       "      <th>...</th>\n",
       "      <td>...</td>\n",
       "      <td>...</td>\n",
       "      <td>...</td>\n",
       "    </tr>\n",
       "    <tr>\n",
       "      <th>21460</th>\n",
       "      <td>0.448711</td>\n",
       "      <td>0.109482</td>\n",
       "      <td>0.299997</td>\n",
       "    </tr>\n",
       "    <tr>\n",
       "      <th>21461</th>\n",
       "      <td>0.343518</td>\n",
       "      <td>0.122040</td>\n",
       "      <td>0.220663</td>\n",
       "    </tr>\n",
       "    <tr>\n",
       "      <th>21462</th>\n",
       "      <td>0.438465</td>\n",
       "      <td>0.127920</td>\n",
       "      <td>0.297716</td>\n",
       "    </tr>\n",
       "    <tr>\n",
       "      <th>21463</th>\n",
       "      <td>0.448711</td>\n",
       "      <td>0.109482</td>\n",
       "      <td>0.299997</td>\n",
       "    </tr>\n",
       "    <tr>\n",
       "      <th>21464</th>\n",
       "      <td>0.448711</td>\n",
       "      <td>0.109482</td>\n",
       "      <td>0.299997</td>\n",
       "    </tr>\n",
       "  </tbody>\n",
       "</table>\n",
       "<p>21465 rows × 3 columns</p>\n",
       "</div>"
      ],
      "text/plain": [
       "       surface_variation  planarity  sphericity\n",
       "0               0.740150   0.148927    0.713221\n",
       "1               0.752240   0.213562    0.760365\n",
       "2               0.929919   0.259741    1.000000\n",
       "3               0.916919   0.276420    0.994364\n",
       "4               0.753820   0.130892    0.718931\n",
       "...                  ...        ...         ...\n",
       "21460           0.448711   0.109482    0.299997\n",
       "21461           0.343518   0.122040    0.220663\n",
       "21462           0.438465   0.127920    0.297716\n",
       "21463           0.448711   0.109482    0.299997\n",
       "21464           0.448711   0.109482    0.299997\n",
       "\n",
       "[21465 rows x 3 columns]"
      ]
     },
     "execution_count": 48,
     "metadata": {},
     "output_type": "execute_result"
    }
   ],
   "source": [
    "filename = \"csv/person_features_sur_pla_sph_knn50.csv\"\n",
    "df_person = pd.read_csv(filename)\n",
    "df_person"
   ]
  },
  {
   "cell_type": "markdown",
   "id": "b3dc0546-bdb4-4f31-8045-93b690d1050c",
   "metadata": {},
   "source": [
    "#### visualizing surface variation of person"
   ]
  },
  {
   "cell_type": "code",
   "execution_count": 49,
   "id": "fc8d347d-23c6-490c-a517-5e1792611664",
   "metadata": {},
   "outputs": [
    {
     "data": {
      "image/png": "[encoded data removed]",
      "text/plain": [
       "<Figure size 500x500 with 1 Axes>"
      ]
     },
     "metadata": {},
     "output_type": "display_data"
    }
   ],
   "source": [
    "display_hist_from_seaborn(df_person[\"surface_variation\"]) # plot for surface variation"
   ]
  },
  {
   "cell_type": "code",
   "execution_count": 50,
   "id": "25b2dde7-28b7-4152-b5ea-cb38139a8b90",
   "metadata": {},
   "outputs": [
    {
     "data": {
      "image/png": "[encoded data removed]",
      "text/plain": [
       "<Figure size 500x500 with 1 Axes>"
      ]
     },
     "metadata": {},
     "output_type": "display_data"
    }
   ],
   "source": [
    "display_hist_from_seaborn(df_person[\"planarity\"]) # plot for planarity"
   ]
  },
  {
   "cell_type": "code",
   "execution_count": 51,
   "id": "214d566d-2f97-4734-8bca-5c6d84f52ae8",
   "metadata": {},
   "outputs": [
    {
     "data": {
      "image/png": "[encoded data removed]",
      "text/plain": [
       "<Figure size 500x500 with 1 Axes>"
      ]
     },
     "metadata": {},
     "output_type": "display_data"
    }
   ],
   "source": [
    "display_hist_from_seaborn(df_person[\"sphericity\"]) # plot for sphericity"
   ]
  },
  {
   "cell_type": "code",
   "execution_count": 52,
   "id": "4fc76888-a196-470e-aadd-63c35dd7aa08",
   "metadata": {},
   "outputs": [],
   "source": [
    "df_road[\"label\"] = 0"
   ]
  },
  {
   "cell_type": "code",
   "execution_count": 53,
   "id": "ef45563a-69d5-4bb5-b4e2-69de154d4e46",
   "metadata": {},
   "outputs": [
    {
     "data": {
      "text/html": [
       "<div>\n",
       "<style scoped>\n",
       "    .dataframe tbody tr th:only-of-type {\n",
       "        vertical-align: middle;\n",
       "    }\n",
       "\n",
       "    .dataframe tbody tr th {\n",
       "        vertical-align: top;\n",
       "    }\n",
       "\n",
       "    .dataframe thead th {\n",
       "        text-align: right;\n",
       "    }\n",
       "</style>\n",
       "<table border=\"1\" class=\"dataframe\">\n",
       "  <thead>\n",
       "    <tr style=\"text-align: right;\">\n",
       "      <th></th>\n",
       "      <th>surface_variation</th>\n",
       "      <th>planarity</th>\n",
       "      <th>sphericity</th>\n",
       "      <th>label</th>\n",
       "    </tr>\n",
       "  </thead>\n",
       "  <tbody>\n",
       "    <tr>\n",
       "      <th>0</th>\n",
       "      <td>0.006218</td>\n",
       "      <td>0.188079</td>\n",
       "      <td>0.004025</td>\n",
       "      <td>0</td>\n",
       "    </tr>\n",
       "    <tr>\n",
       "      <th>1</th>\n",
       "      <td>0.006507</td>\n",
       "      <td>0.173624</td>\n",
       "      <td>0.004163</td>\n",
       "      <td>0</td>\n",
       "    </tr>\n",
       "    <tr>\n",
       "      <th>2</th>\n",
       "      <td>0.006796</td>\n",
       "      <td>0.170091</td>\n",
       "      <td>0.004335</td>\n",
       "      <td>0</td>\n",
       "    </tr>\n",
       "    <tr>\n",
       "      <th>3</th>\n",
       "      <td>0.007224</td>\n",
       "      <td>0.152919</td>\n",
       "      <td>0.004544</td>\n",
       "      <td>0</td>\n",
       "    </tr>\n",
       "    <tr>\n",
       "      <th>4</th>\n",
       "      <td>0.011884</td>\n",
       "      <td>0.791808</td>\n",
       "      <td>0.011456</td>\n",
       "      <td>0</td>\n",
       "    </tr>\n",
       "    <tr>\n",
       "      <th>...</th>\n",
       "      <td>...</td>\n",
       "      <td>...</td>\n",
       "      <td>...</td>\n",
       "      <td>...</td>\n",
       "    </tr>\n",
       "    <tr>\n",
       "      <th>23062</th>\n",
       "      <td>0.758502</td>\n",
       "      <td>0.446718</td>\n",
       "      <td>0.635685</td>\n",
       "      <td>0</td>\n",
       "    </tr>\n",
       "    <tr>\n",
       "      <th>23063</th>\n",
       "      <td>0.764551</td>\n",
       "      <td>0.446809</td>\n",
       "      <td>0.641157</td>\n",
       "      <td>0</td>\n",
       "    </tr>\n",
       "    <tr>\n",
       "      <th>23064</th>\n",
       "      <td>0.766176</td>\n",
       "      <td>0.448048</td>\n",
       "      <td>0.643151</td>\n",
       "      <td>0</td>\n",
       "    </tr>\n",
       "    <tr>\n",
       "      <th>23065</th>\n",
       "      <td>0.781383</td>\n",
       "      <td>0.415994</td>\n",
       "      <td>0.642782</td>\n",
       "      <td>0</td>\n",
       "    </tr>\n",
       "    <tr>\n",
       "      <th>23066</th>\n",
       "      <td>0.797092</td>\n",
       "      <td>0.437868</td>\n",
       "      <td>0.666486</td>\n",
       "      <td>0</td>\n",
       "    </tr>\n",
       "  </tbody>\n",
       "</table>\n",
       "<p>23067 rows × 4 columns</p>\n",
       "</div>"
      ],
      "text/plain": [
       "       surface_variation  planarity  sphericity  label\n",
       "0               0.006218   0.188079    0.004025      0\n",
       "1               0.006507   0.173624    0.004163      0\n",
       "2               0.006796   0.170091    0.004335      0\n",
       "3               0.007224   0.152919    0.004544      0\n",
       "4               0.011884   0.791808    0.011456      0\n",
       "...                  ...        ...         ...    ...\n",
       "23062           0.758502   0.446718    0.635685      0\n",
       "23063           0.764551   0.446809    0.641157      0\n",
       "23064           0.766176   0.448048    0.643151      0\n",
       "23065           0.781383   0.415994    0.642782      0\n",
       "23066           0.797092   0.437868    0.666486      0\n",
       "\n",
       "[23067 rows x 4 columns]"
      ]
     },
     "execution_count": 53,
     "metadata": {},
     "output_type": "execute_result"
    }
   ],
   "source": [
    "\n",
    "df_road"
   ]
  },
  {
   "cell_type": "code",
   "execution_count": 54,
   "id": "8244f5ac-f05b-4e24-a952-3231792507e3",
   "metadata": {},
   "outputs": [
    {
     "data": {
      "text/html": [
       "<div>\n",
       "<style scoped>\n",
       "    .dataframe tbody tr th:only-of-type {\n",
       "        vertical-align: middle;\n",
       "    }\n",
       "\n",
       "    .dataframe tbody tr th {\n",
       "        vertical-align: top;\n",
       "    }\n",
       "\n",
       "    .dataframe thead th {\n",
       "        text-align: right;\n",
       "    }\n",
       "</style>\n",
       "<table border=\"1\" class=\"dataframe\">\n",
       "  <thead>\n",
       "    <tr style=\"text-align: right;\">\n",
       "      <th></th>\n",
       "      <th>surface_variation</th>\n",
       "      <th>planarity</th>\n",
       "      <th>sphericity</th>\n",
       "      <th>label</th>\n",
       "    </tr>\n",
       "  </thead>\n",
       "  <tbody>\n",
       "    <tr>\n",
       "      <th>0</th>\n",
       "      <td>0.740150</td>\n",
       "      <td>0.148927</td>\n",
       "      <td>0.713221</td>\n",
       "      <td>1</td>\n",
       "    </tr>\n",
       "    <tr>\n",
       "      <th>1</th>\n",
       "      <td>0.752240</td>\n",
       "      <td>0.213562</td>\n",
       "      <td>0.760365</td>\n",
       "      <td>1</td>\n",
       "    </tr>\n",
       "    <tr>\n",
       "      <th>2</th>\n",
       "      <td>0.929919</td>\n",
       "      <td>0.259741</td>\n",
       "      <td>1.000000</td>\n",
       "      <td>1</td>\n",
       "    </tr>\n",
       "    <tr>\n",
       "      <th>3</th>\n",
       "      <td>0.916919</td>\n",
       "      <td>0.276420</td>\n",
       "      <td>0.994364</td>\n",
       "      <td>1</td>\n",
       "    </tr>\n",
       "    <tr>\n",
       "      <th>4</th>\n",
       "      <td>0.753820</td>\n",
       "      <td>0.130892</td>\n",
       "      <td>0.718931</td>\n",
       "      <td>1</td>\n",
       "    </tr>\n",
       "    <tr>\n",
       "      <th>...</th>\n",
       "      <td>...</td>\n",
       "      <td>...</td>\n",
       "      <td>...</td>\n",
       "      <td>...</td>\n",
       "    </tr>\n",
       "    <tr>\n",
       "      <th>21460</th>\n",
       "      <td>0.448711</td>\n",
       "      <td>0.109482</td>\n",
       "      <td>0.299997</td>\n",
       "      <td>1</td>\n",
       "    </tr>\n",
       "    <tr>\n",
       "      <th>21461</th>\n",
       "      <td>0.343518</td>\n",
       "      <td>0.122040</td>\n",
       "      <td>0.220663</td>\n",
       "      <td>1</td>\n",
       "    </tr>\n",
       "    <tr>\n",
       "      <th>21462</th>\n",
       "      <td>0.438465</td>\n",
       "      <td>0.127920</td>\n",
       "      <td>0.297716</td>\n",
       "      <td>1</td>\n",
       "    </tr>\n",
       "    <tr>\n",
       "      <th>21463</th>\n",
       "      <td>0.448711</td>\n",
       "      <td>0.109482</td>\n",
       "      <td>0.299997</td>\n",
       "      <td>1</td>\n",
       "    </tr>\n",
       "    <tr>\n",
       "      <th>21464</th>\n",
       "      <td>0.448711</td>\n",
       "      <td>0.109482</td>\n",
       "      <td>0.299997</td>\n",
       "      <td>1</td>\n",
       "    </tr>\n",
       "  </tbody>\n",
       "</table>\n",
       "<p>21465 rows × 4 columns</p>\n",
       "</div>"
      ],
      "text/plain": [
       "       surface_variation  planarity  sphericity  label\n",
       "0               0.740150   0.148927    0.713221      1\n",
       "1               0.752240   0.213562    0.760365      1\n",
       "2               0.929919   0.259741    1.000000      1\n",
       "3               0.916919   0.276420    0.994364      1\n",
       "4               0.753820   0.130892    0.718931      1\n",
       "...                  ...        ...         ...    ...\n",
       "21460           0.448711   0.109482    0.299997      1\n",
       "21461           0.343518   0.122040    0.220663      1\n",
       "21462           0.438465   0.127920    0.297716      1\n",
       "21463           0.448711   0.109482    0.299997      1\n",
       "21464           0.448711   0.109482    0.299997      1\n",
       "\n",
       "[21465 rows x 4 columns]"
      ]
     },
     "execution_count": 54,
     "metadata": {},
     "output_type": "execute_result"
    }
   ],
   "source": [
    "df_person[\"label\"] = 1\n",
    "df_person"
   ]
  },
  {
   "cell_type": "code",
   "execution_count": 59,
   "id": "fc061fd6-2358-4ec4-a21d-058d1b51f725",
   "metadata": {},
   "outputs": [],
   "source": [
    "df_combined = pd.concat([df_person, df_road], axis=0).sample(frac=1).reset_index(drop=True) # concat, shuffle and reset index\n",
    "df_combined\n",
    "\n",
    "df_combined.to_csv(\"csv/combined_person_road_features_knn50.csv\", index=False)"
   ]
  },
  {
   "cell_type": "code",
   "execution_count": 60,
   "id": "88ba9ab6-d009-4e58-b58e-fe04f1c934d6",
   "metadata": {},
   "outputs": [
    {
     "data": {
      "text/html": [
       "<div>\n",
       "<style scoped>\n",
       "    .dataframe tbody tr th:only-of-type {\n",
       "        vertical-align: middle;\n",
       "    }\n",
       "\n",
       "    .dataframe tbody tr th {\n",
       "        vertical-align: top;\n",
       "    }\n",
       "\n",
       "    .dataframe thead th {\n",
       "        text-align: right;\n",
       "    }\n",
       "</style>\n",
       "<table border=\"1\" class=\"dataframe\">\n",
       "  <thead>\n",
       "    <tr style=\"text-align: right;\">\n",
       "      <th></th>\n",
       "      <th>surface_variation</th>\n",
       "      <th>planarity</th>\n",
       "      <th>sphericity</th>\n",
       "      <th>label</th>\n",
       "    </tr>\n",
       "  </thead>\n",
       "  <tbody>\n",
       "    <tr>\n",
       "      <th>0</th>\n",
       "      <td>3.665382e-04</td>\n",
       "      <td>0.874493</td>\n",
       "      <td>3.688341e-04</td>\n",
       "      <td>0</td>\n",
       "    </tr>\n",
       "    <tr>\n",
       "      <th>1</th>\n",
       "      <td>6.273379e-02</td>\n",
       "      <td>0.270042</td>\n",
       "      <td>4.039831e-02</td>\n",
       "      <td>1</td>\n",
       "    </tr>\n",
       "    <tr>\n",
       "      <th>2</th>\n",
       "      <td>2.393545e-11</td>\n",
       "      <td>0.754787</td>\n",
       "      <td>2.352704e-11</td>\n",
       "      <td>0</td>\n",
       "    </tr>\n",
       "    <tr>\n",
       "      <th>3</th>\n",
       "      <td>4.264701e-01</td>\n",
       "      <td>0.586308</td>\n",
       "      <td>4.353467e-01</td>\n",
       "      <td>1</td>\n",
       "    </tr>\n",
       "    <tr>\n",
       "      <th>4</th>\n",
       "      <td>8.260216e-01</td>\n",
       "      <td>0.005114</td>\n",
       "      <td>6.131410e-01</td>\n",
       "      <td>1</td>\n",
       "    </tr>\n",
       "    <tr>\n",
       "      <th>...</th>\n",
       "      <td>...</td>\n",
       "      <td>...</td>\n",
       "      <td>...</td>\n",
       "      <td>...</td>\n",
       "    </tr>\n",
       "    <tr>\n",
       "      <th>44527</th>\n",
       "      <td>1.211691e-01</td>\n",
       "      <td>0.250662</td>\n",
       "      <td>7.335797e-02</td>\n",
       "      <td>1</td>\n",
       "    </tr>\n",
       "    <tr>\n",
       "      <th>44528</th>\n",
       "      <td>2.129636e-11</td>\n",
       "      <td>0.900302</td>\n",
       "      <td>2.176973e-11</td>\n",
       "      <td>0</td>\n",
       "    </tr>\n",
       "    <tr>\n",
       "      <th>44529</th>\n",
       "      <td>2.306645e-11</td>\n",
       "      <td>0.956368</td>\n",
       "      <td>2.390908e-11</td>\n",
       "      <td>0</td>\n",
       "    </tr>\n",
       "    <tr>\n",
       "      <th>44530</th>\n",
       "      <td>1.383493e-01</td>\n",
       "      <td>0.726224</td>\n",
       "      <td>1.230969e-01</td>\n",
       "      <td>1</td>\n",
       "    </tr>\n",
       "    <tr>\n",
       "      <th>44531</th>\n",
       "      <td>4.818320e-01</td>\n",
       "      <td>0.427811</td>\n",
       "      <td>4.783788e-01</td>\n",
       "      <td>1</td>\n",
       "    </tr>\n",
       "  </tbody>\n",
       "</table>\n",
       "<p>44532 rows × 4 columns</p>\n",
       "</div>"
      ],
      "text/plain": [
       "       surface_variation  planarity    sphericity  label\n",
       "0           3.665382e-04   0.874493  3.688341e-04      0\n",
       "1           6.273379e-02   0.270042  4.039831e-02      1\n",
       "2           2.393545e-11   0.754787  2.352704e-11      0\n",
       "3           4.264701e-01   0.586308  4.353467e-01      1\n",
       "4           8.260216e-01   0.005114  6.131410e-01      1\n",
       "...                  ...        ...           ...    ...\n",
       "44527       1.211691e-01   0.250662  7.335797e-02      1\n",
       "44528       2.129636e-11   0.900302  2.176973e-11      0\n",
       "44529       2.306645e-11   0.956368  2.390908e-11      0\n",
       "44530       1.383493e-01   0.726224  1.230969e-01      1\n",
       "44531       4.818320e-01   0.427811  4.783788e-01      1\n",
       "\n",
       "[44532 rows x 4 columns]"
      ]
     },
     "execution_count": 60,
     "metadata": {},
     "output_type": "execute_result"
    }
   ],
   "source": [
    "df_combined = pd.read_csv(\"csv/combined_person_road_features_knn50.csv\")\n",
    "df_combined"
   ]
  },
  {
   "cell_type": "code",
   "execution_count": null,
   "id": "594aeb01-3007-40ed-a69c-568d662c61bd",
   "metadata": {},
   "outputs": [],
   "source": []
  },
  {
   "cell_type": "markdown",
   "id": "08adfbde-7352-4924-982b-d808c79c20e9",
   "metadata": {},
   "source": [
    "# Applying ML to see how the data are performing"
   ]
  },
  {
   "cell_type": "code",
   "execution_count": 73,
   "id": "0f6c918f-044d-485a-ab2f-17ff08b52a53",
   "metadata": {},
   "outputs": [
    {
     "name": "stdout",
     "output_type": "stream",
     "text": [
      "Validation Accuracy: 80.66%\n",
      "Test Accuracy: 80.47%\n"
     ]
    },
    {
     "data": {
      "image/png": "[encoded data removed]",
      "text/plain": [
       "<Figure size 640x480 with 2 Axes>"
      ]
     },
     "metadata": {},
     "output_type": "display_data"
    },
    {
     "data": {
      "image/png": "[encoded data removed]",
      "text/plain": [
       "<Figure size 800x800 with 1 Axes>"
      ]
     },
     "metadata": {},
     "output_type": "display_data"
    }
   ],
   "source": [
    "# Import necessary libraries\n",
    "import numpy as np\n",
    "from sklearn.model_selection import train_test_split\n",
    "from sklearn.svm import SVC\n",
    "from sklearn.metrics import accuracy_score, confusion_matrix, roc_curve, auc\n",
    "import matplotlib.pyplot as plt\n",
    "\n",
    "# Assuming your data is in a NumPy array with shape (40000, 3)\n",
    "# Replace X_data and y_data with your actual feature matrix and target variable\n",
    "# X_data should be a 2D array with shape (40000, 3)\n",
    "# y_data should be a 1D array with shape (40000,)\n",
    "# If you have a different structure, adjust accordingly\n",
    "\n",
    "# Generate some example data (replace this with your actual data)\n",
    "np.random.seed(42)\n",
    "X_data = df_combined.iloc[:, :3]\n",
    "y_data = df_combined.iloc[:, 3]\n",
    "\n",
    "# Split the data into training, validation, and testing sets\n",
    "X_train, X_temp, y_train, y_temp = train_test_split(X_data, y_data, test_size=0.2, random_state=42)\n",
    "X_val, X_test, y_val, y_test = train_test_split(X_temp, y_temp, test_size=0.5, random_state=42)\n",
    "\n",
    "# Create a Support Vector Machine (SVM) classifier\n",
    "classifier = SVC(kernel='linear', random_state=42)\n",
    "\n",
    "# Train the classifier on the training data\n",
    "classifier.fit(X_train, y_train)\n",
    "\n",
    "# Make predictions on the validation data\n",
    "y_val_pred = classifier.predict(X_val)\n",
    "\n",
    "# Calculate and print the accuracy on the validation set\n",
    "accuracy_val = accuracy_score(y_val, y_val_pred)\n",
    "print(f\"Validation Accuracy: {accuracy_val:.2%}\")\n",
    "\n",
    "# Make predictions on the validation data\n",
    "y_test_pred = classifier.predict(X_test)\n",
    "\n",
    "# Calculate and print the accuracy on the validation set\n",
    "accuracy_val = accuracy_score(y_test, y_test_pred)\n",
    "print(f\"Test Accuracy: {accuracy_val:.2%}\")\n",
    "\n",
    "# Plot Confusion Matrix\n",
    "cm = confusion_matrix(y_val, y_val_pred)\n",
    "plt.imshow(cm, interpolation='nearest', cmap=plt.cm.Blues)\n",
    "plt.title('Confusion Matrix')\n",
    "plt.colorbar()\n",
    "plt.xlabel('Predicted Label')\n",
    "plt.ylabel('True Label')\n",
    "plt.show()\n",
    "\n",
    "# Plot ROC Curve\n",
    "fpr, tpr, thresholds = roc_curve(y_val, classifier.decision_function(X_val))\n",
    "roc_auc = auc(fpr, tpr)\n",
    "\n",
    "plt.figure(figsize=(8, 8))\n",
    "plt.plot(fpr, tpr, color='darkorange', lw=2, label='ROC curve (area = {:.2f})'.format(roc_auc))\n",
    "plt.plot([0, 1], [0, 1], color='navy', lw=2, linestyle='--')\n",
    "plt.xlabel('False Positive Rate')\n",
    "plt.ylabel('True Positive Rate')\n",
    "plt.title('ROC Curve')\n",
    "plt.legend(loc='lower right')\n",
    "plt.show()\n"
   ]
  },
  {
   "cell_type": "code",
   "execution_count": 74,
   "id": "dcec7d10-6bfe-4dac-a9a7-0e0fec106efb",
   "metadata": {},
   "outputs": [],
   "source": [
    "# saving the model\n",
    "import pickle\n",
    "\n",
    "filename = f\"trained_model/svm_linear_classifier.pkl\"\n",
    "with open(filename, 'wb') as handle:\n",
    "    pickle.dump(classifier, handle, protocol=pickle.HIGHEST_PROTOCOL)"
   ]
  },
  {
   "cell_type": "code",
   "execution_count": 75,
   "id": "762ec8ae-64af-4975-b035-b08e8488d8e9",
   "metadata": {},
   "outputs": [],
   "source": [
    "\n",
    "with open(filename, 'rb') as handle:\n",
    "    classifier_model = pickle.load(handle)"
   ]
  },
  {
   "cell_type": "code",
   "execution_count": 76,
   "id": "2def9801-7828-4354-80cd-7f23b9e881f9",
   "metadata": {},
   "outputs": [
    {
     "name": "stdout",
     "output_type": "stream",
     "text": [
      "Loaded Model Accuracy: 80.66%\n"
     ]
    }
   ],
   "source": [
    "# Make predictions on the validation data\n",
    "y_check_pred = classifier_model.predict(X_val)\n",
    "\n",
    "# Calculate and print the accuracy on the validation set\n",
    "accuracy_val = accuracy_score(y_val, y_check_pred)\n",
    "print(f\"Loaded Model Accuracy: {accuracy_val:.2%}\")"
   ]
  },
  {
   "cell_type": "markdown",
   "id": "bee221df-9230-4f51-a938-34d8cba8f0db",
   "metadata": {},
   "source": [
    "### Using the Trained Model to predict on new data\n"
   ]
  },
  {
   "cell_type": "code",
   "execution_count": 78,
   "id": "ca03cb05-8de6-4823-abbc-945b4317a26b",
   "metadata": {},
   "outputs": [
    {
     "data": {
      "text/html": [
       "<div>\n",
       "<style scoped>\n",
       "    .dataframe tbody tr th:only-of-type {\n",
       "        vertical-align: middle;\n",
       "    }\n",
       "\n",
       "    .dataframe tbody tr th {\n",
       "        vertical-align: top;\n",
       "    }\n",
       "\n",
       "    .dataframe thead th {\n",
       "        text-align: right;\n",
       "    }\n",
       "</style>\n",
       "<table border=\"1\" class=\"dataframe\">\n",
       "  <thead>\n",
       "    <tr style=\"text-align: right;\">\n",
       "      <th></th>\n",
       "      <th>//X</th>\n",
       "      <th>Y</th>\n",
       "      <th>Z</th>\n",
       "      <th>ObjIdx</th>\n",
       "      <th>ObjTag</th>\n",
       "    </tr>\n",
       "  </thead>\n",
       "  <tbody>\n",
       "    <tr>\n",
       "      <th>0</th>\n",
       "      <td>-3.661836</td>\n",
       "      <td>10.564414</td>\n",
       "      <td>0.390450</td>\n",
       "      <td>0.0</td>\n",
       "      <td>2.0</td>\n",
       "    </tr>\n",
       "    <tr>\n",
       "      <th>1</th>\n",
       "      <td>-3.596035</td>\n",
       "      <td>10.582603</td>\n",
       "      <td>0.390304</td>\n",
       "      <td>0.0</td>\n",
       "      <td>2.0</td>\n",
       "    </tr>\n",
       "    <tr>\n",
       "      <th>2</th>\n",
       "      <td>-2.449121</td>\n",
       "      <td>7.664546</td>\n",
       "      <td>0.280984</td>\n",
       "      <td>0.0</td>\n",
       "      <td>5.0</td>\n",
       "    </tr>\n",
       "    <tr>\n",
       "      <th>3</th>\n",
       "      <td>-2.407285</td>\n",
       "      <td>7.695078</td>\n",
       "      <td>0.281560</td>\n",
       "      <td>0.0</td>\n",
       "      <td>5.0</td>\n",
       "    </tr>\n",
       "    <tr>\n",
       "      <th>4</th>\n",
       "      <td>-0.934102</td>\n",
       "      <td>11.121582</td>\n",
       "      <td>0.389741</td>\n",
       "      <td>0.0</td>\n",
       "      <td>2.0</td>\n",
       "    </tr>\n",
       "  </tbody>\n",
       "</table>\n",
       "</div>"
      ],
      "text/plain": [
       "        //X          Y         Z  ObjIdx  ObjTag\n",
       "0 -3.661836  10.564414  0.390450     0.0     2.0\n",
       "1 -3.596035  10.582603  0.390304     0.0     2.0\n",
       "2 -2.449121   7.664546  0.280984     0.0     5.0\n",
       "3 -2.407285   7.695078  0.281560     0.0     5.0\n",
       "4 -0.934102  11.121582  0.389741     0.0     2.0"
      ]
     },
     "execution_count": 78,
     "metadata": {},
     "output_type": "execute_result"
    }
   ],
   "source": [
    "df_new = pd.read_csv(\"/home/nero/Documents/segmented_road_with_person_to_test.csv\")\n",
    "df_new.head()"
   ]
  },
  {
   "cell_type": "code",
   "execution_count": 79,
   "id": "00c1ca6c-125c-4b73-ae33-580e6ac2027d",
   "metadata": {},
   "outputs": [
    {
     "data": {
      "text/plain": [
       "array([ 2.,  5., 18.,  8.,  7.,  4., 17.,  0.])"
      ]
     },
     "execution_count": 79,
     "metadata": {},
     "output_type": "execute_result"
    }
   ],
   "source": [
    "df_new[\"ObjTag\"].unique()"
   ]
  },
  {
   "cell_type": "code",
   "execution_count": 82,
   "id": "fef78e4b-38de-4cb6-91d3-5bd953a2dde0",
   "metadata": {},
   "outputs": [
    {
     "data": {
      "text/plain": [
       "//X         4.133008\n",
       "Y           3.731294\n",
       "Z          -1.449408\n",
       "ObjIdx    580.000000\n",
       "ObjTag      4.000000\n",
       "Name: 13763, dtype: float64"
      ]
     },
     "execution_count": 82,
     "metadata": {},
     "output_type": "execute_result"
    }
   ],
   "source": [
    "df_new.iloc[13763]"
   ]
  },
  {
   "cell_type": "code",
   "execution_count": 84,
   "id": "8e414060-b39f-4df9-819a-60288dd6c147",
   "metadata": {},
   "outputs": [
    {
     "data": {
      "text/plain": [
       "//X       -3.960469\n",
       "Y        -11.425791\n",
       "Z         -2.298475\n",
       "ObjIdx     0.000000\n",
       "ObjTag     8.000000\n",
       "Name: 5458, dtype: float64"
      ]
     },
     "execution_count": 84,
     "metadata": {},
     "output_type": "execute_result"
    }
   ],
   "source": [
    "df_new.iloc[5458]"
   ]
  },
  {
   "cell_type": "markdown",
   "id": "820f132c-10fb-4b05-9c6c-90d8bdb44814",
   "metadata": {},
   "source": [
    "## So ObjTag 4 and ObjIdx 580 is for Person (using pointlist picking to get the index from cloudcompare and getting the corresponding value from datafram)\n",
    "## ObjIdx 0 is for non-movable object and  ObjTag 7 & 8 is the semantic label for road\n",
    "\n",
    "###  Need to do point list picking in cloudcompare to find the corresponding index to get the ObjTag of person or road or other objects"
   ]
  },
  {
   "cell_type": "code",
   "execution_count": 89,
   "id": "1c9c0921-c29a-434a-a785-4b4716ec131a",
   "metadata": {},
   "outputs": [],
   "source": [
    "df_person_and_road = df_new[df_new[\"ObjTag\"].isin([4, 7, 8])] "
   ]
  },
  {
   "cell_type": "code",
   "execution_count": 94,
   "id": "3340a46f-a910-4cc2-b5a5-27a6bfc79f3a",
   "metadata": {},
   "outputs": [
    {
     "name": "stderr",
     "output_type": "stream",
     "text": [
      "/home/nero/Projects/spawn_pedestrian_carla/env/lib/python3.8/site-packages/pandas/core/series.py:1021: SettingWithCopyWarning: \n",
      "A value is trying to be set on a copy of a slice from a DataFrame\n",
      "\n",
      "See the caveats in the documentation: https://pandas.pydata.org/pandas-docs/stable/user_guide/indexing.html#returning-a-view-versus-a-copy\n",
      "  self._where(~key, value, inplace=True)\n"
     ]
    }
   ],
   "source": [
    "df_person_and_road[\"ObjTag\"][df_person_and_road[\"ObjTag\"] == 8] = 0"
   ]
  },
  {
   "cell_type": "code",
   "execution_count": 95,
   "id": "062c4145-f626-4720-94dd-22c3174260ea",
   "metadata": {},
   "outputs": [
    {
     "name": "stderr",
     "output_type": "stream",
     "text": [
      "/home/nero/Projects/spawn_pedestrian_carla/env/lib/python3.8/site-packages/pandas/core/series.py:1021: SettingWithCopyWarning: \n",
      "A value is trying to be set on a copy of a slice from a DataFrame\n",
      "\n",
      "See the caveats in the documentation: https://pandas.pydata.org/pandas-docs/stable/user_guide/indexing.html#returning-a-view-versus-a-copy\n",
      "  self._where(~key, value, inplace=True)\n"
     ]
    }
   ],
   "source": [
    "df_person_and_road[\"ObjTag\"][df_person_and_road[\"ObjTag\"] == 7] = 0"
   ]
  },
  {
   "cell_type": "code",
   "execution_count": 96,
   "id": "e4f71e58-9681-4936-bde8-e55afe16f6ee",
   "metadata": {},
   "outputs": [
    {
     "name": "stderr",
     "output_type": "stream",
     "text": [
      "/home/nero/Projects/spawn_pedestrian_carla/env/lib/python3.8/site-packages/pandas/core/series.py:1021: SettingWithCopyWarning: \n",
      "A value is trying to be set on a copy of a slice from a DataFrame\n",
      "\n",
      "See the caveats in the documentation: https://pandas.pydata.org/pandas-docs/stable/user_guide/indexing.html#returning-a-view-versus-a-copy\n",
      "  self._where(~key, value, inplace=True)\n"
     ]
    }
   ],
   "source": [
    "df_person_and_road[\"ObjTag\"][df_person_and_road[\"ObjTag\"] == 4] = 1"
   ]
  },
  {
   "cell_type": "code",
   "execution_count": 98,
   "id": "4a050340-7f77-4ea7-a360-81b19110216a",
   "metadata": {},
   "outputs": [
    {
     "data": {
      "text/plain": [
       "array([0., 1.])"
      ]
     },
     "execution_count": 98,
     "metadata": {},
     "output_type": "execute_result"
    }
   ],
   "source": [
    "df_person_and_road[\"ObjTag\"].unique()"
   ]
  },
  {
   "cell_type": "markdown",
   "id": "3de73a31-2f6a-4bfb-ba47-840c46bb3c33",
   "metadata": {},
   "source": [
    "### 0 represents road, 1 represents person"
   ]
  },
  {
   "cell_type": "code",
   "execution_count": 99,
   "id": "2e1d0f5b-ef5f-485a-a192-bf76e49dec33",
   "metadata": {},
   "outputs": [
    {
     "data": {
      "text/html": [
       "<div>\n",
       "<style scoped>\n",
       "    .dataframe tbody tr th:only-of-type {\n",
       "        vertical-align: middle;\n",
       "    }\n",
       "\n",
       "    .dataframe tbody tr th {\n",
       "        vertical-align: top;\n",
       "    }\n",
       "\n",
       "    .dataframe thead th {\n",
       "        text-align: right;\n",
       "    }\n",
       "</style>\n",
       "<table border=\"1\" class=\"dataframe\">\n",
       "  <thead>\n",
       "    <tr style=\"text-align: right;\">\n",
       "      <th></th>\n",
       "      <th>//X</th>\n",
       "      <th>Y</th>\n",
       "      <th>Z</th>\n",
       "      <th>ObjIdx</th>\n",
       "      <th>ObjTag</th>\n",
       "    </tr>\n",
       "  </thead>\n",
       "  <tbody>\n",
       "    <tr>\n",
       "      <th>316</th>\n",
       "      <td>13.244883</td>\n",
       "      <td>-30.487314</td>\n",
       "      <td>-2.298460</td>\n",
       "      <td>0.0</td>\n",
       "      <td>0.0</td>\n",
       "    </tr>\n",
       "    <tr>\n",
       "      <th>317</th>\n",
       "      <td>13.058827</td>\n",
       "      <td>-30.567465</td>\n",
       "      <td>-2.298460</td>\n",
       "      <td>0.0</td>\n",
       "      <td>0.0</td>\n",
       "    </tr>\n",
       "    <tr>\n",
       "      <th>318</th>\n",
       "      <td>12.872343</td>\n",
       "      <td>-30.646477</td>\n",
       "      <td>-2.298460</td>\n",
       "      <td>0.0</td>\n",
       "      <td>0.0</td>\n",
       "    </tr>\n",
       "    <tr>\n",
       "      <th>319</th>\n",
       "      <td>12.685312</td>\n",
       "      <td>-30.724356</td>\n",
       "      <td>-2.298460</td>\n",
       "      <td>0.0</td>\n",
       "      <td>0.0</td>\n",
       "    </tr>\n",
       "    <tr>\n",
       "      <th>320</th>\n",
       "      <td>12.497812</td>\n",
       "      <td>-30.801088</td>\n",
       "      <td>-2.298460</td>\n",
       "      <td>0.0</td>\n",
       "      <td>0.0</td>\n",
       "    </tr>\n",
       "    <tr>\n",
       "      <th>...</th>\n",
       "      <td>...</td>\n",
       "      <td>...</td>\n",
       "      <td>...</td>\n",
       "      <td>...</td>\n",
       "      <td>...</td>\n",
       "    </tr>\n",
       "    <tr>\n",
       "      <th>23217</th>\n",
       "      <td>6.670547</td>\n",
       "      <td>-2.300796</td>\n",
       "      <td>-2.349909</td>\n",
       "      <td>0.0</td>\n",
       "      <td>0.0</td>\n",
       "    </tr>\n",
       "    <tr>\n",
       "      <th>23218</th>\n",
       "      <td>6.654882</td>\n",
       "      <td>-2.340845</td>\n",
       "      <td>-2.349350</td>\n",
       "      <td>0.0</td>\n",
       "      <td>0.0</td>\n",
       "    </tr>\n",
       "    <tr>\n",
       "      <th>23219</th>\n",
       "      <td>6.639102</td>\n",
       "      <td>-2.380889</td>\n",
       "      <td>-2.348879</td>\n",
       "      <td>0.0</td>\n",
       "      <td>0.0</td>\n",
       "    </tr>\n",
       "    <tr>\n",
       "      <th>23220</th>\n",
       "      <td>6.623398</td>\n",
       "      <td>-2.420908</td>\n",
       "      <td>-2.348494</td>\n",
       "      <td>0.0</td>\n",
       "      <td>0.0</td>\n",
       "    </tr>\n",
       "    <tr>\n",
       "      <th>23221</th>\n",
       "      <td>6.607812</td>\n",
       "      <td>-2.460957</td>\n",
       "      <td>-2.348233</td>\n",
       "      <td>0.0</td>\n",
       "      <td>0.0</td>\n",
       "    </tr>\n",
       "  </tbody>\n",
       "</table>\n",
       "<p>19461 rows × 5 columns</p>\n",
       "</div>"
      ],
      "text/plain": [
       "             //X          Y         Z  ObjIdx  ObjTag\n",
       "316    13.244883 -30.487314 -2.298460     0.0     0.0\n",
       "317    13.058827 -30.567465 -2.298460     0.0     0.0\n",
       "318    12.872343 -30.646477 -2.298460     0.0     0.0\n",
       "319    12.685312 -30.724356 -2.298460     0.0     0.0\n",
       "320    12.497812 -30.801088 -2.298460     0.0     0.0\n",
       "...          ...        ...       ...     ...     ...\n",
       "23217   6.670547  -2.300796 -2.349909     0.0     0.0\n",
       "23218   6.654882  -2.340845 -2.349350     0.0     0.0\n",
       "23219   6.639102  -2.380889 -2.348879     0.0     0.0\n",
       "23220   6.623398  -2.420908 -2.348494     0.0     0.0\n",
       "23221   6.607812  -2.460957 -2.348233     0.0     0.0\n",
       "\n",
       "[19461 rows x 5 columns]"
      ]
     },
     "execution_count": 99,
     "metadata": {},
     "output_type": "execute_result"
    }
   ],
   "source": [
    "df_person_and_road"
   ]
  },
  {
   "cell_type": "markdown",
   "id": "937e8b8f-bf09-4995-8811-1b8e84116e71",
   "metadata": {},
   "source": [
    "## finding features for testing"
   ]
  },
  {
   "cell_type": "code",
   "execution_count": 118,
   "id": "1abd3304-9892-49d8-9da6-ea1181f048fb",
   "metadata": {},
   "outputs": [],
   "source": [
    "df_person_and_road = df_person_and_road.reset_index(drop=True) # Before proceeding need to reset index so no complexity arises when concating later"
   ]
  },
  {
   "cell_type": "code",
   "execution_count": 121,
   "id": "545510e8-c489-440b-8509-22681bc0f49d",
   "metadata": {
    "scrolled": true
   },
   "outputs": [
    {
     "data": {
      "text/plain": [
       "array([0., 1.])"
      ]
     },
     "execution_count": 121,
     "metadata": {},
     "output_type": "execute_result"
    }
   ],
   "source": [
    "import pickle\n",
    "from surface_variation import PointCloudAnalysis\n",
    "import open3d as o3d\n",
    "import pandas as pd\n",
    "\n",
    "\n",
    "kdtreeseachknn = o3d.geometry.KDTreeSearchParamKNN(50) # 50 Nearest Neighbour to calculate covariance matrix\n",
    "\n",
    "df_feature_with_label = pd.DataFrame(columns=[\"surface_variation\",\"planarity\",\"sphericity\",\"label\",])\n",
    "pcd = PointCloudAnalysis(df_person_and_road.iloc[:, :3].to_numpy(), kdtreeseachknn)\n",
    "df_feature_with_label[\"surface_variation\"] = pd.Series(pcd.get_normalized_surface_variation())\n",
    "df_feature_with_label[\"planarity\"] = pd.Series(pcd.get_normalized_planarity(), )\n",
    "df_feature_with_label[\"sphericity\"]  = pd.Series(pcd.get_normalized_sphericity(), )\n",
    "df_feature_with_label[\"label\"] = pd.Series(df_person_and_road[\"ObjTag\"])\n",
    "\n",
    "\n",
    "df_feature_with_label[\"label\"].unique()\n",
    "\n",
    "\n",
    "    "
   ]
  },
  {
   "cell_type": "code",
   "execution_count": 122,
   "id": "7f6c3c00-59fb-4f72-bfe3-898bc1e572b9",
   "metadata": {},
   "outputs": [
    {
     "data": {
      "text/html": [
       "<div>\n",
       "<style scoped>\n",
       "    .dataframe tbody tr th:only-of-type {\n",
       "        vertical-align: middle;\n",
       "    }\n",
       "\n",
       "    .dataframe tbody tr th {\n",
       "        vertical-align: top;\n",
       "    }\n",
       "\n",
       "    .dataframe thead th {\n",
       "        text-align: right;\n",
       "    }\n",
       "</style>\n",
       "<table border=\"1\" class=\"dataframe\">\n",
       "  <thead>\n",
       "    <tr style=\"text-align: right;\">\n",
       "      <th></th>\n",
       "      <th>surface_variation</th>\n",
       "      <th>planarity</th>\n",
       "      <th>sphericity</th>\n",
       "      <th>label</th>\n",
       "    </tr>\n",
       "  </thead>\n",
       "  <tbody>\n",
       "    <tr>\n",
       "      <th>count</th>\n",
       "      <td>1.946100e+04</td>\n",
       "      <td>19461.000000</td>\n",
       "      <td>1.946100e+04</td>\n",
       "      <td>19461.000000</td>\n",
       "    </tr>\n",
       "    <tr>\n",
       "      <th>mean</th>\n",
       "      <td>1.846157e-02</td>\n",
       "      <td>0.699760</td>\n",
       "      <td>1.896145e-02</td>\n",
       "      <td>0.022404</td>\n",
       "    </tr>\n",
       "    <tr>\n",
       "      <th>std</th>\n",
       "      <td>5.038581e-02</td>\n",
       "      <td>0.182949</td>\n",
       "      <td>5.295642e-02</td>\n",
       "      <td>0.147997</td>\n",
       "    </tr>\n",
       "    <tr>\n",
       "      <th>min</th>\n",
       "      <td>0.000000e+00</td>\n",
       "      <td>0.000000</td>\n",
       "      <td>0.000000e+00</td>\n",
       "      <td>0.000000</td>\n",
       "    </tr>\n",
       "    <tr>\n",
       "      <th>25%</th>\n",
       "      <td>1.109508e-12</td>\n",
       "      <td>0.617571</td>\n",
       "      <td>9.749001e-13</td>\n",
       "      <td>0.000000</td>\n",
       "    </tr>\n",
       "    <tr>\n",
       "      <th>50%</th>\n",
       "      <td>1.444936e-12</td>\n",
       "      <td>0.727567</td>\n",
       "      <td>1.318519e-12</td>\n",
       "      <td>0.000000</td>\n",
       "    </tr>\n",
       "    <tr>\n",
       "      <th>75%</th>\n",
       "      <td>1.106620e-03</td>\n",
       "      <td>0.822880</td>\n",
       "      <td>1.018165e-03</td>\n",
       "      <td>0.000000</td>\n",
       "    </tr>\n",
       "    <tr>\n",
       "      <th>max</th>\n",
       "      <td>1.000000e+00</td>\n",
       "      <td>1.000000</td>\n",
       "      <td>1.000000e+00</td>\n",
       "      <td>1.000000</td>\n",
       "    </tr>\n",
       "  </tbody>\n",
       "</table>\n",
       "</div>"
      ],
      "text/plain": [
       "       surface_variation     planarity    sphericity         label\n",
       "count       1.946100e+04  19461.000000  1.946100e+04  19461.000000\n",
       "mean        1.846157e-02      0.699760  1.896145e-02      0.022404\n",
       "std         5.038581e-02      0.182949  5.295642e-02      0.147997\n",
       "min         0.000000e+00      0.000000  0.000000e+00      0.000000\n",
       "25%         1.109508e-12      0.617571  9.749001e-13      0.000000\n",
       "50%         1.444936e-12      0.727567  1.318519e-12      0.000000\n",
       "75%         1.106620e-03      0.822880  1.018165e-03      0.000000\n",
       "max         1.000000e+00      1.000000  1.000000e+00      1.000000"
      ]
     },
     "execution_count": 122,
     "metadata": {},
     "output_type": "execute_result"
    }
   ],
   "source": [
    "df_feature_with_label.describe()"
   ]
  },
  {
   "cell_type": "code",
   "execution_count": 123,
   "id": "8564dd76-a045-496a-9d6c-d46b15edcb19",
   "metadata": {},
   "outputs": [
    {
     "data": {
      "text/html": [
       "<div>\n",
       "<style scoped>\n",
       "    .dataframe tbody tr th:only-of-type {\n",
       "        vertical-align: middle;\n",
       "    }\n",
       "\n",
       "    .dataframe tbody tr th {\n",
       "        vertical-align: top;\n",
       "    }\n",
       "\n",
       "    .dataframe thead th {\n",
       "        text-align: right;\n",
       "    }\n",
       "</style>\n",
       "<table border=\"1\" class=\"dataframe\">\n",
       "  <thead>\n",
       "    <tr style=\"text-align: right;\">\n",
       "      <th></th>\n",
       "      <th>surface_variation</th>\n",
       "      <th>planarity</th>\n",
       "      <th>sphericity</th>\n",
       "      <th>label</th>\n",
       "    </tr>\n",
       "  </thead>\n",
       "  <tbody>\n",
       "    <tr>\n",
       "      <th>0</th>\n",
       "      <td>0.001107</td>\n",
       "      <td>0.30431</td>\n",
       "      <td>0.000876</td>\n",
       "      <td>0.0</td>\n",
       "    </tr>\n",
       "    <tr>\n",
       "      <th>1</th>\n",
       "      <td>0.001107</td>\n",
       "      <td>0.30431</td>\n",
       "      <td>0.000876</td>\n",
       "      <td>0.0</td>\n",
       "    </tr>\n",
       "    <tr>\n",
       "      <th>2</th>\n",
       "      <td>0.001107</td>\n",
       "      <td>0.30431</td>\n",
       "      <td>0.000876</td>\n",
       "      <td>0.0</td>\n",
       "    </tr>\n",
       "    <tr>\n",
       "      <th>3</th>\n",
       "      <td>0.001107</td>\n",
       "      <td>0.30431</td>\n",
       "      <td>0.000876</td>\n",
       "      <td>0.0</td>\n",
       "    </tr>\n",
       "    <tr>\n",
       "      <th>4</th>\n",
       "      <td>0.001107</td>\n",
       "      <td>0.30431</td>\n",
       "      <td>0.000876</td>\n",
       "      <td>0.0</td>\n",
       "    </tr>\n",
       "  </tbody>\n",
       "</table>\n",
       "</div>"
      ],
      "text/plain": [
       "   surface_variation  planarity  sphericity  label\n",
       "0           0.001107    0.30431    0.000876    0.0\n",
       "1           0.001107    0.30431    0.000876    0.0\n",
       "2           0.001107    0.30431    0.000876    0.0\n",
       "3           0.001107    0.30431    0.000876    0.0\n",
       "4           0.001107    0.30431    0.000876    0.0"
      ]
     },
     "execution_count": 123,
     "metadata": {},
     "output_type": "execute_result"
    }
   ],
   "source": [
    "df_feature_with_label.head()"
   ]
  },
  {
   "cell_type": "code",
   "execution_count": null,
   "id": "c65eed89-35a6-4030-aa48-eb2a2964f2fc",
   "metadata": {},
   "outputs": [],
   "source": []
  },
  {
   "cell_type": "markdown",
   "id": "39a31a22-c32d-44ed-9a1b-b9b7f6f1218f",
   "metadata": {},
   "source": [
    "#### Now checking the features and finding the accuracy percentage"
   ]
  },
  {
   "cell_type": "code",
   "execution_count": 130,
   "id": "8bf9b5c2-9a11-4eb2-bdbc-6326089ac11e",
   "metadata": {},
   "outputs": [],
   "source": [
    "X_check = df_feature_with_label.iloc[:, :3]"
   ]
  },
  {
   "cell_type": "code",
   "execution_count": 131,
   "id": "5c1404f5-bc4b-49d9-8474-da7ac392c9ae",
   "metadata": {},
   "outputs": [
    {
     "data": {
      "text/plain": [
       "Index(['surface_variation', 'planarity', 'sphericity'], dtype='object')"
      ]
     },
     "execution_count": 131,
     "metadata": {},
     "output_type": "execute_result"
    }
   ],
   "source": [
    "X_check.columns"
   ]
  },
  {
   "cell_type": "code",
   "execution_count": 134,
   "id": "a7ffe129-2407-4713-8c58-d1da40e714b9",
   "metadata": {},
   "outputs": [
    {
     "data": {
      "text/plain": [
       "0        0.0\n",
       "1        0.0\n",
       "2        0.0\n",
       "3        0.0\n",
       "4        0.0\n",
       "        ... \n",
       "19456    0.0\n",
       "19457    0.0\n",
       "19458    0.0\n",
       "19459    0.0\n",
       "19460    0.0\n",
       "Name: label, Length: 19461, dtype: float64"
      ]
     },
     "execution_count": 134,
     "metadata": {},
     "output_type": "execute_result"
    }
   ],
   "source": [
    "y_check = df_feature_with_label.iloc[:, 3]\n",
    "y_check"
   ]
  },
  {
   "cell_type": "code",
   "execution_count": 135,
   "id": "dba0737e-c665-49df-bf36-84aa4ebad3ac",
   "metadata": {},
   "outputs": [],
   "source": [
    "y_pred = classifier_model.predict(X_check)"
   ]
  },
  {
   "cell_type": "code",
   "execution_count": 136,
   "id": "cf54578e-c7c6-4c0e-b033-8fe1e3c2470a",
   "metadata": {},
   "outputs": [],
   "source": [
    "from sklearn.metrics import confusion_matrix\n",
    "\n",
    "\n",
    "cm = confusion_matrix(y_check, y_pred)"
   ]
  },
  {
   "cell_type": "code",
   "execution_count": 137,
   "id": "4c92667b-6df2-41c1-a261-2b20bc9cb48a",
   "metadata": {},
   "outputs": [
    {
     "data": {
      "text/plain": [
       "array([[17443,  1582],\n",
       "       [   71,   365]])"
      ]
     },
     "execution_count": 137,
     "metadata": {},
     "output_type": "execute_result"
    }
   ],
   "source": [
    "cm"
   ]
  },
  {
   "cell_type": "code",
   "execution_count": 138,
   "id": "7720ad13-532a-456d-89db-73a8a1c5ac82",
   "metadata": {},
   "outputs": [
    {
     "data": {
      "image/png": "[encoded data removed]",
      "text/plain": [
       "<Figure size 400x300 with 1 Axes>"
      ]
     },
     "metadata": {},
     "output_type": "display_data"
    }
   ],
   "source": [
    "# Plot the confusion matrix using seaborn\n",
    "plt.figure(figsize=(4, 3))\n",
    "sns.heatmap(cm, annot=True, fmt='d', cmap='Blues', cbar=False, square=True,\n",
    "            xticklabels=['Road (0)', 'Person (1)'],\n",
    "            yticklabels=['Road (0)', 'Person (1)'])\n",
    "plt.xlabel('Predicted Label')\n",
    "plt.ylabel('True Label')\n",
    "plt.title('Confusion Matrix')\n",
    "plt.show()"
   ]
  },
  {
   "cell_type": "markdown",
   "id": "65052e75-ec48-4101-a619-8dc96d5e1dc8",
   "metadata": {},
   "source": [
    "##### Accuracy Score"
   ]
  },
  {
   "cell_type": "code",
   "execution_count": 139,
   "id": "5b668036-5f7a-4955-8fd0-480b2e54d631",
   "metadata": {},
   "outputs": [
    {
     "name": "stdout",
     "output_type": "stream",
     "text": [
      "Model Accuracy on New Data: 91.51%\n"
     ]
    }
   ],
   "source": [
    "# Calculate and print the accuracy on the validation set\n",
    "accuracy_val = accuracy_score(y_check, y_pred)\n",
    "print(f\"Model Accuracy on New Data: {accuracy_val:.2%}\")"
   ]
  },
  {
   "cell_type": "code",
   "execution_count": 152,
   "id": "dd78618b-c3ff-458f-818f-f6e3a9b69145",
   "metadata": {},
   "outputs": [
    {
     "data": {
      "text/plain": [
       "Index(['surface_variation', 'planarity', 'sphericity', 'label', 'label_pred'], dtype='object')"
      ]
     },
     "execution_count": 152,
     "metadata": {},
     "output_type": "execute_result"
    }
   ],
   "source": [
    "df_combined = pd.concat([df_feature_with_label, pd.Series(y_pred)], axis=1)\n",
    "df_combined.rename(columns={0 :\"label_pred\",}, inplace=True)\n",
    "df_combined.columns"
   ]
  },
  {
   "cell_type": "code",
   "execution_count": 153,
   "id": "d099028f-a731-47cb-83f8-ab4f25b051ae",
   "metadata": {},
   "outputs": [
    {
     "data": {
      "text/html": [
       "<div>\n",
       "<style scoped>\n",
       "    .dataframe tbody tr th:only-of-type {\n",
       "        vertical-align: middle;\n",
       "    }\n",
       "\n",
       "    .dataframe tbody tr th {\n",
       "        vertical-align: top;\n",
       "    }\n",
       "\n",
       "    .dataframe thead th {\n",
       "        text-align: right;\n",
       "    }\n",
       "</style>\n",
       "<table border=\"1\" class=\"dataframe\">\n",
       "  <thead>\n",
       "    <tr style=\"text-align: right;\">\n",
       "      <th></th>\n",
       "      <th>surface_variation</th>\n",
       "      <th>planarity</th>\n",
       "      <th>sphericity</th>\n",
       "      <th>label</th>\n",
       "      <th>label_pred</th>\n",
       "    </tr>\n",
       "  </thead>\n",
       "  <tbody>\n",
       "    <tr>\n",
       "      <th>0</th>\n",
       "      <td>0.001107</td>\n",
       "      <td>0.304310</td>\n",
       "      <td>0.000876</td>\n",
       "      <td>0.0</td>\n",
       "      <td>1</td>\n",
       "    </tr>\n",
       "    <tr>\n",
       "      <th>1</th>\n",
       "      <td>0.001107</td>\n",
       "      <td>0.304310</td>\n",
       "      <td>0.000876</td>\n",
       "      <td>0.0</td>\n",
       "      <td>1</td>\n",
       "    </tr>\n",
       "    <tr>\n",
       "      <th>2</th>\n",
       "      <td>0.001107</td>\n",
       "      <td>0.304310</td>\n",
       "      <td>0.000876</td>\n",
       "      <td>0.0</td>\n",
       "      <td>1</td>\n",
       "    </tr>\n",
       "    <tr>\n",
       "      <th>3</th>\n",
       "      <td>0.001107</td>\n",
       "      <td>0.304310</td>\n",
       "      <td>0.000876</td>\n",
       "      <td>0.0</td>\n",
       "      <td>1</td>\n",
       "    </tr>\n",
       "    <tr>\n",
       "      <th>4</th>\n",
       "      <td>0.001107</td>\n",
       "      <td>0.304310</td>\n",
       "      <td>0.000876</td>\n",
       "      <td>0.0</td>\n",
       "      <td>1</td>\n",
       "    </tr>\n",
       "    <tr>\n",
       "      <th>...</th>\n",
       "      <td>...</td>\n",
       "      <td>...</td>\n",
       "      <td>...</td>\n",
       "      <td>...</td>\n",
       "      <td>...</td>\n",
       "    </tr>\n",
       "    <tr>\n",
       "      <th>19456</th>\n",
       "      <td>0.049855</td>\n",
       "      <td>0.255797</td>\n",
       "      <td>0.038539</td>\n",
       "      <td>0.0</td>\n",
       "      <td>1</td>\n",
       "    </tr>\n",
       "    <tr>\n",
       "      <th>19457</th>\n",
       "      <td>0.046449</td>\n",
       "      <td>0.299899</td>\n",
       "      <td>0.037082</td>\n",
       "      <td>0.0</td>\n",
       "      <td>1</td>\n",
       "    </tr>\n",
       "    <tr>\n",
       "      <th>19458</th>\n",
       "      <td>0.042796</td>\n",
       "      <td>0.295262</td>\n",
       "      <td>0.034017</td>\n",
       "      <td>0.0</td>\n",
       "      <td>1</td>\n",
       "    </tr>\n",
       "    <tr>\n",
       "      <th>19459</th>\n",
       "      <td>0.038807</td>\n",
       "      <td>0.335232</td>\n",
       "      <td>0.031728</td>\n",
       "      <td>0.0</td>\n",
       "      <td>1</td>\n",
       "    </tr>\n",
       "    <tr>\n",
       "      <th>19460</th>\n",
       "      <td>0.034780</td>\n",
       "      <td>0.360202</td>\n",
       "      <td>0.028916</td>\n",
       "      <td>0.0</td>\n",
       "      <td>1</td>\n",
       "    </tr>\n",
       "  </tbody>\n",
       "</table>\n",
       "<p>19461 rows × 5 columns</p>\n",
       "</div>"
      ],
      "text/plain": [
       "       surface_variation  planarity  sphericity  label  label_pred\n",
       "0               0.001107   0.304310    0.000876    0.0           1\n",
       "1               0.001107   0.304310    0.000876    0.0           1\n",
       "2               0.001107   0.304310    0.000876    0.0           1\n",
       "3               0.001107   0.304310    0.000876    0.0           1\n",
       "4               0.001107   0.304310    0.000876    0.0           1\n",
       "...                  ...        ...         ...    ...         ...\n",
       "19456           0.049855   0.255797    0.038539    0.0           1\n",
       "19457           0.046449   0.299899    0.037082    0.0           1\n",
       "19458           0.042796   0.295262    0.034017    0.0           1\n",
       "19459           0.038807   0.335232    0.031728    0.0           1\n",
       "19460           0.034780   0.360202    0.028916    0.0           1\n",
       "\n",
       "[19461 rows x 5 columns]"
      ]
     },
     "execution_count": 153,
     "metadata": {},
     "output_type": "execute_result"
    }
   ],
   "source": [
    "df_combined"
   ]
  },
  {
   "cell_type": "code",
   "execution_count": null,
   "id": "f57b3e9e-84e7-47cd-9a67-ef58fca66821",
   "metadata": {},
   "outputs": [],
   "source": [
    "# doesnot makes sense to save features csv"
   ]
  },
  {
   "cell_type": "code",
   "execution_count": 161,
   "id": "60cbcb7b-296e-4cab-826a-71914927e2e1",
   "metadata": {},
   "outputs": [],
   "source": [
    "df_combined_xyz_features_label = pd.concat([df_combined, df_person_and_road.iloc[:,:3]], axis=1)"
   ]
  },
  {
   "cell_type": "code",
   "execution_count": 162,
   "id": "77a92dc5-84dd-430f-8bbc-ce5799d14867",
   "metadata": {},
   "outputs": [
    {
     "data": {
      "text/html": [
       "<div>\n",
       "<style scoped>\n",
       "    .dataframe tbody tr th:only-of-type {\n",
       "        vertical-align: middle;\n",
       "    }\n",
       "\n",
       "    .dataframe tbody tr th {\n",
       "        vertical-align: top;\n",
       "    }\n",
       "\n",
       "    .dataframe thead th {\n",
       "        text-align: right;\n",
       "    }\n",
       "</style>\n",
       "<table border=\"1\" class=\"dataframe\">\n",
       "  <thead>\n",
       "    <tr style=\"text-align: right;\">\n",
       "      <th></th>\n",
       "      <th>surface_variation</th>\n",
       "      <th>planarity</th>\n",
       "      <th>sphericity</th>\n",
       "      <th>label</th>\n",
       "      <th>label_pred</th>\n",
       "      <th>//X</th>\n",
       "      <th>Y</th>\n",
       "      <th>Z</th>\n",
       "    </tr>\n",
       "  </thead>\n",
       "  <tbody>\n",
       "    <tr>\n",
       "      <th>0</th>\n",
       "      <td>0.001107</td>\n",
       "      <td>0.304310</td>\n",
       "      <td>0.000876</td>\n",
       "      <td>0.0</td>\n",
       "      <td>1</td>\n",
       "      <td>13.244883</td>\n",
       "      <td>-30.487314</td>\n",
       "      <td>-2.298460</td>\n",
       "    </tr>\n",
       "    <tr>\n",
       "      <th>1</th>\n",
       "      <td>0.001107</td>\n",
       "      <td>0.304310</td>\n",
       "      <td>0.000876</td>\n",
       "      <td>0.0</td>\n",
       "      <td>1</td>\n",
       "      <td>13.058827</td>\n",
       "      <td>-30.567465</td>\n",
       "      <td>-2.298460</td>\n",
       "    </tr>\n",
       "    <tr>\n",
       "      <th>2</th>\n",
       "      <td>0.001107</td>\n",
       "      <td>0.304310</td>\n",
       "      <td>0.000876</td>\n",
       "      <td>0.0</td>\n",
       "      <td>1</td>\n",
       "      <td>12.872343</td>\n",
       "      <td>-30.646477</td>\n",
       "      <td>-2.298460</td>\n",
       "    </tr>\n",
       "    <tr>\n",
       "      <th>3</th>\n",
       "      <td>0.001107</td>\n",
       "      <td>0.304310</td>\n",
       "      <td>0.000876</td>\n",
       "      <td>0.0</td>\n",
       "      <td>1</td>\n",
       "      <td>12.685312</td>\n",
       "      <td>-30.724356</td>\n",
       "      <td>-2.298460</td>\n",
       "    </tr>\n",
       "    <tr>\n",
       "      <th>4</th>\n",
       "      <td>0.001107</td>\n",
       "      <td>0.304310</td>\n",
       "      <td>0.000876</td>\n",
       "      <td>0.0</td>\n",
       "      <td>1</td>\n",
       "      <td>12.497812</td>\n",
       "      <td>-30.801088</td>\n",
       "      <td>-2.298460</td>\n",
       "    </tr>\n",
       "    <tr>\n",
       "      <th>...</th>\n",
       "      <td>...</td>\n",
       "      <td>...</td>\n",
       "      <td>...</td>\n",
       "      <td>...</td>\n",
       "      <td>...</td>\n",
       "      <td>...</td>\n",
       "      <td>...</td>\n",
       "      <td>...</td>\n",
       "    </tr>\n",
       "    <tr>\n",
       "      <th>19456</th>\n",
       "      <td>0.049855</td>\n",
       "      <td>0.255797</td>\n",
       "      <td>0.038539</td>\n",
       "      <td>0.0</td>\n",
       "      <td>1</td>\n",
       "      <td>6.670547</td>\n",
       "      <td>-2.300796</td>\n",
       "      <td>-2.349909</td>\n",
       "    </tr>\n",
       "    <tr>\n",
       "      <th>19457</th>\n",
       "      <td>0.046449</td>\n",
       "      <td>0.299899</td>\n",
       "      <td>0.037082</td>\n",
       "      <td>0.0</td>\n",
       "      <td>1</td>\n",
       "      <td>6.654882</td>\n",
       "      <td>-2.340845</td>\n",
       "      <td>-2.349350</td>\n",
       "    </tr>\n",
       "    <tr>\n",
       "      <th>19458</th>\n",
       "      <td>0.042796</td>\n",
       "      <td>0.295262</td>\n",
       "      <td>0.034017</td>\n",
       "      <td>0.0</td>\n",
       "      <td>1</td>\n",
       "      <td>6.639102</td>\n",
       "      <td>-2.380889</td>\n",
       "      <td>-2.348879</td>\n",
       "    </tr>\n",
       "    <tr>\n",
       "      <th>19459</th>\n",
       "      <td>0.038807</td>\n",
       "      <td>0.335232</td>\n",
       "      <td>0.031728</td>\n",
       "      <td>0.0</td>\n",
       "      <td>1</td>\n",
       "      <td>6.623398</td>\n",
       "      <td>-2.420908</td>\n",
       "      <td>-2.348494</td>\n",
       "    </tr>\n",
       "    <tr>\n",
       "      <th>19460</th>\n",
       "      <td>0.034780</td>\n",
       "      <td>0.360202</td>\n",
       "      <td>0.028916</td>\n",
       "      <td>0.0</td>\n",
       "      <td>1</td>\n",
       "      <td>6.607812</td>\n",
       "      <td>-2.460957</td>\n",
       "      <td>-2.348233</td>\n",
       "    </tr>\n",
       "  </tbody>\n",
       "</table>\n",
       "<p>19461 rows × 8 columns</p>\n",
       "</div>"
      ],
      "text/plain": [
       "       surface_variation  planarity  sphericity  label  label_pred        //X  \\\n",
       "0               0.001107   0.304310    0.000876    0.0           1  13.244883   \n",
       "1               0.001107   0.304310    0.000876    0.0           1  13.058827   \n",
       "2               0.001107   0.304310    0.000876    0.0           1  12.872343   \n",
       "3               0.001107   0.304310    0.000876    0.0           1  12.685312   \n",
       "4               0.001107   0.304310    0.000876    0.0           1  12.497812   \n",
       "...                  ...        ...         ...    ...         ...        ...   \n",
       "19456           0.049855   0.255797    0.038539    0.0           1   6.670547   \n",
       "19457           0.046449   0.299899    0.037082    0.0           1   6.654882   \n",
       "19458           0.042796   0.295262    0.034017    0.0           1   6.639102   \n",
       "19459           0.038807   0.335232    0.031728    0.0           1   6.623398   \n",
       "19460           0.034780   0.360202    0.028916    0.0           1   6.607812   \n",
       "\n",
       "               Y         Z  \n",
       "0     -30.487314 -2.298460  \n",
       "1     -30.567465 -2.298460  \n",
       "2     -30.646477 -2.298460  \n",
       "3     -30.724356 -2.298460  \n",
       "4     -30.801088 -2.298460  \n",
       "...          ...       ...  \n",
       "19456  -2.300796 -2.349909  \n",
       "19457  -2.340845 -2.349350  \n",
       "19458  -2.380889 -2.348879  \n",
       "19459  -2.420908 -2.348494  \n",
       "19460  -2.460957 -2.348233  \n",
       "\n",
       "[19461 rows x 8 columns]"
      ]
     },
     "execution_count": 162,
     "metadata": {},
     "output_type": "execute_result"
    }
   ],
   "source": [
    "df_combined_xyz_features_label"
   ]
  },
  {
   "cell_type": "code",
   "execution_count": null,
   "id": "a08f3a1a-c000-4394-ae95-39d825e204e6",
   "metadata": {},
   "outputs": [],
   "source": []
  },
  {
   "cell_type": "code",
   "execution_count": 163,
   "id": "b831810a-95f9-41f8-8adc-61e6a631af29",
   "metadata": {},
   "outputs": [],
   "source": [
    "df_combined_xyz_features_label.to_csv(\"csv/model_prediction.csv\", index=False)"
   ]
  }
 ],
 "metadata": {
  "kernelspec": {
   "display_name": "Python 3 (ipykernel)",
   "language": "python",
   "name": "python3"
  },
  "language_info": {
   "codemirror_mode": {
    "name": "ipython",
    "version": 3
   },
   "file_extension": ".py",
   "mimetype": "text/x-python",
   "name": "python",
   "nbconvert_exporter": "python",
   "pygments_lexer": "ipython3",
   "version": "3.8.10"
  }
 },
 "nbformat": 4,
 "nbformat_minor": 5
}
