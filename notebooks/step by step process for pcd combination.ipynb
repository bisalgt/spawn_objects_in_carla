{
 "cells": [
  {
   "cell_type": "markdown",
   "id": "e4ccbf92-2bfd-44aa-b8b5-330921653d7f",
   "metadata": {},
   "source": [
    "# 1. Read the point cloud captured using ros topic from semantic lidar to get semantic data"
   ]
  },
  {
   "cell_type": "code",
   "execution_count": 3,
   "id": "67f07930-c7ae-422b-97a3-aa15d00a0332",
   "metadata": {},
   "outputs": [
    {
     "data": {
      "text/html": [
       "<div>\n",
       "<style scoped>\n",
       "    .dataframe tbody tr th:only-of-type {\n",
       "        vertical-align: middle;\n",
       "    }\n",
       "\n",
       "    .dataframe tbody tr th {\n",
       "        vertical-align: top;\n",
       "    }\n",
       "\n",
       "    .dataframe thead th {\n",
       "        text-align: right;\n",
       "    }\n",
       "</style>\n",
       "<table border=\"1\" class=\"dataframe\">\n",
       "  <thead>\n",
       "    <tr style=\"text-align: right;\">\n",
       "      <th></th>\n",
       "      <th>//X</th>\n",
       "      <th>Y</th>\n",
       "      <th>Z</th>\n",
       "      <th>ObjIdx</th>\n",
       "      <th>ObjTag</th>\n",
       "    </tr>\n",
       "  </thead>\n",
       "  <tbody>\n",
       "    <tr>\n",
       "      <th>0</th>\n",
       "      <td>-2.44912</td>\n",
       "      <td>7.664550</td>\n",
       "      <td>0.280984</td>\n",
       "      <td>0.0</td>\n",
       "      <td>5.0</td>\n",
       "    </tr>\n",
       "    <tr>\n",
       "      <th>1</th>\n",
       "      <td>-2.40729</td>\n",
       "      <td>7.695080</td>\n",
       "      <td>0.281560</td>\n",
       "      <td>0.0</td>\n",
       "      <td>5.0</td>\n",
       "    </tr>\n",
       "    <tr>\n",
       "      <th>2</th>\n",
       "      <td>7.16648</td>\n",
       "      <td>-8.060780</td>\n",
       "      <td>0.376651</td>\n",
       "      <td>415.0</td>\n",
       "      <td>5.0</td>\n",
       "    </tr>\n",
       "    <tr>\n",
       "      <th>3</th>\n",
       "      <td>7.10137</td>\n",
       "      <td>-8.086210</td>\n",
       "      <td>0.375811</td>\n",
       "      <td>415.0</td>\n",
       "      <td>5.0</td>\n",
       "    </tr>\n",
       "    <tr>\n",
       "      <th>4</th>\n",
       "      <td>7.13555</td>\n",
       "      <td>-8.225700</td>\n",
       "      <td>0.380266</td>\n",
       "      <td>415.0</td>\n",
       "      <td>18.0</td>\n",
       "    </tr>\n",
       "    <tr>\n",
       "      <th>...</th>\n",
       "      <td>...</td>\n",
       "      <td>...</td>\n",
       "      <td>...</td>\n",
       "      <td>...</td>\n",
       "      <td>...</td>\n",
       "    </tr>\n",
       "    <tr>\n",
       "      <th>29568</th>\n",
       "      <td>-5.19533</td>\n",
       "      <td>-0.158345</td>\n",
       "      <td>-2.401680</td>\n",
       "      <td>0.0</td>\n",
       "      <td>7.0</td>\n",
       "    </tr>\n",
       "    <tr>\n",
       "      <th>29569</th>\n",
       "      <td>-5.19619</td>\n",
       "      <td>-0.126680</td>\n",
       "      <td>-2.401680</td>\n",
       "      <td>0.0</td>\n",
       "      <td>7.0</td>\n",
       "    </tr>\n",
       "    <tr>\n",
       "      <th>29570</th>\n",
       "      <td>-5.19689</td>\n",
       "      <td>-0.095015</td>\n",
       "      <td>-2.401680</td>\n",
       "      <td>0.0</td>\n",
       "      <td>7.0</td>\n",
       "    </tr>\n",
       "    <tr>\n",
       "      <th>29571</th>\n",
       "      <td>-5.19736</td>\n",
       "      <td>-0.063345</td>\n",
       "      <td>-2.401680</td>\n",
       "      <td>0.0</td>\n",
       "      <td>7.0</td>\n",
       "    </tr>\n",
       "    <tr>\n",
       "      <th>29572</th>\n",
       "      <td>-5.19766</td>\n",
       "      <td>-0.031670</td>\n",
       "      <td>-2.401680</td>\n",
       "      <td>0.0</td>\n",
       "      <td>7.0</td>\n",
       "    </tr>\n",
       "  </tbody>\n",
       "</table>\n",
       "<p>29573 rows × 5 columns</p>\n",
       "</div>"
      ],
      "text/plain": [
       "           //X         Y         Z  ObjIdx  ObjTag\n",
       "0     -2.44912  7.664550  0.280984     0.0     5.0\n",
       "1     -2.40729  7.695080  0.281560     0.0     5.0\n",
       "2      7.16648 -8.060780  0.376651   415.0     5.0\n",
       "3      7.10137 -8.086210  0.375811   415.0     5.0\n",
       "4      7.13555 -8.225700  0.380266   415.0    18.0\n",
       "...        ...       ...       ...     ...     ...\n",
       "29568 -5.19533 -0.158345 -2.401680     0.0     7.0\n",
       "29569 -5.19619 -0.126680 -2.401680     0.0     7.0\n",
       "29570 -5.19689 -0.095015 -2.401680     0.0     7.0\n",
       "29571 -5.19736 -0.063345 -2.401680     0.0     7.0\n",
       "29572 -5.19766 -0.031670 -2.401680     0.0     7.0\n",
       "\n",
       "[29573 rows x 5 columns]"
      ]
     },
     "execution_count": 3,
     "metadata": {},
     "output_type": "execute_result"
    }
   ],
   "source": [
    "import pandas as pd\n",
    "\n",
    "df_road_person = pd.read_csv(\"/home/nero/Documents/person and road for semantic analysis.csv\")\n",
    "df_road_person"
   ]
  },
  {
   "cell_type": "code",
   "execution_count": 4,
   "id": "41491201-e231-4321-b0e8-81fa126c4b87",
   "metadata": {},
   "outputs": [
    {
     "data": {
      "text/plain": [
       "array([  0., 415., 580.])"
      ]
     },
     "execution_count": 4,
     "metadata": {},
     "output_type": "execute_result"
    }
   ],
   "source": [
    "df_road_person[\"ObjIdx\"].unique()"
   ]
  },
  {
   "cell_type": "markdown",
   "id": "40698b59-e090-4e24-8ea3-cb97a86fd067",
   "metadata": {},
   "source": [
    "## O label is for road or fixed object, 580 label is for person, 415 label maybe for poles or some traffic light"
   ]
  },
  {
   "cell_type": "markdown",
   "id": "fb003752-b54d-48e8-ad0f-53efb5af3952",
   "metadata": {},
   "source": [
    "# 2. Seperate person and road from the cloud and test using CloudCompare by visualizing"
   ]
  },
  {
   "cell_type": "markdown",
   "id": "ca99223b-8fdd-49a8-872d-04b65627c543",
   "metadata": {},
   "source": [
    "## Reseting the Index is important! When concating two dataframe, it will create problems so better reset it now."
   ]
  },
  {
   "cell_type": "code",
   "execution_count": 22,
   "id": "1c9da3f2-988f-4de0-a7da-44bbd79a7a51",
   "metadata": {},
   "outputs": [
    {
     "data": {
      "text/html": [
       "<div>\n",
       "<style scoped>\n",
       "    .dataframe tbody tr th:only-of-type {\n",
       "        vertical-align: middle;\n",
       "    }\n",
       "\n",
       "    .dataframe tbody tr th {\n",
       "        vertical-align: top;\n",
       "    }\n",
       "\n",
       "    .dataframe thead th {\n",
       "        text-align: right;\n",
       "    }\n",
       "</style>\n",
       "<table border=\"1\" class=\"dataframe\">\n",
       "  <thead>\n",
       "    <tr style=\"text-align: right;\">\n",
       "      <th></th>\n",
       "      <th>//X</th>\n",
       "      <th>Y</th>\n",
       "      <th>Z</th>\n",
       "      <th>ObjIdx</th>\n",
       "      <th>ObjTag</th>\n",
       "    </tr>\n",
       "  </thead>\n",
       "  <tbody>\n",
       "    <tr>\n",
       "      <th>0</th>\n",
       "      <td>4.05199</td>\n",
       "      <td>4.03352</td>\n",
       "      <td>-0.523512</td>\n",
       "      <td>580.0</td>\n",
       "      <td>4.0</td>\n",
       "    </tr>\n",
       "    <tr>\n",
       "      <th>1</th>\n",
       "      <td>4.06547</td>\n",
       "      <td>3.99792</td>\n",
       "      <td>-0.522097</td>\n",
       "      <td>580.0</td>\n",
       "      <td>4.0</td>\n",
       "    </tr>\n",
       "    <tr>\n",
       "      <th>2</th>\n",
       "      <td>4.09164</td>\n",
       "      <td>3.97493</td>\n",
       "      <td>-0.522343</td>\n",
       "      <td>580.0</td>\n",
       "      <td>4.0</td>\n",
       "    </tr>\n",
       "    <tr>\n",
       "      <th>3</th>\n",
       "      <td>4.13305</td>\n",
       "      <td>3.96648</td>\n",
       "      <td>-0.524532</td>\n",
       "      <td>580.0</td>\n",
       "      <td>4.0</td>\n",
       "    </tr>\n",
       "    <tr>\n",
       "      <th>4</th>\n",
       "      <td>4.00406</td>\n",
       "      <td>4.03471</td>\n",
       "      <td>-0.563076</td>\n",
       "      <td>580.0</td>\n",
       "      <td>4.0</td>\n",
       "    </tr>\n",
       "    <tr>\n",
       "      <th>...</th>\n",
       "      <td>...</td>\n",
       "      <td>...</td>\n",
       "      <td>...</td>\n",
       "      <td>...</td>\n",
       "      <td>...</td>\n",
       "    </tr>\n",
       "    <tr>\n",
       "      <th>531</th>\n",
       "      <td>3.91473</td>\n",
       "      <td>3.89692</td>\n",
       "      <td>-2.355880</td>\n",
       "      <td>580.0</td>\n",
       "      <td>4.0</td>\n",
       "    </tr>\n",
       "    <tr>\n",
       "      <th>532</th>\n",
       "      <td>3.92980</td>\n",
       "      <td>3.86452</td>\n",
       "      <td>-2.350730</td>\n",
       "      <td>580.0</td>\n",
       "      <td>4.0</td>\n",
       "    </tr>\n",
       "    <tr>\n",
       "      <th>533</th>\n",
       "      <td>3.95355</td>\n",
       "      <td>3.84078</td>\n",
       "      <td>-2.350900</td>\n",
       "      <td>580.0</td>\n",
       "      <td>4.0</td>\n",
       "    </tr>\n",
       "    <tr>\n",
       "      <th>534</th>\n",
       "      <td>3.98633</td>\n",
       "      <td>3.82566</td>\n",
       "      <td>-2.356480</td>\n",
       "      <td>580.0</td>\n",
       "      <td>4.0</td>\n",
       "    </tr>\n",
       "    <tr>\n",
       "      <th>535</th>\n",
       "      <td>4.03813</td>\n",
       "      <td>3.82840</td>\n",
       "      <td>-2.373280</td>\n",
       "      <td>580.0</td>\n",
       "      <td>4.0</td>\n",
       "    </tr>\n",
       "  </tbody>\n",
       "</table>\n",
       "<p>536 rows × 5 columns</p>\n",
       "</div>"
      ],
      "text/plain": [
       "         //X        Y         Z  ObjIdx  ObjTag\n",
       "0    4.05199  4.03352 -0.523512   580.0     4.0\n",
       "1    4.06547  3.99792 -0.522097   580.0     4.0\n",
       "2    4.09164  3.97493 -0.522343   580.0     4.0\n",
       "3    4.13305  3.96648 -0.524532   580.0     4.0\n",
       "4    4.00406  4.03471 -0.563076   580.0     4.0\n",
       "..       ...      ...       ...     ...     ...\n",
       "531  3.91473  3.89692 -2.355880   580.0     4.0\n",
       "532  3.92980  3.86452 -2.350730   580.0     4.0\n",
       "533  3.95355  3.84078 -2.350900   580.0     4.0\n",
       "534  3.98633  3.82566 -2.356480   580.0     4.0\n",
       "535  4.03813  3.82840 -2.373280   580.0     4.0\n",
       "\n",
       "[536 rows x 5 columns]"
      ]
     },
     "execution_count": 22,
     "metadata": {},
     "output_type": "execute_result"
    }
   ],
   "source": [
    "df_person = df_road_person[df_road_person[\"ObjIdx\"] == 580].reset_index(drop=True)\n",
    "df_person"
   ]
  },
  {
   "cell_type": "code",
   "execution_count": 23,
   "id": "b2e07206-ad70-4b74-84ea-78610219a635",
   "metadata": {},
   "outputs": [],
   "source": [
    "df_person.to_csv(\"csv/latest_person_only.csv\", index=None)"
   ]
  },
  {
   "cell_type": "code",
   "execution_count": 24,
   "id": "8acb2f0b-8d41-41a4-89f3-225611fd4c3d",
   "metadata": {},
   "outputs": [],
   "source": [
    "df_road = df_road_person[df_road_person[\"ObjIdx\"] == 0].reset_index(drop=True)\n",
    "df_road.to_csv(\"csv/latest_road_only.csv\", index=None)"
   ]
  },
  {
   "cell_type": "markdown",
   "id": "e6e56656-9f33-43da-ae78-a1b1c1e941ef",
   "metadata": {},
   "source": [
    "# 3. Transformation of person object(a simple rotation around the origin will work for testing)"
   ]
  },
  {
   "cell_type": "markdown",
   "id": "a49a6af7-80bf-41f1-8d6d-a5b0534f2770",
   "metadata": {},
   "source": [
    "## we rotate the person around the origin clockwise 90 degrees. we need to pass N x 2 array to our rotatematrix. Since we will not rotate in Z direction, its okay to rotate only using X and Y"
   ]
  },
  {
   "cell_type": "code",
   "execution_count": 25,
   "id": "2671802b-fc49-4e86-b3e1-f1bd396ceb76",
   "metadata": {},
   "outputs": [],
   "source": [
    "array_person_xy_unrotated = df_person.iloc[:, :2].to_numpy()"
   ]
  },
  {
   "cell_type": "code",
   "execution_count": 26,
   "id": "fe29b448-aaab-4763-b568-6ac858e36fc0",
   "metadata": {},
   "outputs": [],
   "source": [
    "import numpy as np\n",
    "\n",
    "def rotateMatrix(a):\n",
    "    return np.array([[np.cos(a), -np.sin(a)], [np.sin(a), np.cos(a)]])\n",
    "    \n",
    "angle_in_degrees = -90 # rotation in clockwise\n",
    "angle_in_rads = np.deg2rad(angle_in_degrees)\n",
    "array_person_xy_rotated = array_person_xy_unrotated @ rotateMatrix(angle_in_rads).T"
   ]
  },
  {
   "cell_type": "markdown",
   "id": "931b1417-d024-40e7-8c85-b0c9f0bbc7fc",
   "metadata": {},
   "source": [
    "# 4. After the person array has been rotated, we can save it and visulize in CloudCompare to see the change"
   ]
  },
  {
   "cell_type": "code",
   "execution_count": 29,
   "id": "0ae6e49b-ce10-4632-a122-c4c4e200ffff",
   "metadata": {},
   "outputs": [
    {
     "data": {
      "text/html": [
       "<div>\n",
       "<style scoped>\n",
       "    .dataframe tbody tr th:only-of-type {\n",
       "        vertical-align: middle;\n",
       "    }\n",
       "\n",
       "    .dataframe tbody tr th {\n",
       "        vertical-align: top;\n",
       "    }\n",
       "\n",
       "    .dataframe thead th {\n",
       "        text-align: right;\n",
       "    }\n",
       "</style>\n",
       "<table border=\"1\" class=\"dataframe\">\n",
       "  <thead>\n",
       "    <tr style=\"text-align: right;\">\n",
       "      <th></th>\n",
       "      <th>X</th>\n",
       "      <th>Y</th>\n",
       "    </tr>\n",
       "  </thead>\n",
       "  <tbody>\n",
       "    <tr>\n",
       "      <th>0</th>\n",
       "      <td>4.03352</td>\n",
       "      <td>-4.05199</td>\n",
       "    </tr>\n",
       "    <tr>\n",
       "      <th>1</th>\n",
       "      <td>3.99792</td>\n",
       "      <td>-4.06547</td>\n",
       "    </tr>\n",
       "    <tr>\n",
       "      <th>2</th>\n",
       "      <td>3.97493</td>\n",
       "      <td>-4.09164</td>\n",
       "    </tr>\n",
       "    <tr>\n",
       "      <th>3</th>\n",
       "      <td>3.96648</td>\n",
       "      <td>-4.13305</td>\n",
       "    </tr>\n",
       "    <tr>\n",
       "      <th>4</th>\n",
       "      <td>4.03471</td>\n",
       "      <td>-4.00406</td>\n",
       "    </tr>\n",
       "  </tbody>\n",
       "</table>\n",
       "</div>"
      ],
      "text/plain": [
       "         X        Y\n",
       "0  4.03352 -4.05199\n",
       "1  3.99792 -4.06547\n",
       "2  3.97493 -4.09164\n",
       "3  3.96648 -4.13305\n",
       "4  4.03471 -4.00406"
      ]
     },
     "execution_count": 29,
     "metadata": {},
     "output_type": "execute_result"
    }
   ],
   "source": [
    "df_person_xy_rotated = pd.DataFrame(array_person_xy_rotated, columns=[\"X\", \"Y\",])\n",
    "df_person_xy_rotated.head()"
   ]
  },
  {
   "cell_type": "code",
   "execution_count": 30,
   "id": "8b3571d8-88b0-4f40-8475-f68561391972",
   "metadata": {},
   "outputs": [
    {
     "data": {
      "text/html": [
       "<div>\n",
       "<style scoped>\n",
       "    .dataframe tbody tr th:only-of-type {\n",
       "        vertical-align: middle;\n",
       "    }\n",
       "\n",
       "    .dataframe tbody tr th {\n",
       "        vertical-align: top;\n",
       "    }\n",
       "\n",
       "    .dataframe thead th {\n",
       "        text-align: right;\n",
       "    }\n",
       "</style>\n",
       "<table border=\"1\" class=\"dataframe\">\n",
       "  <thead>\n",
       "    <tr style=\"text-align: right;\">\n",
       "      <th></th>\n",
       "      <th>Z</th>\n",
       "      <th>ObjIdx</th>\n",
       "      <th>ObjTag</th>\n",
       "    </tr>\n",
       "  </thead>\n",
       "  <tbody>\n",
       "    <tr>\n",
       "      <th>0</th>\n",
       "      <td>-0.523512</td>\n",
       "      <td>580.0</td>\n",
       "      <td>4.0</td>\n",
       "    </tr>\n",
       "    <tr>\n",
       "      <th>1</th>\n",
       "      <td>-0.522097</td>\n",
       "      <td>580.0</td>\n",
       "      <td>4.0</td>\n",
       "    </tr>\n",
       "    <tr>\n",
       "      <th>2</th>\n",
       "      <td>-0.522343</td>\n",
       "      <td>580.0</td>\n",
       "      <td>4.0</td>\n",
       "    </tr>\n",
       "    <tr>\n",
       "      <th>3</th>\n",
       "      <td>-0.524532</td>\n",
       "      <td>580.0</td>\n",
       "      <td>4.0</td>\n",
       "    </tr>\n",
       "    <tr>\n",
       "      <th>4</th>\n",
       "      <td>-0.563076</td>\n",
       "      <td>580.0</td>\n",
       "      <td>4.0</td>\n",
       "    </tr>\n",
       "    <tr>\n",
       "      <th>...</th>\n",
       "      <td>...</td>\n",
       "      <td>...</td>\n",
       "      <td>...</td>\n",
       "    </tr>\n",
       "    <tr>\n",
       "      <th>531</th>\n",
       "      <td>-2.355880</td>\n",
       "      <td>580.0</td>\n",
       "      <td>4.0</td>\n",
       "    </tr>\n",
       "    <tr>\n",
       "      <th>532</th>\n",
       "      <td>-2.350730</td>\n",
       "      <td>580.0</td>\n",
       "      <td>4.0</td>\n",
       "    </tr>\n",
       "    <tr>\n",
       "      <th>533</th>\n",
       "      <td>-2.350900</td>\n",
       "      <td>580.0</td>\n",
       "      <td>4.0</td>\n",
       "    </tr>\n",
       "    <tr>\n",
       "      <th>534</th>\n",
       "      <td>-2.356480</td>\n",
       "      <td>580.0</td>\n",
       "      <td>4.0</td>\n",
       "    </tr>\n",
       "    <tr>\n",
       "      <th>535</th>\n",
       "      <td>-2.373280</td>\n",
       "      <td>580.0</td>\n",
       "      <td>4.0</td>\n",
       "    </tr>\n",
       "  </tbody>\n",
       "</table>\n",
       "<p>536 rows × 3 columns</p>\n",
       "</div>"
      ],
      "text/plain": [
       "            Z  ObjIdx  ObjTag\n",
       "0   -0.523512   580.0     4.0\n",
       "1   -0.522097   580.0     4.0\n",
       "2   -0.522343   580.0     4.0\n",
       "3   -0.524532   580.0     4.0\n",
       "4   -0.563076   580.0     4.0\n",
       "..        ...     ...     ...\n",
       "531 -2.355880   580.0     4.0\n",
       "532 -2.350730   580.0     4.0\n",
       "533 -2.350900   580.0     4.0\n",
       "534 -2.356480   580.0     4.0\n",
       "535 -2.373280   580.0     4.0\n",
       "\n",
       "[536 rows x 3 columns]"
      ]
     },
     "execution_count": 30,
     "metadata": {},
     "output_type": "execute_result"
    }
   ],
   "source": [
    "df_person_remaining_data = df_person.iloc[:, 2:]\n",
    "df_person_remaining_data"
   ]
  },
  {
   "cell_type": "markdown",
   "id": "5adb85e0-60e3-46c7-b4ba-6793a4519975",
   "metadata": {},
   "source": [
    "### Merging the person data (x_rotated, y_rotated, z, ObjIdx, ObjTag)"
   ]
  },
  {
   "cell_type": "code",
   "execution_count": 31,
   "id": "8c9455b3-4ab5-4084-890b-9aa7811a44bb",
   "metadata": {},
   "outputs": [
    {
     "data": {
      "text/html": [
       "<div>\n",
       "<style scoped>\n",
       "    .dataframe tbody tr th:only-of-type {\n",
       "        vertical-align: middle;\n",
       "    }\n",
       "\n",
       "    .dataframe tbody tr th {\n",
       "        vertical-align: top;\n",
       "    }\n",
       "\n",
       "    .dataframe thead th {\n",
       "        text-align: right;\n",
       "    }\n",
       "</style>\n",
       "<table border=\"1\" class=\"dataframe\">\n",
       "  <thead>\n",
       "    <tr style=\"text-align: right;\">\n",
       "      <th></th>\n",
       "      <th>X</th>\n",
       "      <th>Y</th>\n",
       "      <th>Z</th>\n",
       "      <th>ObjIdx</th>\n",
       "      <th>ObjTag</th>\n",
       "    </tr>\n",
       "  </thead>\n",
       "  <tbody>\n",
       "    <tr>\n",
       "      <th>0</th>\n",
       "      <td>4.03352</td>\n",
       "      <td>-4.05199</td>\n",
       "      <td>-0.523512</td>\n",
       "      <td>580.0</td>\n",
       "      <td>4.0</td>\n",
       "    </tr>\n",
       "    <tr>\n",
       "      <th>1</th>\n",
       "      <td>3.99792</td>\n",
       "      <td>-4.06547</td>\n",
       "      <td>-0.522097</td>\n",
       "      <td>580.0</td>\n",
       "      <td>4.0</td>\n",
       "    </tr>\n",
       "    <tr>\n",
       "      <th>2</th>\n",
       "      <td>3.97493</td>\n",
       "      <td>-4.09164</td>\n",
       "      <td>-0.522343</td>\n",
       "      <td>580.0</td>\n",
       "      <td>4.0</td>\n",
       "    </tr>\n",
       "    <tr>\n",
       "      <th>3</th>\n",
       "      <td>3.96648</td>\n",
       "      <td>-4.13305</td>\n",
       "      <td>-0.524532</td>\n",
       "      <td>580.0</td>\n",
       "      <td>4.0</td>\n",
       "    </tr>\n",
       "    <tr>\n",
       "      <th>4</th>\n",
       "      <td>4.03471</td>\n",
       "      <td>-4.00406</td>\n",
       "      <td>-0.563076</td>\n",
       "      <td>580.0</td>\n",
       "      <td>4.0</td>\n",
       "    </tr>\n",
       "    <tr>\n",
       "      <th>...</th>\n",
       "      <td>...</td>\n",
       "      <td>...</td>\n",
       "      <td>...</td>\n",
       "      <td>...</td>\n",
       "      <td>...</td>\n",
       "    </tr>\n",
       "    <tr>\n",
       "      <th>531</th>\n",
       "      <td>3.89692</td>\n",
       "      <td>-3.91473</td>\n",
       "      <td>-2.355880</td>\n",
       "      <td>580.0</td>\n",
       "      <td>4.0</td>\n",
       "    </tr>\n",
       "    <tr>\n",
       "      <th>532</th>\n",
       "      <td>3.86452</td>\n",
       "      <td>-3.92980</td>\n",
       "      <td>-2.350730</td>\n",
       "      <td>580.0</td>\n",
       "      <td>4.0</td>\n",
       "    </tr>\n",
       "    <tr>\n",
       "      <th>533</th>\n",
       "      <td>3.84078</td>\n",
       "      <td>-3.95355</td>\n",
       "      <td>-2.350900</td>\n",
       "      <td>580.0</td>\n",
       "      <td>4.0</td>\n",
       "    </tr>\n",
       "    <tr>\n",
       "      <th>534</th>\n",
       "      <td>3.82566</td>\n",
       "      <td>-3.98633</td>\n",
       "      <td>-2.356480</td>\n",
       "      <td>580.0</td>\n",
       "      <td>4.0</td>\n",
       "    </tr>\n",
       "    <tr>\n",
       "      <th>535</th>\n",
       "      <td>3.82840</td>\n",
       "      <td>-4.03813</td>\n",
       "      <td>-2.373280</td>\n",
       "      <td>580.0</td>\n",
       "      <td>4.0</td>\n",
       "    </tr>\n",
       "  </tbody>\n",
       "</table>\n",
       "<p>536 rows × 5 columns</p>\n",
       "</div>"
      ],
      "text/plain": [
       "           X        Y         Z  ObjIdx  ObjTag\n",
       "0    4.03352 -4.05199 -0.523512   580.0     4.0\n",
       "1    3.99792 -4.06547 -0.522097   580.0     4.0\n",
       "2    3.97493 -4.09164 -0.522343   580.0     4.0\n",
       "3    3.96648 -4.13305 -0.524532   580.0     4.0\n",
       "4    4.03471 -4.00406 -0.563076   580.0     4.0\n",
       "..       ...      ...       ...     ...     ...\n",
       "531  3.89692 -3.91473 -2.355880   580.0     4.0\n",
       "532  3.86452 -3.92980 -2.350730   580.0     4.0\n",
       "533  3.84078 -3.95355 -2.350900   580.0     4.0\n",
       "534  3.82566 -3.98633 -2.356480   580.0     4.0\n",
       "535  3.82840 -4.03813 -2.373280   580.0     4.0\n",
       "\n",
       "[536 rows x 5 columns]"
      ]
     },
     "execution_count": 31,
     "metadata": {},
     "output_type": "execute_result"
    }
   ],
   "source": [
    "df_person_rotated = pd.concat([df_person_xy_rotated, df_person_remaining_data], axis=1,)\n",
    "df_person_rotated"
   ]
  },
  {
   "cell_type": "markdown",
   "id": "25fbee5e-0a4f-49f5-a38c-b8b8e5a3ac0f",
   "metadata": {},
   "source": [
    "### Saving the rotated person data to visualize"
   ]
  },
  {
   "cell_type": "code",
   "execution_count": 32,
   "id": "92a091f6-dc89-4b66-b8fa-cdde831b1fec",
   "metadata": {},
   "outputs": [],
   "source": [
    "df_person_rotated.to_csv(\"csv/latest_rotated_person.csv\", index=None)"
   ]
  },
  {
   "cell_type": "markdown",
   "id": "d9048408-cec8-411b-9f8d-12e1a9fff8ac",
   "metadata": {},
   "source": [
    "# 5. Rotated Person Surface Reconstruction as a Mesh using Open3d"
   ]
  },
  {
   "cell_type": "code",
   "execution_count": 33,
   "id": "401d8453-0d6d-4bc9-9d1c-170dbf09966e",
   "metadata": {},
   "outputs": [
    {
     "data": {
      "text/html": [
       "<div>\n",
       "<style scoped>\n",
       "    .dataframe tbody tr th:only-of-type {\n",
       "        vertical-align: middle;\n",
       "    }\n",
       "\n",
       "    .dataframe tbody tr th {\n",
       "        vertical-align: top;\n",
       "    }\n",
       "\n",
       "    .dataframe thead th {\n",
       "        text-align: right;\n",
       "    }\n",
       "</style>\n",
       "<table border=\"1\" class=\"dataframe\">\n",
       "  <thead>\n",
       "    <tr style=\"text-align: right;\">\n",
       "      <th></th>\n",
       "      <th>X</th>\n",
       "      <th>Y</th>\n",
       "      <th>Z</th>\n",
       "      <th>ObjIdx</th>\n",
       "      <th>ObjTag</th>\n",
       "    </tr>\n",
       "  </thead>\n",
       "  <tbody>\n",
       "    <tr>\n",
       "      <th>0</th>\n",
       "      <td>4.03352</td>\n",
       "      <td>-4.05199</td>\n",
       "      <td>-0.523512</td>\n",
       "      <td>580.0</td>\n",
       "      <td>4.0</td>\n",
       "    </tr>\n",
       "    <tr>\n",
       "      <th>1</th>\n",
       "      <td>3.99792</td>\n",
       "      <td>-4.06547</td>\n",
       "      <td>-0.522097</td>\n",
       "      <td>580.0</td>\n",
       "      <td>4.0</td>\n",
       "    </tr>\n",
       "    <tr>\n",
       "      <th>2</th>\n",
       "      <td>3.97493</td>\n",
       "      <td>-4.09164</td>\n",
       "      <td>-0.522343</td>\n",
       "      <td>580.0</td>\n",
       "      <td>4.0</td>\n",
       "    </tr>\n",
       "    <tr>\n",
       "      <th>3</th>\n",
       "      <td>3.96648</td>\n",
       "      <td>-4.13305</td>\n",
       "      <td>-0.524532</td>\n",
       "      <td>580.0</td>\n",
       "      <td>4.0</td>\n",
       "    </tr>\n",
       "    <tr>\n",
       "      <th>4</th>\n",
       "      <td>4.03471</td>\n",
       "      <td>-4.00406</td>\n",
       "      <td>-0.563076</td>\n",
       "      <td>580.0</td>\n",
       "      <td>4.0</td>\n",
       "    </tr>\n",
       "    <tr>\n",
       "      <th>...</th>\n",
       "      <td>...</td>\n",
       "      <td>...</td>\n",
       "      <td>...</td>\n",
       "      <td>...</td>\n",
       "      <td>...</td>\n",
       "    </tr>\n",
       "    <tr>\n",
       "      <th>531</th>\n",
       "      <td>3.89692</td>\n",
       "      <td>-3.91473</td>\n",
       "      <td>-2.355880</td>\n",
       "      <td>580.0</td>\n",
       "      <td>4.0</td>\n",
       "    </tr>\n",
       "    <tr>\n",
       "      <th>532</th>\n",
       "      <td>3.86452</td>\n",
       "      <td>-3.92980</td>\n",
       "      <td>-2.350730</td>\n",
       "      <td>580.0</td>\n",
       "      <td>4.0</td>\n",
       "    </tr>\n",
       "    <tr>\n",
       "      <th>533</th>\n",
       "      <td>3.84078</td>\n",
       "      <td>-3.95355</td>\n",
       "      <td>-2.350900</td>\n",
       "      <td>580.0</td>\n",
       "      <td>4.0</td>\n",
       "    </tr>\n",
       "    <tr>\n",
       "      <th>534</th>\n",
       "      <td>3.82566</td>\n",
       "      <td>-3.98633</td>\n",
       "      <td>-2.356480</td>\n",
       "      <td>580.0</td>\n",
       "      <td>4.0</td>\n",
       "    </tr>\n",
       "    <tr>\n",
       "      <th>535</th>\n",
       "      <td>3.82840</td>\n",
       "      <td>-4.03813</td>\n",
       "      <td>-2.373280</td>\n",
       "      <td>580.0</td>\n",
       "      <td>4.0</td>\n",
       "    </tr>\n",
       "  </tbody>\n",
       "</table>\n",
       "<p>536 rows × 5 columns</p>\n",
       "</div>"
      ],
      "text/plain": [
       "           X        Y         Z  ObjIdx  ObjTag\n",
       "0    4.03352 -4.05199 -0.523512   580.0     4.0\n",
       "1    3.99792 -4.06547 -0.522097   580.0     4.0\n",
       "2    3.97493 -4.09164 -0.522343   580.0     4.0\n",
       "3    3.96648 -4.13305 -0.524532   580.0     4.0\n",
       "4    4.03471 -4.00406 -0.563076   580.0     4.0\n",
       "..       ...      ...       ...     ...     ...\n",
       "531  3.89692 -3.91473 -2.355880   580.0     4.0\n",
       "532  3.86452 -3.92980 -2.350730   580.0     4.0\n",
       "533  3.84078 -3.95355 -2.350900   580.0     4.0\n",
       "534  3.82566 -3.98633 -2.356480   580.0     4.0\n",
       "535  3.82840 -4.03813 -2.373280   580.0     4.0\n",
       "\n",
       "[536 rows x 5 columns]"
      ]
     },
     "execution_count": 33,
     "metadata": {},
     "output_type": "execute_result"
    }
   ],
   "source": [
    "df_person = pd.read_csv(\"csv/latest_rotated_person.csv\")\n",
    "df_person"
   ]
  },
  {
   "cell_type": "code",
   "execution_count": 34,
   "id": "4363792e-65bd-4aa7-90f4-35e8e3071d2e",
   "metadata": {},
   "outputs": [
    {
     "name": "stdout",
     "output_type": "stream",
     "text": [
      "Jupyter environment detected. Enabling Open3D WebVisualizer.\n",
      "[Open3D INFO] WebRTC GUI backend enabled.\n",
      "[Open3D INFO] WebRTCWindowSystem: HTTP handshake server disabled.\n"
     ]
    }
   ],
   "source": [
    "import open3d as o3d\n",
    "\n",
    "pcd = o3d.geometry.PointCloud()\n",
    "pcd.points = o3d.utility.Vector3dVector(df_person.iloc[:,:3].to_numpy()) # Need to pass numpy array"
   ]
  },
  {
   "cell_type": "code",
   "execution_count": 35,
   "id": "701c7bf2-28d3-475a-9757-68624bdfc25b",
   "metadata": {},
   "outputs": [],
   "source": [
    "o3d.visualization.draw_geometries([pcd],)"
   ]
  },
  {
   "cell_type": "markdown",
   "id": "96816dad-f72f-40f5-9e2f-50235be632c0",
   "metadata": {},
   "source": [
    "### Surface reconstruction needs point cloud with normal, so we need to calculate appropriate Normals."
   ]
  },
  {
   "cell_type": "markdown",
   "id": "60c44dba-eb09-43c3-addc-709d1f1957fe",
   "metadata": {},
   "source": [
    "### Calculating Normal is an important step, Better surface reconstruction depends on the quality of Normals"
   ]
  },
  {
   "cell_type": "code",
   "execution_count": 36,
   "id": "dee98108-4600-4499-9f50-29859f7b48cf",
   "metadata": {},
   "outputs": [],
   "source": [
    "search_param = o3d.geometry.KDTreeSearchParamHybrid(radius=0.37, max_nn=6)\n",
    "pcd.estimate_normals(search_param=search_param)"
   ]
  },
  {
   "cell_type": "markdown",
   "id": "7736e51e-b6d5-4578-bafd-f9e6aed1e14d",
   "metadata": {},
   "source": [
    "### We use Poisson Surface Reconstruction because it is better than other two options in open3d"
   ]
  },
  {
   "cell_type": "code",
   "execution_count": 37,
   "id": "e3486eba-4157-4ed6-b31e-306f9bf23187",
   "metadata": {},
   "outputs": [
    {
     "name": "stdout",
     "output_type": "stream",
     "text": [
      "run Poisson surface reconstruction\n",
      "[Open3D DEBUG] Input Points / Samples: 536 / 536\n",
      "[Open3D DEBUG] #   Got kernel density: 0.03086400032043457 (s), 319.6328125 (MB) / 319.6328125 (MB) / 319 (MB)\n",
      "[Open3D DEBUG] #     Got normal field: 0.024096012115478516 (s), 320.1796875 (MB) / 320.1796875 (MB) / 320 (MB)\n",
      "[Open3D DEBUG] Point weight / Estimated Area: 8.935923e-04 / 4.789655e-01\n",
      "[Open3D DEBUG] #       Finalized tree: 0.07201695442199707 (s), 323.30078125 (MB) / 323.30078125 (MB) / 323 (MB)\n",
      "[Open3D DEBUG] #  Set FEM constraints: 0.10940694808959961 (s), 323.30078125 (MB) / 323.30078125 (MB) / 323 (MB)\n",
      "[Open3D DEBUG] #Set point constraints: 0.0023348331451416016 (s), 323.30078125 (MB) / 323.30078125 (MB) / 323 (MB)\n",
      "[Open3D DEBUG] Leaf Nodes / Active Nodes / Ghost Nodes: 89111 / 71848 / 29993\n",
      "[Open3D DEBUG] Memory Usage: 323.301 MB\n",
      "[Open3D DEBUG] # Linear system solved: 0.10134387016296387 (s), 326.25390625 (MB) / 326.25390625 (MB) / 326 (MB)\n",
      "[Open3D DEBUG] Got average: 0.0015020370483398438 (s), 326.25390625 (MB) / 326.25390625 (MB) / 326 (MB)\n",
      "[Open3D DEBUG] Iso-Value: 4.973587e-01 = 2.665843e+02 / 5.360000e+02\n",
      "[Open3D DEBUG] #          Total Solve:       1.0 (s),     341.9 (MB)\n",
      "TriangleMesh with 3511 points and 6808 triangles.\n"
     ]
    }
   ],
   "source": [
    "print('run Poisson surface reconstruction')\n",
    "with o3d.utility.VerbosityContextManager(\n",
    "        o3d.utility.VerbosityLevel.Debug) as cm:\n",
    "    mesh, densities = o3d.geometry.TriangleMesh.create_from_point_cloud_poisson(\n",
    "        pcd, depth=9)\n",
    "print(mesh)\n",
    "mesh.compute_vertex_normals()\n",
    "# Paint it gray. Not necessary but the reflection of lighting is hardly perceivable with black surfaces.\n",
    "mesh.paint_uniform_color(np.array([[0.5],[0.5],[0.5]]))\n",
    "o3d.visualization.draw_geometries([mesh])"
   ]
  },
  {
   "cell_type": "markdown",
   "id": "854320f1-eb42-410d-870f-69ea8116a655",
   "metadata": {},
   "source": [
    "### Visualizing the densities. As a next step we can use this densities value to only take the person mesh"
   ]
  },
  {
   "cell_type": "code",
   "execution_count": 39,
   "id": "67f38f85-e85f-48fa-a492-a0e90d72525a",
   "metadata": {},
   "outputs": [
    {
     "name": "stdout",
     "output_type": "stream",
     "text": [
      "visualize densities\n"
     ]
    }
   ],
   "source": [
    "import matplotlib.pyplot as plt\n",
    "\n",
    "print('visualize densities')\n",
    "densities = np.asarray(densities)\n",
    "density_colors = plt.get_cmap('plasma')(\n",
    "    (densities - densities.min()) / (densities.max() - densities.min()))\n",
    "density_colors = density_colors[:, :3]\n",
    "density_mesh = o3d.geometry.TriangleMesh()\n",
    "density_mesh.vertices = mesh.vertices\n",
    "density_mesh.triangles = mesh.triangles\n",
    "density_mesh.triangle_normals = mesh.triangle_normals\n",
    "density_mesh.vertex_colors = o3d.utility.Vector3dVector(density_colors)\n",
    "o3d.visualization.draw_geometries([density_mesh])"
   ]
  },
  {
   "cell_type": "markdown",
   "id": "d615347c-4f07-4b30-9923-7598003175fe",
   "metadata": {},
   "source": [
    "### Filtering out densities based on certain threshold. We need to experiment more to get an appropriate value."
   ]
  },
  {
   "cell_type": "code",
   "execution_count": 40,
   "id": "40f586b6-6d45-4253-b71b-e96da91bcf3e",
   "metadata": {},
   "outputs": [
    {
     "name": "stdout",
     "output_type": "stream",
     "text": [
      "remove low density vertices\n",
      "TriangleMesh with 1756 points and 3364 triangles.\n"
     ]
    }
   ],
   "source": [
    "print('remove low density vertices')\n",
    "vertices_to_remove = densities < np.quantile(densities, 0.5)\n",
    "mesh.remove_vertices_by_mask(vertices_to_remove)\n",
    "print(mesh)\n",
    "\n",
    "mesh.compute_vertex_normals()\n",
    "# Paint it gray. Not necessary but the reflection of lighting is hardly perceivable with black surfaces.\n",
    "mesh.paint_uniform_color(np.array([[0.5],[0.5],[0.5]]))\n",
    "\n",
    "o3d.visualization.draw_geometries([mesh],)"
   ]
  },
  {
   "cell_type": "code",
   "execution_count": 41,
   "id": "bbe03a9b-409e-400e-b924-2170b1eb6861",
   "metadata": {},
   "outputs": [
    {
     "name": "stdout",
     "output_type": "stream",
     "text": [
      "\u001b[1;33m[Open3D WARNING] Write OBJ can not include triangle normals.\u001b[0;m\n"
     ]
    },
    {
     "data": {
      "text/plain": [
       "True"
      ]
     },
     "execution_count": 41,
     "metadata": {},
     "output_type": "execute_result"
    }
   ],
   "source": [
    "# Save the person pcd and reconstructed surface of person for future use\n",
    "o3d.io.write_point_cloud(\"csv/latest_reconstructed_person_pcd.ply\", pcd)\n",
    "o3d.io.write_triangle_mesh(\"csv/latest_reconstructed_person_mesh.obj\", mesh)"
   ]
  },
  {
   "cell_type": "markdown",
   "id": "90f2c012-5f56-4653-a814-e3f22d1acb52",
   "metadata": {},
   "source": [
    "### Now that we have mesh of person, we can use RayCasting to get point cloud"
   ]
  },
  {
   "cell_type": "markdown",
   "id": "3fc2c89c-114d-4e10-9c66-9afc73e116b1",
   "metadata": {},
   "source": [
    "# 6.RayCasting to get intersecting point of rays on the Reconstructed Surface of Person to create pointcloud"
   ]
  },
  {
   "cell_type": "markdown",
   "id": "a95d8b09-2229-4047-8dca-03df874742d2",
   "metadata": {},
   "source": [
    "### We need to create rays for raycasting using open3d library. We need to specify the direction and origin of ray"
   ]
  },
  {
   "cell_type": "markdown",
   "id": "fcb7fce2-b700-481c-8349-cfe9be37ae4a",
   "metadata": {},
   "source": [
    "### Origin of Ray can be the origin of the pointcloud (0,0,0)"
   ]
  },
  {
   "cell_type": "markdown",
   "id": "30408796-84fe-4521-995c-013c00591f21",
   "metadata": {},
   "source": [
    "### For the Direction, we choose the point cloud point values on the target cloud. As these points are also direction of the original rays"
   ]
  },
  {
   "cell_type": "markdown",
   "id": "fb4e2e3a-9314-4da5-a87f-595f6cc78daf",
   "metadata": {},
   "source": [
    "### We might also calculate a matrix of directions using camera features but this steps seems more practical and we donot need to downsample the pointcloud later"
   ]
  },
  {
   "cell_type": "code",
   "execution_count": 42,
   "id": "888c8731-188d-4162-9dae-7cd3c4d83a93",
   "metadata": {},
   "outputs": [
    {
     "data": {
      "text/html": [
       "<div>\n",
       "<style scoped>\n",
       "    .dataframe tbody tr th:only-of-type {\n",
       "        vertical-align: middle;\n",
       "    }\n",
       "\n",
       "    .dataframe tbody tr th {\n",
       "        vertical-align: top;\n",
       "    }\n",
       "\n",
       "    .dataframe thead th {\n",
       "        text-align: right;\n",
       "    }\n",
       "</style>\n",
       "<table border=\"1\" class=\"dataframe\">\n",
       "  <thead>\n",
       "    <tr style=\"text-align: right;\">\n",
       "      <th></th>\n",
       "      <th>//X</th>\n",
       "      <th>Y</th>\n",
       "      <th>Z</th>\n",
       "      <th>ObjIdx</th>\n",
       "      <th>ObjTag</th>\n",
       "    </tr>\n",
       "  </thead>\n",
       "  <tbody>\n",
       "    <tr>\n",
       "      <th>0</th>\n",
       "      <td>-2.44912</td>\n",
       "      <td>7.664550</td>\n",
       "      <td>0.280984</td>\n",
       "      <td>0.0</td>\n",
       "      <td>5.0</td>\n",
       "    </tr>\n",
       "    <tr>\n",
       "      <th>1</th>\n",
       "      <td>-2.40729</td>\n",
       "      <td>7.695080</td>\n",
       "      <td>0.281560</td>\n",
       "      <td>0.0</td>\n",
       "      <td>5.0</td>\n",
       "    </tr>\n",
       "    <tr>\n",
       "      <th>2</th>\n",
       "      <td>8.54879</td>\n",
       "      <td>-14.135900</td>\n",
       "      <td>0.576888</td>\n",
       "      <td>0.0</td>\n",
       "      <td>5.0</td>\n",
       "    </tr>\n",
       "    <tr>\n",
       "      <th>3</th>\n",
       "      <td>-2.44904</td>\n",
       "      <td>7.664230</td>\n",
       "      <td>0.221176</td>\n",
       "      <td>0.0</td>\n",
       "      <td>5.0</td>\n",
       "    </tr>\n",
       "    <tr>\n",
       "      <th>4</th>\n",
       "      <td>-2.40713</td>\n",
       "      <td>7.694510</td>\n",
       "      <td>0.221623</td>\n",
       "      <td>0.0</td>\n",
       "      <td>5.0</td>\n",
       "    </tr>\n",
       "    <tr>\n",
       "      <th>...</th>\n",
       "      <td>...</td>\n",
       "      <td>...</td>\n",
       "      <td>...</td>\n",
       "      <td>...</td>\n",
       "      <td>...</td>\n",
       "    </tr>\n",
       "    <tr>\n",
       "      <th>28936</th>\n",
       "      <td>-5.19533</td>\n",
       "      <td>-0.158345</td>\n",
       "      <td>-2.401680</td>\n",
       "      <td>0.0</td>\n",
       "      <td>7.0</td>\n",
       "    </tr>\n",
       "    <tr>\n",
       "      <th>28937</th>\n",
       "      <td>-5.19619</td>\n",
       "      <td>-0.126680</td>\n",
       "      <td>-2.401680</td>\n",
       "      <td>0.0</td>\n",
       "      <td>7.0</td>\n",
       "    </tr>\n",
       "    <tr>\n",
       "      <th>28938</th>\n",
       "      <td>-5.19689</td>\n",
       "      <td>-0.095015</td>\n",
       "      <td>-2.401680</td>\n",
       "      <td>0.0</td>\n",
       "      <td>7.0</td>\n",
       "    </tr>\n",
       "    <tr>\n",
       "      <th>28939</th>\n",
       "      <td>-5.19736</td>\n",
       "      <td>-0.063345</td>\n",
       "      <td>-2.401680</td>\n",
       "      <td>0.0</td>\n",
       "      <td>7.0</td>\n",
       "    </tr>\n",
       "    <tr>\n",
       "      <th>28940</th>\n",
       "      <td>-5.19766</td>\n",
       "      <td>-0.031670</td>\n",
       "      <td>-2.401680</td>\n",
       "      <td>0.0</td>\n",
       "      <td>7.0</td>\n",
       "    </tr>\n",
       "  </tbody>\n",
       "</table>\n",
       "<p>28941 rows × 5 columns</p>\n",
       "</div>"
      ],
      "text/plain": [
       "           //X          Y         Z  ObjIdx  ObjTag\n",
       "0     -2.44912   7.664550  0.280984     0.0     5.0\n",
       "1     -2.40729   7.695080  0.281560     0.0     5.0\n",
       "2      8.54879 -14.135900  0.576888     0.0     5.0\n",
       "3     -2.44904   7.664230  0.221176     0.0     5.0\n",
       "4     -2.40713   7.694510  0.221623     0.0     5.0\n",
       "...        ...        ...       ...     ...     ...\n",
       "28936 -5.19533  -0.158345 -2.401680     0.0     7.0\n",
       "28937 -5.19619  -0.126680 -2.401680     0.0     7.0\n",
       "28938 -5.19689  -0.095015 -2.401680     0.0     7.0\n",
       "28939 -5.19736  -0.063345 -2.401680     0.0     7.0\n",
       "28940 -5.19766  -0.031670 -2.401680     0.0     7.0\n",
       "\n",
       "[28941 rows x 5 columns]"
      ]
     },
     "execution_count": 42,
     "metadata": {},
     "output_type": "execute_result"
    }
   ],
   "source": [
    "# using the ea\n",
    "\n",
    "df_road = pd.read_csv(\"csv/latest_road_only.csv\")\n",
    "df_road"
   ]
  },
  {
   "cell_type": "code",
   "execution_count": 43,
   "id": "3b02e7f4-1deb-4882-937c-ebd5a5b9f806",
   "metadata": {},
   "outputs": [
    {
     "data": {
      "text/html": [
       "<div>\n",
       "<style scoped>\n",
       "    .dataframe tbody tr th:only-of-type {\n",
       "        vertical-align: middle;\n",
       "    }\n",
       "\n",
       "    .dataframe tbody tr th {\n",
       "        vertical-align: top;\n",
       "    }\n",
       "\n",
       "    .dataframe thead th {\n",
       "        text-align: right;\n",
       "    }\n",
       "</style>\n",
       "<table border=\"1\" class=\"dataframe\">\n",
       "  <thead>\n",
       "    <tr style=\"text-align: right;\">\n",
       "      <th></th>\n",
       "      <th>0</th>\n",
       "      <th>1</th>\n",
       "      <th>2</th>\n",
       "    </tr>\n",
       "  </thead>\n",
       "  <tbody>\n",
       "    <tr>\n",
       "      <th>0</th>\n",
       "      <td>0.0</td>\n",
       "      <td>0.0</td>\n",
       "      <td>0.0</td>\n",
       "    </tr>\n",
       "    <tr>\n",
       "      <th>1</th>\n",
       "      <td>0.0</td>\n",
       "      <td>0.0</td>\n",
       "      <td>0.0</td>\n",
       "    </tr>\n",
       "    <tr>\n",
       "      <th>2</th>\n",
       "      <td>0.0</td>\n",
       "      <td>0.0</td>\n",
       "      <td>0.0</td>\n",
       "    </tr>\n",
       "    <tr>\n",
       "      <th>3</th>\n",
       "      <td>0.0</td>\n",
       "      <td>0.0</td>\n",
       "      <td>0.0</td>\n",
       "    </tr>\n",
       "    <tr>\n",
       "      <th>4</th>\n",
       "      <td>0.0</td>\n",
       "      <td>0.0</td>\n",
       "      <td>0.0</td>\n",
       "    </tr>\n",
       "    <tr>\n",
       "      <th>...</th>\n",
       "      <td>...</td>\n",
       "      <td>...</td>\n",
       "      <td>...</td>\n",
       "    </tr>\n",
       "    <tr>\n",
       "      <th>28936</th>\n",
       "      <td>0.0</td>\n",
       "      <td>0.0</td>\n",
       "      <td>0.0</td>\n",
       "    </tr>\n",
       "    <tr>\n",
       "      <th>28937</th>\n",
       "      <td>0.0</td>\n",
       "      <td>0.0</td>\n",
       "      <td>0.0</td>\n",
       "    </tr>\n",
       "    <tr>\n",
       "      <th>28938</th>\n",
       "      <td>0.0</td>\n",
       "      <td>0.0</td>\n",
       "      <td>0.0</td>\n",
       "    </tr>\n",
       "    <tr>\n",
       "      <th>28939</th>\n",
       "      <td>0.0</td>\n",
       "      <td>0.0</td>\n",
       "      <td>0.0</td>\n",
       "    </tr>\n",
       "    <tr>\n",
       "      <th>28940</th>\n",
       "      <td>0.0</td>\n",
       "      <td>0.0</td>\n",
       "      <td>0.0</td>\n",
       "    </tr>\n",
       "  </tbody>\n",
       "</table>\n",
       "<p>28941 rows × 3 columns</p>\n",
       "</div>"
      ],
      "text/plain": [
       "         0    1    2\n",
       "0      0.0  0.0  0.0\n",
       "1      0.0  0.0  0.0\n",
       "2      0.0  0.0  0.0\n",
       "3      0.0  0.0  0.0\n",
       "4      0.0  0.0  0.0\n",
       "...    ...  ...  ...\n",
       "28936  0.0  0.0  0.0\n",
       "28937  0.0  0.0  0.0\n",
       "28938  0.0  0.0  0.0\n",
       "28939  0.0  0.0  0.0\n",
       "28940  0.0  0.0  0.0\n",
       "\n",
       "[28941 rows x 3 columns]"
      ]
     },
     "execution_count": 43,
     "metadata": {},
     "output_type": "execute_result"
    }
   ],
   "source": [
    "df_ray_origin = pd.DataFrame(np.zeros((df_road.shape[0], 3)))\n",
    "df_ray_origin"
   ]
  },
  {
   "cell_type": "code",
   "execution_count": 44,
   "id": "23bd2897-09d1-458a-abfa-45e93a0a8b63",
   "metadata": {},
   "outputs": [
    {
     "data": {
      "text/html": [
       "<div>\n",
       "<style scoped>\n",
       "    .dataframe tbody tr th:only-of-type {\n",
       "        vertical-align: middle;\n",
       "    }\n",
       "\n",
       "    .dataframe tbody tr th {\n",
       "        vertical-align: top;\n",
       "    }\n",
       "\n",
       "    .dataframe thead th {\n",
       "        text-align: right;\n",
       "    }\n",
       "</style>\n",
       "<table border=\"1\" class=\"dataframe\">\n",
       "  <thead>\n",
       "    <tr style=\"text-align: right;\">\n",
       "      <th></th>\n",
       "      <th>0</th>\n",
       "      <th>1</th>\n",
       "      <th>2</th>\n",
       "      <th>//X</th>\n",
       "      <th>Y</th>\n",
       "      <th>Z</th>\n",
       "    </tr>\n",
       "  </thead>\n",
       "  <tbody>\n",
       "    <tr>\n",
       "      <th>0</th>\n",
       "      <td>0.0</td>\n",
       "      <td>0.0</td>\n",
       "      <td>0.0</td>\n",
       "      <td>-2.44912</td>\n",
       "      <td>7.664550</td>\n",
       "      <td>0.280984</td>\n",
       "    </tr>\n",
       "    <tr>\n",
       "      <th>1</th>\n",
       "      <td>0.0</td>\n",
       "      <td>0.0</td>\n",
       "      <td>0.0</td>\n",
       "      <td>-2.40729</td>\n",
       "      <td>7.695080</td>\n",
       "      <td>0.281560</td>\n",
       "    </tr>\n",
       "    <tr>\n",
       "      <th>2</th>\n",
       "      <td>0.0</td>\n",
       "      <td>0.0</td>\n",
       "      <td>0.0</td>\n",
       "      <td>8.54879</td>\n",
       "      <td>-14.135900</td>\n",
       "      <td>0.576888</td>\n",
       "    </tr>\n",
       "    <tr>\n",
       "      <th>3</th>\n",
       "      <td>0.0</td>\n",
       "      <td>0.0</td>\n",
       "      <td>0.0</td>\n",
       "      <td>-2.44904</td>\n",
       "      <td>7.664230</td>\n",
       "      <td>0.221176</td>\n",
       "    </tr>\n",
       "    <tr>\n",
       "      <th>4</th>\n",
       "      <td>0.0</td>\n",
       "      <td>0.0</td>\n",
       "      <td>0.0</td>\n",
       "      <td>-2.40713</td>\n",
       "      <td>7.694510</td>\n",
       "      <td>0.221623</td>\n",
       "    </tr>\n",
       "    <tr>\n",
       "      <th>...</th>\n",
       "      <td>...</td>\n",
       "      <td>...</td>\n",
       "      <td>...</td>\n",
       "      <td>...</td>\n",
       "      <td>...</td>\n",
       "      <td>...</td>\n",
       "    </tr>\n",
       "    <tr>\n",
       "      <th>28936</th>\n",
       "      <td>0.0</td>\n",
       "      <td>0.0</td>\n",
       "      <td>0.0</td>\n",
       "      <td>-5.19533</td>\n",
       "      <td>-0.158345</td>\n",
       "      <td>-2.401680</td>\n",
       "    </tr>\n",
       "    <tr>\n",
       "      <th>28937</th>\n",
       "      <td>0.0</td>\n",
       "      <td>0.0</td>\n",
       "      <td>0.0</td>\n",
       "      <td>-5.19619</td>\n",
       "      <td>-0.126680</td>\n",
       "      <td>-2.401680</td>\n",
       "    </tr>\n",
       "    <tr>\n",
       "      <th>28938</th>\n",
       "      <td>0.0</td>\n",
       "      <td>0.0</td>\n",
       "      <td>0.0</td>\n",
       "      <td>-5.19689</td>\n",
       "      <td>-0.095015</td>\n",
       "      <td>-2.401680</td>\n",
       "    </tr>\n",
       "    <tr>\n",
       "      <th>28939</th>\n",
       "      <td>0.0</td>\n",
       "      <td>0.0</td>\n",
       "      <td>0.0</td>\n",
       "      <td>-5.19736</td>\n",
       "      <td>-0.063345</td>\n",
       "      <td>-2.401680</td>\n",
       "    </tr>\n",
       "    <tr>\n",
       "      <th>28940</th>\n",
       "      <td>0.0</td>\n",
       "      <td>0.0</td>\n",
       "      <td>0.0</td>\n",
       "      <td>-5.19766</td>\n",
       "      <td>-0.031670</td>\n",
       "      <td>-2.401680</td>\n",
       "    </tr>\n",
       "  </tbody>\n",
       "</table>\n",
       "<p>28941 rows × 6 columns</p>\n",
       "</div>"
      ],
      "text/plain": [
       "         0    1    2      //X          Y         Z\n",
       "0      0.0  0.0  0.0 -2.44912   7.664550  0.280984\n",
       "1      0.0  0.0  0.0 -2.40729   7.695080  0.281560\n",
       "2      0.0  0.0  0.0  8.54879 -14.135900  0.576888\n",
       "3      0.0  0.0  0.0 -2.44904   7.664230  0.221176\n",
       "4      0.0  0.0  0.0 -2.40713   7.694510  0.221623\n",
       "...    ...  ...  ...      ...        ...       ...\n",
       "28936  0.0  0.0  0.0 -5.19533  -0.158345 -2.401680\n",
       "28937  0.0  0.0  0.0 -5.19619  -0.126680 -2.401680\n",
       "28938  0.0  0.0  0.0 -5.19689  -0.095015 -2.401680\n",
       "28939  0.0  0.0  0.0 -5.19736  -0.063345 -2.401680\n",
       "28940  0.0  0.0  0.0 -5.19766  -0.031670 -2.401680\n",
       "\n",
       "[28941 rows x 6 columns]"
      ]
     },
     "execution_count": 44,
     "metadata": {},
     "output_type": "execute_result"
    }
   ],
   "source": [
    "df_ray_origin_with_target_direction = pd.concat([df_ray_origin, df_road.iloc[:, :3]], axis=1)\n",
    "df_ray_origin_with_target_direction"
   ]
  },
  {
   "cell_type": "code",
   "execution_count": 45,
   "id": "d8bdb864-eb38-411c-9751-25a2f5f195d7",
   "metadata": {},
   "outputs": [
    {
     "data": {
      "text/plain": [
       "array([[  0.        ,   0.        ,   0.        ,  -2.44912004,\n",
       "          7.66454983,   0.28098401],\n",
       "       [  0.        ,   0.        ,   0.        ,  -2.40728998,\n",
       "          7.6950798 ,   0.28156   ],\n",
       "       [  0.        ,   0.        ,   0.        ,   8.54878998,\n",
       "        -14.13589954,   0.57688802],\n",
       "       ...,\n",
       "       [  0.        ,   0.        ,   0.        ,  -5.19688988,\n",
       "         -0.0950146 ,  -2.40167999],\n",
       "       [  0.        ,   0.        ,   0.        ,  -5.19736004,\n",
       "         -0.0633447 ,  -2.40167999],\n",
       "       [  0.        ,   0.        ,   0.        ,  -5.19765997,\n",
       "         -0.0316699 ,  -2.40167999]])"
      ]
     },
     "execution_count": 45,
     "metadata": {},
     "output_type": "execute_result"
    }
   ],
   "source": [
    "rays_array = df_ray_origin_with_target_direction.to_numpy()\n",
    "rays_array"
   ]
  },
  {
   "cell_type": "markdown",
   "id": "35422154-4581-4ed7-8144-344e6951210f",
   "metadata": {},
   "source": [
    "### We have now a group of rays. We need to figure out the intersection point on the person mesh"
   ]
  },
  {
   "cell_type": "raw",
   "id": "88ce2c04-75a9-4a91-9b83-f8cce03a2d0d",
   "metadata": {},
   "source": [
    "# We can also load the saved mesh\n",
    "# Specify the file path of the mesh you want to load\n",
    "file_path = \"csv/reconstructed_person_mesh.obj\"\n",
    "# Read the triangle mesh from the specified file\n",
    "mesh = o3d.io.read_triangle_mesh(file_path)"
   ]
  },
  {
   "cell_type": "code",
   "execution_count": 47,
   "id": "1e8ebcce-3b17-48c3-9add-bff64cf2a33b",
   "metadata": {},
   "outputs": [
    {
     "data": {
      "text/plain": [
       "0"
      ]
     },
     "execution_count": 47,
     "metadata": {},
     "output_type": "execute_result"
    }
   ],
   "source": [
    "# Create a scene and add the traingle mesh of the object\n",
    "mesh_new = o3d.t.geometry.TriangleMesh.from_legacy(mesh)\n",
    "scene = o3d.t.geometry.RaycastingScene()\n",
    "scene.add_triangles(mesh_new) # we get typeerror if we directly pass the mesh\n"
   ]
  },
  {
   "cell_type": "code",
   "execution_count": 48,
   "id": "f2968b92-a31b-4323-b43a-a945056157d5",
   "metadata": {},
   "outputs": [],
   "source": [
    "# Creating Rays for casting using the rays array created earlier\n",
    "rays = o3d.core.Tensor(rays_array,dtype=o3d.core.Dtype.Float32)\n",
    "\n",
    "# Casting rays on the scene\n",
    "ans = scene.cast_rays(rays)"
   ]
  },
  {
   "cell_type": "code",
   "execution_count": 53,
   "id": "cc6d4440-3a02-4c84-ae9a-95c7b1c58c61",
   "metadata": {},
   "outputs": [
    {
     "name": "stdout",
     "output_type": "stream",
     "text": [
      "dict_keys(['primitive_uvs', 'primitive_ids', 'geometry_ids', 'primitive_normals', 't_hit'])\n"
     ]
    }
   ],
   "source": [
    "print(ans.keys())"
   ]
  },
  {
   "cell_type": "raw",
   "id": "2018226f-f571-4108-9d28-80c3580d5c2e",
   "metadata": {},
   "source": [
    "   t_hit is the distance to the intersection. The unit is defined by the length of the ray direction. If there is no intersection this is inf\n",
    "\n",
    "    geometry_ids gives the id of the geometry hit by the ray. If no geometry was hit this is RaycastingScene.INVALID_ID\n",
    "\n",
    "    primitive_ids is the triangle index of the triangle that was hit or RaycastingScene.INVALID_ID\n",
    "\n",
    "    primitive_uvs is the barycentric coordinates of the intersection point within the triangle.\n",
    "\n",
    "    primitive_normals is the normal of the hit triangle.\n"
   ]
  },
  {
   "cell_type": "markdown",
   "id": "c989263d-6cec-47bf-83cd-b6a63403e7e1",
   "metadata": {},
   "source": [
    "### The ray is passed through the scene. We can now see on which traingles are the ray intersected"
   ]
  },
  {
   "cell_type": "code",
   "execution_count": 98,
   "id": "d010476d-160a-4e63-aabc-0d0f7cd0af2c",
   "metadata": {},
   "outputs": [],
   "source": [
    "triangle_ids = [i.numpy() for i in ans[\"primitive_ids\"] if i != scene.INVALID_ID]"
   ]
  },
  {
   "cell_type": "code",
   "execution_count": 99,
   "id": "ecd7b993-2aff-455d-bb51-d140d0c0b300",
   "metadata": {},
   "outputs": [
    {
     "data": {
      "text/plain": [
       "488"
      ]
     },
     "execution_count": 99,
     "metadata": {},
     "output_type": "execute_result"
    }
   ],
   "source": [
    "len(triangle_ids)"
   ]
  },
  {
   "cell_type": "markdown",
   "id": "5b3f63cd-4480-4bc8-bd83-e42316de1314",
   "metadata": {},
   "source": [
    "### Triangle Ids contains ids of triangle in the mesh through which the ray passed"
   ]
  },
  {
   "cell_type": "code",
   "execution_count": 100,
   "id": "5ba80173-0806-4e65-9ed7-b333ed93b48a",
   "metadata": {},
   "outputs": [],
   "source": [
    "triangle_indices = [i.numpy() for i in mesh_new.triangle.indices] # list of all the triangles in the mesh"
   ]
  },
  {
   "cell_type": "code",
   "execution_count": 101,
   "id": "9b59aa26-4d25-4371-bd8f-ef2f45418012",
   "metadata": {},
   "outputs": [
    {
     "data": {
      "text/plain": [
       "3364"
      ]
     },
     "execution_count": 101,
     "metadata": {},
     "output_type": "execute_result"
    }
   ],
   "source": [
    "len(triangle_indices)"
   ]
  },
  {
   "cell_type": "code",
   "execution_count": 102,
   "id": "d0f046da-4d7c-40af-94d1-1c857ec78fae",
   "metadata": {},
   "outputs": [
    {
     "data": {
      "text/plain": [
       "array([ 0,  1, 20], dtype=int64)"
      ]
     },
     "execution_count": 102,
     "metadata": {},
     "output_type": "execute_result"
    }
   ],
   "source": [
    "triangle_indices[0]"
   ]
  },
  {
   "cell_type": "markdown",
   "id": "728e5168-1ffc-4a90-be63-e708bb5bb361",
   "metadata": {},
   "source": [
    "### Each value in triangle indices represents the three vertex  index of triangle."
   ]
  },
  {
   "cell_type": "markdown",
   "id": "0965e2f2-dd91-443d-aca6-c77f7652ec1c",
   "metadata": {},
   "source": [
    "### We can use the vertex index and get the corresponding vertex value in x,y,z coordinate"
   ]
  },
  {
   "cell_type": "code",
   "execution_count": 103,
   "id": "fadeb47c-4f25-42aa-a78c-665dd5752301",
   "metadata": {},
   "outputs": [],
   "source": [
    "vertex_list = [i.numpy() for i in mesh_new.vertex.positions]"
   ]
  },
  {
   "cell_type": "code",
   "execution_count": 124,
   "id": "3fb4d605-c19e-4d44-b012-4686111be733",
   "metadata": {},
   "outputs": [
    {
     "name": "stdout",
     "output_type": "stream",
     "text": [
      "[[ 4.25822608 -3.87941424 -0.90936716]\n",
      " [ 4.2051007  -3.88251813 -0.91812126]\n",
      " [ 4.25822608 -3.85681725 -0.97124648]\n",
      " ...\n",
      " [ 3.83029366 -4.05920855 -2.39500237]\n",
      " [ 3.88194116 -3.92918523 -2.39296627]\n",
      " [ 3.83168411 -4.01002661 -2.41776403]]\n"
     ]
    }
   ],
   "source": [
    "all_intersected_points = np.zeros((len(triangle_ids), 3)) # Creating an empty array\n",
    "for indx, triangle_id in enumerate(triangle_ids): # List of Triangles through which rays intersected\n",
    "    triangle_vertex = triangle_indices[triangle_id] # Gives the list of vertex\n",
    "    vertex0 = vertex_list[triangle_vertex[0]] # Gives the corresponding vertex value in x,y,z\n",
    "    vertex1 = vertex_list[triangle_vertex[1]] # Gives the corresponding vertex value in x,y,z\n",
    "    vertex2 = vertex_list[triangle_vertex[2]] # Gives the corresponding vertex value in x,y,z\n",
    "    all_intersected_points[indx] = [(vertex0[i] + vertex1[i] + vertex2[i])/3 for i in range(3)] # Computing the centroid for now\n",
    "print(all_intersected_points)"
   ]
  },
  {
   "cell_type": "code",
   "execution_count": 125,
   "id": "d75c44af-572a-4b41-a054-1c92095e2679",
   "metadata": {},
   "outputs": [
    {
     "data": {
      "text/html": [
       "<div>\n",
       "<style scoped>\n",
       "    .dataframe tbody tr th:only-of-type {\n",
       "        vertical-align: middle;\n",
       "    }\n",
       "\n",
       "    .dataframe tbody tr th {\n",
       "        vertical-align: top;\n",
       "    }\n",
       "\n",
       "    .dataframe thead th {\n",
       "        text-align: right;\n",
       "    }\n",
       "</style>\n",
       "<table border=\"1\" class=\"dataframe\">\n",
       "  <thead>\n",
       "    <tr style=\"text-align: right;\">\n",
       "      <th></th>\n",
       "      <th>0</th>\n",
       "      <th>1</th>\n",
       "      <th>2</th>\n",
       "    </tr>\n",
       "  </thead>\n",
       "  <tbody>\n",
       "    <tr>\n",
       "      <th>0</th>\n",
       "      <td>4.258226</td>\n",
       "      <td>-3.879414</td>\n",
       "      <td>-0.909367</td>\n",
       "    </tr>\n",
       "    <tr>\n",
       "      <th>1</th>\n",
       "      <td>4.205101</td>\n",
       "      <td>-3.882518</td>\n",
       "      <td>-0.918121</td>\n",
       "    </tr>\n",
       "    <tr>\n",
       "      <th>2</th>\n",
       "      <td>4.258226</td>\n",
       "      <td>-3.856817</td>\n",
       "      <td>-0.971246</td>\n",
       "    </tr>\n",
       "    <tr>\n",
       "      <th>3</th>\n",
       "      <td>4.236976</td>\n",
       "      <td>-3.871621</td>\n",
       "      <td>-0.949996</td>\n",
       "    </tr>\n",
       "    <tr>\n",
       "      <th>4</th>\n",
       "      <td>4.194476</td>\n",
       "      <td>-3.880468</td>\n",
       "      <td>-0.949996</td>\n",
       "    </tr>\n",
       "    <tr>\n",
       "      <th>...</th>\n",
       "      <td>...</td>\n",
       "      <td>...</td>\n",
       "      <td>...</td>\n",
       "    </tr>\n",
       "    <tr>\n",
       "      <th>483</th>\n",
       "      <td>3.842904</td>\n",
       "      <td>-3.962596</td>\n",
       "      <td>-2.352502</td>\n",
       "    </tr>\n",
       "    <tr>\n",
       "      <th>484</th>\n",
       "      <td>3.829991</td>\n",
       "      <td>-3.995805</td>\n",
       "      <td>-2.363127</td>\n",
       "    </tr>\n",
       "    <tr>\n",
       "      <th>485</th>\n",
       "      <td>3.830294</td>\n",
       "      <td>-4.059209</td>\n",
       "      <td>-2.395002</td>\n",
       "    </tr>\n",
       "    <tr>\n",
       "      <th>486</th>\n",
       "      <td>3.881941</td>\n",
       "      <td>-3.929185</td>\n",
       "      <td>-2.392966</td>\n",
       "    </tr>\n",
       "    <tr>\n",
       "      <th>487</th>\n",
       "      <td>3.831684</td>\n",
       "      <td>-4.010027</td>\n",
       "      <td>-2.417764</td>\n",
       "    </tr>\n",
       "  </tbody>\n",
       "</table>\n",
       "<p>488 rows × 3 columns</p>\n",
       "</div>"
      ],
      "text/plain": [
       "            0         1         2\n",
       "0    4.258226 -3.879414 -0.909367\n",
       "1    4.205101 -3.882518 -0.918121\n",
       "2    4.258226 -3.856817 -0.971246\n",
       "3    4.236976 -3.871621 -0.949996\n",
       "4    4.194476 -3.880468 -0.949996\n",
       "..        ...       ...       ...\n",
       "483  3.842904 -3.962596 -2.352502\n",
       "484  3.829991 -3.995805 -2.363127\n",
       "485  3.830294 -4.059209 -2.395002\n",
       "486  3.881941 -3.929185 -2.392966\n",
       "487  3.831684 -4.010027 -2.417764\n",
       "\n",
       "[488 rows x 3 columns]"
      ]
     },
     "execution_count": 125,
     "metadata": {},
     "output_type": "execute_result"
    }
   ],
   "source": [
    "df_person_pcd_after_raycast = pd.DataFrame(all_intersected_points)\n",
    "df_person_pcd_after_raycast"
   ]
  },
  {
   "cell_type": "markdown",
   "id": "6bf29933-fd36-4ab3-bba3-020265e6684f",
   "metadata": {},
   "source": [
    "# 7. Saving the new pointcloud of person after Raycasting"
   ]
  },
  {
   "cell_type": "code",
   "execution_count": 126,
   "id": "1bfb16e5-a4ac-4555-9393-f211eef7422f",
   "metadata": {},
   "outputs": [],
   "source": [
    "df_person_pcd_after_raycast.to_csv(\"csv/latest_person_pcd_after_raycast.csv\", index=False)"
   ]
  },
  {
   "cell_type": "markdown",
   "id": "bc25b7fe-0709-47d0-9303-ca3abac40ad3",
   "metadata": {},
   "source": [
    "### using open3d to load and visualize the person"
   ]
  },
  {
   "cell_type": "code",
   "execution_count": 127,
   "id": "ba2ee44e-9937-4877-9396-08c41cd8ee31",
   "metadata": {},
   "outputs": [
    {
     "data": {
      "text/html": [
       "<div>\n",
       "<style scoped>\n",
       "    .dataframe tbody tr th:only-of-type {\n",
       "        vertical-align: middle;\n",
       "    }\n",
       "\n",
       "    .dataframe tbody tr th {\n",
       "        vertical-align: top;\n",
       "    }\n",
       "\n",
       "    .dataframe thead th {\n",
       "        text-align: right;\n",
       "    }\n",
       "</style>\n",
       "<table border=\"1\" class=\"dataframe\">\n",
       "  <thead>\n",
       "    <tr style=\"text-align: right;\">\n",
       "      <th></th>\n",
       "      <th>0</th>\n",
       "      <th>1</th>\n",
       "      <th>2</th>\n",
       "    </tr>\n",
       "  </thead>\n",
       "  <tbody>\n",
       "    <tr>\n",
       "      <th>0</th>\n",
       "      <td>4.258226</td>\n",
       "      <td>-3.879414</td>\n",
       "      <td>-0.909367</td>\n",
       "    </tr>\n",
       "    <tr>\n",
       "      <th>1</th>\n",
       "      <td>4.205101</td>\n",
       "      <td>-3.882518</td>\n",
       "      <td>-0.918121</td>\n",
       "    </tr>\n",
       "    <tr>\n",
       "      <th>2</th>\n",
       "      <td>4.258226</td>\n",
       "      <td>-3.856817</td>\n",
       "      <td>-0.971246</td>\n",
       "    </tr>\n",
       "    <tr>\n",
       "      <th>3</th>\n",
       "      <td>4.236976</td>\n",
       "      <td>-3.871621</td>\n",
       "      <td>-0.949996</td>\n",
       "    </tr>\n",
       "    <tr>\n",
       "      <th>4</th>\n",
       "      <td>4.194476</td>\n",
       "      <td>-3.880468</td>\n",
       "      <td>-0.949996</td>\n",
       "    </tr>\n",
       "    <tr>\n",
       "      <th>...</th>\n",
       "      <td>...</td>\n",
       "      <td>...</td>\n",
       "      <td>...</td>\n",
       "    </tr>\n",
       "    <tr>\n",
       "      <th>483</th>\n",
       "      <td>3.842904</td>\n",
       "      <td>-3.962596</td>\n",
       "      <td>-2.352502</td>\n",
       "    </tr>\n",
       "    <tr>\n",
       "      <th>484</th>\n",
       "      <td>3.829991</td>\n",
       "      <td>-3.995805</td>\n",
       "      <td>-2.363127</td>\n",
       "    </tr>\n",
       "    <tr>\n",
       "      <th>485</th>\n",
       "      <td>3.830294</td>\n",
       "      <td>-4.059209</td>\n",
       "      <td>-2.395002</td>\n",
       "    </tr>\n",
       "    <tr>\n",
       "      <th>486</th>\n",
       "      <td>3.881941</td>\n",
       "      <td>-3.929185</td>\n",
       "      <td>-2.392966</td>\n",
       "    </tr>\n",
       "    <tr>\n",
       "      <th>487</th>\n",
       "      <td>3.831684</td>\n",
       "      <td>-4.010027</td>\n",
       "      <td>-2.417764</td>\n",
       "    </tr>\n",
       "  </tbody>\n",
       "</table>\n",
       "<p>488 rows × 3 columns</p>\n",
       "</div>"
      ],
      "text/plain": [
       "            0         1         2\n",
       "0    4.258226 -3.879414 -0.909367\n",
       "1    4.205101 -3.882518 -0.918121\n",
       "2    4.258226 -3.856817 -0.971246\n",
       "3    4.236976 -3.871621 -0.949996\n",
       "4    4.194476 -3.880468 -0.949996\n",
       "..        ...       ...       ...\n",
       "483  3.842904 -3.962596 -2.352502\n",
       "484  3.829991 -3.995805 -2.363127\n",
       "485  3.830294 -4.059209 -2.395002\n",
       "486  3.881941 -3.929185 -2.392966\n",
       "487  3.831684 -4.010027 -2.417764\n",
       "\n",
       "[488 rows x 3 columns]"
      ]
     },
     "execution_count": 127,
     "metadata": {},
     "output_type": "execute_result"
    }
   ],
   "source": [
    "df_person_after_raycast = pd.read_csv(\"csv/latest_person_pcd_after_raycast.csv\")\n",
    "df_person_after_raycast"
   ]
  },
  {
   "cell_type": "code",
   "execution_count": 128,
   "id": "9cb6ece2-5fbf-42c2-84e4-c9d552bfbc23",
   "metadata": {},
   "outputs": [],
   "source": [
    "pcd = o3d.geometry.PointCloud()\n",
    "pcd.points = o3d.utility.Vector3dVector(df_person_after_raycast.to_numpy()) # Need to pass numpy array\n",
    "\n",
    "o3d.visualization.draw_geometries([pcd],)\n"
   ]
  },
  {
   "cell_type": "markdown",
   "id": "1b746fea-e35f-43af-b454-bb0001a8ebda",
   "metadata": {},
   "source": [
    "# 8. Shadow Casting using Hidden Point Removal"
   ]
  },
  {
   "cell_type": "markdown",
   "id": "36803fd8-71c1-4c0f-816d-4987804e286f",
   "metadata": {},
   "source": [
    "### First step concatenate the new person pcd after raycast and road pcd"
   ]
  },
  {
   "cell_type": "code",
   "execution_count": 136,
   "id": "070d9381-8aa1-4216-bf04-5a85c8fb7bad",
   "metadata": {},
   "outputs": [
    {
     "data": {
      "text/html": [
       "<div>\n",
       "<style scoped>\n",
       "    .dataframe tbody tr th:only-of-type {\n",
       "        vertical-align: middle;\n",
       "    }\n",
       "\n",
       "    .dataframe tbody tr th {\n",
       "        vertical-align: top;\n",
       "    }\n",
       "\n",
       "    .dataframe thead th {\n",
       "        text-align: right;\n",
       "    }\n",
       "</style>\n",
       "<table border=\"1\" class=\"dataframe\">\n",
       "  <thead>\n",
       "    <tr style=\"text-align: right;\">\n",
       "      <th></th>\n",
       "      <th>0</th>\n",
       "      <th>1</th>\n",
       "      <th>2</th>\n",
       "    </tr>\n",
       "  </thead>\n",
       "  <tbody>\n",
       "    <tr>\n",
       "      <th>0</th>\n",
       "      <td>-2.44912</td>\n",
       "      <td>7.664550</td>\n",
       "      <td>0.280984</td>\n",
       "    </tr>\n",
       "    <tr>\n",
       "      <th>1</th>\n",
       "      <td>-2.40729</td>\n",
       "      <td>7.695080</td>\n",
       "      <td>0.281560</td>\n",
       "    </tr>\n",
       "    <tr>\n",
       "      <th>2</th>\n",
       "      <td>8.54879</td>\n",
       "      <td>-14.135900</td>\n",
       "      <td>0.576888</td>\n",
       "    </tr>\n",
       "    <tr>\n",
       "      <th>3</th>\n",
       "      <td>-2.44904</td>\n",
       "      <td>7.664230</td>\n",
       "      <td>0.221176</td>\n",
       "    </tr>\n",
       "    <tr>\n",
       "      <th>4</th>\n",
       "      <td>-2.40713</td>\n",
       "      <td>7.694510</td>\n",
       "      <td>0.221623</td>\n",
       "    </tr>\n",
       "    <tr>\n",
       "      <th>...</th>\n",
       "      <td>...</td>\n",
       "      <td>...</td>\n",
       "      <td>...</td>\n",
       "    </tr>\n",
       "    <tr>\n",
       "      <th>28936</th>\n",
       "      <td>-5.19533</td>\n",
       "      <td>-0.158345</td>\n",
       "      <td>-2.401680</td>\n",
       "    </tr>\n",
       "    <tr>\n",
       "      <th>28937</th>\n",
       "      <td>-5.19619</td>\n",
       "      <td>-0.126680</td>\n",
       "      <td>-2.401680</td>\n",
       "    </tr>\n",
       "    <tr>\n",
       "      <th>28938</th>\n",
       "      <td>-5.19689</td>\n",
       "      <td>-0.095015</td>\n",
       "      <td>-2.401680</td>\n",
       "    </tr>\n",
       "    <tr>\n",
       "      <th>28939</th>\n",
       "      <td>-5.19736</td>\n",
       "      <td>-0.063345</td>\n",
       "      <td>-2.401680</td>\n",
       "    </tr>\n",
       "    <tr>\n",
       "      <th>28940</th>\n",
       "      <td>-5.19766</td>\n",
       "      <td>-0.031670</td>\n",
       "      <td>-2.401680</td>\n",
       "    </tr>\n",
       "  </tbody>\n",
       "</table>\n",
       "<p>28941 rows × 3 columns</p>\n",
       "</div>"
      ],
      "text/plain": [
       "             0          1         2\n",
       "0     -2.44912   7.664550  0.280984\n",
       "1     -2.40729   7.695080  0.281560\n",
       "2      8.54879 -14.135900  0.576888\n",
       "3     -2.44904   7.664230  0.221176\n",
       "4     -2.40713   7.694510  0.221623\n",
       "...        ...        ...       ...\n",
       "28936 -5.19533  -0.158345 -2.401680\n",
       "28937 -5.19619  -0.126680 -2.401680\n",
       "28938 -5.19689  -0.095015 -2.401680\n",
       "28939 -5.19736  -0.063345 -2.401680\n",
       "28940 -5.19766  -0.031670 -2.401680\n",
       "\n",
       "[28941 rows x 3 columns]"
      ]
     },
     "execution_count": 136,
     "metadata": {},
     "output_type": "execute_result"
    }
   ],
   "source": [
    "df_road = pd.read_csv(\"csv/latest_road_only.csv\").iloc[:, :3]\n",
    "df_road.columns = [0, 1, 2]\n",
    "df_road"
   ]
  },
  {
   "cell_type": "code",
   "execution_count": 148,
   "id": "4ad82d70-d40a-43e5-9869-c46d8bfbeb2c",
   "metadata": {},
   "outputs": [
    {
     "data": {
      "text/html": [
       "<div>\n",
       "<style scoped>\n",
       "    .dataframe tbody tr th:only-of-type {\n",
       "        vertical-align: middle;\n",
       "    }\n",
       "\n",
       "    .dataframe tbody tr th {\n",
       "        vertical-align: top;\n",
       "    }\n",
       "\n",
       "    .dataframe thead th {\n",
       "        text-align: right;\n",
       "    }\n",
       "</style>\n",
       "<table border=\"1\" class=\"dataframe\">\n",
       "  <thead>\n",
       "    <tr style=\"text-align: right;\">\n",
       "      <th></th>\n",
       "      <th>0</th>\n",
       "      <th>1</th>\n",
       "      <th>2</th>\n",
       "    </tr>\n",
       "  </thead>\n",
       "  <tbody>\n",
       "    <tr>\n",
       "      <th>0</th>\n",
       "      <td>4.258226</td>\n",
       "      <td>-3.879414</td>\n",
       "      <td>-0.909367</td>\n",
       "    </tr>\n",
       "    <tr>\n",
       "      <th>1</th>\n",
       "      <td>4.205101</td>\n",
       "      <td>-3.882518</td>\n",
       "      <td>-0.918121</td>\n",
       "    </tr>\n",
       "    <tr>\n",
       "      <th>2</th>\n",
       "      <td>4.258226</td>\n",
       "      <td>-3.856817</td>\n",
       "      <td>-0.971246</td>\n",
       "    </tr>\n",
       "    <tr>\n",
       "      <th>3</th>\n",
       "      <td>4.236976</td>\n",
       "      <td>-3.871621</td>\n",
       "      <td>-0.949996</td>\n",
       "    </tr>\n",
       "    <tr>\n",
       "      <th>4</th>\n",
       "      <td>4.194476</td>\n",
       "      <td>-3.880468</td>\n",
       "      <td>-0.949996</td>\n",
       "    </tr>\n",
       "    <tr>\n",
       "      <th>...</th>\n",
       "      <td>...</td>\n",
       "      <td>...</td>\n",
       "      <td>...</td>\n",
       "    </tr>\n",
       "    <tr>\n",
       "      <th>483</th>\n",
       "      <td>3.842904</td>\n",
       "      <td>-3.962596</td>\n",
       "      <td>-2.352502</td>\n",
       "    </tr>\n",
       "    <tr>\n",
       "      <th>484</th>\n",
       "      <td>3.829991</td>\n",
       "      <td>-3.995805</td>\n",
       "      <td>-2.363127</td>\n",
       "    </tr>\n",
       "    <tr>\n",
       "      <th>485</th>\n",
       "      <td>3.830294</td>\n",
       "      <td>-4.059209</td>\n",
       "      <td>-2.395002</td>\n",
       "    </tr>\n",
       "    <tr>\n",
       "      <th>486</th>\n",
       "      <td>3.881941</td>\n",
       "      <td>-3.929185</td>\n",
       "      <td>-2.392966</td>\n",
       "    </tr>\n",
       "    <tr>\n",
       "      <th>487</th>\n",
       "      <td>3.831684</td>\n",
       "      <td>-4.010027</td>\n",
       "      <td>-2.417764</td>\n",
       "    </tr>\n",
       "  </tbody>\n",
       "</table>\n",
       "<p>488 rows × 3 columns</p>\n",
       "</div>"
      ],
      "text/plain": [
       "            0         1         2\n",
       "0    4.258226 -3.879414 -0.909367\n",
       "1    4.205101 -3.882518 -0.918121\n",
       "2    4.258226 -3.856817 -0.971246\n",
       "3    4.236976 -3.871621 -0.949996\n",
       "4    4.194476 -3.880468 -0.949996\n",
       "..        ...       ...       ...\n",
       "483  3.842904 -3.962596 -2.352502\n",
       "484  3.829991 -3.995805 -2.363127\n",
       "485  3.830294 -4.059209 -2.395002\n",
       "486  3.881941 -3.929185 -2.392966\n",
       "487  3.831684 -4.010027 -2.417764\n",
       "\n",
       "[488 rows x 3 columns]"
      ]
     },
     "execution_count": 148,
     "metadata": {},
     "output_type": "execute_result"
    }
   ],
   "source": [
    "df_person_new = pd.read_csv(\"csv/latest_person_pcd_after_raycast.csv\")\n",
    "df_person_new.columns = [0,1,2]\n",
    "df_person_new"
   ]
  },
  {
   "cell_type": "code",
   "execution_count": 149,
   "id": "398d0030-89c9-49b4-8d79-d7dbeacf27dc",
   "metadata": {},
   "outputs": [
    {
     "data": {
      "text/plain": [
       "Int64Index([0, 1, 2], dtype='int64')"
      ]
     },
     "execution_count": 149,
     "metadata": {},
     "output_type": "execute_result"
    }
   ],
   "source": [
    "df_person_new.columns"
   ]
  },
  {
   "cell_type": "code",
   "execution_count": 150,
   "id": "f8784f26-ec66-4074-9b8e-d3ed035be259",
   "metadata": {},
   "outputs": [
    {
     "data": {
      "text/plain": [
       "Int64Index([0, 1, 2], dtype='int64')"
      ]
     },
     "execution_count": 150,
     "metadata": {},
     "output_type": "execute_result"
    }
   ],
   "source": [
    "df_road.columns"
   ]
  },
  {
   "cell_type": "code",
   "execution_count": 151,
   "id": "f2e30f92-e498-479a-8b2d-2ea12142c28a",
   "metadata": {},
   "outputs": [
    {
     "data": {
      "text/html": [
       "<div>\n",
       "<style scoped>\n",
       "    .dataframe tbody tr th:only-of-type {\n",
       "        vertical-align: middle;\n",
       "    }\n",
       "\n",
       "    .dataframe tbody tr th {\n",
       "        vertical-align: top;\n",
       "    }\n",
       "\n",
       "    .dataframe thead th {\n",
       "        text-align: right;\n",
       "    }\n",
       "</style>\n",
       "<table border=\"1\" class=\"dataframe\">\n",
       "  <thead>\n",
       "    <tr style=\"text-align: right;\">\n",
       "      <th></th>\n",
       "      <th>0</th>\n",
       "      <th>1</th>\n",
       "      <th>2</th>\n",
       "    </tr>\n",
       "  </thead>\n",
       "  <tbody>\n",
       "    <tr>\n",
       "      <th>0</th>\n",
       "      <td>-2.449120</td>\n",
       "      <td>7.664550</td>\n",
       "      <td>0.280984</td>\n",
       "    </tr>\n",
       "    <tr>\n",
       "      <th>1</th>\n",
       "      <td>-2.407290</td>\n",
       "      <td>7.695080</td>\n",
       "      <td>0.281560</td>\n",
       "    </tr>\n",
       "    <tr>\n",
       "      <th>2</th>\n",
       "      <td>8.548790</td>\n",
       "      <td>-14.135900</td>\n",
       "      <td>0.576888</td>\n",
       "    </tr>\n",
       "    <tr>\n",
       "      <th>3</th>\n",
       "      <td>-2.449040</td>\n",
       "      <td>7.664230</td>\n",
       "      <td>0.221176</td>\n",
       "    </tr>\n",
       "    <tr>\n",
       "      <th>4</th>\n",
       "      <td>-2.407130</td>\n",
       "      <td>7.694510</td>\n",
       "      <td>0.221623</td>\n",
       "    </tr>\n",
       "    <tr>\n",
       "      <th>...</th>\n",
       "      <td>...</td>\n",
       "      <td>...</td>\n",
       "      <td>...</td>\n",
       "    </tr>\n",
       "    <tr>\n",
       "      <th>483</th>\n",
       "      <td>3.842904</td>\n",
       "      <td>-3.962596</td>\n",
       "      <td>-2.352502</td>\n",
       "    </tr>\n",
       "    <tr>\n",
       "      <th>484</th>\n",
       "      <td>3.829991</td>\n",
       "      <td>-3.995805</td>\n",
       "      <td>-2.363127</td>\n",
       "    </tr>\n",
       "    <tr>\n",
       "      <th>485</th>\n",
       "      <td>3.830294</td>\n",
       "      <td>-4.059209</td>\n",
       "      <td>-2.395002</td>\n",
       "    </tr>\n",
       "    <tr>\n",
       "      <th>486</th>\n",
       "      <td>3.881941</td>\n",
       "      <td>-3.929185</td>\n",
       "      <td>-2.392966</td>\n",
       "    </tr>\n",
       "    <tr>\n",
       "      <th>487</th>\n",
       "      <td>3.831684</td>\n",
       "      <td>-4.010027</td>\n",
       "      <td>-2.417764</td>\n",
       "    </tr>\n",
       "  </tbody>\n",
       "</table>\n",
       "<p>29429 rows × 3 columns</p>\n",
       "</div>"
      ],
      "text/plain": [
       "            0          1         2\n",
       "0   -2.449120   7.664550  0.280984\n",
       "1   -2.407290   7.695080  0.281560\n",
       "2    8.548790 -14.135900  0.576888\n",
       "3   -2.449040   7.664230  0.221176\n",
       "4   -2.407130   7.694510  0.221623\n",
       "..        ...        ...       ...\n",
       "483  3.842904  -3.962596 -2.352502\n",
       "484  3.829991  -3.995805 -2.363127\n",
       "485  3.830294  -4.059209 -2.395002\n",
       "486  3.881941  -3.929185 -2.392966\n",
       "487  3.831684  -4.010027 -2.417764\n",
       "\n",
       "[29429 rows x 3 columns]"
      ]
     },
     "execution_count": 151,
     "metadata": {},
     "output_type": "execute_result"
    }
   ],
   "source": [
    "df_road_person_new = pd.concat([df_road, df_person_new], axis=0)\n",
    "df_road_person_new"
   ]
  },
  {
   "cell_type": "markdown",
   "id": "a6cb020f-b9ac-4b11-919a-dadb7417f1b6",
   "metadata": {},
   "source": [
    "### creating point cloud from the dataframe"
   ]
  },
  {
   "cell_type": "code",
   "execution_count": 156,
   "id": "28a7c367-260b-445d-aa28-1923f5ff55b9",
   "metadata": {},
   "outputs": [],
   "source": [
    "pcd = o3d.geometry.PointCloud()\n",
    "pcd.points = o3d.utility.Vector3dVector(df_road_person_new.to_numpy()) # Need to pass numpy array\n",
    "o3d.visualization.draw_geometries([pcd],)"
   ]
  },
  {
   "cell_type": "markdown",
   "id": "ba78400c-7a33-40ec-9afb-9566862829ed",
   "metadata": {},
   "source": [
    "### We have some findigs when visualizing. When visualizing the new raycasted pcd of person, I could see that the head part of person is not much available or missing."
   ]
  },
  {
   "cell_type": "markdown",
   "id": "6e5d18f7-4e26-44f1-94a1-e24fd2cbb000",
   "metadata": {},
   "source": [
    "### This is because we have taken a part of the point cloud of road. So rays farther away from the origin is not present and hence no rays created that passes through the head of the person"
   ]
  },
  {
   "cell_type": "markdown",
   "id": "86c23279-3a74-4f75-88ed-16d0ad1a6351",
   "metadata": {},
   "source": [
    "### Hidden Point Removal Used for Shadow Casting"
   ]
  },
  {
   "cell_type": "code",
   "execution_count": 157,
   "id": "a89e1d4d-b835-4a9e-910d-2b0dc268117e",
   "metadata": {},
   "outputs": [
    {
     "name": "stdout",
     "output_type": "stream",
     "text": [
      "Define parameters used for hidden_point_removal\n",
      "Get all points that are visible from given view point\n",
      "Visualize result\n"
     ]
    }
   ],
   "source": [
    "diameter = np.linalg.norm(\n",
    "    np.asarray(pcd.get_max_bound()) - np.asarray(pcd.get_min_bound()))\n",
    "o3d.visualization.draw_geometries([pcd])\n",
    "\n",
    "print(\"Define parameters used for hidden_point_removal\")\n",
    "camera = o3d.core.Tensor([0, 0, 0], o3d.core.float32)\n",
    "radius = diameter * 300\n",
    "\n",
    "print(\"Get all points that are visible from given view point\")\n",
    "pcd = o3d.t.geometry.PointCloud.from_legacy(pcd)\n",
    "_, pt_map = pcd.hidden_point_removal(camera, radius)\n",
    "pcd = pcd.select_by_index(pt_map)\n",
    "\n",
    "print(\"Visualize result\")\n",
    "o3d.visualization.draw_geometries([pcd.to_legacy()])"
   ]
  },
  {
   "cell_type": "markdown",
   "id": "60e3f896-6b5f-4c69-9a86-65ced19e293e",
   "metadata": {},
   "source": [
    "### Saving the pcd after shadow casting for future visualization"
   ]
  },
  {
   "cell_type": "code",
   "execution_count": 178,
   "id": "6a690b61-c687-417f-8f1b-bb177ef1276d",
   "metadata": {},
   "outputs": [
    {
     "data": {
      "text/plain": [
       "True"
      ]
     },
     "execution_count": 178,
     "metadata": {},
     "output_type": "execute_result"
    }
   ],
   "source": [
    "o3d.io.write_point_cloud(\"csv/latest_shadow_casted_from_raycasted_person_on_road.ply\", pcd.to_legacy())"
   ]
  },
  {
   "cell_type": "markdown",
   "id": "a6305d78-219e-458e-8d3a-b87c2fbea1b5",
   "metadata": {},
   "source": [
    "# 9. Next Steps"
   ]
  },
  {
   "cell_type": "markdown",
   "id": "318f9d78-cd00-4003-9e33-840dd5a33be2",
   "metadata": {},
   "source": [
    "## i. Need to get a proper reconstructed surface"
   ]
  },
  {
   "cell_type": "markdown",
   "id": "95f20ef7-6108-4ac3-b0da-8fbf9593de17",
   "metadata": {},
   "source": [
    "## ii. Proper Shadow Calculation with good params maybe some error metrices"
   ]
  },
  {
   "cell_type": "markdown",
   "id": "64c4f72d-48ca-4c2f-976f-7e4ff5072a65",
   "metadata": {},
   "source": [
    "## iii. Pipelining the process"
   ]
  },
  {
   "cell_type": "markdown",
   "id": "e0c99972-d7c6-4bdd-bba0-06ef4eaad3ab",
   "metadata": {},
   "source": [
    "## iv. Need to think about the proper boundaries before ray casting as the target pcd boundary is important in determining rays direction"
   ]
  },
  {
   "cell_type": "markdown",
   "id": "f209fad7-daec-47bd-8f7f-b8fbd70d89e3",
   "metadata": {},
   "source": [
    "## v. Transformation of object to another point and perform PCD ICP Registration"
   ]
  },
  {
   "cell_type": "markdown",
   "id": "f5af2e10-b58f-4ecd-bbd6-abe2012220f4",
   "metadata": {},
   "source": [
    "## vi. Maybe Create a Proper Visualization tools to do these things interactively"
   ]
  },
  {
   "cell_type": "code",
   "execution_count": null,
   "id": "42e5363f-abb4-407c-acc5-2a1ab050718f",
   "metadata": {},
   "outputs": [],
   "source": []
  }
 ],
 "metadata": {
  "kernelspec": {
   "display_name": "Python 3 (ipykernel)",
   "language": "python",
   "name": "python3"
  },
  "language_info": {
   "codemirror_mode": {
    "name": "ipython",
    "version": 3
   },
   "file_extension": ".py",
   "mimetype": "text/x-python",
   "name": "python",
   "nbconvert_exporter": "python",
   "pygments_lexer": "ipython3",
   "version": "3.8.10"
  }
 },
 "nbformat": 4,
 "nbformat_minor": 5
}
