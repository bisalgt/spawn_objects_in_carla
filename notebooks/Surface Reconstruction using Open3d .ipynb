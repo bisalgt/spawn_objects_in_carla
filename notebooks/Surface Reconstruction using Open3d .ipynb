{
 "cells": [
  {
   "cell_type": "code",
   "execution_count": 1,
   "id": "ae6e27f5-b662-495a-a1f2-0a5bd5fe227a",
   "metadata": {},
   "outputs": [
    {
     "name": "stdout",
     "output_type": "stream",
     "text": [
      "Jupyter environment detected. Enabling Open3D WebVisualizer.\n",
      "[Open3D INFO] WebRTC GUI backend enabled.\n",
      "[Open3D INFO] WebRTCWindowSystem: HTTP handshake server disabled.\n",
      "[Open3D INFO] Downloading https://github.com/isl-org/open3d_downloads/releases/download/20220201-data/EaglePointCloud.ply\n",
      "[Open3D INFO] Downloaded to /home/nero/open3d_data/download/EaglePointCloud/EaglePointCloud.ply\n",
      "PointCloud with 796825 points.\n"
     ]
    }
   ],
   "source": [
    "import open3d as o3d\n",
    "eagle = o3d.data.EaglePointCloud()\n",
    "pcd = o3d.io.read_point_cloud(eagle.path)\n",
    "\n",
    "print(pcd)\n",
    "o3d.visualization.draw_geometries([pcd],\n",
    "                                  zoom=0.664,\n",
    "                                  front=[-0.4761, -0.4698, -0.7434],\n",
    "                                  lookat=[1.8900, 3.2596, 0.9284],\n",
    "                                  up=[0.2304, -0.8825, 0.4101])\n"
   ]
  },
  {
   "cell_type": "code",
   "execution_count": 2,
   "id": "929995ef-2ea4-42b1-ae99-80257fe25302",
   "metadata": {},
   "outputs": [
    {
     "name": "stdout",
     "output_type": "stream",
     "text": [
      "run Poisson surface reconstruction\n",
      "[Open3D DEBUG] Input Points / Samples: 796825 / 368254\n",
      "[Open3D DEBUG] #   Got kernel density: 0.09461307525634766 (s), 433.76171875 (MB) / 433.76171875 (MB) / 433 (MB)\n",
      "[Open3D DEBUG] #     Got normal field: 0.6564919948577881 (s), 539.109375 (MB) / 539.109375 (MB) / 539 (MB)\n",
      "[Open3D DEBUG] Point weight / Estimated Area: 2.623549e-06 / 2.090510e+00\n",
      "[Open3D DEBUG] #       Finalized tree: 0.6026420593261719 (s), 672.39453125 (MB) / 672.39453125 (MB) / 672 (MB)\n",
      "[Open3D DEBUG] #  Set FEM constraints: 1.0684208869934082 (s), 619.70703125 (MB) / 672.39453125 (MB) / 672 (MB)\n",
      "[Open3D DEBUG] #Set point constraints: 0.18422317504882812 (s), 619.70703125 (MB) / 672.39453125 (MB) / 672 (MB)\n",
      "[Open3D DEBUG] Leaf Nodes / Active Nodes / Ghost Nodes: 2945433 / 3365000 / 1209\n",
      "[Open3D DEBUG] Memory Usage: 619.707 MB\n",
      "[Open3D DEBUG] # Linear system solved: 1.6434459686279297 (s), 677.48828125 (MB) / 677.48828125 (MB) / 677 (MB)\n",
      "[Open3D DEBUG] Got average: 0.05160188674926758 (s), 640.80859375 (MB) / 677.48828125 (MB) / 677 (MB)\n",
      "[Open3D DEBUG] Iso-Value: 5.028479e-01 = 4.006817e+05 / 7.968250e+05\n",
      "[Open3D DEBUG] #          Total Solve:      11.9 (s),     819.6 (MB)\n",
      "TriangleMesh with 563112 points and 1126072 triangles.\n"
     ]
    }
   ],
   "source": [
    "print('run Poisson surface reconstruction')\n",
    "with o3d.utility.VerbosityContextManager(\n",
    "        o3d.utility.VerbosityLevel.Debug) as cm:\n",
    "    mesh, densities = o3d.geometry.TriangleMesh.create_from_point_cloud_poisson(\n",
    "        pcd, depth=9)\n",
    "print(mesh)\n",
    "o3d.visualization.draw_geometries([mesh],\n",
    "                                  zoom=0.664,\n",
    "                                  front=[-0.4761, -0.4698, -0.7434],\n",
    "                                  lookat=[1.8900, 3.2596, 0.9284],\n",
    "                                  up=[0.2304, -0.8825, 0.4101])"
   ]
  },
  {
   "cell_type": "code",
   "execution_count": null,
   "id": "d7bffa25-ded9-48ac-8f4c-210fbecbf2f0",
   "metadata": {},
   "outputs": [],
   "source": []
  },
  {
   "cell_type": "code",
   "execution_count": 5,
   "id": "c60a67fe-de8d-4b5b-a4a7-7bff3c9a9f6c",
   "metadata": {},
   "outputs": [
    {
     "data": {
      "text/html": [
       "<div>\n",
       "<style scoped>\n",
       "    .dataframe tbody tr th:only-of-type {\n",
       "        vertical-align: middle;\n",
       "    }\n",
       "\n",
       "    .dataframe tbody tr th {\n",
       "        vertical-align: top;\n",
       "    }\n",
       "\n",
       "    .dataframe thead th {\n",
       "        text-align: right;\n",
       "    }\n",
       "</style>\n",
       "<table border=\"1\" class=\"dataframe\">\n",
       "  <thead>\n",
       "    <tr style=\"text-align: right;\">\n",
       "      <th></th>\n",
       "      <th>x</th>\n",
       "      <th>y</th>\n",
       "      <th>z</th>\n",
       "      <th>CosAngle</th>\n",
       "      <th>ObjIdx</th>\n",
       "      <th>ObjTag</th>\n",
       "    </tr>\n",
       "  </thead>\n",
       "  <tbody>\n",
       "    <tr>\n",
       "      <th>0</th>\n",
       "      <td>4.051992</td>\n",
       "      <td>4.033520</td>\n",
       "      <td>-0.523512</td>\n",
       "      <td>0.440928</td>\n",
       "      <td>580.0</td>\n",
       "      <td>4.0</td>\n",
       "    </tr>\n",
       "    <tr>\n",
       "      <th>1</th>\n",
       "      <td>4.065469</td>\n",
       "      <td>3.997915</td>\n",
       "      <td>-0.522097</td>\n",
       "      <td>0.559707</td>\n",
       "      <td>580.0</td>\n",
       "      <td>4.0</td>\n",
       "    </tr>\n",
       "    <tr>\n",
       "      <th>2</th>\n",
       "      <td>4.091640</td>\n",
       "      <td>3.974932</td>\n",
       "      <td>-0.522343</td>\n",
       "      <td>0.539188</td>\n",
       "      <td>580.0</td>\n",
       "      <td>4.0</td>\n",
       "    </tr>\n",
       "    <tr>\n",
       "      <th>3</th>\n",
       "      <td>4.133047</td>\n",
       "      <td>3.966479</td>\n",
       "      <td>-0.524532</td>\n",
       "      <td>0.355588</td>\n",
       "      <td>580.0</td>\n",
       "      <td>4.0</td>\n",
       "    </tr>\n",
       "    <tr>\n",
       "      <th>4</th>\n",
       "      <td>4.004062</td>\n",
       "      <td>4.034707</td>\n",
       "      <td>-0.563076</td>\n",
       "      <td>0.510506</td>\n",
       "      <td>580.0</td>\n",
       "      <td>4.0</td>\n",
       "    </tr>\n",
       "    <tr>\n",
       "      <th>...</th>\n",
       "      <td>...</td>\n",
       "      <td>...</td>\n",
       "      <td>...</td>\n",
       "      <td>...</td>\n",
       "      <td>...</td>\n",
       "      <td>...</td>\n",
       "    </tr>\n",
       "    <tr>\n",
       "      <th>531</th>\n",
       "      <td>3.914726</td>\n",
       "      <td>3.896919</td>\n",
       "      <td>-2.355879</td>\n",
       "      <td>0.784149</td>\n",
       "      <td>580.0</td>\n",
       "      <td>4.0</td>\n",
       "    </tr>\n",
       "    <tr>\n",
       "      <th>532</th>\n",
       "      <td>3.929805</td>\n",
       "      <td>3.864521</td>\n",
       "      <td>-2.350728</td>\n",
       "      <td>0.917807</td>\n",
       "      <td>580.0</td>\n",
       "      <td>4.0</td>\n",
       "    </tr>\n",
       "    <tr>\n",
       "      <th>533</th>\n",
       "      <td>3.953555</td>\n",
       "      <td>3.840776</td>\n",
       "      <td>-2.350902</td>\n",
       "      <td>0.913410</td>\n",
       "      <td>580.0</td>\n",
       "      <td>4.0</td>\n",
       "    </tr>\n",
       "    <tr>\n",
       "      <th>534</th>\n",
       "      <td>3.986328</td>\n",
       "      <td>3.825664</td>\n",
       "      <td>-2.356476</td>\n",
       "      <td>0.768629</td>\n",
       "      <td>580.0</td>\n",
       "      <td>4.0</td>\n",
       "    </tr>\n",
       "    <tr>\n",
       "      <th>535</th>\n",
       "      <td>4.038125</td>\n",
       "      <td>3.828399</td>\n",
       "      <td>-2.373276</td>\n",
       "      <td>0.334486</td>\n",
       "      <td>580.0</td>\n",
       "      <td>4.0</td>\n",
       "    </tr>\n",
       "  </tbody>\n",
       "</table>\n",
       "<p>536 rows × 6 columns</p>\n",
       "</div>"
      ],
      "text/plain": [
       "            x         y         z  CosAngle  ObjIdx  ObjTag\n",
       "0    4.051992  4.033520 -0.523512  0.440928   580.0     4.0\n",
       "1    4.065469  3.997915 -0.522097  0.559707   580.0     4.0\n",
       "2    4.091640  3.974932 -0.522343  0.539188   580.0     4.0\n",
       "3    4.133047  3.966479 -0.524532  0.355588   580.0     4.0\n",
       "4    4.004062  4.034707 -0.563076  0.510506   580.0     4.0\n",
       "..        ...       ...       ...       ...     ...     ...\n",
       "531  3.914726  3.896919 -2.355879  0.784149   580.0     4.0\n",
       "532  3.929805  3.864521 -2.350728  0.917807   580.0     4.0\n",
       "533  3.953555  3.840776 -2.350902  0.913410   580.0     4.0\n",
       "534  3.986328  3.825664 -2.356476  0.768629   580.0     4.0\n",
       "535  4.038125  3.828399 -2.373276  0.334486   580.0     4.0\n",
       "\n",
       "[536 rows x 6 columns]"
      ]
     },
     "execution_count": 5,
     "metadata": {},
     "output_type": "execute_result"
    }
   ],
   "source": [
    "import pandas as pd\n",
    "\n",
    "df_person = pd.read_csv(person_filename)\n",
    "df_person"
   ]
  },
  {
   "cell_type": "code",
   "execution_count": 8,
   "id": "9a2a875e-a24a-43f6-82a3-f6f920743afe",
   "metadata": {},
   "outputs": [],
   "source": [
    "pcd = o3d.geometry.PointCloud()\n",
    "pcd.points = o3d.utility.Vector3dVector(df_person.iloc[:,:3].to_numpy()) # Need to pass numpy array"
   ]
  },
  {
   "cell_type": "code",
   "execution_count": 9,
   "id": "dfb10ac5-b77b-4288-8409-4c52abbfc7e1",
   "metadata": {},
   "outputs": [
    {
     "name": "stdout",
     "output_type": "stream",
     "text": [
      "PointCloud with 536 points.\n"
     ]
    }
   ],
   "source": [
    "print(pcd)\n",
    "o3d.visualization.draw_geometries([pcd],\n",
    "                                  zoom=0.664,\n",
    "                                  front=[-0.4761, -0.4698, -0.7434],\n",
    "                                  lookat=[1.8900, 3.2596, 0.9284],\n",
    "                                  up=[0.2304, -0.8825, 0.4101])\n"
   ]
  },
  {
   "cell_type": "code",
   "execution_count": 13,
   "id": "bbe36b13-00e2-44d9-9680-6886b35394b6",
   "metadata": {},
   "outputs": [],
   "source": [
    "pcd.estimate_normals(search_param=o3d.geometry.KDTreeSearchParamKNN(knn=50))"
   ]
  },
  {
   "cell_type": "code",
   "execution_count": 22,
   "id": "3a0b2a8f-dc1b-4398-b55f-883521320602",
   "metadata": {},
   "outputs": [
    {
     "name": "stdout",
     "output_type": "stream",
     "text": [
      "PointCloud with 536 points.\n"
     ]
    }
   ],
   "source": [
    "print(pcd)\n",
    "o3d.visualization.draw_geometries([pcd],\n",
    "                                  zoom=0.664,\n",
    "                                  front=[-0.4761, -0.4698, -0.7434],\n",
    "                                  lookat=[1.8900, 3.2596, 0.9284],\n",
    "                                  up=[0.2304, -0.8825, 0.4101], point_show_normal=True)\n"
   ]
  },
  {
   "cell_type": "code",
   "execution_count": 26,
   "id": "d9984374-08a8-4d29-93c5-0bac7bab225e",
   "metadata": {},
   "outputs": [
    {
     "name": "stdout",
     "output_type": "stream",
     "text": [
      "visualize densities\n"
     ]
    }
   ],
   "source": [
    "import numpy as np\n",
    "import matplotlib.pyplot as plt\n",
    "\n",
    "print('visualize densities')\n",
    "densities = np.asarray(densities)\n",
    "density_colors = plt.get_cmap('plasma')(\n",
    "    (densities - densities.min()) / (densities.max() - densities.min()))\n",
    "density_colors = density_colors[:, :3]\n",
    "density_mesh = o3d.geometry.TriangleMesh()\n",
    "density_mesh.vertices = mesh.vertices\n",
    "density_mesh.triangles = mesh.triangles\n",
    "density_mesh.triangle_normals = mesh.triangle_normals\n",
    "density_mesh.vertex_colors = o3d.utility.Vector3dVector(density_colors)\n",
    "o3d.visualization.draw_geometries([density_mesh],\n",
    "                                  zoom=0.664,\n",
    "                                  front=[-0.4761, -0.4698, -0.7434],\n",
    "                                  lookat=[1.8900, 3.2596, 0.9284],\n",
    "                                  up=[0.2304, -0.8825, 0.4101])"
   ]
  },
  {
   "cell_type": "code",
   "execution_count": 22,
   "id": "aa2f355b-8aee-4180-835f-ffedeaf7c161",
   "metadata": {},
   "outputs": [
    {
     "name": "stdout",
     "output_type": "stream",
     "text": [
      "Help on built-in function create_from_point_cloud_poisson in module open3d.cuda.pybind.geometry:\n",
      "\n",
      "create_from_point_cloud_poisson(...) method of builtins.PyCapsule instance\n",
      "    create_from_point_cloud_poisson(pcd, depth=8, width=0, scale=1.1, linear_fit=False, n_threads=-1)\n",
      "    Function that computes a triangle mesh from a oriented PointCloud pcd. This implements the Screened Poisson Reconstruction proposed in Kazhdan and Hoppe, \"Screened Poisson Surface Reconstruction\", 2013. This function uses the original implementation by Kazhdan. See https://github.com/mkazhdan/PoissonRecon\n",
      "    \n",
      "    Args:\n",
      "        pcd (open3d.geometry.PointCloud): PointCloud from which the TriangleMesh surface is reconstructed. Has to contain normals.\n",
      "        depth (int, optional, default=8): Maximum depth of the tree that will be used for surface reconstruction. Running at depth d corresponds to solving on a grid whose resolution is no larger than 2^d x 2^d x 2^d. Note that since the reconstructor adapts the octree to the sampling density, the specified reconstruction depth is only an upper bound.\n",
      "        width (float, optional, default=0): Specifies the target width of the finest level octree cells. This parameter is ignored if depth is specified\n",
      "        scale (float, optional, default=1.1): Specifies the ratio between the diameter of the cube used for reconstruction and the diameter of the samples' bounding cube.\n",
      "        linear_fit (bool, optional, default=False): If true, the reconstructor will use linear interpolation to estimate the positions of iso-vertices.\n",
      "        n_threads (int, optional, default=-1): Number of threads used for reconstruction. Set to -1 to automatically determine it.\n",
      "    \n",
      "    Returns:\n",
      "        Tuple[open3d.geometry.TriangleMesh, open3d.utility.DoubleVector]\n",
      "\n"
     ]
    }
   ],
   "source": [
    "help(o3d.geometry.TriangleMesh.create_from_point_cloud_poisson)"
   ]
  },
  {
   "cell_type": "raw",
   "id": "b3c24a85-5a3c-4de9-b6be-0a877542f920",
   "metadata": {},
   "source": [
    "Density is useful to reduce the extents of the output mesh to fit as much as possible the input point cloud.\n",
    "\n",
    "On the output mesh:\n",
    "- Change the SF 'min displayed'' value (in the mesh properties) until the visible part meets your expectations\n",
    "- Eventually export this mesh as a new one with 'Edit > Scalar fields > Filter by Value' (you can delete the 'density' scalar field afterwards) "
   ]
  },
  {
   "cell_type": "code",
   "execution_count": 28,
   "id": "10b7444f-d9b7-4844-917a-e1c1c70ed8a8",
   "metadata": {},
   "outputs": [
    {
     "data": {
      "text/html": [
       "<div>\n",
       "<style scoped>\n",
       "    .dataframe tbody tr th:only-of-type {\n",
       "        vertical-align: middle;\n",
       "    }\n",
       "\n",
       "    .dataframe tbody tr th {\n",
       "        vertical-align: top;\n",
       "    }\n",
       "\n",
       "    .dataframe thead th {\n",
       "        text-align: right;\n",
       "    }\n",
       "</style>\n",
       "<table border=\"1\" class=\"dataframe\">\n",
       "  <thead>\n",
       "    <tr style=\"text-align: right;\">\n",
       "      <th></th>\n",
       "      <th>//X</th>\n",
       "      <th>Y</th>\n",
       "      <th>Z</th>\n",
       "      <th>curvature</th>\n",
       "      <th>Nx</th>\n",
       "      <th>Ny</th>\n",
       "      <th>Nz</th>\n",
       "    </tr>\n",
       "  </thead>\n",
       "  <tbody>\n",
       "    <tr>\n",
       "      <th>0</th>\n",
       "      <td>4.051992</td>\n",
       "      <td>4.033520</td>\n",
       "      <td>-0.523512</td>\n",
       "      <td>0.054107</td>\n",
       "      <td>-0.404877</td>\n",
       "      <td>-0.772356</td>\n",
       "      <td>0.489430</td>\n",
       "    </tr>\n",
       "    <tr>\n",
       "      <th>1</th>\n",
       "      <td>4.065469</td>\n",
       "      <td>3.997915</td>\n",
       "      <td>-0.522097</td>\n",
       "      <td>0.057785</td>\n",
       "      <td>-0.369796</td>\n",
       "      <td>-0.802025</td>\n",
       "      <td>0.469049</td>\n",
       "    </tr>\n",
       "    <tr>\n",
       "      <th>2</th>\n",
       "      <td>4.091640</td>\n",
       "      <td>3.974931</td>\n",
       "      <td>-0.522343</td>\n",
       "      <td>0.043356</td>\n",
       "      <td>-0.323679</td>\n",
       "      <td>-0.816304</td>\n",
       "      <td>0.478414</td>\n",
       "    </tr>\n",
       "    <tr>\n",
       "      <th>3</th>\n",
       "      <td>4.133047</td>\n",
       "      <td>3.966479</td>\n",
       "      <td>-0.524532</td>\n",
       "      <td>0.037665</td>\n",
       "      <td>-0.285780</td>\n",
       "      <td>-0.826108</td>\n",
       "      <td>0.485670</td>\n",
       "    </tr>\n",
       "    <tr>\n",
       "      <th>4</th>\n",
       "      <td>4.004062</td>\n",
       "      <td>4.034707</td>\n",
       "      <td>-0.563076</td>\n",
       "      <td>0.055416</td>\n",
       "      <td>-0.454142</td>\n",
       "      <td>-0.734885</td>\n",
       "      <td>0.503685</td>\n",
       "    </tr>\n",
       "    <tr>\n",
       "      <th>...</th>\n",
       "      <td>...</td>\n",
       "      <td>...</td>\n",
       "      <td>...</td>\n",
       "      <td>...</td>\n",
       "      <td>...</td>\n",
       "      <td>...</td>\n",
       "      <td>...</td>\n",
       "    </tr>\n",
       "    <tr>\n",
       "      <th>531</th>\n",
       "      <td>3.914726</td>\n",
       "      <td>3.896919</td>\n",
       "      <td>-2.355879</td>\n",
       "      <td>0.070745</td>\n",
       "      <td>-0.595029</td>\n",
       "      <td>-0.178052</td>\n",
       "      <td>0.783734</td>\n",
       "    </tr>\n",
       "    <tr>\n",
       "      <th>532</th>\n",
       "      <td>3.929805</td>\n",
       "      <td>3.864521</td>\n",
       "      <td>-2.350729</td>\n",
       "      <td>0.095557</td>\n",
       "      <td>-0.657278</td>\n",
       "      <td>-0.241160</td>\n",
       "      <td>0.714022</td>\n",
       "    </tr>\n",
       "    <tr>\n",
       "      <th>533</th>\n",
       "      <td>3.953555</td>\n",
       "      <td>3.840776</td>\n",
       "      <td>-2.350902</td>\n",
       "      <td>0.103098</td>\n",
       "      <td>-0.685344</td>\n",
       "      <td>-0.254828</td>\n",
       "      <td>0.682178</td>\n",
       "    </tr>\n",
       "    <tr>\n",
       "      <th>534</th>\n",
       "      <td>3.986328</td>\n",
       "      <td>3.825664</td>\n",
       "      <td>-2.356476</td>\n",
       "      <td>0.110364</td>\n",
       "      <td>-0.687658</td>\n",
       "      <td>-0.213626</td>\n",
       "      <td>0.693895</td>\n",
       "    </tr>\n",
       "    <tr>\n",
       "      <th>535</th>\n",
       "      <td>4.038125</td>\n",
       "      <td>3.828398</td>\n",
       "      <td>-2.373276</td>\n",
       "      <td>0.111592</td>\n",
       "      <td>-0.695601</td>\n",
       "      <td>-0.179659</td>\n",
       "      <td>0.695601</td>\n",
       "    </tr>\n",
       "  </tbody>\n",
       "</table>\n",
       "<p>536 rows × 7 columns</p>\n",
       "</div>"
      ],
      "text/plain": [
       "          //X         Y         Z  curvature        Nx        Ny        Nz\n",
       "0    4.051992  4.033520 -0.523512   0.054107 -0.404877 -0.772356  0.489430\n",
       "1    4.065469  3.997915 -0.522097   0.057785 -0.369796 -0.802025  0.469049\n",
       "2    4.091640  3.974931 -0.522343   0.043356 -0.323679 -0.816304  0.478414\n",
       "3    4.133047  3.966479 -0.524532   0.037665 -0.285780 -0.826108  0.485670\n",
       "4    4.004062  4.034707 -0.563076   0.055416 -0.454142 -0.734885  0.503685\n",
       "..        ...       ...       ...        ...       ...       ...       ...\n",
       "531  3.914726  3.896919 -2.355879   0.070745 -0.595029 -0.178052  0.783734\n",
       "532  3.929805  3.864521 -2.350729   0.095557 -0.657278 -0.241160  0.714022\n",
       "533  3.953555  3.840776 -2.350902   0.103098 -0.685344 -0.254828  0.682178\n",
       "534  3.986328  3.825664 -2.356476   0.110364 -0.687658 -0.213626  0.693895\n",
       "535  4.038125  3.828398 -2.373276   0.111592 -0.695601 -0.179659  0.695601\n",
       "\n",
       "[536 rows x 7 columns]"
      ]
     },
     "execution_count": 28,
     "metadata": {},
     "output_type": "execute_result"
    }
   ],
   "source": [
    "import pandas as pd\n",
    "import open3d as o3d\n",
    "import numpy as np\n",
    "\n",
    "\n",
    "# load point cloud\n",
    "filename = \"~/Documents/person_with_normal.csv\"\n",
    "df_person = pd.read_csv(filename)\n",
    "df_person"
   ]
  },
  {
   "cell_type": "code",
   "execution_count": 30,
   "id": "06b0b1e4-1377-4ff1-b1e9-f957aa3310a6",
   "metadata": {},
   "outputs": [],
   "source": [
    "\n",
    "pcd = o3d.geometry.PointCloud()\n",
    "pcd.points = o3d.utility.Vector3dVector(df_person.iloc[:, :3].to_numpy())"
   ]
  },
  {
   "cell_type": "code",
   "execution_count": 31,
   "id": "a9b8e9ee-0cd3-43c3-ac1b-78f00243f8c1",
   "metadata": {},
   "outputs": [],
   "source": [
    "pcd.normals = o3d.utility.Vector3dVector(df_person.iloc[:, 4:].to_numpy())"
   ]
  },
  {
   "cell_type": "code",
   "execution_count": 46,
   "id": "87f35903-83b7-4c65-a12e-b99389d482f8",
   "metadata": {},
   "outputs": [
    {
     "name": "stdout",
     "output_type": "stream",
     "text": [
      "run Poisson surface reconstruction\n",
      "[Open3D DEBUG] Input Points / Samples: 536 / 536\n",
      "[Open3D DEBUG] #   Got kernel density: 0.0061719417572021484 (s), 426.2578125 (MB) / 426.2578125 (MB) / 427 (MB)\n",
      "[Open3D DEBUG] #     Got normal field: 0.014261007308959961 (s), 426.2578125 (MB) / 426.2578125 (MB) / 427 (MB)\n",
      "[Open3D DEBUG] Point weight / Estimated Area: 8.935911e-04 / 4.789648e-01\n",
      "[Open3D DEBUG] #       Finalized tree: 0.03046417236328125 (s), 426.2578125 (MB) / 426.2578125 (MB) / 427 (MB)\n",
      "[Open3D DEBUG] #  Set FEM constraints: 0.0330810546875 (s), 426.2578125 (MB) / 426.2578125 (MB) / 427 (MB)\n",
      "[Open3D DEBUG] #Set point constraints: 0.00173187255859375 (s), 426.2578125 (MB) / 426.2578125 (MB) / 427 (MB)\n",
      "[Open3D DEBUG] Leaf Nodes / Active Nodes / Ghost Nodes: 89111 / 71848 / 29993\n",
      "[Open3D DEBUG] Memory Usage: 426.258 MB\n",
      "[Open3D DEBUG] # Linear system solved: 0.06240105628967285 (s), 426.2578125 (MB) / 426.2578125 (MB) / 427 (MB)\n",
      "[Open3D DEBUG] Got average: 0.0048980712890625 (s), 426.2578125 (MB) / 426.2578125 (MB) / 427 (MB)\n",
      "[Open3D DEBUG] Iso-Value: 5.032214e-01 = 2.697267e+02 / 5.360000e+02\n",
      "[Open3D DEBUG] #          Total Solve:       0.7 (s),     426.3 (MB)\n",
      "TriangleMesh with 2977 points and 5788 triangles.\n"
     ]
    }
   ],
   "source": [
    "print('run Poisson surface reconstruction')\n",
    "with o3d.utility.VerbosityContextManager(\n",
    "        o3d.utility.VerbosityLevel.Debug) as cm:\n",
    "    mesh, densities = o3d.geometry.TriangleMesh.create_from_point_cloud_poisson(\n",
    "        pcd, depth=9)\n",
    "print(mesh)\n",
    "# o3d.visualization.draw_geometries([mesh])"
   ]
  },
  {
   "cell_type": "code",
   "execution_count": 47,
   "id": "e23f0d8b-21e0-4662-b751-78933546df3c",
   "metadata": {},
   "outputs": [
    {
     "name": "stdout",
     "output_type": "stream",
     "text": [
      "visualize densities\n"
     ]
    }
   ],
   "source": [
    "print('visualize densities')\n",
    "densities = np.asarray(densities)\n",
    "density_colors = plt.get_cmap('plasma')(\n",
    "    (densities - densities.min()) / (densities.max() - densities.min()))\n",
    "density_colors = density_colors[:, :3]\n",
    "density_mesh = o3d.geometry.TriangleMesh()\n",
    "density_mesh.vertices = mesh.vertices\n",
    "density_mesh.triangles = mesh.triangles\n",
    "density_mesh.triangle_normals = mesh.triangle_normals\n",
    "density_mesh.vertex_colors = o3d.utility.Vector3dVector(density_colors)\n",
    "# o3d.visualization.draw_geometries([density_mesh])\n",
    "\n"
   ]
  },
  {
   "cell_type": "code",
   "execution_count": 36,
   "id": "0dabc911-e7ec-4dcf-b014-858342794887",
   "metadata": {},
   "outputs": [
    {
     "data": {
      "text/plain": [
       "5.388441562652588"
      ]
     },
     "execution_count": 36,
     "metadata": {},
     "output_type": "execute_result"
    }
   ],
   "source": [
    "densities.max()"
   ]
  },
  {
   "cell_type": "code",
   "execution_count": 37,
   "id": "00b39f06-018d-4ffc-aa06-16b6ad726601",
   "metadata": {},
   "outputs": [
    {
     "data": {
      "text/plain": [
       "1.368121862411499"
      ]
     },
     "execution_count": 37,
     "metadata": {},
     "output_type": "execute_result"
    }
   ],
   "source": [
    "densities.min()"
   ]
  },
  {
   "cell_type": "code",
   "execution_count": 48,
   "id": "7fefd45c-1aea-44a7-9bb7-629225323749",
   "metadata": {},
   "outputs": [
    {
     "name": "stdout",
     "output_type": "stream",
     "text": [
      "remove low density vertices\n",
      "TriangleMesh with 1489 points and 2787 triangles.\n"
     ]
    }
   ],
   "source": [
    "print('remove low density vertices')\n",
    "vertices_to_remove = densities < np.quantile(densities, 0.5)\n",
    "mesh.remove_vertices_by_mask(vertices_to_remove)\n",
    "print(mesh)\n",
    "\n",
    "mesh.compute_vertex_normals()\n",
    "# Paint it gray. Not necessary but the reflection of lighting is hardly perceivable with black surfaces.\n",
    "mesh.paint_uniform_color(np.array([[0.5],[0.5],[0.5]]))\n",
    "\n",
    "o3d.visualization.draw_geometries([mesh],)"
   ]
  },
  {
   "cell_type": "code",
   "execution_count": 49,
   "id": "1ddffacc-6b8e-42b3-92d8-685c347bbee4",
   "metadata": {},
   "outputs": [],
   "source": [
    "pcd = mesh.sample_points_uniformly(number_of_points=10000)\n",
    "o3d.visualization.draw_geometries([pcd])"
   ]
  },
  {
   "cell_type": "code",
   "execution_count": 50,
   "id": "5ec5a5a9-be13-4fa9-8cfe-7215c794f88a",
   "metadata": {},
   "outputs": [
    {
     "name": "stdout",
     "output_type": "stream",
     "text": [
      "Downsample the point cloud with a voxel of 0.05\n"
     ]
    }
   ],
   "source": [
    "print(\"Downsample the point cloud with a voxel of 0.05\")\n",
    "downpcd = pcd.voxel_down_sample(voxel_size=0.05)\n",
    "o3d.visualization.draw_geometries([downpcd],)"
   ]
  },
  {
   "cell_type": "code",
   "execution_count": 52,
   "id": "a0e40719-26b2-4a12-98d0-297eafdf09f9",
   "metadata": {},
   "outputs": [
    {
     "data": {
      "text/plain": [
       "True"
      ]
     },
     "execution_count": 52,
     "metadata": {},
     "output_type": "execute_result"
    }
   ],
   "source": [
    "o3d.io.write_point_cloud(\"csv/reconstructed_person_pcd.ply\", pcd)"
   ]
  },
  {
   "cell_type": "code",
   "execution_count": 55,
   "id": "11e71aae-c659-4226-8b93-a9f9b10d66ba",
   "metadata": {},
   "outputs": [
    {
     "name": "stdout",
     "output_type": "stream",
     "text": [
      "\u001b[1;33m[Open3D WARNING] Write OBJ can not include triangle normals.\u001b[0;m\n"
     ]
    },
    {
     "data": {
      "text/plain": [
       "True"
      ]
     },
     "execution_count": 55,
     "metadata": {},
     "output_type": "execute_result"
    }
   ],
   "source": [
    "o3d.io.write_triangle_mesh(\"csv/reconstructed_person_mesh.obj\", mesh)"
   ]
  },
  {
   "cell_type": "code",
   "execution_count": 56,
   "id": "70036b99-d862-4568-adb0-4af82a4fb4e3",
   "metadata": {},
   "outputs": [],
   "source": [
    "# loading the saved traingle mesh"
   ]
  },
  {
   "cell_type": "code",
   "execution_count": 57,
   "id": "6a389552-19a9-4a62-917e-42ecab994997",
   "metadata": {},
   "outputs": [],
   "source": [
    "import open3d as o3d\n",
    "\n",
    "# Specify the file path of the mesh you want to load\n",
    "file_path = \"csv/reconstructed_person_mesh.obj\"\n",
    "\n",
    "# Read the triangle mesh from the specified file\n",
    "mesh = o3d.io.read_triangle_mesh(file_path)\n",
    "\n",
    "# Visualize the loaded mesh\n",
    "o3d.visualization.draw_geometries([mesh])"
   ]
  },
  {
   "cell_type": "code",
   "execution_count": 62,
   "id": "e15dcb20-8174-4d0d-bf23-19e97b969b5e",
   "metadata": {},
   "outputs": [
    {
     "data": {
      "text/plain": [
       "0"
      ]
     },
     "execution_count": 62,
     "metadata": {},
     "output_type": "execute_result"
    }
   ],
   "source": [
    "# Create a scene and add the traingle mesh of the object\n",
    "mesh_new = o3d.t.geometry.TriangleMesh.from_legacy(mesh)\n",
    "scene = o3d.t.geometry.RaycastingScene()\n",
    "scene.add_triangles(mesh_new)\n"
   ]
  },
  {
   "cell_type": "code",
   "execution_count": 63,
   "id": "da5f4b8b-06b8-477f-ac54-23c1e1005b4f",
   "metadata": {},
   "outputs": [],
   "source": [
    "# A single ray that starts with 0, 0, 0 and goes to 4, 4, -1.5  ==> These end direction of the ray is taken by point picking from cloudcompare\n",
    "\n",
    "rays = o3d.core.Tensor([[0, 0, 0, 4, 4, -1.5]],\n",
    "                       dtype=o3d.core.Dtype.Float32)\n",
    "\n",
    "ans = scene.cast_rays(rays)"
   ]
  },
  {
   "cell_type": "code",
   "execution_count": 64,
   "id": "27f7ae75-a0fd-4c3a-9ca7-6cc7b3c59ebb",
   "metadata": {},
   "outputs": [
    {
     "name": "stdout",
     "output_type": "stream",
     "text": [
      "dict_keys(['primitive_uvs', 'primitive_ids', 'geometry_ids', 'primitive_normals', 't_hit'])\n"
     ]
    }
   ],
   "source": [
    "print(ans.keys())"
   ]
  },
  {
   "cell_type": "markdown",
   "id": "6ec9174c-c0d9-41bc-9cec-915852a67dc4",
   "metadata": {},
   "source": [
    "### The result contains information about a possible intersection with the geometry in the scene."
   ]
  },
  {
   "cell_type": "code",
   "execution_count": 65,
   "id": "88dace6c-cd06-4c19-b44e-d54eeff394f5",
   "metadata": {},
   "outputs": [
    {
     "data": {
      "text/plain": [
       "[0.99383795]\n",
       "Tensor[shape={1}, stride={1}, Float32, CPU:0, 0x4cded60]"
      ]
     },
     "execution_count": 65,
     "metadata": {},
     "output_type": "execute_result"
    }
   ],
   "source": [
    "ans[\"t_hit\"]"
   ]
  },
  {
   "cell_type": "code",
   "execution_count": 66,
   "id": "a57875ed-acda-4574-a2d6-e40ad5907958",
   "metadata": {},
   "outputs": [
    {
     "data": {
      "text/plain": [
       "{'primitive_uvs': [[0.1606666 0.29831153]]\n",
       " Tensor[shape={1, 2}, stride={2, 1}, Float32, CPU:0, 0x5ff07d0],\n",
       " 'primitive_ids': [2725]\n",
       " Tensor[shape={1}, stride={1}, UInt32, CPU:0, 0x4cdf1c0],\n",
       " 'geometry_ids': [0]\n",
       " Tensor[shape={1}, stride={1}, UInt32, CPU:0, 0x3ef6250],\n",
       " 'primitive_normals': [[-0.9394242 -0.22336565 -0.25998056]]\n",
       " Tensor[shape={1, 3}, stride={3, 1}, Float32, CPU:0, 0x5784480],\n",
       " 't_hit': [0.99383795]\n",
       " Tensor[shape={1}, stride={1}, Float32, CPU:0, 0x4cded60]}"
      ]
     },
     "execution_count": 66,
     "metadata": {},
     "output_type": "execute_result"
    }
   ],
   "source": [
    "ans"
   ]
  },
  {
   "cell_type": "code",
   "execution_count": 71,
   "id": "60311ad5-1ec7-4151-a8f9-e85d832637f4",
   "metadata": {},
   "outputs": [
    {
     "data": {
      "text/plain": [
       "[2725]\n",
       "Tensor[shape={1}, stride={1}, UInt32, CPU:0, 0x4cdf1c0]"
      ]
     },
     "execution_count": 71,
     "metadata": {},
     "output_type": "execute_result"
    }
   ],
   "source": [
    "ans[\"primitive_ids\"]"
   ]
  },
  {
   "cell_type": "code",
   "execution_count": 78,
   "id": "dd2949bf-6285-41c8-ac3b-6cf07490c363",
   "metadata": {},
   "outputs": [],
   "source": [
    "triangles = np.asarray(mesh.triangles)"
   ]
  },
  {
   "cell_type": "code",
   "execution_count": 79,
   "id": "d6dbecd4-0405-4106-92a7-3b30e8aa8d92",
   "metadata": {},
   "outputs": [
    {
     "data": {
      "text/plain": [
       "array([[   0,    1,    2],\n",
       "       [   3,    4,    2],\n",
       "       [   3,    2,    1],\n",
       "       ...,\n",
       "       [ 826, 1481,  791],\n",
       "       [1481, 1479,  791],\n",
       "       [1479,  761,  791]], dtype=int32)"
      ]
     },
     "execution_count": 79,
     "metadata": {},
     "output_type": "execute_result"
    }
   ],
   "source": [
    "triangles"
   ]
  },
  {
   "cell_type": "code",
   "execution_count": 80,
   "id": "96afaffa-b846-427f-8faa-23444ec9b7fe",
   "metadata": {},
   "outputs": [
    {
     "data": {
      "text/plain": [
       "array([1452, 1454,  570], dtype=int32)"
      ]
     },
     "execution_count": 80,
     "metadata": {},
     "output_type": "execute_result"
    }
   ],
   "source": [
    "triangles[2725]"
   ]
  },
  {
   "cell_type": "code",
   "execution_count": 81,
   "id": "9d5ea925-b9e3-4f4d-8518-58c16415dc5b",
   "metadata": {},
   "outputs": [
    {
     "data": {
      "text/plain": [
       "TriangleMesh with 1489 points and 2787 triangles."
      ]
     },
     "execution_count": 81,
     "metadata": {},
     "output_type": "execute_result"
    }
   ],
   "source": [
    "mesh"
   ]
  },
  {
   "cell_type": "code",
   "execution_count": 82,
   "id": "f84a185e-84c0-452c-987d-8cbab574956b",
   "metadata": {},
   "outputs": [
    {
     "data": {
      "text/plain": [
       "2787"
      ]
     },
     "execution_count": 82,
     "metadata": {},
     "output_type": "execute_result"
    }
   ],
   "source": [
    "len(triangles)"
   ]
  },
  {
   "cell_type": "code",
   "execution_count": 83,
   "id": "5852654e-d315-40d0-9edf-e095638fea8c",
   "metadata": {},
   "outputs": [],
   "source": [
    "vertices = np.asarray(mesh.vertices)"
   ]
  },
  {
   "cell_type": "code",
   "execution_count": 84,
   "id": "ded3a243-7f25-4f66-8988-d6f8e1382750",
   "metadata": {},
   "outputs": [
    {
     "data": {
      "text/plain": [
       "array([[ 3.95217991,  3.83322001, -2.37374997],\n",
       "       [ 3.92477989,  3.86509991, -2.37374997],\n",
       "       [ 3.9214201 ,  3.86509991, -2.38152003],\n",
       "       ...,\n",
       "       [ 4.11267996,  3.80135012, -1.49704003],\n",
       "       [ 3.9533    ,  4.05635023, -1.48394001],\n",
       "       [ 3.9533    ,  4.08823013, -1.50970006]])"
      ]
     },
     "execution_count": 84,
     "metadata": {},
     "output_type": "execute_result"
    }
   ],
   "source": [
    "vertices"
   ]
  },
  {
   "cell_type": "code",
   "execution_count": 85,
   "id": "d6c40cd5-5d95-4051-a11f-7fc53487bc7d",
   "metadata": {},
   "outputs": [
    {
     "data": {
      "text/plain": [
       "1489"
      ]
     },
     "execution_count": 85,
     "metadata": {},
     "output_type": "execute_result"
    }
   ],
   "source": [
    "len(vertices)"
   ]
  },
  {
   "cell_type": "code",
   "execution_count": 87,
   "id": "e30b0cbf-5acd-45c9-b7a4-a5fb26eb824b",
   "metadata": {},
   "outputs": [],
   "source": [
    "v1 = vertices[1452]\n",
    "v2 = vertices[1454]\n",
    "v3 = vertices[500]"
   ]
  },
  {
   "cell_type": "code",
   "execution_count": 88,
   "id": "2bf5c285-0364-4b57-8265-7788d3be1c28",
   "metadata": {},
   "outputs": [
    {
     "name": "stdout",
     "output_type": "stream",
     "text": [
      "[ 3.9762001   3.96072006 -1.48125005] [ 3.96862006  3.99259996 -1.48125005] [ 4.16793013  3.73760009 -1.57686996]\n"
     ]
    }
   ],
   "source": [
    "print(v1, v2, v3)"
   ]
  },
  {
   "cell_type": "code",
   "execution_count": 89,
   "id": "edd81add-ca41-4fbe-8921-df72753f98c9",
   "metadata": {},
   "outputs": [
    {
     "data": {
      "text/plain": [
       "[4.037583430608113, 3.8969733715057373, -1.513123353322347]"
      ]
     },
     "execution_count": 89,
     "metadata": {},
     "output_type": "execute_result"
    }
   ],
   "source": [
    "intersected_point = [(v1[i] + v2[i] + v3[i])/3 for i in range(3)]\n",
    "intersected_point"
   ]
  },
  {
   "cell_type": "markdown",
   "id": "473fdf12-665e-46f9-9b38-0d2007942c60",
   "metadata": {},
   "source": [
    "# Till this point we are able to create a ray , raycast and get the point of intersection"
   ]
  },
  {
   "cell_type": "markdown",
   "id": "18887195-30df-4d83-a0cb-6474e691674c",
   "metadata": {},
   "source": [
    "## Now we will create a group of rays and perform raycasting"
   ]
  },
  {
   "cell_type": "code",
   "execution_count": null,
   "id": "eafb477f-481f-4bb3-b1bf-6b47ba9ba050",
   "metadata": {},
   "outputs": [],
   "source": []
  },
  {
   "cell_type": "code",
   "execution_count": 104,
   "id": "3bd0c764-1103-45c5-90f8-74f91753229d",
   "metadata": {},
   "outputs": [],
   "source": [
    "df_road = pd.read_csv(\"/home/nero/Documents/only_road_cloud_23k.csv\", skiprows=[1,])"
   ]
  },
  {
   "cell_type": "code",
   "execution_count": 105,
   "id": "5c98f172-d9bd-40d5-87a6-3dec019df750",
   "metadata": {},
   "outputs": [
    {
     "data": {
      "text/html": [
       "<div>\n",
       "<style scoped>\n",
       "    .dataframe tbody tr th:only-of-type {\n",
       "        vertical-align: middle;\n",
       "    }\n",
       "\n",
       "    .dataframe tbody tr th {\n",
       "        vertical-align: top;\n",
       "    }\n",
       "\n",
       "    .dataframe thead th {\n",
       "        text-align: right;\n",
       "    }\n",
       "</style>\n",
       "<table border=\"1\" class=\"dataframe\">\n",
       "  <thead>\n",
       "    <tr style=\"text-align: right;\">\n",
       "      <th></th>\n",
       "      <th>//X</th>\n",
       "      <th>Y</th>\n",
       "      <th>Z</th>\n",
       "      <th>ObjTag</th>\n",
       "    </tr>\n",
       "  </thead>\n",
       "  <tbody>\n",
       "    <tr>\n",
       "      <th>0</th>\n",
       "      <td>21.173100</td>\n",
       "      <td>11.81200</td>\n",
       "      <td>-2.40167</td>\n",
       "      <td>7.0</td>\n",
       "    </tr>\n",
       "    <tr>\n",
       "      <th>1</th>\n",
       "      <td>21.244699</td>\n",
       "      <td>11.68270</td>\n",
       "      <td>-2.40167</td>\n",
       "      <td>7.0</td>\n",
       "    </tr>\n",
       "    <tr>\n",
       "      <th>2</th>\n",
       "      <td>21.315500</td>\n",
       "      <td>11.55310</td>\n",
       "      <td>-2.40167</td>\n",
       "      <td>7.0</td>\n",
       "    </tr>\n",
       "    <tr>\n",
       "      <th>3</th>\n",
       "      <td>21.385500</td>\n",
       "      <td>11.42290</td>\n",
       "      <td>-2.40167</td>\n",
       "      <td>7.0</td>\n",
       "    </tr>\n",
       "    <tr>\n",
       "      <th>4</th>\n",
       "      <td>19.408800</td>\n",
       "      <td>11.45680</td>\n",
       "      <td>-2.40167</td>\n",
       "      <td>7.0</td>\n",
       "    </tr>\n",
       "    <tr>\n",
       "      <th>...</th>\n",
       "      <td>...</td>\n",
       "      <td>...</td>\n",
       "      <td>...</td>\n",
       "      <td>...</td>\n",
       "    </tr>\n",
       "    <tr>\n",
       "      <th>23062</th>\n",
       "      <td>-3.830350</td>\n",
       "      <td>-3.78967</td>\n",
       "      <td>-2.39327</td>\n",
       "      <td>8.0</td>\n",
       "    </tr>\n",
       "    <tr>\n",
       "      <th>23063</th>\n",
       "      <td>-3.855980</td>\n",
       "      <td>-3.76879</td>\n",
       "      <td>-2.39488</td>\n",
       "      <td>8.0</td>\n",
       "    </tr>\n",
       "    <tr>\n",
       "      <th>23064</th>\n",
       "      <td>-3.881600</td>\n",
       "      <td>-3.74789</td>\n",
       "      <td>-2.39659</td>\n",
       "      <td>8.0</td>\n",
       "    </tr>\n",
       "    <tr>\n",
       "      <th>23065</th>\n",
       "      <td>-3.907320</td>\n",
       "      <td>-3.72697</td>\n",
       "      <td>-2.39838</td>\n",
       "      <td>8.0</td>\n",
       "    </tr>\n",
       "    <tr>\n",
       "      <th>23066</th>\n",
       "      <td>-3.933070</td>\n",
       "      <td>-3.70600</td>\n",
       "      <td>-2.40027</td>\n",
       "      <td>8.0</td>\n",
       "    </tr>\n",
       "  </tbody>\n",
       "</table>\n",
       "<p>23067 rows × 4 columns</p>\n",
       "</div>"
      ],
      "text/plain": [
       "             //X         Y        Z  ObjTag\n",
       "0      21.173100  11.81200 -2.40167     7.0\n",
       "1      21.244699  11.68270 -2.40167     7.0\n",
       "2      21.315500  11.55310 -2.40167     7.0\n",
       "3      21.385500  11.42290 -2.40167     7.0\n",
       "4      19.408800  11.45680 -2.40167     7.0\n",
       "...          ...       ...      ...     ...\n",
       "23062  -3.830350  -3.78967 -2.39327     8.0\n",
       "23063  -3.855980  -3.76879 -2.39488     8.0\n",
       "23064  -3.881600  -3.74789 -2.39659     8.0\n",
       "23065  -3.907320  -3.72697 -2.39838     8.0\n",
       "23066  -3.933070  -3.70600 -2.40027     8.0\n",
       "\n",
       "[23067 rows x 4 columns]"
      ]
     },
     "execution_count": 105,
     "metadata": {},
     "output_type": "execute_result"
    }
   ],
   "source": [
    "df_road"
   ]
  },
  {
   "cell_type": "code",
   "execution_count": 106,
   "id": "66b4718d-0597-45d7-8a8f-4c1c01839006",
   "metadata": {},
   "outputs": [
    {
     "data": {
      "text/html": [
       "<div>\n",
       "<style scoped>\n",
       "    .dataframe tbody tr th:only-of-type {\n",
       "        vertical-align: middle;\n",
       "    }\n",
       "\n",
       "    .dataframe tbody tr th {\n",
       "        vertical-align: top;\n",
       "    }\n",
       "\n",
       "    .dataframe thead th {\n",
       "        text-align: right;\n",
       "    }\n",
       "</style>\n",
       "<table border=\"1\" class=\"dataframe\">\n",
       "  <thead>\n",
       "    <tr style=\"text-align: right;\">\n",
       "      <th></th>\n",
       "      <th>0</th>\n",
       "      <th>1</th>\n",
       "      <th>2</th>\n",
       "    </tr>\n",
       "  </thead>\n",
       "  <tbody>\n",
       "    <tr>\n",
       "      <th>0</th>\n",
       "      <td>0.0</td>\n",
       "      <td>0.0</td>\n",
       "      <td>0.0</td>\n",
       "    </tr>\n",
       "    <tr>\n",
       "      <th>1</th>\n",
       "      <td>0.0</td>\n",
       "      <td>0.0</td>\n",
       "      <td>0.0</td>\n",
       "    </tr>\n",
       "    <tr>\n",
       "      <th>2</th>\n",
       "      <td>0.0</td>\n",
       "      <td>0.0</td>\n",
       "      <td>0.0</td>\n",
       "    </tr>\n",
       "    <tr>\n",
       "      <th>3</th>\n",
       "      <td>0.0</td>\n",
       "      <td>0.0</td>\n",
       "      <td>0.0</td>\n",
       "    </tr>\n",
       "    <tr>\n",
       "      <th>4</th>\n",
       "      <td>0.0</td>\n",
       "      <td>0.0</td>\n",
       "      <td>0.0</td>\n",
       "    </tr>\n",
       "    <tr>\n",
       "      <th>...</th>\n",
       "      <td>...</td>\n",
       "      <td>...</td>\n",
       "      <td>...</td>\n",
       "    </tr>\n",
       "    <tr>\n",
       "      <th>23062</th>\n",
       "      <td>0.0</td>\n",
       "      <td>0.0</td>\n",
       "      <td>0.0</td>\n",
       "    </tr>\n",
       "    <tr>\n",
       "      <th>23063</th>\n",
       "      <td>0.0</td>\n",
       "      <td>0.0</td>\n",
       "      <td>0.0</td>\n",
       "    </tr>\n",
       "    <tr>\n",
       "      <th>23064</th>\n",
       "      <td>0.0</td>\n",
       "      <td>0.0</td>\n",
       "      <td>0.0</td>\n",
       "    </tr>\n",
       "    <tr>\n",
       "      <th>23065</th>\n",
       "      <td>0.0</td>\n",
       "      <td>0.0</td>\n",
       "      <td>0.0</td>\n",
       "    </tr>\n",
       "    <tr>\n",
       "      <th>23066</th>\n",
       "      <td>0.0</td>\n",
       "      <td>0.0</td>\n",
       "      <td>0.0</td>\n",
       "    </tr>\n",
       "  </tbody>\n",
       "</table>\n",
       "<p>23067 rows × 3 columns</p>\n",
       "</div>"
      ],
      "text/plain": [
       "         0    1    2\n",
       "0      0.0  0.0  0.0\n",
       "1      0.0  0.0  0.0\n",
       "2      0.0  0.0  0.0\n",
       "3      0.0  0.0  0.0\n",
       "4      0.0  0.0  0.0\n",
       "...    ...  ...  ...\n",
       "23062  0.0  0.0  0.0\n",
       "23063  0.0  0.0  0.0\n",
       "23064  0.0  0.0  0.0\n",
       "23065  0.0  0.0  0.0\n",
       "23066  0.0  0.0  0.0\n",
       "\n",
       "[23067 rows x 3 columns]"
      ]
     },
     "execution_count": 106,
     "metadata": {},
     "output_type": "execute_result"
    }
   ],
   "source": [
    "df_ray_origin = pd.DataFrame(np.zeros((df_road.shape[0], 3)))\n",
    "df_ray_origin"
   ]
  },
  {
   "cell_type": "code",
   "execution_count": 107,
   "id": "21e49722-8d79-4eb8-a99f-bd441f57ec25",
   "metadata": {},
   "outputs": [
    {
     "data": {
      "text/html": [
       "<div>\n",
       "<style scoped>\n",
       "    .dataframe tbody tr th:only-of-type {\n",
       "        vertical-align: middle;\n",
       "    }\n",
       "\n",
       "    .dataframe tbody tr th {\n",
       "        vertical-align: top;\n",
       "    }\n",
       "\n",
       "    .dataframe thead th {\n",
       "        text-align: right;\n",
       "    }\n",
       "</style>\n",
       "<table border=\"1\" class=\"dataframe\">\n",
       "  <thead>\n",
       "    <tr style=\"text-align: right;\">\n",
       "      <th></th>\n",
       "      <th>0</th>\n",
       "      <th>1</th>\n",
       "      <th>2</th>\n",
       "      <th>//X</th>\n",
       "      <th>Y</th>\n",
       "      <th>Z</th>\n",
       "    </tr>\n",
       "  </thead>\n",
       "  <tbody>\n",
       "    <tr>\n",
       "      <th>0</th>\n",
       "      <td>0.0</td>\n",
       "      <td>0.0</td>\n",
       "      <td>0.0</td>\n",
       "      <td>21.173100</td>\n",
       "      <td>11.81200</td>\n",
       "      <td>-2.40167</td>\n",
       "    </tr>\n",
       "    <tr>\n",
       "      <th>1</th>\n",
       "      <td>0.0</td>\n",
       "      <td>0.0</td>\n",
       "      <td>0.0</td>\n",
       "      <td>21.244699</td>\n",
       "      <td>11.68270</td>\n",
       "      <td>-2.40167</td>\n",
       "    </tr>\n",
       "    <tr>\n",
       "      <th>2</th>\n",
       "      <td>0.0</td>\n",
       "      <td>0.0</td>\n",
       "      <td>0.0</td>\n",
       "      <td>21.315500</td>\n",
       "      <td>11.55310</td>\n",
       "      <td>-2.40167</td>\n",
       "    </tr>\n",
       "    <tr>\n",
       "      <th>3</th>\n",
       "      <td>0.0</td>\n",
       "      <td>0.0</td>\n",
       "      <td>0.0</td>\n",
       "      <td>21.385500</td>\n",
       "      <td>11.42290</td>\n",
       "      <td>-2.40167</td>\n",
       "    </tr>\n",
       "    <tr>\n",
       "      <th>4</th>\n",
       "      <td>0.0</td>\n",
       "      <td>0.0</td>\n",
       "      <td>0.0</td>\n",
       "      <td>19.408800</td>\n",
       "      <td>11.45680</td>\n",
       "      <td>-2.40167</td>\n",
       "    </tr>\n",
       "    <tr>\n",
       "      <th>...</th>\n",
       "      <td>...</td>\n",
       "      <td>...</td>\n",
       "      <td>...</td>\n",
       "      <td>...</td>\n",
       "      <td>...</td>\n",
       "      <td>...</td>\n",
       "    </tr>\n",
       "    <tr>\n",
       "      <th>23062</th>\n",
       "      <td>0.0</td>\n",
       "      <td>0.0</td>\n",
       "      <td>0.0</td>\n",
       "      <td>-3.830350</td>\n",
       "      <td>-3.78967</td>\n",
       "      <td>-2.39327</td>\n",
       "    </tr>\n",
       "    <tr>\n",
       "      <th>23063</th>\n",
       "      <td>0.0</td>\n",
       "      <td>0.0</td>\n",
       "      <td>0.0</td>\n",
       "      <td>-3.855980</td>\n",
       "      <td>-3.76879</td>\n",
       "      <td>-2.39488</td>\n",
       "    </tr>\n",
       "    <tr>\n",
       "      <th>23064</th>\n",
       "      <td>0.0</td>\n",
       "      <td>0.0</td>\n",
       "      <td>0.0</td>\n",
       "      <td>-3.881600</td>\n",
       "      <td>-3.74789</td>\n",
       "      <td>-2.39659</td>\n",
       "    </tr>\n",
       "    <tr>\n",
       "      <th>23065</th>\n",
       "      <td>0.0</td>\n",
       "      <td>0.0</td>\n",
       "      <td>0.0</td>\n",
       "      <td>-3.907320</td>\n",
       "      <td>-3.72697</td>\n",
       "      <td>-2.39838</td>\n",
       "    </tr>\n",
       "    <tr>\n",
       "      <th>23066</th>\n",
       "      <td>0.0</td>\n",
       "      <td>0.0</td>\n",
       "      <td>0.0</td>\n",
       "      <td>-3.933070</td>\n",
       "      <td>-3.70600</td>\n",
       "      <td>-2.40027</td>\n",
       "    </tr>\n",
       "  </tbody>\n",
       "</table>\n",
       "<p>23067 rows × 6 columns</p>\n",
       "</div>"
      ],
      "text/plain": [
       "         0    1    2        //X         Y        Z\n",
       "0      0.0  0.0  0.0  21.173100  11.81200 -2.40167\n",
       "1      0.0  0.0  0.0  21.244699  11.68270 -2.40167\n",
       "2      0.0  0.0  0.0  21.315500  11.55310 -2.40167\n",
       "3      0.0  0.0  0.0  21.385500  11.42290 -2.40167\n",
       "4      0.0  0.0  0.0  19.408800  11.45680 -2.40167\n",
       "...    ...  ...  ...        ...       ...      ...\n",
       "23062  0.0  0.0  0.0  -3.830350  -3.78967 -2.39327\n",
       "23063  0.0  0.0  0.0  -3.855980  -3.76879 -2.39488\n",
       "23064  0.0  0.0  0.0  -3.881600  -3.74789 -2.39659\n",
       "23065  0.0  0.0  0.0  -3.907320  -3.72697 -2.39838\n",
       "23066  0.0  0.0  0.0  -3.933070  -3.70600 -2.40027\n",
       "\n",
       "[23067 rows x 6 columns]"
      ]
     },
     "execution_count": 107,
     "metadata": {},
     "output_type": "execute_result"
    }
   ],
   "source": [
    "df_ray_origin_with_target_direction = pd.concat([df_ray_origin, df_road.iloc[:, :3]], axis=1)\n",
    "df_ray_origin_with_target_direction"
   ]
  },
  {
   "cell_type": "code",
   "execution_count": 108,
   "id": "1ee13f1c-4fc4-4f1d-8758-cc096ede959b",
   "metadata": {},
   "outputs": [
    {
     "data": {
      "text/plain": [
       "array([[ 0.        ,  0.        ,  0.        , 21.17309952, 11.81200027,\n",
       "        -2.40166998],\n",
       "       [ 0.        ,  0.        ,  0.        , 21.24469948, 11.68270016,\n",
       "        -2.40166998],\n",
       "       [ 0.        ,  0.        ,  0.        , 21.31550026, 11.55309963,\n",
       "        -2.40166998],\n",
       "       ...,\n",
       "       [ 0.        ,  0.        ,  0.        , -3.8815999 , -3.74789   ,\n",
       "        -2.39658999],\n",
       "       [ 0.        ,  0.        ,  0.        , -3.90732002, -3.72696996,\n",
       "        -2.39838004],\n",
       "       [ 0.        ,  0.        ,  0.        , -3.93306994, -3.70600009,\n",
       "        -2.40026999]])"
      ]
     },
     "execution_count": 108,
     "metadata": {},
     "output_type": "execute_result"
    }
   ],
   "source": [
    "rays_array = df_ray_origin_with_target_direction.to_numpy()\n",
    "rays_array"
   ]
  },
  {
   "cell_type": "markdown",
   "id": "a4a99f75-f3f4-41a3-abc8-e5423f83fa20",
   "metadata": {},
   "source": [
    "## We have now a group of rays, we need to figure out the intersection point on the person mesh"
   ]
  },
  {
   "cell_type": "code",
   "execution_count": 109,
   "id": "10a9db51-d53a-4432-a352-d6c0ebc54e5f",
   "metadata": {},
   "outputs": [],
   "source": [
    "rays = o3d.core.Tensor(rays_array,dtype=o3d.core.Dtype.Float32)\n",
    "\n",
    "ans = scene.cast_rays(rays)"
   ]
  },
  {
   "cell_type": "code",
   "execution_count": 113,
   "id": "4e705365-35b7-4332-a24e-c5207bcaa168",
   "metadata": {
    "scrolled": true
   },
   "outputs": [
    {
     "data": {
      "text/plain": [
       "dict_keys(['primitive_uvs', 'primitive_ids', 'geometry_ids', 'primitive_normals', 't_hit'])"
      ]
     },
     "execution_count": 113,
     "metadata": {},
     "output_type": "execute_result"
    }
   ],
   "source": [
    "ans.keys()"
   ]
  },
  {
   "cell_type": "code",
   "execution_count": 120,
   "id": "edcaee46-f648-420c-b14d-8639bedc705a",
   "metadata": {},
   "outputs": [
    {
     "data": {
      "text/plain": [
       "2781\n",
       "Tensor[shape={}, stride={}, UInt32, CPU:0, 0x597c19c]"
      ]
     },
     "execution_count": 120,
     "metadata": {},
     "output_type": "execute_result"
    }
   ],
   "source": [
    "triangle_ids = [i for i in ans[\"primitive_ids\"] if i != scene.INVALID_ID]\n",
    "triangle_ids[0]"
   ]
  },
  {
   "cell_type": "markdown",
   "id": "994f4705-ff99-4c00-8647-ca04916c5d3d",
   "metadata": {},
   "source": [
    "### These are the index of traingle with which the ray intersect."
   ]
  },
  {
   "cell_type": "code",
   "execution_count": 118,
   "id": "a6359657-b9f2-41b9-8754-fe581a8a6988",
   "metadata": {},
   "outputs": [],
   "source": [
    "mesh_triangles = mesh.triangles\n",
    "mesh_vertices = mesh.vertices"
   ]
  },
  {
   "cell_type": "code",
   "execution_count": 121,
   "id": "73c010c9-b9b9-4797-b756-795ec4570fd0",
   "metadata": {},
   "outputs": [
    {
     "data": {
      "text/plain": [
       "array([1478, 1397, 1394], dtype=int32)"
      ]
     },
     "execution_count": 121,
     "metadata": {},
     "output_type": "execute_result"
    }
   ],
   "source": [
    "mesh_triangles[2781]"
   ]
  },
  {
   "cell_type": "markdown",
   "id": "789de5fc-3524-4cbd-8773-d0ccf0acb2da",
   "metadata": {},
   "source": [
    "### We get the vetices of the triangle"
   ]
  },
  {
   "cell_type": "markdown",
   "id": "4b6f816d-a5c2-4323-8686-0029a25e6add",
   "metadata": {},
   "source": [
    "## Using the index of the vertices of the intersected traingle, we can get the corresponding vertices pointvalue by getting the vertices value from mesh.vertices"
   ]
  },
  {
   "cell_type": "markdown",
   "id": "d9975141-9c01-4388-a5c1-93e6baf73147",
   "metadata": {},
   "source": [
    "## We can get the intersecting point of a single ray by taking the centroid of the intersected triangle vetices"
   ]
  },
  {
   "cell_type": "code",
   "execution_count": 134,
   "id": "b9f2fa0b-e284-4eb1-a671-c94990775ef7",
   "metadata": {},
   "outputs": [
    {
     "data": {
      "text/plain": [
       "[3.9378832976023355, 4.268853346506755, -1.3643699884414673]"
      ]
     },
     "execution_count": 134,
     "metadata": {},
     "output_type": "execute_result"
    }
   ],
   "source": [
    "v1 = mesh_vertices[mesh_triangles[2781][0]]\n",
    "v2 = mesh_vertices[mesh_triangles[2781][1]]\n",
    "v3 = mesh_vertices[mesh_triangles[2781][2]]\n",
    "\n",
    "intersected_point = [(v1[i] + v2[i] + v3[i])/3 for i in range(3)]\n",
    "intersected_point"
   ]
  },
  {
   "cell_type": "markdown",
   "id": "cc1d8840-8b8d-409b-b9b5-c40a2216628a",
   "metadata": {},
   "source": [
    "# The above gives the centroid of triangle whose index is 2781. We got this index of triangle that intersect with the rays from raycasting => primitive_ids after raycasting to the scene"
   ]
  },
  {
   "cell_type": "code",
   "execution_count": null,
   "id": "56c00996-b9e2-44d8-9e37-9cbbfe8edd45",
   "metadata": {},
   "outputs": [],
   "source": []
  }
 ],
 "metadata": {
  "kernelspec": {
   "display_name": "Python 3 (ipykernel)",
   "language": "python",
   "name": "python3"
  },
  "language_info": {
   "codemirror_mode": {
    "name": "ipython",
    "version": 3
   },
   "file_extension": ".py",
   "mimetype": "text/x-python",
   "name": "python",
   "nbconvert_exporter": "python",
   "pygments_lexer": "ipython3",
   "version": "3.8.10"
  }
 },
 "nbformat": 4,
 "nbformat_minor": 5
}
